{
 "cells": [
  {
   "cell_type": "code",
   "execution_count": null,
   "metadata": {},
   "outputs": [],
   "source": [
    "# Conditional Statements in Python - if, elif, else\n",
    "# stat1\n",
    "# stat2\n",
    "# stat3\n",
    "# stat4\n",
    "\n",
    "# age = 10\n",
    "# if age <= 12:\n",
    "#     print('You are not able to create the account')\n",
    "# else:\n",
    "#     print('account creation')\n",
    "\n",
    "# else is optional\n",
    "# else always executed when previous if condition is False\n"
   ]
  },
  {
   "cell_type": "code",
   "execution_count": 1,
   "metadata": {
    "ExecuteTime": {
     "end_time": "2021-05-27T03:17:39.669771Z",
     "start_time": "2021-05-27T03:17:39.661166Z"
    }
   },
   "outputs": [
    {
     "name": "stdout",
     "output_type": "stream",
     "text": [
      "7\n"
     ]
    }
   ],
   "source": [
    "num1 = 10\n",
    "num2 = 3\n",
    "if num1>num2:\n",
    "    print(num1-num2)"
   ]
  },
  {
   "cell_type": "code",
   "execution_count": 6,
   "metadata": {
    "ExecuteTime": {
     "end_time": "2021-05-27T03:24:09.842058Z",
     "start_time": "2021-05-27T03:24:09.830254Z"
    }
   },
   "outputs": [
    {
     "ename": "SyntaxError",
     "evalue": "invalid syntax (<ipython-input-6-82a5a7813745>, line 3)",
     "output_type": "error",
     "traceback": [
      "\u001b[0;36m  File \u001b[0;32m\"<ipython-input-6-82a5a7813745>\"\u001b[0;36m, line \u001b[0;32m3\u001b[0m\n\u001b[0;31m    elif num1 == 0:\u001b[0m\n\u001b[0m    ^\u001b[0m\n\u001b[0;31mSyntaxError\u001b[0m\u001b[0;31m:\u001b[0m invalid syntax\n"
     ]
    }
   ],
   "source": [
    "# Take a number from user from 0-5, and print it in words\n",
    "num1 = int(input('Enter a number[0-5]: ')) \n",
    "if num1 == 0:\n",
    "    print('The number you have entered is 0')\n",
    "    print('Zero')\n",
    "    print('Thank you for using the app')\n",
    "elif num1 == 1:\n",
    "    print('The number you have entered is 1')\n",
    "    print('One')\n",
    "    print('Thank you for using the app')\n",
    "elif num1 == 2:\n",
    "    print('Two')\n",
    "elif num1 == 3:\n",
    "    print('Three')\n",
    "elif num1 == 4:\n",
    "    print('Four')\n",
    "elif num1 == 5:\n",
    "    print('Five')\n",
    "else:\n",
    "    print('number is not in range')\n",
    "\n",
    "\n",
    "\n",
    "\n"
   ]
  },
  {
   "cell_type": "code",
   "execution_count": null,
   "metadata": {},
   "outputs": [],
   "source": [
    "# len - iterable, int, float, complex"
   ]
  },
  {
   "cell_type": "code",
   "execution_count": 14,
   "metadata": {
    "ExecuteTime": {
     "end_time": "2021-05-27T03:45:36.681030Z",
     "start_time": "2021-05-27T03:45:33.407337Z"
    }
   },
   "outputs": [
    {
     "name": "stdout",
     "output_type": "stream",
     "text": [
      "Enter a number: A\n",
      "The value you have entered is not correct\n",
      "Four\n"
     ]
    }
   ],
   "source": [
    "try:\n",
    "    num1 = int(input('Enter a number: '))\n",
    "except:\n",
    "    print('The value you have entered is not correct')\n",
    "else:\n",
    "    while True:\n",
    "        if (num1<0) or (num1>5):\n",
    "            num1 = int(input('Enter the number again: '))\n",
    "        else:\n",
    "            if num1 == 0:\n",
    "                print('The number you have entered is 0')\n",
    "                print('Zero')\n",
    "                print('Thank you for using the app')\n",
    "            elif num1 == 1:\n",
    "                print('The number you have entered is 1')\n",
    "                print('One')\n",
    "                print('Thank you for using the app')\n",
    "            elif num1 == 2:\n",
    "                print('Two')\n",
    "            elif num1 == 3:\n",
    "                print('Three')\n",
    "            elif num1 == 4:\n",
    "                print('Four')\n",
    "            elif num1 == 5:\n",
    "                print('Five')\n",
    "            break\n",
    "\n"
   ]
  },
  {
   "cell_type": "code",
   "execution_count": 15,
   "metadata": {
    "ExecuteTime": {
     "end_time": "2021-05-27T03:47:02.990415Z",
     "start_time": "2021-05-27T03:47:02.985159Z"
    }
   },
   "outputs": [],
   "source": [
    "# else, if\n",
    "# else, for, \n",
    "# else, while\n",
    "# else, try, exceptz\n",
    "\n",
    "# int(10+20j)\n",
    "# int('A')"
   ]
  },
  {
   "cell_type": "code",
   "execution_count": 18,
   "metadata": {
    "ExecuteTime": {
     "end_time": "2021-05-27T03:48:07.239975Z",
     "start_time": "2021-05-27T03:48:07.233450Z"
    }
   },
   "outputs": [],
   "source": [
    "# i = 0\n",
    "# while i < 5:\n",
    "#     print('Hi')\n",
    "#     i += 1"
   ]
  },
  {
   "cell_type": "code",
   "execution_count": null,
   "metadata": {},
   "outputs": [],
   "source": [
    "# To check whether a number is even or odd\n",
    "# To check an year entered by user is leap year or not\n"
   ]
  },
  {
   "cell_type": "code",
   "execution_count": 20,
   "metadata": {
    "ExecuteTime": {
     "end_time": "2021-05-27T03:52:06.282181Z",
     "start_time": "2021-05-27T03:52:06.277800Z"
    }
   },
   "outputs": [],
   "source": [
    "# To check whether a number is even or odd\n",
    "# num1 = eval(input('Enter a number: '))\n",
    "# if num1%2 == 0:\n",
    "#     print('Number is even')\n",
    "# else:\n",
    "#     print('Number is odd')\n",
    "\n",
    "# num1 = 10 => 0==0 => True => 'Number is even'\n",
    "# num1 = 13 => 1==0 => False => 'Number is Odd'\n"
   ]
  },
  {
   "cell_type": "code",
   "execution_count": 32,
   "metadata": {
    "ExecuteTime": {
     "end_time": "2021-05-27T04:04:35.662255Z",
     "start_time": "2021-05-27T04:04:30.999139Z"
    }
   },
   "outputs": [
    {
     "name": "stdout",
     "output_type": "stream",
     "text": [
      "Enter an year: 1967\n",
      "Year is not a leap year\n"
     ]
    }
   ],
   "source": [
    "# To check an year entered by user is leap year or not\n",
    "# year = int(input('Enter an year: '))\n",
    "# if year%4 == 0:\n",
    "#     if year%100 == 0:\n",
    "#         if year%400 == 0:\n",
    "#             print('Year is a leap year')\n",
    "#         else:\n",
    "#             print('Year is not a leap year')\n",
    "#     else:\n",
    "#         print('Year is a leap year')\n",
    "# else:\n",
    "#     print('Year is not a leap year')\n",
    "\n",
    "# year = int(input('Enter an year: '))\n",
    "# if ((year%400 == 0) or ((year%4 == 0) and (year%100!=0))):\n",
    "#     print('Year is a leap Year')\n",
    "# else:\n",
    "#     print('Year is not a leap year')\n",
    "\n"
   ]
  },
  {
   "cell_type": "code",
   "execution_count": 21,
   "metadata": {
    "ExecuteTime": {
     "end_time": "2021-05-27T03:52:59.209280Z",
     "start_time": "2021-05-27T03:52:59.187966Z"
    }
   },
   "outputs": [
    {
     "ename": "ValueError",
     "evalue": "invalid literal for int() with base 10: '10.20'",
     "output_type": "error",
     "traceback": [
      "\u001b[0;31m---------------------------------------------------------------------------\u001b[0m",
      "\u001b[0;31mValueError\u001b[0m                                Traceback (most recent call last)",
      "\u001b[0;32m<ipython-input-21-62f85e6eb47d>\u001b[0m in \u001b[0;36m<module>\u001b[0;34m\u001b[0m\n\u001b[0;32m----> 1\u001b[0;31m \u001b[0mint\u001b[0m\u001b[0;34m(\u001b[0m\u001b[0;34m'10.20'\u001b[0m\u001b[0;34m)\u001b[0m\u001b[0;34m\u001b[0m\u001b[0;34m\u001b[0m\u001b[0m\n\u001b[0m",
      "\u001b[0;31mValueError\u001b[0m: invalid literal for int() with base 10: '10.20'"
     ]
    }
   ],
   "source": [
    "1. '%4, %100, %400 == 0 => True => Year is leap year => 1600, 2000'\n",
    "2. '''%4, %100 == 0 =>  True\n",
    "    %400 ==0 =>  False =. Year is not a leap year => 1800, 1900'''\n",
    "3. '''%4 == 0 => True\n",
    "        %100 == 0 => False => Year is a leap year => 2004, 2020'''\n",
    "4. %4 == 0 => False => Not a leap year => 1967, 1999\n",
    "    "
   ]
  },
  {
   "cell_type": "code",
   "execution_count": 51,
   "metadata": {
    "ExecuteTime": {
     "end_time": "2021-05-27T04:27:11.025890Z",
     "start_time": "2021-05-27T04:27:11.012379Z"
    }
   },
   "outputs": [
    {
     "name": "stdout",
     "output_type": "stream",
     "text": [
      "report@me.com\n",
      "kildjean@mac.com\n",
      "tkrotchko@att.net\n",
      "ngedmond@me.com\n",
      "gtewari@yahoo.com\n",
      "vertigo@optonline.net\n",
      "bartak@msn.com\n",
      "roamer@me.com\n",
      "nwiger@optonline.net\n"
     ]
    }
   ],
   "source": [
    "# Loops in Python - for, while\n",
    "\n",
    "# For loop\n",
    "# Syntax - \n",
    "# for var in iterable:\n",
    "#     stat\n",
    "#     stat\n",
    "#     stat\n",
    "#     expr\n",
    "\n",
    "# for i in 1000:   # TypeError: 'int' object is not iterable\n",
    "#     print(i)\n",
    "#     print(i*2)\n",
    "#     print(i*3)\n",
    "#     print()\n",
    "\n",
    "\n",
    "# for i in 'Python':   \n",
    "#     print(i)\n",
    "#     print(i*2)\n",
    "#     print(i*3)\n",
    "#     print()\n",
    "    \n",
    "    \n",
    "# for i in '1000':   \n",
    "#     print(i)\n",
    "#     print(i*2)\n",
    "#     print(i*3)\n",
    "#     print()\n",
    "    \n",
    "\n",
    "# i = 'n'\n",
    "# P\n",
    "# PP\n",
    "# PPP\n",
    "\n",
    "# y\n",
    "# yy\n",
    "# yyy\n",
    "\n",
    "# t\n",
    "# tt\n",
    "# ttt\n",
    "\n",
    "# h\n",
    "# hh\n",
    "# hhh\n",
    "\n",
    "# o\n",
    "# oo\n",
    "# ooo\n",
    "\n",
    "# n\n",
    "# nn\n",
    "# nnn\n",
    "\n",
    "\n",
    "# my_str = 'Python'\n",
    "# P\n",
    "# yy\n",
    "# ttt\n",
    "# hhhh\n",
    "# ooooo\n",
    "# nnnnnn\n",
    "\n",
    "# for i in range(len(my_str)):\n",
    "#     print(my_str[i] * (i+1), i)\n",
    "\n",
    "\n",
    "email_lst = ['report@me.com',\n",
    "'kildjean@mac.com',\n",
    "'tkrotchko@att.net',\n",
    "'seano@icloud.com',\n",
    "'ngedmond@me.com',\n",
    "'gtewari@yahoo.com',\n",
    "'konit@att.net',\n",
    "'mrdvt@gmail.com',\n",
    "'vertigo@optonline.net',\n",
    "'bartak@msn.com',\n",
    "'roamer@me.com',\n",
    "'nwiger@optonline.net']\n",
    "\n",
    "# print only those email id whoch has user name more than 5\n",
    "\n",
    "# for email in email_lst:\n",
    "#     if len(email[:email.index('@')]) > 5:\n",
    "#         print(email)\n",
    "\n",
    "# for email in email_lst:\n",
    "#     if len(email.split('@')[0]) > 5:\n",
    "#         print(email)"
   ]
  },
  {
   "cell_type": "code",
   "execution_count": 40,
   "metadata": {
    "ExecuteTime": {
     "end_time": "2021-05-27T04:12:38.316741Z",
     "start_time": "2021-05-27T04:12:38.312422Z"
    }
   },
   "outputs": [],
   "source": [
    "# Any object which implements __iter__ method -> Iterable object\n",
    "# print(dir(int))"
   ]
  },
  {
   "cell_type": "code",
   "execution_count": 44,
   "metadata": {
    "ExecuteTime": {
     "end_time": "2021-05-27T04:18:10.643984Z",
     "start_time": "2021-05-27T04:18:10.632076Z"
    }
   },
   "outputs": [
    {
     "data": {
      "text/plain": [
       "[0, -1, -2, -3, -4, -5, -6, -7, -8, -9]"
      ]
     },
     "execution_count": 44,
     "metadata": {},
     "output_type": "execute_result"
    }
   ],
   "source": [
    "# range function\n",
    "# range(start, stop, step) \n",
    "#     It will start generating a sequence of number starting from start value\n",
    "#     Values will be incremented by step size\n",
    "#     and will generate the values till stop - 1\n",
    "\n",
    "# range(stop)\n",
    "# start default = 0\n",
    "# step = 1\n",
    "\n",
    "# list(range(len('Python')))\n",
    "\n",
    "# list(range(11, 30, 2))\n",
    "\n",
    "# list(range(0, -10,-1))\n"
   ]
  },
  {
   "cell_type": "code",
   "execution_count": 55,
   "metadata": {
    "ExecuteTime": {
     "end_time": "2021-05-27T04:30:55.722011Z",
     "start_time": "2021-05-27T04:30:55.705262Z"
    }
   },
   "outputs": [
    {
     "data": {
      "text/plain": [
       "True"
      ]
     },
     "execution_count": 55,
     "metadata": {},
     "output_type": "execute_result"
    }
   ],
   "source": [
    "email_lst = ['report@me.com',\n",
    "'kildjean@mac.com',\n",
    "'tkrotchko@att.net',\n",
    "'seano@icloud.com',\n",
    "'ngedmond@me.com',\n",
    "'gtewari@yahoo.com',\n",
    "'konit@att.net',\n",
    "'mrdvt@gmail.com',\n",
    "'vertigo@optonline.net',\n",
    "'bartak@msn.com',\n",
    "'roamer@me.com',\n",
    "'nwiger@optonline.net']\n",
    "\n",
    "len('report@me.com'.split('@')[0]) > 5\n"
   ]
  },
  {
   "cell_type": "code",
   "execution_count": 62,
   "metadata": {
    "ExecuteTime": {
     "end_time": "2021-05-27T04:41:30.699355Z",
     "start_time": "2021-05-27T04:41:30.688436Z"
    }
   },
   "outputs": [],
   "source": [
    "# def my_func():\n",
    "#     for email in email_lst:\n",
    "#         if len(email[:email.index('@')]) > 5:\n",
    "#             print(email)\n",
    "            \n",
    "# my_func()"
   ]
  },
  {
   "cell_type": "code",
   "execution_count": 63,
   "metadata": {
    "ExecuteTime": {
     "end_time": "2021-05-27T04:41:32.019791Z",
     "start_time": "2021-05-27T04:41:32.016619Z"
    }
   },
   "outputs": [],
   "source": [
    "# for email in email_lst:\n",
    "#     if len(email.split('@')[0]) > 5:\n",
    "#         print(email)"
   ]
  },
  {
   "cell_type": "code",
   "execution_count": 69,
   "metadata": {
    "ExecuteTime": {
     "end_time": "2021-05-27T04:43:00.353163Z",
     "start_time": "2021-05-27T04:42:58.649414Z"
    }
   },
   "outputs": [
    {
     "name": "stdout",
     "output_type": "stream",
     "text": [
      "Enter some value: A\n",
      "True\n"
     ]
    }
   ],
   "source": [
    "num1 = bool(input('Enter some value: '))\n",
    "print(num1)"
   ]
  },
  {
   "cell_type": "code",
   "execution_count": null,
   "metadata": {},
   "outputs": [],
   "source": [
    "# Operator precedence\n",
    "Operators           \tMeaning\n",
    "()                  \tParentheses\n",
    "**                  \tExponent\n",
    "+x, -x, ~x          \tUnary plus, Unary minus, Bitwise NOT\n",
    "*, /, //, %         \tMultiplication, Division, Floor division, Modulus\n",
    "+, -                \tAddition, Subtraction\n",
    "<<, >>              \tBitwise shift operators\n",
    "&                   \tBitwise AND\n",
    "^                   \tBitwise XOR\n",
    "|                   \tBitwise OR\n",
    "==, !=, >, >=, <, <=, is, is not, in, not in\tComparisons, Identity, Membership operators\n",
    "not                 \tLogical NOT\n",
    "and                 \tLogical AND\n",
    "or                  \tLogical OR"
   ]
  },
  {
   "cell_type": "code",
   "execution_count": null,
   "metadata": {},
   "outputs": [],
   "source": []
  },
  {
   "cell_type": "code",
   "execution_count": null,
   "metadata": {},
   "outputs": [],
   "source": []
  },
  {
   "cell_type": "code",
   "execution_count": null,
   "metadata": {},
   "outputs": [],
   "source": []
  },
  {
   "cell_type": "code",
   "execution_count": null,
   "metadata": {},
   "outputs": [],
   "source": []
  },
  {
   "cell_type": "code",
   "execution_count": null,
   "metadata": {},
   "outputs": [],
   "source": []
  },
  {
   "cell_type": "code",
   "execution_count": null,
   "metadata": {},
   "outputs": [],
   "source": []
  },
  {
   "cell_type": "code",
   "execution_count": null,
   "metadata": {},
   "outputs": [],
   "source": []
  },
  {
   "cell_type": "code",
   "execution_count": null,
   "metadata": {},
   "outputs": [],
   "source": []
  },
  {
   "cell_type": "code",
   "execution_count": null,
   "metadata": {},
   "outputs": [],
   "source": []
  },
  {
   "cell_type": "code",
   "execution_count": null,
   "metadata": {},
   "outputs": [],
   "source": []
  },
  {
   "cell_type": "code",
   "execution_count": null,
   "metadata": {},
   "outputs": [],
   "source": []
  },
  {
   "cell_type": "code",
   "execution_count": null,
   "metadata": {},
   "outputs": [],
   "source": []
  },
  {
   "cell_type": "code",
   "execution_count": null,
   "metadata": {},
   "outputs": [],
   "source": []
  },
  {
   "cell_type": "code",
   "execution_count": null,
   "metadata": {},
   "outputs": [],
   "source": []
  },
  {
   "cell_type": "code",
   "execution_count": null,
   "metadata": {},
   "outputs": [],
   "source": []
  },
  {
   "cell_type": "code",
   "execution_count": null,
   "metadata": {},
   "outputs": [],
   "source": []
  },
  {
   "cell_type": "code",
   "execution_count": null,
   "metadata": {},
   "outputs": [],
   "source": []
  },
  {
   "cell_type": "code",
   "execution_count": null,
   "metadata": {},
   "outputs": [],
   "source": []
  },
  {
   "cell_type": "code",
   "execution_count": null,
   "metadata": {},
   "outputs": [],
   "source": []
  },
  {
   "cell_type": "code",
   "execution_count": null,
   "metadata": {},
   "outputs": [],
   "source": []
  },
  {
   "cell_type": "code",
   "execution_count": null,
   "metadata": {},
   "outputs": [],
   "source": []
  },
  {
   "cell_type": "code",
   "execution_count": null,
   "metadata": {},
   "outputs": [],
   "source": []
  },
  {
   "cell_type": "code",
   "execution_count": null,
   "metadata": {},
   "outputs": [],
   "source": []
  },
  {
   "cell_type": "code",
   "execution_count": null,
   "metadata": {},
   "outputs": [],
   "source": []
  },
  {
   "cell_type": "code",
   "execution_count": null,
   "metadata": {},
   "outputs": [],
   "source": []
  },
  {
   "cell_type": "code",
   "execution_count": null,
   "metadata": {},
   "outputs": [],
   "source": []
  },
  {
   "cell_type": "code",
   "execution_count": null,
   "metadata": {},
   "outputs": [],
   "source": []
  },
  {
   "cell_type": "code",
   "execution_count": null,
   "metadata": {},
   "outputs": [],
   "source": []
  },
  {
   "cell_type": "code",
   "execution_count": null,
   "metadata": {},
   "outputs": [],
   "source": []
  },
  {
   "cell_type": "code",
   "execution_count": null,
   "metadata": {},
   "outputs": [],
   "source": []
  },
  {
   "cell_type": "code",
   "execution_count": null,
   "metadata": {},
   "outputs": [],
   "source": []
  },
  {
   "cell_type": "code",
   "execution_count": null,
   "metadata": {},
   "outputs": [],
   "source": []
  },
  {
   "cell_type": "code",
   "execution_count": null,
   "metadata": {},
   "outputs": [],
   "source": []
  },
  {
   "cell_type": "code",
   "execution_count": null,
   "metadata": {},
   "outputs": [],
   "source": []
  },
  {
   "cell_type": "code",
   "execution_count": null,
   "metadata": {},
   "outputs": [],
   "source": []
  },
  {
   "cell_type": "code",
   "execution_count": null,
   "metadata": {},
   "outputs": [],
   "source": []
  },
  {
   "cell_type": "code",
   "execution_count": null,
   "metadata": {},
   "outputs": [],
   "source": []
  },
  {
   "cell_type": "code",
   "execution_count": null,
   "metadata": {},
   "outputs": [],
   "source": []
  },
  {
   "cell_type": "code",
   "execution_count": null,
   "metadata": {},
   "outputs": [],
   "source": []
  },
  {
   "cell_type": "code",
   "execution_count": null,
   "metadata": {},
   "outputs": [],
   "source": []
  }
 ],
 "metadata": {
  "kernelspec": {
   "display_name": "Python 3",
   "language": "python",
   "name": "python3"
  },
  "language_info": {
   "codemirror_mode": {
    "name": "ipython",
    "version": 3
   },
   "file_extension": ".py",
   "mimetype": "text/x-python",
   "name": "python",
   "nbconvert_exporter": "python",
   "pygments_lexer": "ipython3",
   "version": "3.8.2"
  },
  "latex_envs": {
   "LaTeX_envs_menu_present": true,
   "autoclose": false,
   "autocomplete": true,
   "bibliofile": "biblio.bib",
   "cite_by": "apalike",
   "current_citInitial": 1,
   "eqLabelWithNumbers": true,
   "eqNumInitial": 1,
   "hotkeys": {
    "equation": "Ctrl-E",
    "itemize": "Ctrl-I"
   },
   "labels_anchors": false,
   "latex_user_defs": false,
   "report_style_numbering": false,
   "user_envs_cfg": false
  },
  "varInspector": {
   "cols": {
    "lenName": 16,
    "lenType": 16,
    "lenVar": 40
   },
   "kernels_config": {
    "python": {
     "delete_cmd_postfix": "",
     "delete_cmd_prefix": "del ",
     "library": "var_list.py",
     "varRefreshCmd": "print(var_dic_list())"
    },
    "r": {
     "delete_cmd_postfix": ") ",
     "delete_cmd_prefix": "rm(",
     "library": "var_list.r",
     "varRefreshCmd": "cat(var_dic_list()) "
    }
   },
   "types_to_exclude": [
    "module",
    "function",
    "builtin_function_or_method",
    "instance",
    "_Feature"
   ],
   "window_display": false
  }
 },
 "nbformat": 4,
 "nbformat_minor": 2
}
