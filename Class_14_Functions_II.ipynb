{
 "cells": [
  {
   "cell_type": "code",
   "execution_count": null,
   "id": "5949c3b8",
   "metadata": {},
   "outputs": [],
   "source": [
    "# return, recursion\n",
    "# lambda, filter, map, reduce\n",
    "# Iterators, & generators"
   ]
  },
  {
   "cell_type": "code",
   "execution_count": null,
   "id": "f9746aff",
   "metadata": {},
   "outputs": [],
   "source": [
    "# Function Definition\n",
    "def fun_name(param):\n",
    "    code\n",
    "    code\n",
    "    code\n",
    "    code\n",
    "    return stat\n",
    "\n",
    "# Return statments - It tells the python that it is then end of the function\n",
    "# It is optional, so if not written then it returns None"
   ]
  },
  {
   "cell_type": "code",
   "execution_count": 2,
   "id": "e818920f",
   "metadata": {
    "ExecuteTime": {
     "end_time": "2021-06-03T02:56:38.845971Z",
     "start_time": "2021-06-03T02:56:38.838565Z"
    }
   },
   "outputs": [
    {
     "name": "stdout",
     "output_type": "stream",
     "text": [
      "Even\n"
     ]
    }
   ],
   "source": [
    "def even_odd_with_return(num):\n",
    "    if num%2 == 0:\n",
    "        return 'Even'\n",
    "    else:\n",
    "        return 'Odd'\n",
    "\n",
    "a = even_odd_with_return(10)\n",
    "print(a)  \n",
    "        "
   ]
  },
  {
   "cell_type": "code",
   "execution_count": 3,
   "id": "6cb78249",
   "metadata": {
    "ExecuteTime": {
     "end_time": "2021-06-03T02:58:48.822374Z",
     "start_time": "2021-06-03T02:58:48.816849Z"
    }
   },
   "outputs": [
    {
     "name": "stdout",
     "output_type": "stream",
     "text": [
      "Odd\n",
      "None\n"
     ]
    }
   ],
   "source": [
    "def even_odd_without_return(num):\n",
    "    if num%2 == 0:\n",
    "        print('Even')\n",
    "    else:\n",
    "        print('Odd')\n",
    "\n",
    "a = even_odd_without_return(11)\n",
    "print(a) "
   ]
  },
  {
   "cell_type": "code",
   "execution_count": null,
   "id": "7375e764",
   "metadata": {},
   "outputs": [],
   "source": [
    "def f1():\n",
    "    code\n",
    "    cide\n",
    "    cide\n",
    "    code\n",
    "    return 10\n",
    "a = f1()"
   ]
  },
  {
   "cell_type": "code",
   "execution_count": 8,
   "id": "03133303",
   "metadata": {
    "ExecuteTime": {
     "end_time": "2021-06-03T03:17:57.844689Z",
     "start_time": "2021-06-03T03:17:57.835454Z"
    }
   },
   "outputs": [
    {
     "name": "stdout",
     "output_type": "stream",
     "text": [
      "120\n"
     ]
    }
   ],
   "source": [
    "# Recursion - Is a way to solve the problem iteratively\n",
    "# Where a function calls itself\n",
    "# Base cond -> You will exit the recursion\n",
    "\n",
    "# Factorial\n",
    "# Find the factorial of 5 = 5XX3X2X1\n",
    "# 0! = 1, 1! = 1\n",
    "\n",
    "def fact(num):\n",
    "    if num == 0 or num == 1:\n",
    "        return 1\n",
    "    else:\n",
    "        return num * fact(num-1)\n",
    "\n",
    "f = fact(5)\n",
    "print(f)"
   ]
  },
  {
   "cell_type": "code",
   "execution_count": 36,
   "id": "0ec8e3a2",
   "metadata": {
    "ExecuteTime": {
     "end_time": "2021-06-03T03:36:30.841482Z",
     "start_time": "2021-06-03T03:36:30.830716Z"
    }
   },
   "outputs": [
    {
     "name": "stdout",
     "output_type": "stream",
     "text": [
      "-10\n",
      "<function <lambda> at 0x10c7360d0>\n"
     ]
    }
   ],
   "source": [
    "# lambda, filter, map, reduce\n",
    "\n",
    "\n",
    "\n",
    "# Function to check whether a number is even or odd\n",
    "# def even_odd(num):\n",
    "#     return 'Even' if num%2 == 0 else 'Odd'\n",
    "\n",
    "# even_odd(11)\n",
    "\n",
    "# Annonymous function - A function without name\n",
    "# We use lambda keyword to define the Annonymous function\n",
    "# Limitation, you can execute only one line of expression\n",
    "# No need to write the return statement, expression result will be the returned value\n",
    "\n",
    "# Syntax:- lambda parm: expr\n",
    "# a = (lambda num:'Even' if num%2 == 0 else 'odd')(5)\n",
    "# print(a)\n",
    "# a\n",
    "\n",
    "# Function as an argument - Functional Programming - First class citizen\n",
    "# def add(num1, num2):\n",
    "#     return num1+num2\n",
    "\n",
    "# def sub(num1, num2):\n",
    "#     return num1-num2\n",
    "\n",
    "# def mul(num1, num2):\n",
    "#     return num1*num2\n",
    "\n",
    "# def quo(num1, num2):\n",
    "#     return num1//num2\n",
    "\n",
    "# def rem(num1, num2):\n",
    "#     return num1%num2\n",
    "\n",
    "def calculate(op, num1, num2):\n",
    "    return op(num1,num2)\n",
    "\n",
    "# calculate(mul, 10, 2)\n",
    "\n",
    "\n",
    "c = calculate(lambda n1, n2:n1-n2, 10,20)\n",
    "print(c)\n",
    "\n",
    "# a = lambda n1 = 10:n1\n",
    "# print(a)"
   ]
  },
  {
   "cell_type": "code",
   "execution_count": 17,
   "id": "ba1c208a",
   "metadata": {
    "ExecuteTime": {
     "end_time": "2021-06-03T03:27:15.222755Z",
     "start_time": "2021-06-03T03:27:15.211342Z"
    }
   },
   "outputs": [
    {
     "name": "stdout",
     "output_type": "stream",
     "text": [
      "<function even_odd_with_return at 0x10baeaee0>\n",
      "4490964704\n"
     ]
    },
    {
     "data": {
      "text/plain": [
       "4503368320"
      ]
     },
     "execution_count": 17,
     "metadata": {},
     "output_type": "execute_result"
    }
   ],
   "source": [
    "# Function call vs function reference\n",
    "\n",
    "def even_odd_with_return(num):\n",
    "    if num%2 == 0:\n",
    "        return 'Even'\n",
    "    else:\n",
    "        return 'Odd'\n",
    "    \n",
    "# even_odd_with_return(11)\n",
    "print(even_odd_with_return)\n",
    "print(id(even_odd_with_return))\n"
   ]
  },
  {
   "cell_type": "code",
   "execution_count": 43,
   "id": "a808c53d",
   "metadata": {
    "ExecuteTime": {
     "end_time": "2021-06-03T03:50:55.148715Z",
     "start_time": "2021-06-03T03:50:55.137993Z"
    }
   },
   "outputs": [
    {
     "data": {
      "text/plain": [
       "['support', 'sales', 'info', 'careers', 'enquiries', 'news']"
      ]
     },
     "execution_count": 43,
     "metadata": {},
     "output_type": "execute_result"
    }
   ],
   "source": [
    "# Filter, map, reduce\n",
    "\n",
    "# filter(func, iterable) -> Filters the iterable and retruns a filter object\n",
    "# length resultant iterable in filter function - less than the original iterable\n",
    "\n",
    "# lst = list(range(11, 21))\n",
    "# Filter the even value from the list\n",
    "# list(filter(lambda num:num%2 == 0, lst))\n",
    "\n",
    "# num = 14\n",
    "# expr = True\n",
    "\n",
    "# [12, 14, ...]\n",
    "\n",
    "# map(func, iterable) -> maps each element from the iterable to anothe elemrnt in the map object\n",
    "# Length of resultant map object remains same\n",
    "# lst = list(range(11, 21))\n",
    "# Get a seq of square of all the numbers\n",
    "# list(map(lambda num : num**2, lst))\n",
    "\n",
    "# num = 13\n",
    "# expr = 169\n",
    "\n",
    "# [121, 144, 169, ...]\n",
    "\n",
    "lst_email = ['support@domain.com',\n",
    "            'sales@domain.com',\n",
    "            'info@domain.com',\n",
    "            'careers@domain.com',\n",
    "            'enquiries@domain.com',\n",
    "            'news@domain.com']\n",
    "\n",
    "# list(filter(lambda email:len(email[:email.index('@')])>4 ,lst_email))\n",
    "\n",
    "# Username of email ids\n",
    "# list(map(lambda email:email[:email.index('@')], lst_email))\n",
    "\n",
    "# give me the user name of only those email id's where the length of user name is greater than 4\n"
   ]
  },
  {
   "cell_type": "code",
   "execution_count": 46,
   "id": "b5e315c7",
   "metadata": {
    "ExecuteTime": {
     "end_time": "2021-06-03T03:54:13.304814Z",
     "start_time": "2021-06-03T03:54:13.287960Z"
    }
   },
   "outputs": [
    {
     "data": {
      "text/plain": [
       "155"
      ]
     },
     "execution_count": 46,
     "metadata": {},
     "output_type": "execute_result"
    }
   ],
   "source": [
    "# reduce - aggregate - sum, max, min, prod\n",
    "# reduce(func, iterable)\n",
    "# One single valeu of all the element from the iterable\n",
    "\n",
    "# from functools import reduce\n",
    "# lst = list(range(11, 21))\n",
    "# reduce(lambda x,y:x+y,lst)\n",
    "\n",
    "x = 60\n",
    "y = 16\n",
    "x+y = 75\n",
    "\n",
    "\n"
   ]
  },
  {
   "cell_type": "code",
   "execution_count": 45,
   "id": "4a4f0f1d",
   "metadata": {
    "ExecuteTime": {
     "end_time": "2021-06-03T03:53:53.736229Z",
     "start_time": "2021-06-03T03:53:53.726155Z"
    }
   },
   "outputs": [],
   "source": [
    "# print(dir(__builtins__))"
   ]
  },
  {
   "cell_type": "code",
   "execution_count": null,
   "id": "511cf773",
   "metadata": {},
   "outputs": [],
   "source": []
  },
  {
   "cell_type": "code",
   "execution_count": null,
   "id": "d9a706e1",
   "metadata": {},
   "outputs": [],
   "source": []
  },
  {
   "cell_type": "code",
   "execution_count": null,
   "id": "92f8d3eb",
   "metadata": {},
   "outputs": [],
   "source": []
  },
  {
   "cell_type": "code",
   "execution_count": null,
   "id": "1f3c2000",
   "metadata": {},
   "outputs": [],
   "source": []
  },
  {
   "cell_type": "code",
   "execution_count": null,
   "id": "947e1aed",
   "metadata": {},
   "outputs": [],
   "source": []
  },
  {
   "cell_type": "code",
   "execution_count": null,
   "id": "e87b69cb",
   "metadata": {},
   "outputs": [],
   "source": []
  },
  {
   "cell_type": "code",
   "execution_count": null,
   "id": "468313c7",
   "metadata": {},
   "outputs": [],
   "source": []
  },
  {
   "cell_type": "code",
   "execution_count": null,
   "id": "19fb06f6",
   "metadata": {},
   "outputs": [],
   "source": []
  },
  {
   "cell_type": "code",
   "execution_count": null,
   "id": "7e072faf",
   "metadata": {},
   "outputs": [],
   "source": []
  },
  {
   "cell_type": "code",
   "execution_count": null,
   "id": "bc8808ad",
   "metadata": {},
   "outputs": [],
   "source": []
  },
  {
   "cell_type": "code",
   "execution_count": null,
   "id": "a3dd6098",
   "metadata": {},
   "outputs": [],
   "source": []
  },
  {
   "cell_type": "code",
   "execution_count": null,
   "id": "de4e8995",
   "metadata": {},
   "outputs": [],
   "source": []
  },
  {
   "cell_type": "code",
   "execution_count": null,
   "id": "957d2d57",
   "metadata": {},
   "outputs": [],
   "source": []
  },
  {
   "cell_type": "code",
   "execution_count": null,
   "id": "88501c90",
   "metadata": {},
   "outputs": [],
   "source": []
  },
  {
   "cell_type": "code",
   "execution_count": null,
   "id": "fbbe79df",
   "metadata": {},
   "outputs": [],
   "source": []
  },
  {
   "cell_type": "code",
   "execution_count": null,
   "id": "e90a079a",
   "metadata": {},
   "outputs": [],
   "source": []
  },
  {
   "cell_type": "code",
   "execution_count": null,
   "id": "12de20a6",
   "metadata": {},
   "outputs": [],
   "source": []
  },
  {
   "cell_type": "code",
   "execution_count": null,
   "id": "cdbc2883",
   "metadata": {},
   "outputs": [],
   "source": []
  },
  {
   "cell_type": "code",
   "execution_count": null,
   "id": "7991f69f",
   "metadata": {},
   "outputs": [],
   "source": []
  },
  {
   "cell_type": "code",
   "execution_count": null,
   "id": "f3c68afb",
   "metadata": {},
   "outputs": [],
   "source": []
  },
  {
   "cell_type": "code",
   "execution_count": null,
   "id": "cdc917fb",
   "metadata": {},
   "outputs": [],
   "source": []
  },
  {
   "cell_type": "code",
   "execution_count": null,
   "id": "279ed884",
   "metadata": {},
   "outputs": [],
   "source": []
  },
  {
   "cell_type": "code",
   "execution_count": null,
   "id": "b42ac0b9",
   "metadata": {},
   "outputs": [],
   "source": []
  },
  {
   "cell_type": "code",
   "execution_count": null,
   "id": "5d2a808c",
   "metadata": {},
   "outputs": [],
   "source": []
  },
  {
   "cell_type": "code",
   "execution_count": null,
   "id": "2f473ce3",
   "metadata": {},
   "outputs": [],
   "source": []
  },
  {
   "cell_type": "code",
   "execution_count": null,
   "id": "bd7baafd",
   "metadata": {},
   "outputs": [],
   "source": []
  },
  {
   "cell_type": "code",
   "execution_count": null,
   "id": "3268235a",
   "metadata": {},
   "outputs": [],
   "source": []
  },
  {
   "cell_type": "code",
   "execution_count": null,
   "id": "49f906cf",
   "metadata": {},
   "outputs": [],
   "source": []
  },
  {
   "cell_type": "code",
   "execution_count": null,
   "id": "502a4349",
   "metadata": {},
   "outputs": [],
   "source": []
  },
  {
   "cell_type": "code",
   "execution_count": null,
   "id": "c75a4cd4",
   "metadata": {},
   "outputs": [],
   "source": []
  },
  {
   "cell_type": "code",
   "execution_count": null,
   "id": "d2b3acbd",
   "metadata": {},
   "outputs": [],
   "source": []
  },
  {
   "cell_type": "code",
   "execution_count": null,
   "id": "7d817e8d",
   "metadata": {},
   "outputs": [],
   "source": []
  },
  {
   "cell_type": "code",
   "execution_count": null,
   "id": "02e35b6b",
   "metadata": {},
   "outputs": [],
   "source": []
  },
  {
   "cell_type": "code",
   "execution_count": null,
   "id": "ffed2143",
   "metadata": {},
   "outputs": [],
   "source": []
  },
  {
   "cell_type": "code",
   "execution_count": null,
   "id": "4fb8a1c2",
   "metadata": {},
   "outputs": [],
   "source": []
  },
  {
   "cell_type": "code",
   "execution_count": null,
   "id": "439ab10e",
   "metadata": {},
   "outputs": [],
   "source": []
  },
  {
   "cell_type": "code",
   "execution_count": null,
   "id": "f9d1f12a",
   "metadata": {},
   "outputs": [],
   "source": []
  },
  {
   "cell_type": "code",
   "execution_count": null,
   "id": "9cb307d0",
   "metadata": {},
   "outputs": [],
   "source": []
  },
  {
   "cell_type": "code",
   "execution_count": null,
   "id": "059cb06a",
   "metadata": {},
   "outputs": [],
   "source": []
  },
  {
   "cell_type": "code",
   "execution_count": null,
   "id": "18384ad0",
   "metadata": {},
   "outputs": [],
   "source": []
  },
  {
   "cell_type": "code",
   "execution_count": null,
   "id": "3dfad071",
   "metadata": {},
   "outputs": [],
   "source": []
  },
  {
   "cell_type": "code",
   "execution_count": null,
   "id": "269b19e7",
   "metadata": {},
   "outputs": [],
   "source": []
  },
  {
   "cell_type": "code",
   "execution_count": null,
   "id": "825c5e76",
   "metadata": {},
   "outputs": [],
   "source": []
  },
  {
   "cell_type": "code",
   "execution_count": null,
   "id": "6a9da95d",
   "metadata": {},
   "outputs": [],
   "source": []
  },
  {
   "cell_type": "code",
   "execution_count": null,
   "id": "a5750527",
   "metadata": {},
   "outputs": [],
   "source": []
  },
  {
   "cell_type": "code",
   "execution_count": null,
   "id": "4fb8afcd",
   "metadata": {},
   "outputs": [],
   "source": []
  },
  {
   "cell_type": "code",
   "execution_count": null,
   "id": "10fc68fd",
   "metadata": {},
   "outputs": [],
   "source": []
  },
  {
   "cell_type": "code",
   "execution_count": null,
   "id": "342a709d",
   "metadata": {},
   "outputs": [],
   "source": []
  }
 ],
 "metadata": {
  "kernelspec": {
   "display_name": "Python 3",
   "language": "python",
   "name": "python3"
  },
  "language_info": {
   "codemirror_mode": {
    "name": "ipython",
    "version": 3
   },
   "file_extension": ".py",
   "mimetype": "text/x-python",
   "name": "python",
   "nbconvert_exporter": "python",
   "pygments_lexer": "ipython3",
   "version": "3.8.2"
  }
 },
 "nbformat": 4,
 "nbformat_minor": 5
}
