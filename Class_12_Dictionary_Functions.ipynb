{
 "cells": [
  {
   "cell_type": "code",
   "execution_count": null,
   "id": "a9845a3e",
   "metadata": {},
   "outputs": [],
   "source": [
    "# 'copy', "
   ]
  },
  {
   "cell_type": "code",
   "execution_count": 3,
   "id": "bebf369c",
   "metadata": {
    "ExecuteTime": {
     "end_time": "2021-08-26T10:31:01.009219Z",
     "start_time": "2021-08-26T10:31:00.993215Z"
    }
   },
   "outputs": [
    {
     "name": "stdout",
     "output_type": "stream",
     "text": [
      "Python\n",
      "None\n",
      "Key not available in the dict\n",
      "{10: 100, 10.2: (10+20j), True: None, 'a': 'Python', (1, 2, 3): [10, 20, 30]}\n"
     ]
    }
   ],
   "source": [
    "d = {10:100, 10.20:10+20j, True :None, 'a':'Python', (1,2,3):[10,20,30]}\n",
    "\n",
    "# get(key, default = None)\n",
    "# get(key) -> If key is present thenit will give you the corresponding value else it will retutn None which \n",
    "#                 is default value. It does not make any changes to the dictionary.\n",
    "\n",
    "print(d.get('a'))\n",
    "print(d.get('b'))\n",
    "print(d.get('c', 'Key not available in the dict'))\n",
    "print(d)\n",
    "\n",
    "\n",
    "# get(key, 'Message') -> If key is present then it will give you the corresponding value else it will retutn \n",
    "#                        Message which you have passed as second Argument. It does not make any changes to \n",
    "#                        the dictionary.\n",
    "\n",
    "# print(d.get('a', 'Key is not available in the dictionary'))\n",
    "# print(d.get('b', 'Key is not available in the dictionary'))\n",
    "# print(d)               \n"
   ]
  },
  {
   "cell_type": "code",
   "execution_count": 4,
   "id": "44a1a8b4",
   "metadata": {
    "ExecuteTime": {
     "end_time": "2021-08-26T10:39:22.550331Z",
     "start_time": "2021-08-26T10:39:22.534331Z"
    }
   },
   "outputs": [
    {
     "name": "stdout",
     "output_type": "stream",
     "text": [
      "Python\n",
      "None\n",
      "333\n",
      "{10: 100, 10.2: (10+20j), True: None, 'a': 'Python', (1, 2, 3): [10, 20, 30], 'b': None, 'c': 333}\n"
     ]
    }
   ],
   "source": [
    "# setdefault(key, default = None)\n",
    "d = {10:100, 10.20:10+20j, True :None, 'a':'Python', (1,2,3):[10,20,30]}\n",
    "# setdefault(key) -> If key is present then it will give you the corresponding value else it will retutn None \n",
    "#                    which is default value and also it creates a key value pair in the dictionary, where key will\n",
    "#                    be \"key\" passed as argument and value will be default which \"None\"\n",
    "\n",
    "\n",
    "print(d.setdefault('a'))\n",
    "print(d.setdefault('b'))\n",
    "print(d.setdefault('c', 333))\n",
    "print(d)\n",
    "\n",
    "# setdefault(key, 'Message') -> If key is present then it will give you the corresponding value else it will \n",
    "#                               retutn \"Message\" which is default value and also it creates a key value pair in \n",
    "#                               the dictionary, where key will be \"key\" passed as argument and value will be\n",
    "#                               default which \"Message\"\n",
    "\n",
    "# print(d.setdefault('a', 111))\n",
    "# print(d.setdefault('b', 333))\n",
    "# print(d)\n"
   ]
  },
  {
   "cell_type": "code",
   "execution_count": 6,
   "id": "f885ff02",
   "metadata": {
    "ExecuteTime": {
     "end_time": "2021-08-26T10:43:03.700010Z",
     "start_time": "2021-08-26T10:43:03.691994Z"
    }
   },
   "outputs": [
    {
     "name": "stdout",
     "output_type": "stream",
     "text": [
      "['MNO', 14000]\n"
     ]
    }
   ],
   "source": [
    "emp_info = {101:['ABC', 10000], 102:['XYZ', 12000], 103:['MNO', 14000], 104:['PQR', 10000]}\n",
    "print(emp_info[103])\n",
    "\n",
    "# emp_info = {101:{\"Name\":'ABC', \n",
    "#                  \"Sal\":10000}, \n",
    "#             102:{\"Name\":'XYZ', \n",
    "#                  \"Sal\":12000}, \n",
    "#             103:{\"Name\":'MNO', \n",
    "#                  \"Sal\":14000}, \n",
    "#             104:{\"Name\":'PQR', \n",
    "#                  \"Sal\":10000}}\n",
    "# print(emp_info[103])\n",
    "# print(emp_info[103][\"Sal\"])"
   ]
  },
  {
   "cell_type": "code",
   "execution_count": null,
   "id": "a0003d4a",
   "metadata": {},
   "outputs": [],
   "source": [
    "# emp_name = ['ABC', 'XYZ', 'MNO', 'PQR']\n",
    "# emp_id = [101, 102, 103, 104]\n",
    "# emp_sal = [10000, 12000, 14000, 18000]\n",
    "\n",
    "\n"
   ]
  },
  {
   "cell_type": "code",
   "execution_count": 28,
   "id": "6747715a",
   "metadata": {
    "ExecuteTime": {
     "end_time": "2021-08-26T11:10:34.960916Z",
     "start_time": "2021-08-26T11:10:34.948907Z"
    }
   },
   "outputs": [
    {
     "name": "stdout",
     "output_type": "stream",
     "text": [
      "{103: {'Name': 'Joseph', 'Sal': 11000}, 104: {'Name': 'Kirti', 'Sal': 13000}, 105: {'Name': 'Azad', 'Sal': 15000}, 106: {'Name': 'Raj', 'Sal': 17000}}\n",
      "\n"
     ]
    },
    {
     "data": {
      "text/plain": [
       "{101: {'Name': 'ABC', 'Sal': 10000},\n",
       " 102: {'Name': 'XYZ', 'Sal': 12000},\n",
       " 103: {'Name': 'Joseph', 'Sal': 11000},\n",
       " 104: {'Name': 'Kirti', 'Sal': 13000},\n",
       " 105: {'Name': 'Azad', 'Sal': 15000},\n",
       " 106: {'Name': 'Raj', 'Sal': 17000}}"
      ]
     },
     "execution_count": 28,
     "metadata": {},
     "output_type": "execute_result"
    }
   ],
   "source": [
    "# 'update' => Similar to extend method\n",
    "# It updates a dictionary inside an existing dictionary\n",
    "\n",
    "emp_info = {101:{\"Name\":'ABC', \n",
    "                 \"Sal\":10000}, \n",
    "            102:{\"Name\":'XYZ', \n",
    "                 \"Sal\":12000}, \n",
    "            103:{\"Name\":'MNO', \n",
    "                 \"Sal\":14000}, \n",
    "            104:{\"Name\":'PQR', \n",
    "                 \"Sal\":10000}}\n",
    "\n",
    "emp_det =  {103:{\"Name\":'Joseph', \n",
    "                 \"Sal\":11000}, \n",
    "            104:{\"Name\":'Kirti', \n",
    "                 \"Sal\":13000}, \n",
    "            105:{\"Name\":'Azad', \n",
    "                 \"Sal\":15000}, \n",
    "            106:{\"Name\":'Raj', \n",
    "                 \"Sal\":17000}}\n",
    "emp_info.update(emp_det)\n",
    "# Emp_info will be updated with emp_det, but there will be no change in emp_det\n",
    "print(emp_det)\n",
    "print()\n",
    "emp_info\n",
    "\n"
   ]
  },
  {
   "cell_type": "code",
   "execution_count": 29,
   "id": "4508efbf",
   "metadata": {
    "ExecuteTime": {
     "end_time": "2021-08-26T11:10:41.431063Z",
     "start_time": "2021-08-26T11:10:41.423560Z"
    }
   },
   "outputs": [
    {
     "name": "stdout",
     "output_type": "stream",
     "text": [
      "(106, {'Name': 'Raj', 'Sal': 17000})\n"
     ]
    },
    {
     "data": {
      "text/plain": [
       "{101: {'Name': 'ABC', 'Sal': 10000},\n",
       " 102: {'Name': 'XYZ', 'Sal': 12000},\n",
       " 103: {'Name': 'Joseph', 'Sal': 11000},\n",
       " 104: {'Name': 'Kirti', 'Sal': 13000},\n",
       " 105: {'Name': 'Azad', 'Sal': 15000}}"
      ]
     },
     "execution_count": 29,
     "metadata": {},
     "output_type": "execute_result"
    }
   ],
   "source": [
    "# 'pop', 'popitem', 'clear'\n",
    "\n",
    "# pop(key, [default])\n",
    "\n",
    "# pop(key) => If key is present, then it will remove that key value pair from the dictionary and return only \n",
    "#             the value, else if key is not present then it raise KeyError\n",
    "\n",
    "# print(emp_info.pop(104))\n",
    "# print(emp_info)\n",
    "\n",
    "# print(emp_info.pop(107))\n",
    "\n",
    "# pop(key, default) => If key is present, then it will remove that key value pair from the dictionary and return \n",
    "#                      only the value, else if key is not present then it will give you default value as output.\n",
    "\n",
    "# print(emp_info.pop(107, 'This key is not present'))\n",
    "# print(emp_info)\n",
    "\n",
    "# popitem() -> By default removes the last entry from the dictionary and returns (key, value) pair\n",
    "print(emp_info.popitem())\n",
    "emp_info\n",
    "\n",
    "# clear() - removes all element from the dictionary and leaves empty dictionary behind\n",
    "# emp_info.clear()\n",
    "# print(emp_info)\n"
   ]
  },
  {
   "cell_type": "code",
   "execution_count": 37,
   "id": "1d1f9a71",
   "metadata": {
    "ExecuteTime": {
     "end_time": "2021-08-26T11:19:58.936750Z",
     "start_time": "2021-08-26T11:19:58.928749Z"
    }
   },
   "outputs": [
    {
     "data": {
      "text/plain": [
       "{'A': 123, 'B': 123, 'C': 123, 'D': 123, 'E': 123, 'F': 123}"
      ]
     },
     "execution_count": 37,
     "metadata": {},
     "output_type": "execute_result"
    }
   ],
   "source": [
    "# fromkeys(iterable, default = None) \n",
    "\n",
    "d = {}\n",
    "d = d.fromkeys('ABCDEF', 123)\n",
    "d"
   ]
  },
  {
   "cell_type": "code",
   "execution_count": 48,
   "id": "21270f9a",
   "metadata": {
    "ExecuteTime": {
     "end_time": "2021-06-01T03:28:02.160393Z",
     "start_time": "2021-06-01T03:28:02.154218Z"
    }
   },
   "outputs": [
    {
     "name": "stdout",
     "output_type": "stream",
     "text": [
      "False\n",
      "True\n"
     ]
    }
   ],
   "source": [
    "# Write a program that accepts a string and change its lowercase vowels to special character as given below:\n",
    "\n",
    "# a #\n",
    "# e @\n",
    "# i $\n",
    "# o %\n",
    "# u !\n",
    "\n",
    "# inp_str = 'Python'\n",
    "# out_str = 'Pyth%n'\n",
    "\n"
   ]
  },
  {
   "cell_type": "code",
   "execution_count": 51,
   "id": "87421b2e",
   "metadata": {
    "ExecuteTime": {
     "end_time": "2021-06-01T03:29:12.344142Z",
     "start_time": "2021-06-01T03:29:12.338658Z"
    }
   },
   "outputs": [],
   "source": [
    "# Write a program that keeps student's name and his marks in a dictionary as key-value pairs. \n",
    "# The program should store records of 10 students and display students name and marks of first five students \n",
    "# in decreasing order of marks obtained.\n"
   ]
  },
  {
   "cell_type": "code",
   "execution_count": null,
   "id": "dd8d6475",
   "metadata": {},
   "outputs": [],
   "source": [
    "# Functions\n",
    "\n",
    "\n",
    "\n"
   ]
  },
  {
   "cell_type": "code",
   "execution_count": 66,
   "id": "571eadf7",
   "metadata": {
    "ExecuteTime": {
     "end_time": "2021-06-01T03:58:19.963200Z",
     "start_time": "2021-06-01T03:58:19.954929Z"
    }
   },
   "outputs": [
    {
     "name": "stdout",
     "output_type": "stream",
     "text": [
      "10\n",
      "20\n",
      "30\n",
      "40\n"
     ]
    }
   ],
   "source": [
    "lst = [10,20,30,40]\n",
    "# my_iter = iter(lst)         # __iter__\n",
    "# print(my_iter)\n",
    "# print(next(my_iter))\n",
    "# print(next(my_iter))\n",
    "# print(next(my_iter))\n",
    "# print(next(my_iter))\n",
    "# print(next(my_iter))\n",
    "\n",
    "for i in lst:\n",
    "    print(i)"
   ]
  },
  {
   "cell_type": "code",
   "execution_count": 30,
   "id": "94bca9cb",
   "metadata": {
    "ExecuteTime": {
     "end_time": "2021-08-26T11:12:35.319070Z",
     "start_time": "2021-08-26T11:12:35.310982Z"
    }
   },
   "outputs": [],
   "source": [
    "inp_str = 'This is Python class'\n",
    "sep = 'is'\n",
    "out_lst = ['This', 'is', 'Python class']"
   ]
  },
  {
   "cell_type": "code",
   "execution_count": null,
   "id": "0b74c1ee",
   "metadata": {},
   "outputs": [],
   "source": []
  },
  {
   "cell_type": "code",
   "execution_count": null,
   "id": "edd61b03",
   "metadata": {},
   "outputs": [],
   "source": []
  },
  {
   "cell_type": "code",
   "execution_count": null,
   "id": "0f574181",
   "metadata": {},
   "outputs": [],
   "source": []
  },
  {
   "cell_type": "code",
   "execution_count": null,
   "id": "35df55e0",
   "metadata": {},
   "outputs": [],
   "source": []
  },
  {
   "cell_type": "code",
   "execution_count": null,
   "id": "07c208b3",
   "metadata": {},
   "outputs": [],
   "source": []
  },
  {
   "cell_type": "code",
   "execution_count": null,
   "id": "9b01d400",
   "metadata": {},
   "outputs": [],
   "source": []
  },
  {
   "cell_type": "code",
   "execution_count": null,
   "id": "76f4703b",
   "metadata": {},
   "outputs": [],
   "source": []
  },
  {
   "cell_type": "code",
   "execution_count": null,
   "id": "16087863",
   "metadata": {},
   "outputs": [],
   "source": []
  },
  {
   "cell_type": "code",
   "execution_count": null,
   "id": "b2d2df72",
   "metadata": {},
   "outputs": [],
   "source": []
  },
  {
   "cell_type": "code",
   "execution_count": null,
   "id": "562b5416",
   "metadata": {},
   "outputs": [],
   "source": []
  },
  {
   "cell_type": "code",
   "execution_count": null,
   "id": "febd2963",
   "metadata": {},
   "outputs": [],
   "source": []
  },
  {
   "cell_type": "code",
   "execution_count": null,
   "id": "6a0177f6",
   "metadata": {},
   "outputs": [],
   "source": []
  },
  {
   "cell_type": "code",
   "execution_count": null,
   "id": "b569609c",
   "metadata": {},
   "outputs": [],
   "source": []
  },
  {
   "cell_type": "code",
   "execution_count": null,
   "id": "dea36bb3",
   "metadata": {},
   "outputs": [],
   "source": []
  },
  {
   "cell_type": "code",
   "execution_count": null,
   "id": "1dd89dcf",
   "metadata": {},
   "outputs": [],
   "source": []
  },
  {
   "cell_type": "code",
   "execution_count": null,
   "id": "b41db9c7",
   "metadata": {},
   "outputs": [],
   "source": []
  },
  {
   "cell_type": "code",
   "execution_count": null,
   "id": "9adb4397",
   "metadata": {},
   "outputs": [],
   "source": []
  },
  {
   "cell_type": "code",
   "execution_count": null,
   "id": "438d0cb2",
   "metadata": {},
   "outputs": [],
   "source": []
  },
  {
   "cell_type": "code",
   "execution_count": null,
   "id": "ca569245",
   "metadata": {},
   "outputs": [],
   "source": []
  },
  {
   "cell_type": "code",
   "execution_count": null,
   "id": "043cc0a5",
   "metadata": {},
   "outputs": [],
   "source": []
  },
  {
   "cell_type": "code",
   "execution_count": null,
   "id": "2547932e",
   "metadata": {},
   "outputs": [],
   "source": []
  },
  {
   "cell_type": "code",
   "execution_count": null,
   "id": "7bd4e970",
   "metadata": {},
   "outputs": [],
   "source": []
  },
  {
   "cell_type": "code",
   "execution_count": null,
   "id": "f47d692b",
   "metadata": {},
   "outputs": [],
   "source": []
  },
  {
   "cell_type": "code",
   "execution_count": null,
   "id": "201fc40f",
   "metadata": {},
   "outputs": [],
   "source": []
  },
  {
   "cell_type": "code",
   "execution_count": null,
   "id": "4fc49638",
   "metadata": {},
   "outputs": [],
   "source": []
  },
  {
   "cell_type": "code",
   "execution_count": null,
   "id": "e863d060",
   "metadata": {},
   "outputs": [],
   "source": []
  },
  {
   "cell_type": "code",
   "execution_count": null,
   "id": "c855ebb8",
   "metadata": {},
   "outputs": [],
   "source": []
  },
  {
   "cell_type": "code",
   "execution_count": null,
   "id": "614e97ec",
   "metadata": {},
   "outputs": [],
   "source": []
  },
  {
   "cell_type": "code",
   "execution_count": null,
   "id": "2ff9fc8a",
   "metadata": {},
   "outputs": [],
   "source": []
  },
  {
   "cell_type": "code",
   "execution_count": null,
   "id": "8cafc3b3",
   "metadata": {},
   "outputs": [],
   "source": []
  },
  {
   "cell_type": "code",
   "execution_count": null,
   "id": "65d87f0c",
   "metadata": {},
   "outputs": [],
   "source": []
  }
 ],
 "metadata": {
  "kernelspec": {
   "display_name": "Python 3",
   "language": "python",
   "name": "python3"
  },
  "language_info": {
   "codemirror_mode": {
    "name": "ipython",
    "version": 3
   },
   "file_extension": ".py",
   "mimetype": "text/x-python",
   "name": "python",
   "nbconvert_exporter": "python",
   "pygments_lexer": "ipython3",
   "version": "3.8.8"
  }
 },
 "nbformat": 4,
 "nbformat_minor": 5
}
