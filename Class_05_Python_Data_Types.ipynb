{
 "cells": [
  {
   "cell_type": "code",
   "execution_count": 20,
   "metadata": {
    "ExecuteTime": {
     "end_time": "2021-05-24T02:52:00.578576Z",
     "start_time": "2021-05-24T02:52:00.571458Z"
    }
   },
   "outputs": [
    {
     "name": "stdout",
     "output_type": "stream",
     "text": [
      "4\n",
      "4\n"
     ]
    }
   ],
   "source": [
    "# Bitwise operator - & | ^ ~ << >>\n",
    "# They work on bits 1 and 0\n",
    "# Only integer values can be represented in bits.\n",
    "# Bitwise operators work wonly with integer data types.\n",
    "# 1 is true and 0 is false\n",
    "\n",
    "# print(10 & 20)\n",
    "\n",
    "# & Truthe Table\n",
    "# 0 & 0 = 0\n",
    "# 0 & 1 = 0\n",
    "# 1 & 0 = 0\n",
    "# 1 & 1 = 1\n",
    "\n",
    "# | Truthe Table\n",
    "# 0 | 0 = 0\n",
    "# 0 | 1 = 1\n",
    "# 1 | 0 = 1\n",
    "# 1 | 1 = 1\n",
    "\n",
    "# ^ Truthe Table\n",
    "# 0 ^ 0 = 0\n",
    "# 0 ^ 1 = 1\n",
    "# 1 ^ 0 = 1\n",
    "# 1 ^ 1 = 0\n",
    "\n",
    "# 10 => 01010\n",
    "# 20 => 10100\n",
    "# ===========\n",
    "# &  => 00000\n",
    "\n",
    "# print(0b00000)\n",
    "# print(10&20)\n",
    "\n",
    "# print(36 & 37)\n",
    "\n",
    "# 36 => 100100\n",
    "# 37 => 100101\n",
    "# =============\n",
    "# &  => 100100\n",
    "\n",
    "# print(0b100100)\n",
    "\n",
    "# print(36 | 37)\n",
    "\n",
    "# print(36 ^ 37)\n",
    "# print(0b1)\n",
    "\n",
    "# Bitwise Negation - ~\n",
    "# ~num = -(num+1)\n",
    "# print(~9)\n",
    "# print(~-8)\n",
    "\n",
    "# Left shift operation - <<\n",
    "# print(37 << 3)                     # => 37 * (2**3)\n",
    "# print(37 * (2**3))\n",
    "\n",
    "# Right shift operation - >>\n",
    "print(37 >> 3)                       # => 37 // (2**3)\n",
    "print(37 // (2**3))\n"
   ]
  },
  {
   "cell_type": "code",
   "execution_count": 7,
   "metadata": {
    "ExecuteTime": {
     "end_time": "2021-05-24T02:41:36.879005Z",
     "start_time": "2021-05-24T02:41:36.867931Z"
    }
   },
   "outputs": [
    {
     "data": {
      "text/plain": [
       "'0b100100'"
      ]
     },
     "execution_count": 7,
     "metadata": {},
     "output_type": "execute_result"
    }
   ],
   "source": [
    "# Assignment -> =\n",
    "# num = 10\n",
    "# my_str = 'Python'"
   ]
  },
  {
   "cell_type": "code",
   "execution_count": 25,
   "metadata": {
    "ExecuteTime": {
     "end_time": "2021-05-24T02:56:23.497599Z",
     "start_time": "2021-05-24T02:56:23.486774Z"
    }
   },
   "outputs": [
    {
     "name": "stdout",
     "output_type": "stream",
     "text": [
      "12\n",
      "0\n",
      "0\n"
     ]
    }
   ],
   "source": [
    "# Compound Assignment Operator -> +=, -=, *=, /=, //=, %=, **=, &=, |=, ^=, ~=, <<=, >>=\n",
    "a = 12\n",
    "print(a)\n",
    "\n",
    "a &= 2                                     # a = a*2\n",
    "print(a)\n",
    "\n",
    "print(12 & 2)"
   ]
  },
  {
   "cell_type": "code",
   "execution_count": 41,
   "metadata": {
    "ExecuteTime": {
     "end_time": "2021-05-24T03:03:44.795395Z",
     "start_time": "2021-05-24T03:03:44.788600Z"
    }
   },
   "outputs": [],
   "source": [
    "# Membership Operator => Works with iterable -> in, not in\n",
    "# Whether an element is part of the iterable (Any object which implements __iter__())\n",
    "# This operator return boolean vaue\n",
    "\n",
    "my_str = 'This is python class'\n",
    "my_lst = [1,2,3,4,4]\n",
    "my_tpl = (1,2,3,4,5)\n",
    "my_dict = {1:100, 2:200, 3:300, 4:400}\n",
    "# print(dir(my_dict))\n",
    "# print('i' in my_str)\n",
    "# print('i' not in my_str)\n",
    "# print('is' not in my_str)\n",
    "# print('is' in my_str)\n",
    "# print('This is' in my_str)\n",
    "# print('pn' in my_str)\n",
    "\n",
    "\n",
    "# In dictonary it checks only for keys\n",
    "# print(1 in my_dict)\n",
    "# print(100 in my_dict)\n",
    "\n",
    "\n"
   ]
  },
  {
   "cell_type": "code",
   "execution_count": 4,
   "metadata": {
    "ExecuteTime": {
     "end_time": "2021-05-24T03:32:11.547924Z",
     "start_time": "2021-05-24T03:32:11.536465Z"
    }
   },
   "outputs": [
    {
     "name": "stdout",
     "output_type": "stream",
     "text": [
      "3\n",
      "3\n",
      "3\n"
     ]
    }
   ],
   "source": [
    "# Identity operator - is, is not\n",
    "# It compares the memory address\n",
    "# is operator returns True if memory address of two objects are same else returns False and 'is not' vice versa\n",
    "\n",
    "# a = 10\n",
    "# b = 10\n",
    "# print(a is b)\n",
    "# print(id(a))\n",
    "# print(id(b))\n",
    "\n",
    "# a = 'Python'\n",
    "# b = 'Python'\n",
    "# print(a is b)\n",
    "# print(id(a))\n",
    "# print(id(b))\n",
    "\n",
    "# a = 1000\n",
    "# b = 1000\n",
    "# print(a is b)\n",
    "# print(id(a))\n",
    "# print(id(b))\n",
    "\n",
    "# Integer caching\n",
    "# -5 TO 256 preloaded into memory\n",
    "# Internally python maintaibns a reference count for each object\n",
    "# from sys import getrefcount\n",
    "# print(getrefcount(10))\n",
    "# a = 10\n",
    "# b = 10\n",
    "# print(getrefcount(10))\n",
    "\n",
    "# String interning\n",
    "# Few value - A-Z, a-z, 0-9, _ preloaded into the memory\n",
    "\n"
   ]
  },
  {
   "cell_type": "code",
   "execution_count": 2,
   "metadata": {
    "ExecuteTime": {
     "end_time": "2021-05-24T03:14:32.715711Z",
     "start_time": "2021-05-24T03:14:32.706857Z"
    }
   },
   "outputs": [
    {
     "name": "stdout",
     "output_type": "stream",
     "text": [
      "4473080208\n",
      "4473080304\n"
     ]
    }
   ],
   "source": [
    "# x = 257\n",
    "# y = 257\n",
    "# print(id(x))\n",
    "# print(id(y))"
   ]
  },
  {
   "cell_type": "code",
   "execution_count": 1,
   "metadata": {
    "ExecuteTime": {
     "end_time": "2021-05-24T03:22:28.633106Z",
     "start_time": "2021-05-24T03:22:28.624600Z"
    }
   },
   "outputs": [
    {
     "name": "stdout",
     "output_type": "stream",
     "text": [
      "323\n",
      "325\n"
     ]
    }
   ],
   "source": [
    "# from sys import getrefcount\n",
    "# print(getrefcount(10))\n",
    "# a = 10\n",
    "# b = 10\n",
    "# print(getrefcount(10))"
   ]
  },
  {
   "cell_type": "code",
   "execution_count": 7,
   "metadata": {
    "ExecuteTime": {
     "end_time": "2021-05-24T03:37:41.543800Z",
     "start_time": "2021-05-24T03:37:41.532050Z"
    }
   },
   "outputs": [
    {
     "data": {
      "text/plain": [
       "1000"
      ]
     },
     "execution_count": 7,
     "metadata": {},
     "output_type": "execute_result"
    }
   ],
   "source": [
    "# Ternary Operator -> expr1 if cond else expr2\n",
    "# -> expr1 if cond1 else expr2 if cond2 else expr3 if cond3 else expr4\n",
    "\n",
    "# a = 10\n",
    "# b = 9\n",
    "# a+b if a<b else a-b\n",
    "\n",
    "# a = 100\n",
    "# b = 10\n",
    "# c = 1000\n",
    "# a if (a>b and a>c) else b if (b>c) else c\n"
   ]
  },
  {
   "cell_type": "code",
   "execution_count": 10,
   "metadata": {
    "ExecuteTime": {
     "end_time": "2021-05-24T03:41:40.651211Z",
     "start_time": "2021-05-24T03:41:40.646832Z"
    }
   },
   "outputs": [],
   "source": [
    "# Floats - Any value with decimal point\n",
    "# 10.20, -10.20, 0.20\n",
    "# a = 10.20\n",
    "# print(a, type(a), id(a))\n",
    "# print(help(a))\n",
    "# print(dir(a))\n",
    "\n",
    "# Operations\n",
    "# Arithmetic\n",
    "# Comparison\n",
    "# Equality\n",
    "# Logical\n",
    "# Assignment\n",
    "# Compound Assignment - +=, -=, *=, /=, //=, %=, **=\n",
    "# Membership\n",
    "# Identitiy\n",
    "# Ternary\n",
    "\n",
    "\n",
    "\n"
   ]
  },
  {
   "cell_type": "code",
   "execution_count": 11,
   "metadata": {
    "ExecuteTime": {
     "end_time": "2021-05-24T03:44:49.570437Z",
     "start_time": "2021-05-24T03:44:49.556700Z"
    }
   },
   "outputs": [
    {
     "name": "stdout",
     "output_type": "stream",
     "text": [
      "10.0\n",
      "20.0\n"
     ]
    }
   ],
   "source": [
    "# Complex - Any value in the format -> a+bj\n",
    "# Where a is real part\n",
    "# and b is imaginary part\n",
    "# j is imaginary value\n",
    "a,b,c,d = 10+20j, 10-20j, -10-20j, -10+20j\n",
    "# print(a, type(a), id(a))\n",
    "# print(help(a))\n",
    "# print(dir(a))\n",
    "# print(a.real)\n",
    "# print(a.imag)\n",
    "\n",
    "\n",
    "# Operations\n",
    "# Arithmetic - except % modulo operator\n",
    "# Comparison - Does not work\n",
    "# Equality\n",
    "# Logical\n",
    "# Assignment\n",
    "# Compound Assignment - +=, -=, *=, /=, //=, **=\n",
    "# Membership\n",
    "# Identitiy\n",
    "# Ternary"
   ]
  },
  {
   "cell_type": "code",
   "execution_count": 41,
   "metadata": {
    "ExecuteTime": {
     "end_time": "2021-05-24T03:58:07.390484Z",
     "start_time": "2021-05-24T03:58:07.384069Z"
    }
   },
   "outputs": [
    {
     "name": "stdout",
     "output_type": "stream",
     "text": [
      "(10.2+20j)\n"
     ]
    }
   ],
   "source": [
    "# int() - without any arg, with 2 args and with ine args\n",
    "\n",
    "# print(int())\n",
    "\n",
    "# print(int('101010', 2))\n",
    "# print(int('fc98', 16))\n",
    "# print(int('17.15', 16))\n",
    "\n",
    "# print(int(10))\n",
    "# print(int(10.20))\n",
    "# print(int('10'))\n",
    "# print(int(True))\n",
    "# print(int(0b10101))\n",
    "# print(int(0o7654))\n",
    "# print(int(0xfc98))\n",
    "\n",
    "# print(int('10.20'))\n",
    "# print(int(10+20j))\n",
    "# print(int('True'))\n",
    "# print(int('0b10101'))\n",
    "\n",
    "# float()\n",
    "# print(float())\n",
    "\n",
    "# print(float(10))\n",
    "# print(float(10.20))\n",
    "# print(float('10.20'))\n",
    "# print(float('10'))\n",
    "# print(float(True))\n",
    "# print(float(0b10101))\n",
    "# print(float(0o7654))\n",
    "# print(float(0xfc98))\n",
    "\n",
    "# print(float(10+20j))\n",
    "# print(float('True'))\n",
    "# print(float('0b101010'))\n",
    "\n",
    "# complex(real) -> real +0j\n",
    "# complex(real, imag) -> real +Imag*j\n",
    "# if first arg is string then we can not pass second args\n",
    "# string can never be passed as second arg\n",
    "\n",
    "# print(complex(10))\n",
    "# print(complex('10'))\n",
    "# print(complex('10.20'))\n",
    "# print(complex(10.20))\n",
    "# print(complex(True))\n",
    "# print(complex(0b10101))\n",
    "\n",
    "\n",
    "# print(complex('0b10101'))\n",
    "\n",
    "# print(complex(10, 20))\n",
    "# print(complex(True, True))\n",
    "\n",
    "# print(complex('10.20', 20))\n",
    "# print(complex(10,'20'))\n",
    "\n",
    "# bool(10)\n",
    "\n",
    "\n",
    "# print(str(10.20+20j))"
   ]
  },
  {
   "cell_type": "code",
   "execution_count": null,
   "metadata": {},
   "outputs": [],
   "source": [
    "# Boolean -= True and False\n",
    "\n",
    "int, float, complex, boolean\n",
    "# Submission date is Monday"
   ]
  },
  {
   "cell_type": "code",
   "execution_count": null,
   "metadata": {},
   "outputs": [],
   "source": [
    "learnbay13thmay@gmail.com"
   ]
  },
  {
   "cell_type": "code",
   "execution_count": null,
   "metadata": {},
   "outputs": [],
   "source": []
  },
  {
   "cell_type": "code",
   "execution_count": null,
   "metadata": {},
   "outputs": [],
   "source": []
  },
  {
   "cell_type": "code",
   "execution_count": null,
   "metadata": {},
   "outputs": [],
   "source": []
  },
  {
   "cell_type": "code",
   "execution_count": null,
   "metadata": {},
   "outputs": [],
   "source": []
  },
  {
   "cell_type": "code",
   "execution_count": null,
   "metadata": {},
   "outputs": [],
   "source": []
  },
  {
   "cell_type": "code",
   "execution_count": null,
   "metadata": {},
   "outputs": [],
   "source": []
  },
  {
   "cell_type": "code",
   "execution_count": null,
   "metadata": {},
   "outputs": [],
   "source": []
  },
  {
   "cell_type": "code",
   "execution_count": null,
   "metadata": {},
   "outputs": [],
   "source": []
  },
  {
   "cell_type": "code",
   "execution_count": null,
   "metadata": {},
   "outputs": [],
   "source": []
  },
  {
   "cell_type": "code",
   "execution_count": null,
   "metadata": {},
   "outputs": [],
   "source": []
  },
  {
   "cell_type": "code",
   "execution_count": null,
   "metadata": {},
   "outputs": [],
   "source": []
  },
  {
   "cell_type": "code",
   "execution_count": null,
   "metadata": {},
   "outputs": [],
   "source": []
  },
  {
   "cell_type": "code",
   "execution_count": null,
   "metadata": {},
   "outputs": [],
   "source": []
  },
  {
   "cell_type": "code",
   "execution_count": null,
   "metadata": {},
   "outputs": [],
   "source": []
  },
  {
   "cell_type": "code",
   "execution_count": null,
   "metadata": {},
   "outputs": [],
   "source": []
  },
  {
   "cell_type": "code",
   "execution_count": null,
   "metadata": {},
   "outputs": [],
   "source": []
  },
  {
   "cell_type": "code",
   "execution_count": null,
   "metadata": {},
   "outputs": [],
   "source": []
  },
  {
   "cell_type": "code",
   "execution_count": null,
   "metadata": {},
   "outputs": [],
   "source": []
  },
  {
   "cell_type": "code",
   "execution_count": null,
   "metadata": {},
   "outputs": [],
   "source": []
  },
  {
   "cell_type": "code",
   "execution_count": null,
   "metadata": {},
   "outputs": [],
   "source": []
  },
  {
   "cell_type": "code",
   "execution_count": null,
   "metadata": {},
   "outputs": [],
   "source": []
  },
  {
   "cell_type": "code",
   "execution_count": null,
   "metadata": {},
   "outputs": [],
   "source": []
  },
  {
   "cell_type": "code",
   "execution_count": null,
   "metadata": {},
   "outputs": [],
   "source": []
  },
  {
   "cell_type": "code",
   "execution_count": null,
   "metadata": {},
   "outputs": [],
   "source": []
  },
  {
   "cell_type": "code",
   "execution_count": null,
   "metadata": {},
   "outputs": [],
   "source": []
  },
  {
   "cell_type": "code",
   "execution_count": null,
   "metadata": {},
   "outputs": [],
   "source": []
  },
  {
   "cell_type": "code",
   "execution_count": null,
   "metadata": {},
   "outputs": [],
   "source": []
  },
  {
   "cell_type": "code",
   "execution_count": null,
   "metadata": {},
   "outputs": [],
   "source": []
  },
  {
   "cell_type": "code",
   "execution_count": null,
   "metadata": {},
   "outputs": [],
   "source": []
  },
  {
   "cell_type": "code",
   "execution_count": null,
   "metadata": {},
   "outputs": [],
   "source": []
  },
  {
   "cell_type": "code",
   "execution_count": null,
   "metadata": {},
   "outputs": [],
   "source": []
  },
  {
   "cell_type": "code",
   "execution_count": null,
   "metadata": {},
   "outputs": [],
   "source": []
  },
  {
   "cell_type": "code",
   "execution_count": null,
   "metadata": {},
   "outputs": [],
   "source": []
  },
  {
   "cell_type": "code",
   "execution_count": null,
   "metadata": {},
   "outputs": [],
   "source": []
  },
  {
   "cell_type": "code",
   "execution_count": null,
   "metadata": {},
   "outputs": [],
   "source": []
  },
  {
   "cell_type": "code",
   "execution_count": null,
   "metadata": {},
   "outputs": [],
   "source": []
  },
  {
   "cell_type": "code",
   "execution_count": null,
   "metadata": {},
   "outputs": [],
   "source": []
  },
  {
   "cell_type": "code",
   "execution_count": null,
   "metadata": {},
   "outputs": [],
   "source": []
  },
  {
   "cell_type": "code",
   "execution_count": null,
   "metadata": {},
   "outputs": [],
   "source": []
  },
  {
   "cell_type": "code",
   "execution_count": null,
   "metadata": {},
   "outputs": [],
   "source": []
  },
  {
   "cell_type": "code",
   "execution_count": null,
   "metadata": {},
   "outputs": [],
   "source": []
  },
  {
   "cell_type": "code",
   "execution_count": null,
   "metadata": {},
   "outputs": [],
   "source": []
  },
  {
   "cell_type": "code",
   "execution_count": null,
   "metadata": {},
   "outputs": [],
   "source": []
  },
  {
   "cell_type": "code",
   "execution_count": null,
   "metadata": {},
   "outputs": [],
   "source": []
  },
  {
   "cell_type": "code",
   "execution_count": null,
   "metadata": {},
   "outputs": [],
   "source": []
  },
  {
   "cell_type": "code",
   "execution_count": null,
   "metadata": {},
   "outputs": [],
   "source": []
  },
  {
   "cell_type": "code",
   "execution_count": null,
   "metadata": {},
   "outputs": [],
   "source": []
  },
  {
   "cell_type": "code",
   "execution_count": null,
   "metadata": {},
   "outputs": [],
   "source": []
  },
  {
   "cell_type": "code",
   "execution_count": null,
   "metadata": {},
   "outputs": [],
   "source": []
  },
  {
   "cell_type": "code",
   "execution_count": null,
   "metadata": {},
   "outputs": [],
   "source": []
  },
  {
   "cell_type": "code",
   "execution_count": null,
   "metadata": {},
   "outputs": [],
   "source": []
  },
  {
   "cell_type": "code",
   "execution_count": null,
   "metadata": {},
   "outputs": [],
   "source": []
  },
  {
   "cell_type": "code",
   "execution_count": null,
   "metadata": {},
   "outputs": [],
   "source": []
  },
  {
   "cell_type": "code",
   "execution_count": null,
   "metadata": {},
   "outputs": [],
   "source": []
  },
  {
   "cell_type": "code",
   "execution_count": null,
   "metadata": {},
   "outputs": [],
   "source": []
  },
  {
   "cell_type": "code",
   "execution_count": null,
   "metadata": {},
   "outputs": [],
   "source": []
  },
  {
   "cell_type": "code",
   "execution_count": null,
   "metadata": {},
   "outputs": [],
   "source": []
  },
  {
   "cell_type": "code",
   "execution_count": null,
   "metadata": {},
   "outputs": [],
   "source": []
  },
  {
   "cell_type": "code",
   "execution_count": null,
   "metadata": {},
   "outputs": [],
   "source": []
  },
  {
   "cell_type": "code",
   "execution_count": null,
   "metadata": {},
   "outputs": [],
   "source": []
  },
  {
   "cell_type": "code",
   "execution_count": null,
   "metadata": {},
   "outputs": [],
   "source": []
  },
  {
   "cell_type": "code",
   "execution_count": null,
   "metadata": {},
   "outputs": [],
   "source": []
  }
 ],
 "metadata": {
  "kernelspec": {
   "display_name": "Python 3",
   "language": "python",
   "name": "python3"
  },
  "language_info": {
   "codemirror_mode": {
    "name": "ipython",
    "version": 3
   },
   "file_extension": ".py",
   "mimetype": "text/x-python",
   "name": "python",
   "nbconvert_exporter": "python",
   "pygments_lexer": "ipython3",
   "version": "3.8.2"
  },
  "latex_envs": {
   "LaTeX_envs_menu_present": true,
   "autoclose": false,
   "autocomplete": true,
   "bibliofile": "biblio.bib",
   "cite_by": "apalike",
   "current_citInitial": 1,
   "eqLabelWithNumbers": true,
   "eqNumInitial": 1,
   "hotkeys": {
    "equation": "Ctrl-E",
    "itemize": "Ctrl-I"
   },
   "labels_anchors": false,
   "latex_user_defs": false,
   "report_style_numbering": false,
   "user_envs_cfg": false
  },
  "varInspector": {
   "cols": {
    "lenName": 16,
    "lenType": 16,
    "lenVar": 40
   },
   "kernels_config": {
    "python": {
     "delete_cmd_postfix": "",
     "delete_cmd_prefix": "del ",
     "library": "var_list.py",
     "varRefreshCmd": "print(var_dic_list())"
    },
    "r": {
     "delete_cmd_postfix": ") ",
     "delete_cmd_prefix": "rm(",
     "library": "var_list.r",
     "varRefreshCmd": "cat(var_dic_list()) "
    }
   },
   "types_to_exclude": [
    "module",
    "function",
    "builtin_function_or_method",
    "instance",
    "_Feature"
   ],
   "window_display": false
  }
 },
 "nbformat": 4,
 "nbformat_minor": 2
}
