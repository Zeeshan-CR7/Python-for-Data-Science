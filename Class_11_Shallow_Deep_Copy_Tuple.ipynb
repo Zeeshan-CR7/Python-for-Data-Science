{
 "cells": [
  {
   "cell_type": "code",
   "execution_count": 16,
   "metadata": {
    "ExecuteTime": {
     "end_time": "2021-05-31T03:14:20.852751Z",
     "start_time": "2021-05-31T03:14:20.840569Z"
    }
   },
   "outputs": [
    {
     "name": "stdout",
     "output_type": "stream",
     "text": [
      "[10, 20, [30, 40, 666], 50]\n",
      "[10, 20, [30, 40, 60], 50]\n"
     ]
    }
   ],
   "source": [
    "# Shallow copy & deep copy concept is only for the Mutable element\n",
    "\n",
    "# lst1 = [10,20,30,40,50]\n",
    "# lst2 = lst1                # Aliasing -Giving a different name to an existing object\n",
    "# print(lst1 is lst2)\n",
    "# print(id(lst1))\n",
    "# print(id(lst2))\n",
    "# lst2[1] = 222\n",
    "# print(lst1)\n",
    "# print(lst2)\n",
    "\n",
    "# Shallow copy - copy, slicing\n",
    "lst1 = [10,20,30,40,50]\n",
    "# lst3 = lst1.copy()\n",
    "# print(lst1 is lst3)\n",
    "# print(id(lst1))\n",
    "# print(id(lst3))\n",
    "# lst3[2] = 333\n",
    "# print(lst3)\n",
    "# print(lst1)\n",
    "\n",
    "# lst4 = lst1[::]\n",
    "# print(lst1 is lst4)\n",
    "# print(id(lst1))\n",
    "# print(id(lst4))\n",
    "\n",
    "# Problem in shallow copy\n",
    "lst1 = [10,20,[30,40,60],50]\n",
    "lst2 = lst1[::]\n",
    "# print(lst1 is lst2)\n",
    "# lst2[-1] = 555\n",
    "# print(lst2)\n",
    "# print(lst1)\n",
    "# lst2[-2][-2] = 444\n",
    "# print(lst2)\n",
    "# print(lst1)\n",
    "# print(id(lst1[-2]))\n",
    "# print(id(lst2[-2]))\n",
    "\n",
    "# Deepcopy\n",
    "from copy import deepcopy\n",
    "lst1 = [10,20,[30,40,60],50]\n",
    "lst4 = deepcopy(lst1)\n",
    "# print(lst4[-2] is lst1[-2])\n",
    "# print(id(lst4[-2]))\n",
    "# print(id(lst1[-2]))\n",
    "lst4[-2][-1] = 666\n",
    "print(lst4)\n",
    "print(lst1)\n",
    "\n",
    "\n",
    "\n",
    "\n",
    "\n",
    "\n",
    "\n",
    "\n"
   ]
  },
  {
   "cell_type": "code",
   "execution_count": 25,
   "metadata": {
    "ExecuteTime": {
     "end_time": "2021-05-31T03:32:50.325783Z",
     "start_time": "2021-05-31T03:32:45.595864Z"
    },
    "scrolled": true
   },
   "outputs": [
    {
     "name": "stdout",
     "output_type": "stream",
     "text": [
      "ENter a tuple: (10,20,30,40)\n",
      "(10, 20, 30, 40) <class 'tuple'>\n"
     ]
    }
   ],
   "source": [
    "# Tuple - The values kept inside (), seprated by comma.\n",
    "# Tuple is similar to list, but tuple is immutable\n",
    "# Tuple is collection of heterogeneous elements\n",
    "# Parenthesis are optional\n",
    "\n",
    "# Creating a tuple\n",
    "# tpl = (10,20.30,30+40j,True, 'Python', [1,2,3], (11,22,33))\n",
    "# print(tpl, type(tpl))\n",
    "\n",
    "# tpl = 10,20.30,30+40j,True, 'Python', [1,2,3], (11,22,33)\n",
    "# print(tpl, type(tpl))\n",
    "\n",
    "# a = 10,20\n",
    "# print(a, type(a))\n",
    "\n",
    "# Creating a tuple with single element\n",
    "# tpl = 10,\n",
    "# print(tpl, type(tpl))\n",
    "\n",
    "# tuple(iterable)\n",
    "# print(tuple('Python'))\n",
    "# print(tuple([10,20,30,40]))\n",
    "# print(tuple({1:100, 2:200, 3:300, 4:400}))\n",
    "\n",
    "# Taking tuple as input from user\n",
    "# tpl = eval(input('ENter a tuple: '))\n",
    "# print(tpl, type(tpl))\n",
    "\n"
   ]
  },
  {
   "cell_type": "code",
   "execution_count": 26,
   "metadata": {
    "ExecuteTime": {
     "end_time": "2021-05-31T03:33:35.061240Z",
     "start_time": "2021-05-31T03:33:35.054625Z"
    }
   },
   "outputs": [
    {
     "name": "stdout",
     "output_type": "stream",
     "text": [
      "['__add__', '__class__', '__contains__', '__delattr__', '__dir__', '__doc__', '__eq__', '__format__', '__ge__', '__getattribute__', '__getitem__', '__getnewargs__', '__gt__', '__hash__', '__init__', '__init_subclass__', '__iter__', '__le__', '__len__', '__lt__', '__mul__', '__ne__', '__new__', '__reduce__', '__reduce_ex__', '__repr__', '__rmul__', '__setattr__', '__sizeof__', '__str__', '__subclasshook__', 'count', 'index']\n"
     ]
    }
   ],
   "source": [
    "# Tuple methods\n",
    "print(dir(tpl))\n",
    "\n",
    "# 'count', 'index'\n"
   ]
  },
  {
   "cell_type": "code",
   "execution_count": null,
   "metadata": {},
   "outputs": [],
   "source": [
    "# Tuple is a seq\n",
    "    # Indexing, slicing, concatenation, Repetition, Membership, len"
   ]
  },
  {
   "cell_type": "code",
   "execution_count": 33,
   "metadata": {
    "ExecuteTime": {
     "end_time": "2021-05-31T03:40:06.143107Z",
     "start_time": "2021-05-31T03:40:06.124080Z"
    }
   },
   "outputs": [],
   "source": [
    "# Tuple packing and unpacking\n",
    "\n",
    "# Tuple packing - Assigning multiple values to a single variable\n",
    "# tpl = 10,20.30,30+40j,True, 'Python', [1,2,3], (11,22,33)\n",
    "# print(tpl, type(tpl))\n",
    "\n",
    "# Tuple unpacking - taking each element out seprataely from tuple\n",
    "# No of element inside the tuple and no of variable should match in case of unpacking\n",
    "# List unpacking\n",
    "\n",
    "# tpl = 10,20,30,40\n",
    "# a,b,c,d = tpl     # Tuple unpacking\n",
    "# print(a)\n",
    "# print(b)\n",
    "# print(c)\n",
    "# print(d)\n",
    "\n",
    "# lst = [10,20,30,40]\n",
    "# m,n,o,p = lst\n",
    "# print(m,n,o,p)\n",
    "\n"
   ]
  },
  {
   "cell_type": "code",
   "execution_count": null,
   "metadata": {},
   "outputs": [],
   "source": [
    "# Dictionary - We store the elemnets in key:vale pair format\n",
    "# One key:value pair is called item or element\n",
    "# Key and value are separated by :\n",
    "# Items are separated by comma\n",
    "# Key can not be duplicated, but duplicate values\n",
    "# only immutable object should be used as a key\n",
    "# Dictionary is not a seq, so - indexing, slicing, concatenation, repetion - not going to work\n",
    "    # len, membership - will work\n",
    "# Dictionary is mutable"
   ]
  },
  {
   "cell_type": "code",
   "execution_count": 36,
   "metadata": {
    "ExecuteTime": {
     "end_time": "2021-05-31T03:47:39.896749Z",
     "start_time": "2021-05-31T03:47:39.858612Z"
    }
   },
   "outputs": [
    {
     "name": "stdout",
     "output_type": "stream",
     "text": [
      "20\n"
     ]
    },
    {
     "ename": "IndexError",
     "evalue": "list index out of range",
     "output_type": "error",
     "traceback": [
      "\u001b[0;31m---------------------------------------------------------------------------\u001b[0m",
      "\u001b[0;31mIndexError\u001b[0m                                Traceback (most recent call last)",
      "\u001b[0;32m<ipython-input-36-620df93e0262>\u001b[0m in \u001b[0;36m<module>\u001b[0;34m\u001b[0m\n\u001b[1;32m      9\u001b[0m \u001b[0;34m\u001b[0m\u001b[0m\n\u001b[1;32m     10\u001b[0m \u001b[0mprint\u001b[0m\u001b[0;34m(\u001b[0m\u001b[0mlst\u001b[0m\u001b[0;34m[\u001b[0m\u001b[0;36m1\u001b[0m\u001b[0;34m]\u001b[0m\u001b[0;34m)\u001b[0m\u001b[0;34m\u001b[0m\u001b[0;34m\u001b[0m\u001b[0m\n\u001b[0;32m---> 11\u001b[0;31m \u001b[0mprint\u001b[0m\u001b[0;34m(\u001b[0m\u001b[0mlst\u001b[0m\u001b[0;34m[\u001b[0m\u001b[0;36m20\u001b[0m\u001b[0;34m]\u001b[0m\u001b[0;34m)\u001b[0m\u001b[0;34m\u001b[0m\u001b[0;34m\u001b[0m\u001b[0m\n\u001b[0m",
      "\u001b[0;31mIndexError\u001b[0m: list index out of range"
     ]
    }
   ],
   "source": [
    "# In case if list\n",
    "lst = [10,20,30,40]\n",
    "\n",
    "# index     Value\n",
    "# 0          10\n",
    "# 1          20\n",
    "# 2          30\n",
    "# 3          40\n",
    "\n",
    "print(lst[1])\n",
    "# print(lst[20])"
   ]
  },
  {
   "cell_type": "code",
   "execution_count": 76,
   "metadata": {
    "ExecuteTime": {
     "end_time": "2021-05-31T04:13:36.311717Z",
     "start_time": "2021-05-31T04:13:36.300828Z"
    },
    "scrolled": true
   },
   "outputs": [
    {
     "name": "stdout",
     "output_type": "stream",
     "text": [
      "{11: 121, 13: 169, 15: 225, 17: 289, 19: 361, 21: 441, 23: 529, 25: 625, 27: 729, 29: 841}\n"
     ]
    }
   ],
   "source": [
    "# Creating a dictionary\n",
    "d = {10:100, 10.20:10+20j, True :None, 'a':'Python', (1,2,3):[10,20,30]}\n",
    "# print(d, type(d))\n",
    "\n",
    "# key        value\n",
    "# 10         100\n",
    "# 10.20      10+20j\n",
    "# True       None\n",
    "# 'a'        'Python'\n",
    "# (1,2,3)    [10,20,30]\n",
    "\n",
    "# Creating an empty dictionary\n",
    "# d1 = {}\n",
    "# d2 = dict()\n",
    "# print(d1, type(d1))\n",
    "# print(d2, type(d2))\n",
    "\n",
    "# Taking a dictionary as input from user\n",
    "# d3 = eval(input('Enter a dictionary: '))\n",
    "# if type(d3) == 'dict':\n",
    "#     print('Hi')\n",
    "# else:\n",
    "#     enter a dictionary value\n",
    "# print(d3, type(d3))\n",
    "\n",
    "# dict()\n",
    "# d4 = dict(([1,100],[2, 200]))\n",
    "# print(d4)\n",
    "\n",
    "# lst1 = [10,10.20,10+20j, True]\n",
    "# lst2 = [100, 100.33, 100+50j, None]\n",
    "# print(dict(zip(lst1, lst2)))\n",
    "# print(dict(enumerate(lst1)))\n",
    "\n",
    "# Dictionary comprehension\n",
    "# {key:expr for loop if cond}\n",
    "# print({eval(input('Enter a key: ')):eval(input(\"Enter a value for key: \")) for num in range(11, 15)})\n",
    "# print({num:num**2 for num in range(11, 31) if num%2 != 0})\n",
    "\n",
    "d = {1:100, 2:200, 1:111}     \n",
    "# key        value\n",
    "# 1           111\n",
    "# 2           200\n",
    "# \n",
    "\n",
    "# import random\n",
    "# print(random.sample(range(10000000), 10))\n",
    "# print(dir(random))\n",
    "\n",
    "\n"
   ]
  },
  {
   "cell_type": "code",
   "execution_count": 61,
   "metadata": {
    "ExecuteTime": {
     "end_time": "2021-05-31T04:00:28.604911Z",
     "start_time": "2021-05-31T04:00:28.586050Z"
    }
   },
   "outputs": [
    {
     "name": "stdout",
     "output_type": "stream",
     "text": [
      "Python\n"
     ]
    }
   ],
   "source": [
    "# Accessing element from the dictionary - syntax is same as indexing\n",
    "print(d['a'])\n",
    "# print(d['b'])    # KeyError: 'b'\n",
    "\n",
    "\n"
   ]
  },
  {
   "cell_type": "code",
   "execution_count": 85,
   "metadata": {
    "ExecuteTime": {
     "end_time": "2021-05-31T04:16:12.686945Z",
     "start_time": "2021-05-31T04:16:12.679498Z"
    }
   },
   "outputs": [
    {
     "name": "stdout",
     "output_type": "stream",
     "text": [
      "dict_values([100, (10+20j), None, 'Python', [10, 20, 30]])\n",
      "dict_items([(10, 100), (10.2, (10+20j)), (True, None), ('a', 'Python'), ((1, 2, 3), [10, 20, 30])])\n"
     ]
    }
   ],
   "source": [
    "# Dictionary methods\n",
    "# print(dir(dict))\n",
    "# 'clear', 'copy', 'fromkeys', 'get', 'items', 'keys', 'pop', 'popitem', 'setdefault', 'update', 'values'\n",
    "\n",
    "# keys, values, items\n",
    "d = {10:100, 10.20:10+20j, True :None, 'a':'Python', (1,2,3):[10,20,30]}\n",
    "# print(d.keys(), type(d.keys()), dir(d.keys()))\n",
    "# list(d.keys())[0]\n",
    "\n",
    "# print(d.values())\n",
    "\n",
    "# print(d.items())\n"
   ]
  },
  {
   "cell_type": "code",
   "execution_count": 86,
   "metadata": {
    "ExecuteTime": {
     "end_time": "2021-05-31T04:21:01.352172Z",
     "start_time": "2021-05-31T04:21:01.336252Z"
    }
   },
   "outputs": [
    {
     "name": "stdout",
     "output_type": "stream",
     "text": [
      "4553794800\n",
      "4587948464\n",
      "JavaPython\n"
     ]
    }
   ],
   "source": [
    "new_str = 'Java'\n",
    "print(id(new_str))\n",
    "new_str += 'Python'\n",
    "print(id(new_str))\n",
    "print(new_str)"
   ]
  },
  {
   "cell_type": "code",
   "execution_count": null,
   "metadata": {},
   "outputs": [],
   "source": [
    "while True:\n",
    "    block code\n",
    "    \n",
    "# Infinte loop - while loop\n",
    "# for - finite no of iterations"
   ]
  },
  {
   "cell_type": "code",
   "execution_count": null,
   "metadata": {},
   "outputs": [],
   "source": []
  },
  {
   "cell_type": "code",
   "execution_count": null,
   "metadata": {},
   "outputs": [],
   "source": []
  },
  {
   "cell_type": "code",
   "execution_count": null,
   "metadata": {},
   "outputs": [],
   "source": []
  },
  {
   "cell_type": "code",
   "execution_count": null,
   "metadata": {},
   "outputs": [],
   "source": []
  },
  {
   "cell_type": "code",
   "execution_count": null,
   "metadata": {},
   "outputs": [],
   "source": []
  },
  {
   "cell_type": "code",
   "execution_count": null,
   "metadata": {},
   "outputs": [],
   "source": []
  },
  {
   "cell_type": "code",
   "execution_count": null,
   "metadata": {},
   "outputs": [],
   "source": []
  },
  {
   "cell_type": "code",
   "execution_count": null,
   "metadata": {},
   "outputs": [],
   "source": []
  },
  {
   "cell_type": "code",
   "execution_count": null,
   "metadata": {},
   "outputs": [],
   "source": []
  },
  {
   "cell_type": "code",
   "execution_count": null,
   "metadata": {},
   "outputs": [],
   "source": []
  },
  {
   "cell_type": "code",
   "execution_count": null,
   "metadata": {},
   "outputs": [],
   "source": []
  },
  {
   "cell_type": "code",
   "execution_count": null,
   "metadata": {},
   "outputs": [],
   "source": []
  },
  {
   "cell_type": "code",
   "execution_count": null,
   "metadata": {},
   "outputs": [],
   "source": []
  },
  {
   "cell_type": "code",
   "execution_count": null,
   "metadata": {},
   "outputs": [],
   "source": []
  },
  {
   "cell_type": "code",
   "execution_count": null,
   "metadata": {},
   "outputs": [],
   "source": []
  },
  {
   "cell_type": "code",
   "execution_count": null,
   "metadata": {},
   "outputs": [],
   "source": []
  },
  {
   "cell_type": "code",
   "execution_count": null,
   "metadata": {},
   "outputs": [],
   "source": []
  },
  {
   "cell_type": "code",
   "execution_count": null,
   "metadata": {},
   "outputs": [],
   "source": []
  },
  {
   "cell_type": "code",
   "execution_count": null,
   "metadata": {},
   "outputs": [],
   "source": []
  },
  {
   "cell_type": "code",
   "execution_count": null,
   "metadata": {},
   "outputs": [],
   "source": []
  },
  {
   "cell_type": "code",
   "execution_count": null,
   "metadata": {},
   "outputs": [],
   "source": []
  },
  {
   "cell_type": "code",
   "execution_count": null,
   "metadata": {},
   "outputs": [],
   "source": []
  },
  {
   "cell_type": "code",
   "execution_count": null,
   "metadata": {},
   "outputs": [],
   "source": []
  },
  {
   "cell_type": "code",
   "execution_count": null,
   "metadata": {},
   "outputs": [],
   "source": []
  },
  {
   "cell_type": "code",
   "execution_count": null,
   "metadata": {},
   "outputs": [],
   "source": []
  },
  {
   "cell_type": "code",
   "execution_count": null,
   "metadata": {},
   "outputs": [],
   "source": []
  },
  {
   "cell_type": "code",
   "execution_count": null,
   "metadata": {},
   "outputs": [],
   "source": []
  },
  {
   "cell_type": "code",
   "execution_count": null,
   "metadata": {},
   "outputs": [],
   "source": []
  }
 ],
 "metadata": {
  "kernelspec": {
   "display_name": "Python 3",
   "language": "python",
   "name": "python3"
  },
  "language_info": {
   "codemirror_mode": {
    "name": "ipython",
    "version": 3
   },
   "file_extension": ".py",
   "mimetype": "text/x-python",
   "name": "python",
   "nbconvert_exporter": "python",
   "pygments_lexer": "ipython3",
   "version": "3.8.5"
  }
 },
 "nbformat": 4,
 "nbformat_minor": 2
}
