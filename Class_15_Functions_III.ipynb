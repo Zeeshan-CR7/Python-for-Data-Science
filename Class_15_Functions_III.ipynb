{
 "cells": [
  {
   "cell_type": "markdown",
   "id": "e6f5109a",
   "metadata": {},
   "source": [
    "# Iterators and Generators"
   ]
  },
  {
   "cell_type": "code",
   "execution_count": null,
   "id": "4807cfd9",
   "metadata": {},
   "outputs": [],
   "source": [
    "# Using Iterators we can iterate over the containers."
   ]
  },
  {
   "cell_type": "code",
   "execution_count": null,
   "id": "5d65a227",
   "metadata": {},
   "outputs": [],
   "source": [
    "# Iterable - __iter__ -> list, tuple, dictionary, sorted\n",
    "# Iterator - __iter__, __next__ -> enumerate, zip, filter, map, reversed"
   ]
  },
  {
   "cell_type": "code",
   "execution_count": 1,
   "id": "8386c3c0",
   "metadata": {
    "ExecuteTime": {
     "end_time": "2021-06-07T02:39:14.984685Z",
     "start_time": "2021-06-07T02:39:14.970010Z"
    }
   },
   "outputs": [
    {
     "name": "stdout",
     "output_type": "stream",
     "text": [
      "['__add__', '__class__', '__contains__', '__delattr__', '__delitem__', '__dir__', '__doc__', '__eq__', '__format__', '__ge__', '__getattribute__', '__getitem__', '__gt__', '__hash__', '__iadd__', '__imul__', '__init__', '__init_subclass__', '__iter__', '__le__', '__len__', '__lt__', '__mul__', '__ne__', '__new__', '__reduce__', '__reduce_ex__', '__repr__', '__reversed__', '__rmul__', '__setattr__', '__setitem__', '__sizeof__', '__str__', '__subclasshook__', 'append', 'clear', 'copy', 'count', 'extend', 'index', 'insert', 'pop', 'remove', 'reverse', 'sort']\n"
     ]
    }
   ],
   "source": [
    "print(dir(list))"
   ]
  },
  {
   "cell_type": "code",
   "execution_count": 8,
   "id": "a2a15d9f",
   "metadata": {
    "ExecuteTime": {
     "end_time": "2021-06-07T02:41:25.198515Z",
     "start_time": "2021-06-07T02:41:25.191457Z"
    }
   },
   "outputs": [
    {
     "name": "stdout",
     "output_type": "stream",
     "text": [
      "['__class__', '__delattr__', '__dir__', '__doc__', '__eq__', '__format__', '__ge__', '__getattribute__', '__gt__', '__hash__', '__init__', '__init_subclass__', '__iter__', '__le__', '__length_hint__', '__lt__', '__ne__', '__new__', '__next__', '__reduce__', '__reduce_ex__', '__repr__', '__setattr__', '__setstate__', '__sizeof__', '__str__', '__subclasshook__']\n"
     ]
    }
   ],
   "source": [
    "print(dir(reversed([10,20,30,40])))"
   ]
  },
  {
   "cell_type": "code",
   "execution_count": 10,
   "id": "bff8485f",
   "metadata": {
    "ExecuteTime": {
     "end_time": "2021-06-07T02:42:35.205026Z",
     "start_time": "2021-06-07T02:42:35.185016Z"
    }
   },
   "outputs": [
    {
     "name": "stdout",
     "output_type": "stream",
     "text": [
      "['__abs__', '__add__', '__and__', '__bool__', '__ceil__', '__class__', '__delattr__', '__dir__', '__divmod__', '__doc__', '__eq__', '__float__', '__floor__', '__floordiv__', '__format__', '__ge__', '__getattribute__', '__getnewargs__', '__gt__', '__hash__', '__index__', '__init__', '__init_subclass__', '__int__', '__invert__', '__le__', '__lshift__', '__lt__', '__mod__', '__mul__', '__ne__', '__neg__', '__new__', '__or__', '__pos__', '__pow__', '__radd__', '__rand__', '__rdivmod__', '__reduce__', '__reduce_ex__', '__repr__', '__rfloordiv__', '__rlshift__', '__rmod__', '__rmul__', '__ror__', '__round__', '__rpow__', '__rrshift__', '__rshift__', '__rsub__', '__rtruediv__', '__rxor__', '__setattr__', '__sizeof__', '__str__', '__sub__', '__subclasshook__', '__truediv__', '__trunc__', '__xor__', 'as_integer_ratio', 'bit_length', 'conjugate', 'denominator', 'from_bytes', 'imag', 'numerator', 'real', 'to_bytes']\n"
     ]
    }
   ],
   "source": [
    "print(dir(int))"
   ]
  },
  {
   "cell_type": "code",
   "execution_count": null,
   "id": "09b935cc",
   "metadata": {},
   "outputs": [],
   "source": [
    "# __iter__ -> It returns an iterator object -> iter()\n",
    "# __next__ -> next()"
   ]
  },
  {
   "cell_type": "code",
   "execution_count": 11,
   "id": "ed6df49b",
   "metadata": {
    "ExecuteTime": {
     "end_time": "2021-06-07T02:46:09.115872Z",
     "start_time": "2021-06-07T02:46:09.102896Z"
    }
   },
   "outputs": [
    {
     "ename": "TypeError",
     "evalue": "'int' object is not iterable",
     "output_type": "error",
     "traceback": [
      "\u001b[0;31m---------------------------------------------------------------------------\u001b[0m",
      "\u001b[0;31mTypeError\u001b[0m                                 Traceback (most recent call last)",
      "\u001b[0;32m<ipython-input-11-665a8c31cf25>\u001b[0m in \u001b[0;36m<module>\u001b[0;34m\u001b[0m\n\u001b[0;32m----> 1\u001b[0;31m \u001b[0;32mfor\u001b[0m \u001b[0mi\u001b[0m \u001b[0;32min\u001b[0m \u001b[0;36m10\u001b[0m\u001b[0;34m:\u001b[0m\u001b[0;34m\u001b[0m\u001b[0;34m\u001b[0m\u001b[0m\n\u001b[0m\u001b[1;32m      2\u001b[0m     \u001b[0mprint\u001b[0m\u001b[0;34m(\u001b[0m\u001b[0mi\u001b[0m\u001b[0;34m)\u001b[0m\u001b[0;34m\u001b[0m\u001b[0;34m\u001b[0m\u001b[0m\n",
      "\u001b[0;31mTypeError\u001b[0m: 'int' object is not iterable"
     ]
    }
   ],
   "source": [
    "for i in [10]:\n",
    "    print(i)"
   ]
  },
  {
   "cell_type": "code",
   "execution_count": 12,
   "id": "32decc46",
   "metadata": {
    "ExecuteTime": {
     "end_time": "2021-06-07T02:46:51.165707Z",
     "start_time": "2021-06-07T02:46:51.147000Z"
    }
   },
   "outputs": [
    {
     "ename": "TypeError",
     "evalue": "'list' object is not an iterator",
     "output_type": "error",
     "traceback": [
      "\u001b[0;31m---------------------------------------------------------------------------\u001b[0m",
      "\u001b[0;31mTypeError\u001b[0m                                 Traceback (most recent call last)",
      "\u001b[0;32m<ipython-input-12-7d3d24c86715>\u001b[0m in \u001b[0;36m<module>\u001b[0;34m\u001b[0m\n\u001b[1;32m      1\u001b[0m \u001b[0mlst\u001b[0m \u001b[0;34m=\u001b[0m \u001b[0;34m[\u001b[0m\u001b[0;36m10\u001b[0m\u001b[0;34m,\u001b[0m\u001b[0;36m20\u001b[0m\u001b[0;34m,\u001b[0m\u001b[0;36m30\u001b[0m\u001b[0;34m,\u001b[0m\u001b[0;36m40\u001b[0m\u001b[0;34m]\u001b[0m\u001b[0;34m\u001b[0m\u001b[0;34m\u001b[0m\u001b[0m\n\u001b[0;32m----> 2\u001b[0;31m \u001b[0mprint\u001b[0m\u001b[0;34m(\u001b[0m\u001b[0mnext\u001b[0m\u001b[0;34m(\u001b[0m\u001b[0mlst\u001b[0m\u001b[0;34m)\u001b[0m\u001b[0;34m)\u001b[0m\u001b[0;34m\u001b[0m\u001b[0;34m\u001b[0m\u001b[0m\n\u001b[0m",
      "\u001b[0;31mTypeError\u001b[0m: 'list' object is not an iterator"
     ]
    }
   ],
   "source": [
    "lst = [10,20,30,40]\n",
    "print(next(lst))"
   ]
  },
  {
   "cell_type": "code",
   "execution_count": 15,
   "id": "8023d8c2",
   "metadata": {
    "ExecuteTime": {
     "end_time": "2021-06-07T02:49:27.405842Z",
     "start_time": "2021-06-07T02:49:27.368343Z"
    }
   },
   "outputs": [
    {
     "name": "stdout",
     "output_type": "stream",
     "text": [
      "10\n",
      "20\n",
      "30\n",
      "40\n"
     ]
    },
    {
     "ename": "StopIteration",
     "evalue": "",
     "output_type": "error",
     "traceback": [
      "\u001b[0;31m---------------------------------------------------------------------------\u001b[0m",
      "\u001b[0;31mStopIteration\u001b[0m                             Traceback (most recent call last)",
      "\u001b[0;32m<ipython-input-15-4cbf5cdaa383>\u001b[0m in \u001b[0;36m<module>\u001b[0;34m\u001b[0m\n\u001b[1;32m      5\u001b[0m \u001b[0mprint\u001b[0m\u001b[0;34m(\u001b[0m\u001b[0mnext\u001b[0m\u001b[0;34m(\u001b[0m\u001b[0mmy_iter\u001b[0m\u001b[0;34m)\u001b[0m\u001b[0;34m)\u001b[0m\u001b[0;34m\u001b[0m\u001b[0;34m\u001b[0m\u001b[0m\n\u001b[1;32m      6\u001b[0m \u001b[0mprint\u001b[0m\u001b[0;34m(\u001b[0m\u001b[0mnext\u001b[0m\u001b[0;34m(\u001b[0m\u001b[0mmy_iter\u001b[0m\u001b[0;34m)\u001b[0m\u001b[0;34m)\u001b[0m\u001b[0;34m\u001b[0m\u001b[0;34m\u001b[0m\u001b[0m\n\u001b[0;32m----> 7\u001b[0;31m \u001b[0mprint\u001b[0m\u001b[0;34m(\u001b[0m\u001b[0mnext\u001b[0m\u001b[0;34m(\u001b[0m\u001b[0mmy_iter\u001b[0m\u001b[0;34m)\u001b[0m\u001b[0;34m)\u001b[0m\u001b[0;34m\u001b[0m\u001b[0;34m\u001b[0m\u001b[0m\n\u001b[0m",
      "\u001b[0;31mStopIteration\u001b[0m: "
     ]
    }
   ],
   "source": [
    "lst = [10,20,30,40]\n",
    "my_iter = iter(lst)\n",
    "print(next(my_iter))\n",
    "print(next(my_iter))\n",
    "print(next(my_iter))\n",
    "print(next(my_iter))\n",
    "print(next(my_iter))"
   ]
  },
  {
   "cell_type": "code",
   "execution_count": 14,
   "id": "ffa99f60",
   "metadata": {
    "ExecuteTime": {
     "end_time": "2021-06-07T02:48:55.054573Z",
     "start_time": "2021-06-07T02:48:55.044015Z"
    }
   },
   "outputs": [
    {
     "name": "stdout",
     "output_type": "stream",
     "text": [
      "10\n",
      "20\n",
      "30\n",
      "40\n"
     ]
    }
   ],
   "source": [
    "for i in [10,20,30,40]:\n",
    "    print(i)"
   ]
  },
  {
   "cell_type": "markdown",
   "id": "7419ffb0",
   "metadata": {},
   "source": [
    "# Implementing our own iterator"
   ]
  },
  {
   "cell_type": "code",
   "execution_count": 26,
   "id": "e5358bfe",
   "metadata": {
    "ExecuteTime": {
     "end_time": "2021-06-07T03:03:33.640497Z",
     "start_time": "2021-06-07T03:03:33.626783Z"
    }
   },
   "outputs": [
    {
     "name": "stdout",
     "output_type": "stream",
     "text": [
      "L\n",
      "e\n",
      "a\n",
      "r\n",
      "n\n",
      "b\n",
      "a\n",
      "y\n",
      "['__class__', '__delattr__', '__dict__', '__dir__', '__doc__', '__eq__', '__format__', '__ge__', '__getattribute__', '__gt__', '__hash__', '__init__', '__init_subclass__', '__iter__', '__le__', '__lt__', '__module__', '__ne__', '__new__', '__next__', '__reduce__', '__reduce_ex__', '__repr__', '__setattr__', '__sizeof__', '__str__', '__subclasshook__', '__weakref__']\n"
     ]
    }
   ],
   "source": [
    "class myIterator:\n",
    "    def __init__(self, word):\n",
    "        self.word = word\n",
    "        self.pos = 0\n",
    "        \n",
    "    def __iter__(self):\n",
    "        return self\n",
    "    \n",
    "    def __next__(self):\n",
    "        if self.pos >= len(self.word):\n",
    "            raise StopIteration\n",
    "        word = self.word[self.pos]\n",
    "        self.pos += 1\n",
    "        return word\n",
    "    \n",
    "i = myIterator('Learnbay')\n",
    "print(next(i))\n",
    "print(next(i))\n",
    "print(next(i))\n",
    "print(next(i))\n",
    "print(next(i))\n",
    "print(next(i))\n",
    "print(next(i))\n",
    "print(next(i))\n",
    "# print(next(i))\n",
    "\n",
    "print(dir(myIterator))"
   ]
  },
  {
   "cell_type": "code",
   "execution_count": 21,
   "id": "6edddfd4",
   "metadata": {
    "ExecuteTime": {
     "end_time": "2021-06-07T02:58:43.209476Z",
     "start_time": "2021-06-07T02:58:43.206626Z"
    }
   },
   "outputs": [],
   "source": [
    "# class myIterator:\n",
    "#     def __init__(self, word):\n",
    "#         self.word = word\n",
    "#         self.pos = 0\n",
    "        \n",
    "#     def __iter__(self):\n",
    "#         return self.word\n",
    "    \n",
    "# i = myIterator('Learnbay')\n",
    "# a = iter(i)\n",
    "# print(next(a))"
   ]
  },
  {
   "cell_type": "code",
   "execution_count": 27,
   "id": "9c38ca2c",
   "metadata": {
    "ExecuteTime": {
     "end_time": "2021-06-07T03:07:02.478516Z",
     "start_time": "2021-06-07T03:07:02.471645Z"
    }
   },
   "outputs": [
    {
     "name": "stdout",
     "output_type": "stream",
     "text": [
      "<class 'int'>\n"
     ]
    }
   ],
   "source": [
    "a = 10\n",
    "print(type(a))"
   ]
  },
  {
   "cell_type": "code",
   "execution_count": 28,
   "id": "802c0dd5",
   "metadata": {
    "ExecuteTime": {
     "end_time": "2021-06-07T03:11:43.755981Z",
     "start_time": "2021-06-07T03:11:43.737263Z"
    }
   },
   "outputs": [
    {
     "name": "stdout",
     "output_type": "stream",
     "text": [
      "20\n",
      "40\n",
      "60\n",
      "80\n"
     ]
    }
   ],
   "source": [
    "        \n",
    "class mydoubleiterator:\n",
    "    def __init__(self,word):\n",
    "        self.word=word\n",
    "        self.pos=0\n",
    "    def __iter__(self):\n",
    "        return self\n",
    "    def __next__(self):\n",
    "        if(self.pos>=len(self.word)):\n",
    "            raise StopIteration\n",
    "        word = self.word[self.pos] * 2\n",
    "        self.pos +=1\n",
    "        return word\n",
    "\n",
    "i = mydoubleiterator([10,20,30,40])\n",
    "print(next(i))\n",
    "print(next(i))\n",
    "print(next(i))\n",
    "print(next(i))"
   ]
  },
  {
   "cell_type": "markdown",
   "id": "55f65713",
   "metadata": {},
   "source": [
    "# Generators"
   ]
  },
  {
   "cell_type": "code",
   "execution_count": 29,
   "id": "4db7a8ed",
   "metadata": {
    "ExecuteTime": {
     "end_time": "2021-06-07T03:13:24.314341Z",
     "start_time": "2021-06-07T03:13:24.282380Z"
    }
   },
   "outputs": [
    {
     "data": {
      "text/plain": [
       "10"
      ]
     },
     "execution_count": 29,
     "metadata": {},
     "output_type": "execute_result"
    }
   ],
   "source": [
    "def f1():\n",
    "    return 10\n",
    "f1()"
   ]
  },
  {
   "cell_type": "code",
   "execution_count": 30,
   "id": "9ce66778",
   "metadata": {
    "ExecuteTime": {
     "end_time": "2021-06-07T03:14:50.769731Z",
     "start_time": "2021-06-07T03:14:50.754588Z"
    }
   },
   "outputs": [
    {
     "name": "stdout",
     "output_type": "stream",
     "text": [
      "10\n",
      "10.2\n",
      "(10+20j)\n"
     ]
    }
   ],
   "source": [
    "def f1():\n",
    "    yield 10\n",
    "    yield 10.20\n",
    "    yield 10+20j\n",
    "i = f1()\n",
    "print(next(i))\n",
    "print(next(i))\n",
    "print(next(i))"
   ]
  },
  {
   "cell_type": "code",
   "execution_count": 38,
   "id": "d2c6b85b",
   "metadata": {
    "ExecuteTime": {
     "end_time": "2021-06-07T03:22:47.991088Z",
     "start_time": "2021-06-07T03:22:47.971144Z"
    }
   },
   "outputs": [
    {
     "name": "stdout",
     "output_type": "stream",
     "text": [
      "1\n",
      "4\n",
      "9\n",
      "16\n",
      "25\n",
      "36\n",
      "49\n",
      "64\n",
      "81\n",
      "100\n",
      "\n",
      "112\n",
      "136\n"
     ]
    }
   ],
   "source": [
    "# Square of a nunbers\n",
    "def gen(num):\n",
    "    while True:\n",
    "        yield num**2\n",
    "        num +=1\n",
    "\n",
    "i = gen(1)\n",
    "print(next(i))\n",
    "print(next(i))\n",
    "print(next(i))\n",
    "print(next(i))\n",
    "print(next(i))\n",
    "print(next(i))\n",
    "print(next(i))\n",
    "print(next(i))\n",
    "print(next(i))\n",
    "print(next(i))\n",
    "print()\n",
    "import sys\n",
    "print(sys.getsizeof(i))\n",
    "\n",
    "lst = [1, 4, 9, 16, 25, 36, 49, 64, 81, 100]\n",
    "print(sys.getsizeof(lst))"
   ]
  },
  {
   "cell_type": "code",
   "execution_count": null,
   "id": "c6c8716b",
   "metadata": {},
   "outputs": [],
   "source": [
    "# Time and memory efficient both"
   ]
  },
  {
   "cell_type": "code",
   "execution_count": 39,
   "id": "b47acba4",
   "metadata": {
    "ExecuteTime": {
     "end_time": "2021-06-07T03:24:22.738571Z",
     "start_time": "2021-06-07T03:24:22.731931Z"
    }
   },
   "outputs": [
    {
     "name": "stdout",
     "output_type": "stream",
     "text": [
      "def length():\n",
      "\n",
      "    inp_str = eval(input('Enter an iterable: '))\n",
      "\n",
      "    length_iterable = 0\n",
      "\n",
      "    for i in inp_str:\n",
      "\n",
      "        length_iterable += 1\n",
      "\n",
      "    print(length_iterable)\n",
      "\n"
     ]
    }
   ],
   "source": [
    "with open('f1.py') as f1:\n",
    "    for line in f1:\n",
    "        print(line)"
   ]
  },
  {
   "cell_type": "code",
   "execution_count": 41,
   "id": "91f742ef",
   "metadata": {
    "ExecuteTime": {
     "end_time": "2021-06-07T03:27:12.848019Z",
     "start_time": "2021-06-07T03:27:12.834182Z"
    }
   },
   "outputs": [
    {
     "name": "stdout",
     "output_type": "stream",
     "text": [
      "<class 'generator'>\n",
      "112\n"
     ]
    }
   ],
   "source": [
    "# Tuple comprehension creates a generator object\n",
    "g = (i for i in range(5000))\n",
    "print(type(g))\n",
    "print(sys.getsizeof(g))"
   ]
  },
  {
   "cell_type": "code",
   "execution_count": 42,
   "id": "55671ec4",
   "metadata": {
    "ExecuteTime": {
     "end_time": "2021-06-07T03:27:23.438183Z",
     "start_time": "2021-06-07T03:27:23.428441Z"
    }
   },
   "outputs": [
    {
     "name": "stdout",
     "output_type": "stream",
     "text": [
      "<class 'list'>\n",
      "43032\n"
     ]
    }
   ],
   "source": [
    "g = [i for i in range(5000)]\n",
    "print(type(g))\n",
    "print(sys.getsizeof(g))"
   ]
  },
  {
   "cell_type": "code",
   "execution_count": 5,
   "id": "1ec7db07",
   "metadata": {
    "ExecuteTime": {
     "end_time": "2021-06-07T03:33:38.586099Z",
     "start_time": "2021-06-07T03:33:38.571701Z"
    }
   },
   "outputs": [
    {
     "name": "stdout",
     "output_type": "stream",
     "text": [
      "This is f1 function\n"
     ]
    }
   ],
   "source": [
    "# Modules\n",
    "# Any .py file is called module\n",
    "a = 10\n",
    "b = 20\n",
    "def f1():\n",
    "    print('This is f1 function')\n",
    "f1()"
   ]
  },
  {
   "cell_type": "code",
   "execution_count": null,
   "id": "f798df8a",
   "metadata": {},
   "outputs": [],
   "source": [
    "# Types of module \n",
    "    1. Builtin module - math, sys, os, pickle, random etc\n",
    "    2. User-defined module - .py"
   ]
  },
  {
   "cell_type": "code",
   "execution_count": 1,
   "id": "241dd02b",
   "metadata": {
    "ExecuteTime": {
     "end_time": "2021-06-07T03:30:37.448532Z",
     "start_time": "2021-06-07T03:30:37.433096Z"
    }
   },
   "outputs": [
    {
     "name": "stdout",
     "output_type": "stream",
     "text": [
      "['In', 'Out', '_', '__', '___', '__builtin__', '__builtins__', '__doc__', '__loader__', '__name__', '__package__', '__spec__', '_dh', '_i', '_i1', '_ih', '_ii', '_iii', '_oh', 'exit', 'get_ipython', 'quit']\n",
      "\n",
      "['In', 'Out', '_', '__', '___', '__builtin__', '__builtins__', '__doc__', '__loader__', '__name__', '__package__', '__spec__', '_dh', '_i', '_i1', '_ih', '_ii', '_iii', '_oh', 'exit', 'get_ipython', 'math', 'quit']\n"
     ]
    }
   ],
   "source": [
    "print(dir())\n",
    "import math\n",
    "print()\n",
    "print(dir())"
   ]
  },
  {
   "cell_type": "code",
   "execution_count": 3,
   "id": "09739633",
   "metadata": {
    "ExecuteTime": {
     "end_time": "2021-06-07T03:32:19.935348Z",
     "start_time": "2021-06-07T03:32:19.928240Z"
    }
   },
   "outputs": [
    {
     "name": "stdout",
     "output_type": "stream",
     "text": [
      "['__doc__', '__file__', '__loader__', '__name__', '__package__', '__spec__', 'acos', 'acosh', 'asin', 'asinh', 'atan', 'atan2', 'atanh', 'ceil', 'comb', 'copysign', 'cos', 'cosh', 'degrees', 'dist', 'e', 'erf', 'erfc', 'exp', 'expm1', 'fabs', 'factorial', 'floor', 'fmod', 'frexp', 'fsum', 'gamma', 'gcd', 'hypot', 'inf', 'isclose', 'isfinite', 'isinf', 'isnan', 'isqrt', 'ldexp', 'lgamma', 'log', 'log10', 'log1p', 'log2', 'modf', 'nan', 'perm', 'pi', 'pow', 'prod', 'radians', 'remainder', 'sin', 'sinh', 'sqrt', 'tan', 'tanh', 'tau', 'trunc']\n"
     ]
    }
   ],
   "source": [
    "print(dir(math))"
   ]
  },
  {
   "cell_type": "code",
   "execution_count": 4,
   "id": "ed4821bb",
   "metadata": {
    "ExecuteTime": {
     "end_time": "2021-06-07T03:32:27.231954Z",
     "start_time": "2021-06-07T03:32:27.226702Z"
    }
   },
   "outputs": [
    {
     "name": "stdout",
     "output_type": "stream",
     "text": [
      "['ArithmeticError', 'AssertionError', 'AttributeError', 'BaseException', 'BlockingIOError', 'BrokenPipeError', 'BufferError', 'BytesWarning', 'ChildProcessError', 'ConnectionAbortedError', 'ConnectionError', 'ConnectionRefusedError', 'ConnectionResetError', 'DeprecationWarning', 'EOFError', 'Ellipsis', 'EnvironmentError', 'Exception', 'False', 'FileExistsError', 'FileNotFoundError', 'FloatingPointError', 'FutureWarning', 'GeneratorExit', 'IOError', 'ImportError', 'ImportWarning', 'IndentationError', 'IndexError', 'InterruptedError', 'IsADirectoryError', 'KeyError', 'KeyboardInterrupt', 'LookupError', 'MemoryError', 'ModuleNotFoundError', 'NameError', 'None', 'NotADirectoryError', 'NotImplemented', 'NotImplementedError', 'OSError', 'OverflowError', 'PendingDeprecationWarning', 'PermissionError', 'ProcessLookupError', 'RecursionError', 'ReferenceError', 'ResourceWarning', 'RuntimeError', 'RuntimeWarning', 'StopAsyncIteration', 'StopIteration', 'SyntaxError', 'SyntaxWarning', 'SystemError', 'SystemExit', 'TabError', 'TimeoutError', 'True', 'TypeError', 'UnboundLocalError', 'UnicodeDecodeError', 'UnicodeEncodeError', 'UnicodeError', 'UnicodeTranslateError', 'UnicodeWarning', 'UserWarning', 'ValueError', 'Warning', 'ZeroDivisionError', '__IPYTHON__', '__build_class__', '__debug__', '__doc__', '__import__', '__loader__', '__name__', '__package__', '__spec__', 'abs', 'all', 'any', 'ascii', 'bin', 'bool', 'breakpoint', 'bytearray', 'bytes', 'callable', 'chr', 'classmethod', 'compile', 'complex', 'copyright', 'credits', 'delattr', 'dict', 'dir', 'display', 'divmod', 'enumerate', 'eval', 'exec', 'filter', 'float', 'format', 'frozenset', 'get_ipython', 'getattr', 'globals', 'hasattr', 'hash', 'help', 'hex', 'id', 'input', 'int', 'isinstance', 'issubclass', 'iter', 'len', 'license', 'list', 'locals', 'map', 'max', 'memoryview', 'min', 'next', 'object', 'oct', 'open', 'ord', 'pow', 'print', 'property', 'range', 'repr', 'reversed', 'round', 'set', 'setattr', 'slice', 'sorted', 'staticmethod', 'str', 'sum', 'super', 'tuple', 'type', 'vars', 'zip']\n"
     ]
    }
   ],
   "source": [
    "print(dir(__builtins__))"
   ]
  },
  {
   "cell_type": "code",
   "execution_count": 6,
   "id": "96587b9b",
   "metadata": {
    "ExecuteTime": {
     "end_time": "2021-06-07T03:33:45.464125Z",
     "start_time": "2021-06-07T03:33:45.457948Z"
    }
   },
   "outputs": [
    {
     "name": "stdout",
     "output_type": "stream",
     "text": [
      "['In', 'Out', '_', '__', '___', '__builtin__', '__builtins__', '__doc__', '__loader__', '__name__', '__package__', '__spec__', '_dh', '_i', '_i1', '_i2', '_i3', '_i4', '_i5', '_i6', '_ih', '_ii', '_iii', '_oh', 'a', 'b', 'exit', 'f1', 'get_ipython', 'math', 'quit']\n"
     ]
    }
   ],
   "source": [
    "print(dir())"
   ]
  },
  {
   "cell_type": "code",
   "execution_count": 9,
   "id": "0b5fc54b",
   "metadata": {
    "ExecuteTime": {
     "end_time": "2021-06-07T03:34:49.273118Z",
     "start_time": "2021-06-07T03:34:49.254767Z"
    }
   },
   "outputs": [
    {
     "data": {
      "text/plain": [
       "2.0"
      ]
     },
     "execution_count": 9,
     "metadata": {},
     "output_type": "execute_result"
    }
   ],
   "source": [
    "math.sqrt(4)"
   ]
  },
  {
   "cell_type": "code",
   "execution_count": 1,
   "id": "341ae3f0",
   "metadata": {
    "ExecuteTime": {
     "end_time": "2021-06-07T03:39:27.183640Z",
     "start_time": "2021-06-07T03:39:27.163927Z"
    }
   },
   "outputs": [
    {
     "name": "stdout",
     "output_type": "stream",
     "text": [
      "['In', 'Out', '_', '__', '___', '__builtin__', '__builtins__', '__doc__', '__loader__', '__name__', '__package__', '__spec__', '_dh', '_i', '_i1', '_ih', '_ii', '_iii', '_oh', 'exit', 'get_ipython', 'quit']\n",
      "\n",
      "['In', 'Out', '_', '__', '___', '__builtin__', '__builtins__', '__doc__', '__loader__', '__name__', '__package__', '__spec__', '_dh', '_i', '_i1', '_ih', '_ii', '_iii', '_oh', 'exit', 'get_ipython', 'log', 'quit', 'sin', 'sqrt']\n"
     ]
    }
   ],
   "source": [
    "# Alternate way of import\n",
    "print(dir())\n",
    "from math import sqrt, log, sin\n",
    "print()\n",
    "print(dir())\n"
   ]
  },
  {
   "cell_type": "code",
   "execution_count": 4,
   "id": "0438b911",
   "metadata": {
    "ExecuteTime": {
     "end_time": "2021-06-07T03:40:20.896800Z",
     "start_time": "2021-06-07T03:40:20.886557Z"
    }
   },
   "outputs": [
    {
     "data": {
      "text/plain": [
       "2.0"
      ]
     },
     "execution_count": 4,
     "metadata": {},
     "output_type": "execute_result"
    }
   ],
   "source": [
    "log(2)\n",
    "sin(10)\n",
    "sqrt(4)"
   ]
  },
  {
   "cell_type": "code",
   "execution_count": 1,
   "id": "dfc24dab",
   "metadata": {
    "ExecuteTime": {
     "end_time": "2021-06-07T03:40:59.149731Z",
     "start_time": "2021-06-07T03:40:59.116540Z"
    }
   },
   "outputs": [
    {
     "name": "stdout",
     "output_type": "stream",
     "text": [
      "['In', 'Out', '_', '__', '___', '__builtin__', '__builtins__', '__doc__', '__loader__', '__name__', '__package__', '__spec__', '_dh', '_i', '_i1', '_ih', '_ii', '_iii', '_oh', 'exit', 'get_ipython', 'quit']\n",
      "\n",
      "['In', 'Out', '_', '__', '___', '__builtin__', '__builtins__', '__doc__', '__loader__', '__name__', '__package__', '__spec__', '_dh', '_i', '_i1', '_ih', '_ii', '_iii', '_oh', 'exit', 'get_ipython', 'm', 'quit']\n"
     ]
    }
   ],
   "source": [
    "# Another way\n",
    "print(dir())\n",
    "import math as mt\n",
    "import numpy as np\n",
    "print()\n",
    "print(dir())"
   ]
  },
  {
   "cell_type": "code",
   "execution_count": 3,
   "id": "aa58ddca",
   "metadata": {
    "ExecuteTime": {
     "end_time": "2021-06-07T03:41:28.483313Z",
     "start_time": "2021-06-07T03:41:28.464546Z"
    }
   },
   "outputs": [
    {
     "data": {
      "text/plain": [
       "2.23606797749979"
      ]
     },
     "execution_count": 3,
     "metadata": {},
     "output_type": "execute_result"
    }
   ],
   "source": [
    "# m.sqrt(5)"
   ]
  },
  {
   "cell_type": "code",
   "execution_count": 4,
   "id": "a12e81d3",
   "metadata": {
    "ExecuteTime": {
     "end_time": "2021-06-07T03:41:56.943504Z",
     "start_time": "2021-06-07T03:41:56.930771Z"
    }
   },
   "outputs": [
    {
     "name": "stdout",
     "output_type": "stream",
     "text": [
      "['In', 'Out', '_', '_3', '__', '___', '__builtin__', '__builtins__', '__doc__', '__loader__', '__name__', '__package__', '__spec__', '_dh', '_i', '_i1', '_i2', '_i3', '_i4', '_ih', '_ii', '_iii', '_oh', 'exit', 'get_ipython', 'm', 'quit']\n",
      "\n",
      "['In', 'Out', '_', '_3', '__', '___', '__builtin__', '__builtins__', '__doc__', '__loader__', '__name__', '__package__', '__spec__', '_dh', '_i', '_i1', '_i2', '_i3', '_i4', '_ih', '_ii', '_iii', '_oh', 'acos', 'acosh', 'asin', 'asinh', 'atan', 'atan2', 'atanh', 'ceil', 'comb', 'copysign', 'cos', 'cosh', 'degrees', 'dist', 'e', 'erf', 'erfc', 'exit', 'exp', 'expm1', 'fabs', 'factorial', 'floor', 'fmod', 'frexp', 'fsum', 'gamma', 'gcd', 'get_ipython', 'hypot', 'inf', 'isclose', 'isfinite', 'isinf', 'isnan', 'isqrt', 'ldexp', 'lgamma', 'log', 'log10', 'log1p', 'log2', 'm', 'modf', 'nan', 'perm', 'pi', 'pow', 'prod', 'quit', 'radians', 'remainder', 'sin', 'sinh', 'sqrt', 'tan', 'tanh', 'tau', 'trunc']\n"
     ]
    }
   ],
   "source": [
    "# Another way\n",
    "print(dir())\n",
    "from math import *\n",
    "print()\n",
    "print(dir())"
   ]
  },
  {
   "cell_type": "markdown",
   "id": "c28d05a4",
   "metadata": {
    "ExecuteTime": {
     "end_time": "2021-06-07T03:49:57.876837Z",
     "start_time": "2021-06-07T03:49:57.869170Z"
    }
   },
   "source": [
    "# User defined module"
   ]
  },
  {
   "cell_type": "code",
   "execution_count": 1,
   "id": "28b9d0fe",
   "metadata": {
    "ExecuteTime": {
     "end_time": "2021-06-07T03:51:50.411709Z",
     "start_time": "2021-06-07T03:51:50.386831Z"
    }
   },
   "outputs": [
    {
     "name": "stdout",
     "output_type": "stream",
     "text": [
      "['In', 'Out', '_', '__', '___', '__builtin__', '__builtins__', '__doc__', '__loader__', '__name__', '__package__', '__spec__', '_dh', '_i', '_i1', '_ih', '_ii', '_iii', '_oh', 'exit', 'get_ipython', 'quit']\n",
      "\n",
      "['In', 'Out', '_', '__', '___', '__builtin__', '__builtins__', '__doc__', '__loader__', '__name__', '__package__', '__spec__', '_dh', '_i', '_i1', '_ih', '_ii', '_iii', '_oh', 'exit', 'get_ipython', 'my_file', 'quit']\n"
     ]
    }
   ],
   "source": [
    "print(dir())\n",
    "import my_file\n",
    "print()\n",
    "print(dir())"
   ]
  },
  {
   "cell_type": "code",
   "execution_count": 2,
   "id": "bb599f89",
   "metadata": {
    "ExecuteTime": {
     "end_time": "2021-06-07T03:52:08.320360Z",
     "start_time": "2021-06-07T03:52:08.312275Z"
    }
   },
   "outputs": [
    {
     "name": "stdout",
     "output_type": "stream",
     "text": [
      "Valid email id\n"
     ]
    }
   ],
   "source": [
    "my_file.email_verify('Abc@gmail.com')"
   ]
  },
  {
   "cell_type": "code",
   "execution_count": 1,
   "id": "f9872df7",
   "metadata": {
    "ExecuteTime": {
     "end_time": "2021-06-07T03:54:19.774419Z",
     "start_time": "2021-06-07T03:54:19.755218Z"
    }
   },
   "outputs": [
    {
     "name": "stdout",
     "output_type": "stream",
     "text": [
      "['In', 'Out', '_', '__', '___', '__builtin__', '__builtins__', '__doc__', '__loader__', '__name__', '__package__', '__spec__', '_dh', '_i', '_i1', '_ih', '_ii', '_iii', '_oh', 'exit', 'get_ipython', 'quit']\n",
      "\n",
      "['In', 'Out', '_', '__', '___', '__builtin__', '__builtins__', '__doc__', '__loader__', '__name__', '__package__', '__spec__', '_dh', '_i', '_i1', '_ih', '_ii', '_iii', '_oh', 'exit', 'get_ipython', 'my_file', 'quit']\n"
     ]
    }
   ],
   "source": [
    "print(dir())\n",
    "import my_file\n",
    "print()\n",
    "print(dir())"
   ]
  },
  {
   "cell_type": "code",
   "execution_count": 2,
   "id": "3a875c76",
   "metadata": {
    "ExecuteTime": {
     "end_time": "2021-06-07T03:54:34.817030Z",
     "start_time": "2021-06-07T03:54:34.810512Z"
    }
   },
   "outputs": [
    {
     "name": "stdout",
     "output_type": "stream",
     "text": [
      "['In', 'Out', '_', '__', '___', '__builtin__', '__builtins__', '__doc__', '__loader__', '__name__', '__package__', '__spec__', '_dh', '_i', '_i1', '_i2', '_ih', '_ii', '_iii', '_oh', 'exit', 'get_ipython', 'my_file', 'quit']\n"
     ]
    }
   ],
   "source": [
    "print(dir())"
   ]
  },
  {
   "cell_type": "code",
   "execution_count": 3,
   "id": "07548ab1",
   "metadata": {
    "ExecuteTime": {
     "end_time": "2021-06-07T03:54:50.047297Z",
     "start_time": "2021-06-07T03:54:50.040144Z"
    }
   },
   "outputs": [
    {
     "name": "stdout",
     "output_type": "stream",
     "text": [
      "__main__\n"
     ]
    }
   ],
   "source": [
    "print(__name__)"
   ]
  },
  {
   "cell_type": "code",
   "execution_count": 1,
   "id": "8e73f0fb",
   "metadata": {
    "ExecuteTime": {
     "end_time": "2021-06-07T03:56:38.273094Z",
     "start_time": "2021-06-07T03:56:38.239330Z"
    }
   },
   "outputs": [
    {
     "name": "stdout",
     "output_type": "stream",
     "text": [
      "['In', 'Out', '_', '__', '___', '__builtin__', '__builtins__', '__doc__', '__loader__', '__name__', '__package__', '__spec__', '_dh', '_i', '_i1', '_ih', '_ii', '_iii', '_oh', 'exit', 'get_ipython', 'quit']\n",
      "my_file\n",
      "\n",
      "['In', 'Out', '_', '__', '___', '__builtin__', '__builtins__', '__doc__', '__loader__', '__name__', '__package__', '__spec__', '_dh', '_i', '_i1', '_ih', '_ii', '_iii', '_oh', 'exit', 'get_ipython', 'my_file', 'quit']\n"
     ]
    }
   ],
   "source": [
    "print(dir())\n",
    "import my_file\n",
    "print()\n",
    "print(dir())"
   ]
  },
  {
   "cell_type": "code",
   "execution_count": 7,
   "id": "a088ee4e",
   "metadata": {
    "ExecuteTime": {
     "end_time": "2021-06-07T04:13:16.384271Z",
     "start_time": "2021-06-07T04:13:16.376584Z"
    }
   },
   "outputs": [
    {
     "name": "stdout",
     "output_type": "stream",
     "text": [
      "[111, 11]\n",
      "[10, 11]\n"
     ]
    }
   ],
   "source": [
    "a = [10, 11]\n",
    "def f1():\n",
    "    a = [10, 11]\n",
    "    a[0] = 111\n",
    "    print(a)\n",
    "f1()\n",
    "print(a)"
   ]
  },
  {
   "cell_type": "code",
   "execution_count": null,
   "id": "e8a0c0f7",
   "metadata": {},
   "outputs": [],
   "source": [
    "a = 10"
   ]
  },
  {
   "cell_type": "code",
   "execution_count": null,
   "id": "9a25ed1f",
   "metadata": {},
   "outputs": [],
   "source": [
    "[\n",
    "    [[0,0,0,0,0,0],[],[],[]],\n",
    "    [[],[],[],[]],\n",
    "    [[],[],[],[]]\n",
    "]"
   ]
  },
  {
   "cell_type": "code",
   "execution_count": 12,
   "id": "88e45b4b",
   "metadata": {
    "ExecuteTime": {
     "end_time": "2021-06-07T04:21:41.285899Z",
     "start_time": "2021-06-07T04:21:41.249377Z"
    }
   },
   "outputs": [
    {
     "data": {
      "text/plain": [
       "[[[0, 0, 0, 0, 0, 0],\n",
       "  [0, 0, 0, 0, 0, 0],\n",
       "  [0, 0, 0, 0, 0, 0],\n",
       "  [0, 0, 0, 0, 0, 0]],\n",
       " [[0, 0, 0, 0, 0, 0],\n",
       "  [1, 1, 1, 1, 1, 1],\n",
       "  [2, 2, 2, 2, 2, 2],\n",
       "  [3, 3, 3, 3, 3, 3]],\n",
       " [[0, 0, 0, 0, 0, 0],\n",
       "  [2, 2, 2, 2, 2, 2],\n",
       "  [4, 4, 4, 4, 4, 4],\n",
       "  [6, 6, 6, 6, 6, 6]]]"
      ]
     },
     "execution_count": 12,
     "metadata": {},
     "output_type": "execute_result"
    }
   ],
   "source": [
    "out_lst = []\n",
    "for i in range(3):\n",
    "    in_lst1 = []\n",
    "    for j in range(4):\n",
    "        in_lst2 = []\n",
    "        for k in range(6):\n",
    "            in_lst2.append(i*j)\n",
    "        in_lst1.append(in_lst2)\n",
    "    out_lst.append(in_lst1)\n",
    "out_lst"
   ]
  },
  {
   "cell_type": "code",
   "execution_count": 17,
   "id": "07e73499",
   "metadata": {
    "ExecuteTime": {
     "end_time": "2021-06-07T04:25:54.477208Z",
     "start_time": "2021-06-07T04:25:54.455603Z"
    }
   },
   "outputs": [
    {
     "data": {
      "text/plain": [
       "[[[0, 0, 0, 0, 0, 0],\n",
       "  [0, 0, 0, 0, 0, 0],\n",
       "  [0, 0, 0, 0, 0, 0],\n",
       "  [0, 0, 0, 0, 0, 0]],\n",
       " [[0, 0, 0, 0, 0, 0],\n",
       "  [1, 1, 1, 1, 1, 1],\n",
       "  [2, 2, 2, 2, 2, 2],\n",
       "  [3, 3, 3, 3, 3, 3]],\n",
       " [[0, 0, 0, 0, 0, 0],\n",
       "  [2, 2, 2, 2, 2, 2],\n",
       "  [4, 4, 4, 4, 4, 4],\n",
       "  [6, 6, 6, 6, 6, 6]]]"
      ]
     },
     "execution_count": 17,
     "metadata": {},
     "output_type": "execute_result"
    }
   ],
   "source": [
    "\n",
    "lst1 = []\n",
    "\n",
    "\n",
    "i = 0\n",
    "j = 0\n",
    "k = 0\n",
    "while i < 3:\n",
    "    lst2 = []\n",
    "    while j < 4:\n",
    "        lst3 = []\n",
    "        while k < 6:\n",
    "            lst3.append(i*j)\n",
    "            k+=1\n",
    "        lst2.append(lst3)\n",
    "        j +=1\n",
    "        k = 0\n",
    "        lst3 = []\n",
    "    lst1.append(lst2) \n",
    "    i+=1\n",
    "    j = 0\n",
    "    lst2 = []      \n",
    "lst1"
   ]
  },
  {
   "cell_type": "code",
   "execution_count": null,
   "id": "6277b93e",
   "metadata": {},
   "outputs": [],
   "source": []
  },
  {
   "cell_type": "code",
   "execution_count": null,
   "id": "178daac9",
   "metadata": {},
   "outputs": [],
   "source": []
  },
  {
   "cell_type": "code",
   "execution_count": null,
   "id": "ce262366",
   "metadata": {},
   "outputs": [],
   "source": []
  },
  {
   "cell_type": "code",
   "execution_count": null,
   "id": "5f9bea53",
   "metadata": {},
   "outputs": [],
   "source": []
  }
 ],
 "metadata": {
  "kernelspec": {
   "display_name": "Python 3",
   "language": "python",
   "name": "python3"
  },
  "language_info": {
   "codemirror_mode": {
    "name": "ipython",
    "version": 3
   },
   "file_extension": ".py",
   "mimetype": "text/x-python",
   "name": "python",
   "nbconvert_exporter": "python",
   "pygments_lexer": "ipython3",
   "version": "3.8.8"
  }
 },
 "nbformat": 4,
 "nbformat_minor": 5
}
