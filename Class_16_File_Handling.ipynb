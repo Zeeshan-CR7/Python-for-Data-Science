{
 "cells": [
  {
   "cell_type": "code",
   "execution_count": null,
   "id": "36a5ee0c",
   "metadata": {},
   "outputs": [],
   "source": [
    "# File Handling\n",
    "    1. Text File - .txt, .csv, .py\n",
    "    2. Binary File - pdf, jpeg, .png, .dat"
   ]
  },
  {
   "cell_type": "code",
   "execution_count": null,
   "id": "1e6127a6",
   "metadata": {},
   "outputs": [],
   "source": [
    "# Open a file\n",
    "# Operations on file - read, write\n",
    "# Closing of the file"
   ]
  },
  {
   "cell_type": "code",
   "execution_count": null,
   "id": "9e18b651",
   "metadata": {},
   "outputs": [],
   "source": [
    "# To open a file - open('Filename.ext', 'mode')\n",
    "# open() - will return a file object\n",
    "# Operations are done on file object\n",
    "f = open('FIleName.ext', 'mode')\n",
    "f.write('Hello')\n",
    "f.read()\n",
    "f.seek(0)\n",
    "f.tell()\n",
    "f.close()"
   ]
  },
  {
   "cell_type": "code",
   "execution_count": null,
   "id": "75053ec4",
   "metadata": {},
   "outputs": [],
   "source": [
    "# Modes of operation on text file\n",
    "Read mode - 'r'\n",
    "Write mode - 'w'\n",
    "Append mode - 'a'\n",
    "Read and write - 'r+'\n",
    "Write and read mode - 'w+'\n",
    "Append and read mode - 'a+'\n",
    "\n",
    "# Modes of operation on Binary file\n",
    "Read mode - 'rb'\n",
    "Write mode - 'wb'\n",
    "Append mode - 'ab'\n",
    "Read and write - 'r+b'\n",
    "Write and read mode - 'w+b'\n",
    "Append and read mode - 'a+b'\n",
    "\n",
    "\n"
   ]
  },
  {
   "cell_type": "code",
   "execution_count": 5,
   "id": "f4125a9a",
   "metadata": {
    "ExecuteTime": {
     "end_time": "2021-06-08T02:59:30.844563Z",
     "start_time": "2021-06-08T02:59:30.839094Z"
    }
   },
   "outputs": [],
   "source": [
    "# read mode - 'r'\n",
    "# If file already exist then it opens the file in read mode and places the cursor in the begning of the file.\n",
    "# IF file does not exist then it will give FileNotFoundError\n",
    "# In this mode of operation you are allowed only to read from the file not allowed to write into the file.\n",
    "\n",
    "# f = open('my_file.py', 'r')\n",
    "# print(f.tell())\n",
    "# content = f.read()\n",
    "# print(content)\n",
    "# print(type(content))\n",
    "# print(f.tell())\n",
    "# f.close()\n",
    "\n",
    "\n",
    "# f = open('my_file.txt', 'r')\n",
    "# print(f.tell())\n",
    "# content = f.read()\n",
    "# print(content)\n",
    "# print(type(content))\n",
    "# print(f.tell())\n",
    "# f.close()\n",
    "\n",
    "# f = open('my_file.py', 'r')\n",
    "# f.write('Hello')\n",
    "# f.close()\n",
    "\n",
    "# read and write mode - 'r+'\n",
    "# If file already exist then it opens the file in read mode and places the cursor in the begning of the file.\n",
    "# IF file does not exist then it will give FileNotFoundError\n",
    "# In this mode of operation you are allowed read and write both.\n",
    "\n",
    "# f = open('my_file.py', 'r+')\n",
    "# f.write('Hello')\n",
    "# f.close()\n",
    "\n",
    "\n"
   ]
  },
  {
   "cell_type": "code",
   "execution_count": 9,
   "id": "82c701bc",
   "metadata": {
    "ExecuteTime": {
     "end_time": "2021-06-08T03:09:52.187234Z",
     "start_time": "2021-06-08T03:09:52.170066Z"
    }
   },
   "outputs": [
    {
     "name": "stdout",
     "output_type": "stream",
     "text": [
      "0\n",
      "35\n",
      "Reading at last \n",
      "0\n",
      "Hello Python!!! Learnbay classes!!!\n"
     ]
    }
   ],
   "source": [
    "# Write mode - 'w'\n",
    "# If file already exist then it opens the file in write mode and places the cursor in the begning of the file.\n",
    "#     and deletes the content fo the file.\n",
    "# IF file does not exist then it will create a file with given name and extension\n",
    "# In this mode of operation you are allowed only to write into the file not allowed to read from the file.\n",
    "\n",
    "# f = open('f1.py', 'w')\n",
    "# print(f.tell())\n",
    "# f.write('Hello Python!!! Learnbay classes!!!')\n",
    "# print(f.tell())\n",
    "# f.close()\n",
    "\n",
    "# f = open('f2.py', 'w')\n",
    "# f.close()\n",
    "\n",
    "# f = open('f1.py', 'w')\n",
    "# print(f.tell())\n",
    "# f.write('Hello Python!!! Learnbay classes!!!')\n",
    "# print(f.tell())\n",
    "# f.seek(0)\n",
    "# print(f.tell())\n",
    "# print(f.read())\n",
    "# f.close()\n",
    "\n",
    "# Write and read mode - 'w+'\n",
    "# If file already exist then it opens the file in write mode and places the cursor in the begning of the file.\n",
    "#     and deletes the content fo the file.\n",
    "# IF file does not exist then it will create a file with given name and extension\n",
    "# In this mode of operation you are allowed read and write both.\n",
    "\n",
    "# f = open('f1.py', 'w+')\n",
    "# print(f.tell())\n",
    "# f.write('Hello Python!!! Learnbay classes!!!')\n",
    "# print(f.tell())\n",
    "# print('Reading at last', f.read())\n",
    "# f.seek(0)\n",
    "# print(f.tell())\n",
    "# print(f.read())\n",
    "# f.close()\n",
    "\n"
   ]
  },
  {
   "cell_type": "code",
   "execution_count": 15,
   "id": "6590032a",
   "metadata": {
    "ExecuteTime": {
     "end_time": "2021-06-08T03:15:44.182324Z",
     "start_time": "2021-06-08T03:15:44.170734Z"
    }
   },
   "outputs": [],
   "source": [
    "# Append mode - 'a'\n",
    "# If file already exist then it opens the file in write mode and places the cursor at the end of the file.\n",
    "# IF file does not exist then it will create a file with given name and extension\n",
    "# In this mode of operation you are allowed only to write into the file not allowed to read from the file.\n",
    "\n",
    "# f = open('f1.py', 'a')\n",
    "# print(f.tell())\n",
    "# f.write('\\n\\nHello Python!!! Learnbay classes!!!')\n",
    "# print(f.tell())\n",
    "# f.close()\n",
    "\n",
    "# f = open('f3.py', 'a)\n",
    "# f.close()\n",
    "\n",
    "# f = open('f1.py', 'a')\n",
    "# print(f.tell())\n",
    "# f.seek(0)\n",
    "# print(f.tell())\n",
    "# print(f.read())\n",
    "# f.close()\n",
    "\n",
    "# Append and read mode - 'a+'\n",
    "# If file already exist then it opens the file in write mode and places the cursor at the end of the file.\n",
    "# IF file does not exist then it will create a file with given name and extension\n",
    "# In this mode of operation you are allowed read and write both.\n",
    "\n",
    "# f = open('f1.py', 'a+')\n",
    "# print(f.tell())\n",
    "# f.seek(0)\n",
    "# print(f.tell())\n",
    "# print(f.read())\n",
    "# f.close()\n",
    "\n",
    "\n",
    "\n"
   ]
  },
  {
   "cell_type": "code",
   "execution_count": null,
   "id": "7b63fab2",
   "metadata": {},
   "outputs": [],
   "source": [
    "# Binary - file use the baove mode of operation rest all remain same."
   ]
  },
  {
   "cell_type": "code",
   "execution_count": null,
   "id": "90f74dd0",
   "metadata": {},
   "outputs": [],
   "source": [
    "# methods to read from the file\n",
    "1. read() - Reads the whole content of the file and returns a string object from curent cursor position\n",
    "2. read(no of char) - Reads specified no of characters from the file and returns a string object from current cursor position onwards.\n",
    "3. readline() - Reads the current line from curent cursor position and returns a string\n",
    "4. readlines() - Reads the whole content of teh file and returns a list of string where each string is one line from the file.\n",
    "# "
   ]
  },
  {
   "cell_type": "code",
   "execution_count": 20,
   "id": "410cbcab",
   "metadata": {
    "ExecuteTime": {
     "end_time": "2021-06-08T03:23:01.965864Z",
     "start_time": "2021-06-08T03:23:01.956482Z"
    }
   },
   "outputs": [
    {
     "name": "stdout",
     "output_type": "stream",
     "text": [
      "['import re\\n', 'def email_verify(email):\\n', \"    pattern = r'\\\\w+@\\\\w+\\\\.\\\\w+'\\n\", '    res = re.match(pattern, email)\\n', '    if res:\\n', \"        print('Valid email id')\\n\", '    else:\\n', \"        print('Invalid email id')\\n\", '        \\n', 'def password_check(pwd):\\n', \"    pattern = r'[A-Za-z0-9*&^%$#@!]{6,12}'\\n\", '    res = re.search(pattern, pwd)\\n', '    if res:\\n', \"        print('Valid password')\\n\", '    else:\\n', \"        print('Invalid password')\\n\", 'print(__name__)\\n', \"if __name__ == '__main__':\\n\", \"    email_verify('Abc@gmail.com')\\n\", \"    password_check('ABC')\\n\", '\\n', 'Hello Python!!! Learnbay classes!!!']\n"
     ]
    }
   ],
   "source": [
    "f = open('f1.py', 'r')\n",
    "# content = f.read()\n",
    "# print(content)\n",
    "# print(f.read(100))\n",
    "# f.seek(105)\n",
    "# print(f.readline())\n",
    "# print(f.readlines())\n",
    "f.close()"
   ]
  },
  {
   "cell_type": "code",
   "execution_count": 22,
   "id": "8f352f7f",
   "metadata": {
    "ExecuteTime": {
     "end_time": "2021-06-08T03:26:50.078936Z",
     "start_time": "2021-06-08T03:26:50.072639Z"
    }
   },
   "outputs": [],
   "source": [
    "# # methods to write into the file\n",
    "# # write('Str1\\nstr2\\n') - it writes the content to the file\n",
    "# # writelines(['str1\\n', 'str2\\n', 'str3\\n']) - it writes the content to the file each string is written into next line\n",
    "\n",
    "# f = open('f2.py', 'w')\n",
    "# # f.write('Hello Python!!! Learnbay classes!!!')\n",
    "# f.writelines(['import re\\n', 'def email_verify(email):\\n', \"    pattern = r'\\\\w+@\\\\w+\\\\.\\\\w+'\\n\", '    res = re.match(pattern, email)\\n', '    if res:\\n', \"        print('Valid email id')\\n\", '    else:\\n', \"        print('Invalid email id')\\n\", '        \\n', 'def password_check(pwd):\\n', \"    pattern = r'[A-Za-z0-9*&^%$#@!]{6,12}'\\n\", '    res = re.search(pattern, pwd)\\n', '    if res:\\n', \"        print('Valid password')\\n\", '    else:\\n', \"        print('Invalid password')\\n\", 'print(__name__)\\n', \"if __name__ == '__main__':\\n\", \"    email_verify('Abc@gmail.com')\\n\", \"    password_check('ABC')\\n\", '\\n', 'Hello Python!!! Learnbay classes!!!'])\n",
    "# f.close()\n",
    "\n"
   ]
  },
  {
   "cell_type": "code",
   "execution_count": 25,
   "id": "beec2095",
   "metadata": {
    "ExecuteTime": {
     "end_time": "2021-06-08T03:31:37.305261Z",
     "start_time": "2021-06-08T03:31:37.276258Z"
    }
   },
   "outputs": [
    {
     "name": "stdout",
     "output_type": "stream",
     "text": [
      "import re\n",
      "def email_verify(email):\n",
      "    pattern = r'\\w+@\\w+\\.\\w+'\n",
      "    res = re.match(pattern, email)\n",
      "    if res:\n",
      "        print('Valid email id')\n",
      "    else:\n",
      "        print('Invalid email id')\n",
      "        \n",
      "def password_check(pwd):\n",
      "    pattern = r'[A-Za-z0-9*&^%$#@!]{6,12}'\n",
      "    res = re.search(pattern, pwd)\n",
      "    if res:\n",
      "        print('Valid password')\n",
      "    else:\n",
      "        print('Invalid password')\n",
      "print(__name__)\n",
      "if __name__ == '__main__':\n",
      "    email_verify('Abc@gmail.com')\n",
      "    password_check('ABC')\n",
      "\n",
      "Hello Python!!! Learnbay classes!!!\n",
      "\n"
     ]
    },
    {
     "ename": "AttributeError",
     "evalue": "'_io.TextIOWrapper' object has no attribute 'split'",
     "output_type": "error",
     "traceback": [
      "\u001b[0;31m---------------------------------------------------------------------------\u001b[0m",
      "\u001b[0;31mAttributeError\u001b[0m                            Traceback (most recent call last)",
      "\u001b[0;32m<ipython-input-25-bc6f70cfb142>\u001b[0m in \u001b[0;36m<module>\u001b[0;34m\u001b[0m\n\u001b[1;32m      2\u001b[0m \u001b[0mprint\u001b[0m\u001b[0;34m(\u001b[0m\u001b[0mf\u001b[0m\u001b[0;34m.\u001b[0m\u001b[0mread\u001b[0m\u001b[0;34m(\u001b[0m\u001b[0;34m)\u001b[0m\u001b[0;34m)\u001b[0m\u001b[0;34m\u001b[0m\u001b[0;34m\u001b[0m\u001b[0m\n\u001b[1;32m      3\u001b[0m \u001b[0mf\u001b[0m\u001b[0;34m.\u001b[0m\u001b[0mwrite\u001b[0m\u001b[0;34m(\u001b[0m\u001b[0;34m'\\n\\nThis is 16th Class on Python'\u001b[0m\u001b[0;34m)\u001b[0m\u001b[0;34m\u001b[0m\u001b[0;34m\u001b[0m\u001b[0m\n\u001b[0;32m----> 4\u001b[0;31m \u001b[0mf\u001b[0m\u001b[0;34m.\u001b[0m\u001b[0msplit\u001b[0m\u001b[0;34m(\u001b[0m\u001b[0;34m)\u001b[0m\u001b[0;34m\u001b[0m\u001b[0;34m\u001b[0m\u001b[0m\n\u001b[0m\u001b[1;32m      5\u001b[0m \u001b[0mf\u001b[0m\u001b[0;34m.\u001b[0m\u001b[0mclose\u001b[0m\u001b[0;34m(\u001b[0m\u001b[0;34m)\u001b[0m\u001b[0;34m\u001b[0m\u001b[0;34m\u001b[0m\u001b[0m\n",
      "\u001b[0;31mAttributeError\u001b[0m: '_io.TextIOWrapper' object has no attribute 'split'"
     ]
    }
   ],
   "source": [
    "\n",
    "f = open('f2.py', 'r+')\n",
    "print(f.read())\n",
    "f.write('\\n\\nThis is 16th Class on Python')\n",
    "f.split()\n",
    "f.close()"
   ]
  },
  {
   "cell_type": "code",
   "execution_count": 27,
   "id": "f716de8d",
   "metadata": {
    "ExecuteTime": {
     "end_time": "2021-06-08T03:33:56.513077Z",
     "start_time": "2021-06-08T03:33:56.491876Z"
    }
   },
   "outputs": [
    {
     "name": "stdout",
     "output_type": "stream",
     "text": [
      "import re\n",
      "def email_verify(email):\n",
      "    pattern = r'\\w+@\\w+\\.\\w+'\n",
      "    res = re.match(pattern, email)\n",
      "    if res:\n",
      "        print('Valid email id')\n",
      "    else:\n",
      "        print('Invalid email id')\n",
      "        \n",
      "def password_check(pwd):\n",
      "    pattern = r'[A-Za-z0-9*&^%$#@!]{6,12}'\n",
      "    res = re.search(pattern, pwd)\n",
      "    if res:\n",
      "        print('Valid password')\n",
      "    else:\n",
      "        print('Invalid password')\n",
      "print(__name__)\n",
      "if __name__ == '__main__':\n",
      "    email_verify('Abc@gmail.com')\n",
      "    password_check('ABC')\n",
      "\n",
      "Hello Python!!! Learnbay classes!!!\n"
     ]
    },
    {
     "ename": "AttributeError",
     "evalue": "'_io.TextIOWrapper' object has no attribute 'split'",
     "output_type": "error",
     "traceback": [
      "\u001b[0;31m---------------------------------------------------------------------------\u001b[0m",
      "\u001b[0;31mAttributeError\u001b[0m                            Traceback (most recent call last)",
      "\u001b[0;32m<ipython-input-27-71495d34c832>\u001b[0m in \u001b[0;36m<module>\u001b[0;34m\u001b[0m\n\u001b[1;32m      3\u001b[0m     \u001b[0mprint\u001b[0m\u001b[0;34m(\u001b[0m\u001b[0mf\u001b[0m\u001b[0;34m.\u001b[0m\u001b[0mread\u001b[0m\u001b[0;34m(\u001b[0m\u001b[0;34m)\u001b[0m\u001b[0;34m)\u001b[0m\u001b[0;34m\u001b[0m\u001b[0;34m\u001b[0m\u001b[0m\n\u001b[1;32m      4\u001b[0m     \u001b[0mf\u001b[0m\u001b[0;34m.\u001b[0m\u001b[0mwrite\u001b[0m\u001b[0;34m(\u001b[0m\u001b[0;34m'\\n\\nThis is 16th Class on Python'\u001b[0m\u001b[0;34m)\u001b[0m\u001b[0;34m\u001b[0m\u001b[0;34m\u001b[0m\u001b[0m\n\u001b[0;32m----> 5\u001b[0;31m     \u001b[0mf\u001b[0m\u001b[0;34m.\u001b[0m\u001b[0msplit\u001b[0m\u001b[0;34m(\u001b[0m\u001b[0;34m)\u001b[0m\u001b[0;34m\u001b[0m\u001b[0;34m\u001b[0m\u001b[0m\n\u001b[0m\u001b[1;32m      6\u001b[0m \u001b[0;34m\u001b[0m\u001b[0m\n\u001b[1;32m      7\u001b[0m \u001b[0;34m\u001b[0m\u001b[0m\n",
      "\u001b[0;31mAttributeError\u001b[0m: '_io.TextIOWrapper' object has no attribute 'split'"
     ]
    }
   ],
   "source": [
    "# with statement\n",
    "with open('f2.py', 'r+') as f:\n",
    "    print(f.read())\n",
    "    f.write('\\n\\nThis is 16th Class on Python')\n",
    "    f.split()\n",
    "\n",
    "\n"
   ]
  },
  {
   "cell_type": "code",
   "execution_count": 29,
   "id": "0407ce3a",
   "metadata": {
    "ExecuteTime": {
     "end_time": "2021-06-08T03:50:19.225078Z",
     "start_time": "2021-06-08T03:50:19.216485Z"
    }
   },
   "outputs": [
    {
     "name": "stdout",
     "output_type": "stream",
     "text": [
      "8\n"
     ]
    }
   ],
   "source": [
    "# Write a function in Python to count uppercase character in a text file.\n",
    "f = open('f1.txt','r+')\n",
    "con = f.read()\n",
    "a = len(con)\n",
    "count = 0\n",
    "for i in range(a):\n",
    "    if con[i].isupper():\n",
    "        count+=1\n",
    "print(count)\n",
    "f.close()\n"
   ]
  },
  {
   "cell_type": "code",
   "execution_count": 30,
   "id": "8821bcfe",
   "metadata": {
    "ExecuteTime": {
     "end_time": "2021-06-08T03:50:53.972466Z",
     "start_time": "2021-06-08T03:50:53.950407Z"
    }
   },
   "outputs": [
    {
     "name": "stdout",
     "output_type": "stream",
     "text": [
      "730\n"
     ]
    }
   ],
   "source": [
    "# Write a function in Python to count lowercase character in a text file.\n",
    "f = open('f1.txt','r+')\n",
    "con = f.read()\n",
    "a = len(con)\n",
    "count = 0\n",
    "for i in range(a):\n",
    "    if con[i].islower():\n",
    "        count+=1\n",
    "print(count)\n",
    "f.close()"
   ]
  },
  {
   "cell_type": "code",
   "execution_count": null,
   "id": "df1074c9",
   "metadata": {},
   "outputs": [],
   "source": [
    "Lorem ipsum dolor sit amet, consectetur adipiscing elit, sed do eiusmod tempor incididunt ut labore et dolore magna aliqua. \n",
    "Ut enim ad minim veniam, quis nostrud exercitation ullamco laboris nisi ut aliquip ex ea commodo consequat. \n",
    "Duis aute irure dolor in reprehenderit in voluptate velit esse cillum dolore eu fugiat nulla pariatur. \n",
    "Excepteur sint occaecat cupidatat non proident, sunt in culpa qui officia deserunt mollit anim id est laborum.\n",
    "Lorem ipsum dolor sit amet, consectetur adipiscing elit, sed do eiusmod tempor incididunt ut labore et dolore magna aliqua. \n",
    "Ut enim ad minim veniam, quis nostrud exercitation ullamco laboris nisi ut aliquip ex ea commodo consequat. \n",
    "Duis aute irure dolor in reprehenderit in voluptate velit esse cillum dolore eu fugiat nulla pariatur. \n",
    "Excepteur sint occaecat cupidatat non proident, sunt in culpa qui officia deserunt mollit anim id est laborum.\n",
    "\n",
    "\n"
   ]
  },
  {
   "cell_type": "code",
   "execution_count": 31,
   "id": "3f79b276",
   "metadata": {
    "ExecuteTime": {
     "end_time": "2021-06-08T03:59:11.668696Z",
     "start_time": "2021-06-08T03:59:11.658287Z"
    }
   },
   "outputs": [
    {
     "name": "stdout",
     "output_type": "stream",
     "text": [
      "Total lines =  8\n",
      "Total words =  138\n",
      "Total characters =  897\n"
     ]
    }
   ],
   "source": [
    "# Count ot letters, words and lines from the file.\n",
    "\n",
    "f = open('f1.txt', 'r')\n",
    "l_lines = len(f.readlines())\n",
    "f.seek(0)\n",
    "w_count = len(f.read().split())\n",
    "f.seek(0)\n",
    "c_count = len(f.read())\n",
    "print('Total lines = ',l_lines)\n",
    "print('Total words = ',w_count)\n",
    "print('Total characters = ',c_count)\n",
    "f.close()\n",
    "\n"
   ]
  },
  {
   "cell_type": "code",
   "execution_count": 32,
   "id": "e47d7a54",
   "metadata": {
    "ExecuteTime": {
     "end_time": "2021-06-08T04:00:07.398242Z",
     "start_time": "2021-06-08T04:00:07.389520Z"
    }
   },
   "outputs": [],
   "source": [
    "# Copy the content of file from python.jpeg to new.png\n",
    "with open('python.jpeg', 'rb') as f1:\n",
    "    with open('new.png', 'wb') as f2:\n",
    "        f2.write(f1.read())\n",
    "\n"
   ]
  },
  {
   "cell_type": "code",
   "execution_count": null,
   "id": "c3898656",
   "metadata": {},
   "outputs": [],
   "source": [
    "# Exception handlng & Regex"
   ]
  },
  {
   "cell_type": "code",
   "execution_count": 40,
   "id": "8743b859",
   "metadata": {
    "ExecuteTime": {
     "end_time": "2021-06-08T04:13:48.329901Z",
     "start_time": "2021-06-08T04:13:48.311644Z"
    }
   },
   "outputs": [
    {
     "data": {
      "text/plain": [
       "{1: ['a'], 2: ['b', 'd'], 3: ['c']}"
      ]
     },
     "execution_count": 40,
     "metadata": {},
     "output_type": "execute_result"
    }
   ],
   "source": [
    "# Write a function invertDictionary(d) that takes in a dictionary as argument and return a dictionary that inverts the keys and the values of the original dictionary.\n",
    "# In - invertDictionary({'a':1, 'b':2, 'c':3, 'd':2})\n",
    "# Out - {1: ['a'], 2: ['b', 'd'], 3: ['c']}\n",
    "# In - invertDictionary({'a':3, 'b':3, 'c':3})\n",
    "# Out - {3: ['a', 'c', 'b']}\n",
    "# In - invertDictionary({'a':2, 'b':1, 'c':2, 'd':1})\n",
    "# Out - {1: ['b', 'd'], 2: ['a', 'c']}\n",
    "\n",
    "\n",
    "# from collections import defaultdict\n",
    "# def invert_dict(d):\n",
    "#     d1 = defaultdict(list)\n",
    "#     val_item = d.items()\n",
    "#     for k, v in val_item:\n",
    "#         d1[v].append(k)\n",
    "#     return d1\n",
    "\n",
    "# invert_dict({'a':1, 'b':2, 'c':3, 'd':2})\n",
    "\n",
    "# d1 = defaultdict(list)\n",
    "# list(map(lambda tpl:d1[tpl[-1]].append(tpl[0]),{'a':1, 'b':2, 'c':3, 'd':2}.items()))\n",
    "\n",
    "def invert_dict(d):\n",
    "    res_dict = {}\n",
    "    val_item = d.items()\n",
    "    for k, v in val_item:\n",
    "        if v in res_dict:\n",
    "            res_dict[v].append(k)\n",
    "        else:\n",
    "            res_dict[v] = [k]\n",
    "    return res_dict\n",
    "\n",
    "invert_dict({'a':1, 'b':2, 'c':3, 'd':2})\n"
   ]
  },
  {
   "cell_type": "code",
   "execution_count": 36,
   "id": "207fb72a",
   "metadata": {
    "ExecuteTime": {
     "end_time": "2021-06-08T04:07:36.975682Z",
     "start_time": "2021-06-08T04:07:36.960211Z"
    }
   },
   "outputs": [
    {
     "data": {
      "text/plain": [
       "defaultdict(list, {})"
      ]
     },
     "execution_count": 36,
     "metadata": {},
     "output_type": "execute_result"
    }
   ],
   "source": [
    "defaultdict(list)"
   ]
  },
  {
   "cell_type": "code",
   "execution_count": 44,
   "id": "4da72e64",
   "metadata": {
    "ExecuteTime": {
     "end_time": "2021-06-08T04:16:34.959672Z",
     "start_time": "2021-06-08T04:16:34.950027Z"
    }
   },
   "outputs": [
    {
     "name": "stdout",
     "output_type": "stream",
     "text": [
      "[0, 0, 0, 0, 0, 0, 0, 0, 0, 0, 0, 0]\n",
      "[1, 0, 0, 0, 0, 0, 0, 0, 0, 0, 0, 0]\n",
      "[1, 0, 0, 2, 0, 0, 0, 0, 0, 0, 0, 0]\n"
     ]
    }
   ],
   "source": [
    "# Write a function that converts a dictionary back to its sparse vector representation.\n",
    "# In - convertDictionary({0: 1, 3: 2, 7: 3, 12: 4})\n",
    "# Out - [1, 0, 0, 2, 0, 0, 0, 3, 0, 0, 0, 0, 4]\n",
    "# In - convertDictionary({0: 1, 2: 1, 4: 2, 6: 1, 9: 1})\n",
    "# Out - [1, 0, 1, 0, 2, 0, 1, 0, 0, 1]\n",
    "# In - convertDictionary({})\n",
    "# Out - []\n",
    "\n",
    "lst = [0] * 12\n",
    "print(lst)\n",
    "lst[0] = 1\n",
    "print(lst)\n",
    "lst[3] = 2\n",
    "print(lst)\n"
   ]
  },
  {
   "cell_type": "code",
   "execution_count": null,
   "id": "e04f96ef",
   "metadata": {},
   "outputs": [],
   "source": [
    "pickling\n",
    "Serialization and deserialization"
   ]
  },
  {
   "cell_type": "code",
   "execution_count": null,
   "id": "1f0cf9b7",
   "metadata": {},
   "outputs": [],
   "source": []
  },
  {
   "cell_type": "code",
   "execution_count": null,
   "id": "468c647a",
   "metadata": {},
   "outputs": [],
   "source": []
  },
  {
   "cell_type": "code",
   "execution_count": null,
   "id": "9b91248e",
   "metadata": {},
   "outputs": [],
   "source": []
  },
  {
   "cell_type": "code",
   "execution_count": null,
   "id": "6f0ea848",
   "metadata": {},
   "outputs": [],
   "source": []
  },
  {
   "cell_type": "code",
   "execution_count": null,
   "id": "faf27ef1",
   "metadata": {},
   "outputs": [],
   "source": []
  },
  {
   "cell_type": "code",
   "execution_count": null,
   "id": "45a0b6e7",
   "metadata": {},
   "outputs": [],
   "source": []
  },
  {
   "cell_type": "code",
   "execution_count": null,
   "id": "3b975f48",
   "metadata": {},
   "outputs": [],
   "source": []
  },
  {
   "cell_type": "code",
   "execution_count": null,
   "id": "932d9bf2",
   "metadata": {},
   "outputs": [],
   "source": []
  },
  {
   "cell_type": "code",
   "execution_count": null,
   "id": "1e06dafc",
   "metadata": {},
   "outputs": [],
   "source": []
  },
  {
   "cell_type": "code",
   "execution_count": null,
   "id": "4e8fc1f3",
   "metadata": {},
   "outputs": [],
   "source": []
  },
  {
   "cell_type": "code",
   "execution_count": null,
   "id": "f214e745",
   "metadata": {},
   "outputs": [],
   "source": []
  },
  {
   "cell_type": "code",
   "execution_count": null,
   "id": "7267eb04",
   "metadata": {},
   "outputs": [],
   "source": []
  },
  {
   "cell_type": "code",
   "execution_count": null,
   "id": "01b003db",
   "metadata": {},
   "outputs": [],
   "source": []
  },
  {
   "cell_type": "code",
   "execution_count": null,
   "id": "47017f56",
   "metadata": {},
   "outputs": [],
   "source": []
  },
  {
   "cell_type": "code",
   "execution_count": null,
   "id": "c442901c",
   "metadata": {},
   "outputs": [],
   "source": []
  },
  {
   "cell_type": "code",
   "execution_count": null,
   "id": "54a901c7",
   "metadata": {},
   "outputs": [],
   "source": []
  },
  {
   "cell_type": "code",
   "execution_count": null,
   "id": "032fed5a",
   "metadata": {},
   "outputs": [],
   "source": []
  },
  {
   "cell_type": "code",
   "execution_count": null,
   "id": "25251f38",
   "metadata": {},
   "outputs": [],
   "source": []
  },
  {
   "cell_type": "code",
   "execution_count": null,
   "id": "fa45da94",
   "metadata": {},
   "outputs": [],
   "source": []
  },
  {
   "cell_type": "code",
   "execution_count": null,
   "id": "2c6418bc",
   "metadata": {},
   "outputs": [],
   "source": []
  },
  {
   "cell_type": "code",
   "execution_count": null,
   "id": "dd19d1ac",
   "metadata": {},
   "outputs": [],
   "source": []
  },
  {
   "cell_type": "code",
   "execution_count": null,
   "id": "d51ea0b2",
   "metadata": {},
   "outputs": [],
   "source": []
  },
  {
   "cell_type": "code",
   "execution_count": null,
   "id": "ebc63c70",
   "metadata": {},
   "outputs": [],
   "source": []
  },
  {
   "cell_type": "code",
   "execution_count": null,
   "id": "f663c044",
   "metadata": {},
   "outputs": [],
   "source": []
  },
  {
   "cell_type": "code",
   "execution_count": null,
   "id": "4a070b0c",
   "metadata": {},
   "outputs": [],
   "source": []
  },
  {
   "cell_type": "code",
   "execution_count": null,
   "id": "e08c5a50",
   "metadata": {},
   "outputs": [],
   "source": []
  },
  {
   "cell_type": "code",
   "execution_count": null,
   "id": "266225d0",
   "metadata": {},
   "outputs": [],
   "source": []
  },
  {
   "cell_type": "code",
   "execution_count": null,
   "id": "aeff456b",
   "metadata": {},
   "outputs": [],
   "source": []
  },
  {
   "cell_type": "code",
   "execution_count": null,
   "id": "fce71661",
   "metadata": {},
   "outputs": [],
   "source": []
  },
  {
   "cell_type": "code",
   "execution_count": null,
   "id": "9e0d95fa",
   "metadata": {},
   "outputs": [],
   "source": []
  },
  {
   "cell_type": "code",
   "execution_count": null,
   "id": "15638a45",
   "metadata": {},
   "outputs": [],
   "source": []
  },
  {
   "cell_type": "code",
   "execution_count": null,
   "id": "268885f9",
   "metadata": {},
   "outputs": [],
   "source": []
  },
  {
   "cell_type": "code",
   "execution_count": null,
   "id": "9758870f",
   "metadata": {},
   "outputs": [],
   "source": []
  },
  {
   "cell_type": "code",
   "execution_count": null,
   "id": "ff68377c",
   "metadata": {},
   "outputs": [],
   "source": []
  },
  {
   "cell_type": "code",
   "execution_count": null,
   "id": "666f0fce",
   "metadata": {},
   "outputs": [],
   "source": []
  },
  {
   "cell_type": "code",
   "execution_count": null,
   "id": "3edef102",
   "metadata": {},
   "outputs": [],
   "source": []
  },
  {
   "cell_type": "code",
   "execution_count": null,
   "id": "8bf00ed5",
   "metadata": {},
   "outputs": [],
   "source": []
  },
  {
   "cell_type": "code",
   "execution_count": null,
   "id": "221c5f5f",
   "metadata": {},
   "outputs": [],
   "source": []
  },
  {
   "cell_type": "code",
   "execution_count": null,
   "id": "86d95923",
   "metadata": {},
   "outputs": [],
   "source": []
  },
  {
   "cell_type": "code",
   "execution_count": null,
   "id": "61ce696a",
   "metadata": {},
   "outputs": [],
   "source": []
  },
  {
   "cell_type": "code",
   "execution_count": null,
   "id": "68b483ef",
   "metadata": {},
   "outputs": [],
   "source": []
  },
  {
   "cell_type": "code",
   "execution_count": null,
   "id": "a5ce61a6",
   "metadata": {},
   "outputs": [],
   "source": []
  },
  {
   "cell_type": "code",
   "execution_count": null,
   "id": "124a3fa4",
   "metadata": {},
   "outputs": [],
   "source": []
  },
  {
   "cell_type": "code",
   "execution_count": null,
   "id": "c7d98bed",
   "metadata": {},
   "outputs": [],
   "source": []
  },
  {
   "cell_type": "code",
   "execution_count": null,
   "id": "19aa9a8c",
   "metadata": {},
   "outputs": [],
   "source": []
  },
  {
   "cell_type": "code",
   "execution_count": null,
   "id": "3bfa5b8e",
   "metadata": {},
   "outputs": [],
   "source": []
  },
  {
   "cell_type": "code",
   "execution_count": null,
   "id": "5bdda870",
   "metadata": {},
   "outputs": [],
   "source": []
  },
  {
   "cell_type": "code",
   "execution_count": null,
   "id": "bbba4ae3",
   "metadata": {},
   "outputs": [],
   "source": []
  },
  {
   "cell_type": "code",
   "execution_count": null,
   "id": "bd465ace",
   "metadata": {},
   "outputs": [],
   "source": []
  },
  {
   "cell_type": "code",
   "execution_count": null,
   "id": "710940ec",
   "metadata": {},
   "outputs": [],
   "source": []
  },
  {
   "cell_type": "code",
   "execution_count": null,
   "id": "887d8f05",
   "metadata": {},
   "outputs": [],
   "source": []
  },
  {
   "cell_type": "code",
   "execution_count": null,
   "id": "d9b83b0a",
   "metadata": {},
   "outputs": [],
   "source": []
  },
  {
   "cell_type": "code",
   "execution_count": null,
   "id": "a8541611",
   "metadata": {},
   "outputs": [],
   "source": []
  },
  {
   "cell_type": "code",
   "execution_count": null,
   "id": "ecd18a9c",
   "metadata": {},
   "outputs": [],
   "source": []
  },
  {
   "cell_type": "code",
   "execution_count": null,
   "id": "064e2e0a",
   "metadata": {},
   "outputs": [],
   "source": []
  },
  {
   "cell_type": "code",
   "execution_count": null,
   "id": "279ffb1d",
   "metadata": {},
   "outputs": [],
   "source": []
  },
  {
   "cell_type": "code",
   "execution_count": null,
   "id": "bd292873",
   "metadata": {},
   "outputs": [],
   "source": []
  },
  {
   "cell_type": "code",
   "execution_count": null,
   "id": "3c9aac76",
   "metadata": {},
   "outputs": [],
   "source": []
  },
  {
   "cell_type": "code",
   "execution_count": null,
   "id": "5d151192",
   "metadata": {},
   "outputs": [],
   "source": []
  },
  {
   "cell_type": "code",
   "execution_count": null,
   "id": "bb991b48",
   "metadata": {},
   "outputs": [],
   "source": []
  },
  {
   "cell_type": "code",
   "execution_count": null,
   "id": "4c9fdb51",
   "metadata": {},
   "outputs": [],
   "source": []
  },
  {
   "cell_type": "code",
   "execution_count": null,
   "id": "91e4a11c",
   "metadata": {},
   "outputs": [],
   "source": []
  },
  {
   "cell_type": "code",
   "execution_count": null,
   "id": "f311fd4f",
   "metadata": {},
   "outputs": [],
   "source": []
  },
  {
   "cell_type": "code",
   "execution_count": null,
   "id": "ac126231",
   "metadata": {},
   "outputs": [],
   "source": []
  },
  {
   "cell_type": "code",
   "execution_count": null,
   "id": "b2ba7a7c",
   "metadata": {},
   "outputs": [],
   "source": []
  },
  {
   "cell_type": "code",
   "execution_count": null,
   "id": "45b63533",
   "metadata": {},
   "outputs": [],
   "source": []
  },
  {
   "cell_type": "code",
   "execution_count": null,
   "id": "9775a1e9",
   "metadata": {},
   "outputs": [],
   "source": []
  },
  {
   "cell_type": "code",
   "execution_count": null,
   "id": "91662beb",
   "metadata": {},
   "outputs": [],
   "source": []
  },
  {
   "cell_type": "code",
   "execution_count": null,
   "id": "c73b908d",
   "metadata": {},
   "outputs": [],
   "source": []
  },
  {
   "cell_type": "code",
   "execution_count": null,
   "id": "c653ef2a",
   "metadata": {},
   "outputs": [],
   "source": []
  },
  {
   "cell_type": "code",
   "execution_count": null,
   "id": "2126837d",
   "metadata": {},
   "outputs": [],
   "source": []
  },
  {
   "cell_type": "code",
   "execution_count": null,
   "id": "92790128",
   "metadata": {},
   "outputs": [],
   "source": []
  },
  {
   "cell_type": "code",
   "execution_count": null,
   "id": "59e52154",
   "metadata": {},
   "outputs": [],
   "source": []
  },
  {
   "cell_type": "code",
   "execution_count": null,
   "id": "2677aebc",
   "metadata": {},
   "outputs": [],
   "source": []
  },
  {
   "cell_type": "code",
   "execution_count": null,
   "id": "6a011e44",
   "metadata": {},
   "outputs": [],
   "source": []
  },
  {
   "cell_type": "code",
   "execution_count": null,
   "id": "3059c016",
   "metadata": {},
   "outputs": [],
   "source": []
  },
  {
   "cell_type": "code",
   "execution_count": null,
   "id": "5cc86868",
   "metadata": {},
   "outputs": [],
   "source": []
  },
  {
   "cell_type": "code",
   "execution_count": null,
   "id": "89d1bb28",
   "metadata": {},
   "outputs": [],
   "source": []
  },
  {
   "cell_type": "code",
   "execution_count": null,
   "id": "3350e410",
   "metadata": {},
   "outputs": [],
   "source": []
  },
  {
   "cell_type": "code",
   "execution_count": null,
   "id": "4836fc27",
   "metadata": {},
   "outputs": [],
   "source": []
  },
  {
   "cell_type": "code",
   "execution_count": null,
   "id": "8ec54b63",
   "metadata": {},
   "outputs": [],
   "source": []
  },
  {
   "cell_type": "code",
   "execution_count": null,
   "id": "9c637357",
   "metadata": {},
   "outputs": [],
   "source": []
  },
  {
   "cell_type": "code",
   "execution_count": null,
   "id": "0af954c4",
   "metadata": {},
   "outputs": [],
   "source": []
  },
  {
   "cell_type": "code",
   "execution_count": null,
   "id": "e723581b",
   "metadata": {},
   "outputs": [],
   "source": []
  },
  {
   "cell_type": "code",
   "execution_count": null,
   "id": "32bc805a",
   "metadata": {},
   "outputs": [],
   "source": []
  },
  {
   "cell_type": "code",
   "execution_count": null,
   "id": "613888eb",
   "metadata": {},
   "outputs": [],
   "source": []
  },
  {
   "cell_type": "code",
   "execution_count": null,
   "id": "2c389b6b",
   "metadata": {},
   "outputs": [],
   "source": []
  },
  {
   "cell_type": "code",
   "execution_count": null,
   "id": "41fc6f8f",
   "metadata": {},
   "outputs": [],
   "source": []
  },
  {
   "cell_type": "code",
   "execution_count": null,
   "id": "061ed9d0",
   "metadata": {},
   "outputs": [],
   "source": []
  },
  {
   "cell_type": "code",
   "execution_count": null,
   "id": "85f71aad",
   "metadata": {},
   "outputs": [],
   "source": []
  }
 ],
 "metadata": {
  "kernelspec": {
   "display_name": "Python 3",
   "language": "python",
   "name": "python3"
  },
  "language_info": {
   "codemirror_mode": {
    "name": "ipython",
    "version": 3
   },
   "file_extension": ".py",
   "mimetype": "text/x-python",
   "name": "python",
   "nbconvert_exporter": "python",
   "pygments_lexer": "ipython3",
   "version": "3.8.8"
  }
 },
 "nbformat": 4,
 "nbformat_minor": 5
}
