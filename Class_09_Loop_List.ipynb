{
 "cells": [
  {
   "cell_type": "code",
   "execution_count": 2,
   "metadata": {
    "ExecuteTime": {
     "end_time": "2021-05-28T02:36:04.887585Z",
     "start_time": "2021-05-28T02:36:04.857929Z"
    }
   },
   "outputs": [
    {
     "data": {
      "text/plain": [
       "1.0"
      ]
     },
     "execution_count": 2,
     "metadata": {},
     "output_type": "execute_result"
    }
   ],
   "source": [
    "# True/False\n",
    "# True/True"
   ]
  },
  {
   "cell_type": "code",
   "execution_count": 6,
   "metadata": {
    "ExecuteTime": {
     "end_time": "2021-05-28T02:37:53.567700Z",
     "start_time": "2021-05-28T02:37:53.564458Z"
    }
   },
   "outputs": [],
   "source": [
    "# TypeError\n",
    "# str(10+20j)\n",
    "\n",
    "# int(10+20j)\n",
    "# It can not convert complex number to int, If complex value is passed to int() then it will raise TypeError."
   ]
  },
  {
   "cell_type": "code",
   "execution_count": 7,
   "metadata": {
    "ExecuteTime": {
     "end_time": "2021-05-28T02:39:55.252998Z",
     "start_time": "2021-05-28T02:39:55.246605Z"
    }
   },
   "outputs": [
    {
     "name": "stdout",
     "output_type": "stream",
     "text": [
      "False\n"
     ]
    }
   ],
   "source": [
    "# str1 = 'A'\n",
    "# str2 = '65'\n",
    "# print(str1 <= str2)\n"
   ]
  },
  {
   "cell_type": "code",
   "execution_count": 12,
   "metadata": {
    "ExecuteTime": {
     "end_time": "2021-05-28T02:48:41.379850Z",
     "start_time": "2021-05-28T02:48:41.372605Z"
    }
   },
   "outputs": [],
   "source": [
    "#Write a python program to find below output:-\n",
    "\n",
    "#Input:- 'peter piper picked a peck of pickled peppers.'\n",
    "#Output:- 'retep repip dekcip a kcep fo delkcip .sreppep'\n",
    "\n",
    "# inp_str = 'peter piper picked a peck of pickled peppers.'.split()\n",
    "# ' '.join([ele[::-1] for ele in inp_str])\n",
    "\n"
   ]
  },
  {
   "cell_type": "code",
   "execution_count": 11,
   "metadata": {
    "ExecuteTime": {
     "end_time": "2021-05-28T02:48:37.884873Z",
     "start_time": "2021-05-28T02:48:37.877947Z"
    }
   },
   "outputs": [],
   "source": [
    "#Write a python program to find below output:-\n",
    "\n",
    "#Input:- 'peter piper picked a peck of pickled peppers.'\n",
    "#Output:- '.sreppep delkcip fo kcep a dekcip repip retep'\n",
    "# inp_str = 'peter piper picked a peck of pickled peppers.'\n",
    "# print(inp_str[::-1])\n"
   ]
  },
  {
   "cell_type": "code",
   "execution_count": 10,
   "metadata": {
    "ExecuteTime": {
     "end_time": "2021-05-28T02:46:27.149140Z",
     "start_time": "2021-05-28T02:46:27.140648Z"
    }
   },
   "outputs": [
    {
     "data": {
      "text/plain": [
       "'peppers. pickled of peck a picked piper peter'"
      ]
     },
     "execution_count": 10,
     "metadata": {},
     "output_type": "execute_result"
    }
   ],
   "source": [
    "#Write a python program to find below output:-\n",
    "\n",
    "#Input:- 'peter piper picked a peck of pickled peppers.'\n",
    "#Output:- 'peppers. pickled of peck a picked piper peter'\n",
    "\n",
    "# inp_str = 'peter piper picked a peck of pickled peppers.'.split()[::-1]\n",
    "# ' '.join(inp_str)\n",
    "\n"
   ]
  },
  {
   "cell_type": "code",
   "execution_count": 18,
   "metadata": {
    "ExecuteTime": {
     "end_time": "2021-05-28T03:04:19.181854Z",
     "start_time": "2021-05-28T03:04:19.174105Z"
    }
   },
   "outputs": [
    {
     "name": "stdout",
     "output_type": "stream",
     "text": [
      "P\n",
      "yy\n",
      "ttt\n",
      "hhhh\n",
      "ooooo\n",
      "nnnnnn\n"
     ]
    }
   ],
   "source": [
    "# While Loops in Python\n",
    "# Syntax \n",
    "# my_str = 'Python'\n",
    "# ind = 0                # Initialization\n",
    "# while ind<len(my_str): # Condition Checking\n",
    "#     print(my_str[ind])\n",
    "#     ind += 1           # Increment/Decerement\n",
    "\n",
    "# P\n",
    "# yy\n",
    "# ttt\n",
    "# hhhh\n",
    "# ooooo\n",
    "# nnnnnn\n",
    "\n",
    "\n",
    "# my_str = 'Python'\n",
    "# ind = 0\n",
    "# while ind < len(my_str):\n",
    "#     print(my_str[ind] * (ind+1))\n",
    "#     ind += 1\n",
    "\n"
   ]
  },
  {
   "cell_type": "code",
   "execution_count": 22,
   "metadata": {
    "ExecuteTime": {
     "end_time": "2021-05-28T03:09:24.873491Z",
     "start_time": "2021-05-28T03:09:24.856717Z"
    }
   },
   "outputs": [
    {
     "name": "stdout",
     "output_type": "stream",
     "text": [
      "report\n",
      "kildjean\n",
      "tkrotchko\n",
      "ngedmond\n",
      "gtewari\n",
      "vertigo\n",
      "bartak\n",
      "roamer\n",
      "nwiger\n"
     ]
    }
   ],
   "source": [
    "email_lst = ['report@me.com',\n",
    "'kildjean@mac.com',\n",
    "'tkrotchko@att.net',\n",
    "'seano@icloud.com',\n",
    "'ngedmond@me.com',\n",
    "'gtewari@yahoo.com',\n",
    "'konit@att.net',\n",
    "'mrdvt@gmail.com',\n",
    "'vertigo@optonline.net',\n",
    "'bartak@msn.com',\n",
    "'roamer@me.com',\n",
    "'nwiger@optonline.net']\n",
    "\n",
    "# report@me.com\n",
    "# kildjean@mac.com\n",
    "# tkrotchko@att.net\n",
    "# ngedmond@me.com\n",
    "# gtewari@yahoo.com\n",
    "# vertigo@optonline.net\n",
    "# bartak@msn.com\n",
    "# roamer@me.com\n",
    "# nwiger@optonline.net\n",
    "\n",
    "ind = 0\n",
    "while ind < len(email_lst):\n",
    "    user_name = email_lst[ind][:email_lst[ind].index('@')]\n",
    "    if len(user_name) > 5:\n",
    "        print(user_name)\n",
    "    ind += 1\n",
    "\n",
    "\n"
   ]
  },
  {
   "cell_type": "code",
   "execution_count": 24,
   "metadata": {
    "ExecuteTime": {
     "end_time": "2021-05-28T03:17:27.191920Z",
     "start_time": "2021-05-28T03:17:21.844409Z"
    }
   },
   "outputs": [
    {
     "name": "stdout",
     "output_type": "stream",
     "text": [
      "Enter your password: ABC@123\n",
      "You enterd the app\n"
     ]
    }
   ],
   "source": [
    "\n",
    "password = 'ABC@123'\n",
    "# Take one password from user, and if password is correct then you will allow the user to enter \n",
    "# else you will ask the user to re-enter the passowrd\n",
    "inp_password = input('Enter your password: ')\n",
    "while True:\n",
    "    if inp_password == password:\n",
    "        print('You enterd the app')\n",
    "        break\n",
    "    else:\n",
    "        print('Your password is incorrect.')\n",
    "        print('Please try again!!!')\n",
    "        inp_password = input()"
   ]
  },
  {
   "cell_type": "code",
   "execution_count": 31,
   "metadata": {
    "ExecuteTime": {
     "end_time": "2021-05-28T03:27:52.215194Z",
     "start_time": "2021-05-28T03:27:52.207864Z"
    }
   },
   "outputs": [
    {
     "name": "stdout",
     "output_type": "stream",
     "text": [
      "(0, 'P')\n",
      "(1, 'y')\n",
      "(2, 't')\n",
      "(3, 'h')\n",
      "(4, 'o')\n",
      "(5, 'n')\n"
     ]
    }
   ],
   "source": [
    "# 'Python'\n",
    "# 0 P\n",
    "# 1 y\n",
    "# 2 t\n",
    "# 3 h\n",
    "# 4 o\n",
    "# 5 n\n",
    "\n",
    "# Using for loop\n",
    "my_str = 'Python'\n",
    "# for i in my_str:\n",
    "#     print(my_str.index(i), i)\n",
    "\n",
    "# for i in range(len(my_str)):\n",
    "#     print(i, my_str[i])\n",
    "\n",
    "for i in enumerate(my_str):\n",
    "    print(i)\n",
    "\n"
   ]
  },
  {
   "cell_type": "code",
   "execution_count": 30,
   "metadata": {
    "ExecuteTime": {
     "end_time": "2021-05-28T03:24:52.880451Z",
     "start_time": "2021-05-28T03:24:52.868884Z"
    }
   },
   "outputs": [
    {
     "data": {
      "text/plain": [
       "[(0, 10), (1, 20), (2, 30), (3, 40), (4, 50)]"
      ]
     },
     "execution_count": 30,
     "metadata": {},
     "output_type": "execute_result"
    }
   ],
   "source": [
    "# list(enumerate(my_str))\n",
    "# enumerate(iterable)\n",
    "\n",
    "# list(enumerate([10,20,30,40,50]))"
   ]
  },
  {
   "cell_type": "code",
   "execution_count": 39,
   "metadata": {
    "ExecuteTime": {
     "end_time": "2021-05-28T03:32:14.678729Z",
     "start_time": "2021-05-28T03:32:14.660769Z"
    }
   },
   "outputs": [
    {
     "name": "stdout",
     "output_type": "stream",
     "text": [
      "L P\n",
      "e y\n",
      "a t\n",
      "r h\n",
      "n o\n",
      "b n\n"
     ]
    }
   ],
   "source": [
    "my_str1 = 'Python'\n",
    "my_str2 = 'Learn'\n",
    "\n",
    "# L P\n",
    "# e y\n",
    "# a t\n",
    "# r h\n",
    "# n o\n",
    "# b n\n",
    "\n",
    "# for loop\n",
    "\n",
    "# for i in range(len(my_str1)):\n",
    "#     print(my_str2[i], my_str1[i])\n",
    "\n",
    "for i,j in zip(my_str2, my_str1):\n",
    "    print(i,j)\n",
    "\n"
   ]
  },
  {
   "cell_type": "code",
   "execution_count": 35,
   "metadata": {
    "ExecuteTime": {
     "end_time": "2021-05-28T03:30:06.658536Z",
     "start_time": "2021-05-28T03:30:06.638000Z"
    }
   },
   "outputs": [
    {
     "name": "stdout",
     "output_type": "stream",
     "text": [
      "10\n",
      "0\n",
      "\n",
      "20\n",
      "1\n",
      "\n",
      "30\n",
      "2\n",
      "\n",
      "40\n",
      "3\n",
      "\n"
     ]
    }
   ],
   "source": [
    "for i,j in [(10,0),(20,1),(30,2),(40, 3)]:\n",
    "    print(i)\n",
    "    print(j)\n",
    "    print()"
   ]
  },
  {
   "cell_type": "code",
   "execution_count": 41,
   "metadata": {
    "ExecuteTime": {
     "end_time": "2021-05-28T03:32:35.423516Z",
     "start_time": "2021-05-28T03:32:35.412234Z"
    }
   },
   "outputs": [
    {
     "data": {
      "text/plain": [
       "[('P', 'L'), ('y', 'e'), ('t', 'a'), ('h', 'r'), ('o', 'n'), ('n', 'b')]"
      ]
     },
     "execution_count": 41,
     "metadata": {},
     "output_type": "execute_result"
    }
   ],
   "source": [
    "list(zip(my_str1, my_str2))"
   ]
  },
  {
   "cell_type": "code",
   "execution_count": 44,
   "metadata": {
    "ExecuteTime": {
     "end_time": "2021-05-28T03:34:41.647607Z",
     "start_time": "2021-05-28T03:34:41.626676Z"
    }
   },
   "outputs": [
    {
     "name": "stdout",
     "output_type": "stream",
     "text": [
      "[('P', 'L', 'c'), ('y', 'e', 'l'), ('t', 'a', 'a'), ('h', 'r', 's'), ('o', 'n', 's')]\n"
     ]
    }
   ],
   "source": [
    "my_str1 = 'Python'\n",
    "my_str2 = 'Learn'\n",
    "my_str3 = 'class'\n",
    "print(list(zip(my_str1, my_str2, my_str3)))"
   ]
  },
  {
   "cell_type": "code",
   "execution_count": 47,
   "metadata": {
    "ExecuteTime": {
     "end_time": "2021-05-28T03:37:01.889498Z",
     "start_time": "2021-05-28T03:37:01.880207Z"
    }
   },
   "outputs": [
    {
     "name": "stdout",
     "output_type": "stream",
     "text": [
      "1\n",
      "100\n",
      "\n",
      "20.3\n",
      "(20+30j)\n",
      "\n",
      "a\n",
      "Python\n",
      "\n",
      "None\n",
      "[10, 20, 30, 40]\n",
      "\n"
     ]
    }
   ],
   "source": [
    "# Iterating Dictionary\n",
    "d = {1:100, 20.30:20+30j, 'a':'Python', None:[10,20,30,40]}\n",
    "for i in d:\n",
    "    print(i)\n",
    "    print(d[i])\n",
    "    print()\n"
   ]
  },
  {
   "cell_type": "code",
   "execution_count": null,
   "metadata": {},
   "outputs": [],
   "source": [
    "# key:value -> Item/Element\n"
   ]
  },
  {
   "cell_type": "code",
   "execution_count": 53,
   "metadata": {
    "ExecuteTime": {
     "end_time": "2021-05-28T03:44:16.532396Z",
     "start_time": "2021-05-28T03:44:16.522282Z"
    }
   },
   "outputs": [
    {
     "name": "stdout",
     "output_type": "stream",
     "text": [
      "Python\n",
      "1\n",
      "10.2\n",
      "Java\n",
      "is\n"
     ]
    }
   ],
   "source": [
    "lst_item = ['Python', 1, 10.20, 'Java', 'is', 'OOP', 20, 40]\n",
    "for i in lst_item:\n",
    "    if i == 'OOP':\n",
    "        break\n",
    "    print(i) \n",
    "    \n",
    "    \n",
    "# break is used to exit the loop\n",
    "# break exits the current loop\n",
    "\n",
    "# for i in 'Python':\n",
    "#     for j in 'class at':\n",
    "#         if j == 's':\n",
    "#             break\n",
    "#         print(i,j)\n",
    "        \n",
    "# i = t\n",
    "# j = s\n",
    "# P c\n",
    "# P l\n",
    "# P a\n",
    "# y c\n",
    "# y l\n",
    "# y a"
   ]
  },
  {
   "cell_type": "code",
   "execution_count": 58,
   "metadata": {
    "ExecuteTime": {
     "end_time": "2021-05-28T03:49:04.276763Z",
     "start_time": "2021-05-28T03:49:04.255175Z"
    }
   },
   "outputs": [
    {
     "name": "stdout",
     "output_type": "stream",
     "text": [
      "Python\n",
      "1\n",
      "10.2\n",
      "Java\n",
      "is\n",
      "20\n",
      "40\n"
     ]
    }
   ],
   "source": [
    "# Continue\n",
    "# Used to skip the current iteration\n",
    "lst_item = ['Python', 1, 10.20, 'Java', 'is', 'OOP', 20, 40]\n",
    "for i in lst_item:\n",
    "    if i == 'OOP':\n",
    "        continue\n",
    "    print(i) \n",
    "\n",
    "# continue also skips the current iteration from surrent loop\n",
    "\n",
    "# for i in 'Python':\n",
    "#     for j in 'clasat':\n",
    "#         if j == 's':\n",
    "#             continue\n",
    "#         print(i,j)\n",
    "        \n",
    "# i = y\n",
    "# j = c\n",
    "# P c\n",
    "# P l\n",
    "# P a\n",
    "# P a\n",
    "# P t\n",
    "# y c\n",
    "# y l \n",
    "# y a\n",
    "# y a\n",
    "# y t"
   ]
  },
  {
   "cell_type": "code",
   "execution_count": null,
   "metadata": {},
   "outputs": [],
   "source": [
    "# Take two number from user -> 10, 20\n",
    "# ask the user to enter an operation \n",
    "#     1. Add\n",
    "#     2. Sub\n",
    "#     3. mul\n",
    "#     .....\n",
    "#     9. Quit\n",
    "# 1. 10+20 = 30\n",
    "# ask the user to enter an operation \n",
    "#     1. Add\n",
    "#     2. Sub\n",
    "#     3. mul\n",
    "# 9. Exit the app."
   ]
  },
  {
   "cell_type": "code",
   "execution_count": 61,
   "metadata": {
    "ExecuteTime": {
     "end_time": "2021-05-28T03:57:36.396403Z",
     "start_time": "2021-05-28T03:57:36.389677Z"
    }
   },
   "outputs": [
    {
     "name": "stdout",
     "output_type": "stream",
     "text": [
      "[10, 100, 20, 30, 20, 10, 100, 10, 10, 10] <class 'list'>\n"
     ]
    }
   ],
   "source": [
    "# List Data Types in Python - []\n",
    "# Any thing kept inside [] separated by comma \n",
    "# List is a collection of heterogeneous data\n",
    "# List can have duplicate data\n",
    "# List is also a sequence\n",
    "    # Indexing, slicing, Concatenation, repetition, mebership, Identity, len\n",
    "    # It supports +ve and -ve indexing both\n",
    "    # +ve index sytarts from 0 from LHS\n",
    "    # -ve index starts from -1 from RHS\n",
    "\n",
    "# lst = ['Python']\n",
    "# print(lst, type(lst))\n",
    "\n",
    "# lst = [10,10.20, 10+20j, 'Python', True, [1,2,3,4], (1,2,3),{1:100, 2:200}]\n",
    "# print(lst, type(lst))\n",
    "\n",
    "# lst = [10,100,20,30,20,10,100,10,10,10]\n",
    "# print(lst, type(lst))\n"
   ]
  },
  {
   "cell_type": "code",
   "execution_count": 69,
   "metadata": {
    "ExecuteTime": {
     "end_time": "2021-05-28T04:05:43.287945Z",
     "start_time": "2021-05-28T04:05:43.283000Z"
    }
   },
   "outputs": [],
   "source": [
    "lst = [10, 10.20, 10+20j, 'Python', True, [1,2,3,4], (1,2,3), {1:100, 2:200}]\n",
    "# Indexing\n",
    "# Accessing first element\n",
    "# print(lst[0])\n",
    "# print(lst[-8])\n",
    "# print(lst[-len(lst)])\n",
    "\n",
    "# Accessing last element\n",
    "# print(lst[-1])\n",
    "# print(lst[7])\n",
    "# print(lst[len(lst)-1])\n",
    "\n",
    "# slicing\n",
    "# Accessing 4 elements from 2-5\n",
    "# print(lst[2:6])\n",
    "# print(lst)\n",
    "\n",
    "# Accessing 4 elements from 5-2\n",
    "# print(lst[5:1:-1])\n",
    "# print(lst)\n",
    "\n",
    "# print(lst[::-1])\n",
    "\n"
   ]
  },
  {
   "cell_type": "code",
   "execution_count": null,
   "metadata": {},
   "outputs": [],
   "source": [
    "#  -8    -7    -6        -5      -4      -3        -2          -1.     <------------\n",
    "# [10, 10.20, 10+20j, 'Python', True, [1,2,3,4], (1,2,3), {1:100, 2:200}]\n",
    "#  0.    1.     2        3        4       5         6           7      .............>"
   ]
  },
  {
   "cell_type": "code",
   "execution_count": 75,
   "metadata": {
    "ExecuteTime": {
     "end_time": "2021-05-28T04:08:34.691612Z",
     "start_time": "2021-05-28T04:08:34.672031Z"
    }
   },
   "outputs": [
    {
     "name": "stdout",
     "output_type": "stream",
     "text": [
      "[10, 20, 30, 40, 10, 20, 30, 40, 10, 20, 30, 40]\n"
     ]
    }
   ],
   "source": [
    "# concatenation\n",
    "# We use -> +\n",
    "# Both the operand should be list\n",
    "lst1 = [10,20,30,40]\n",
    "lst2 = [1,2,3,4,5,6]\n",
    "# print(lst1 + lst2)\n",
    "# print(lst1)\n",
    "# print(lst2)\n",
    "\n",
    "# print(lst1 + 'Python')\n",
    "\n",
    "\n",
    "# repetition\n",
    "# We use -> +\n",
    "# one of the operand should be listand other should be int\n",
    "print(lst1 * 3)\n",
    "# print(lst1 * 3.0)"
   ]
  },
  {
   "cell_type": "code",
   "execution_count": 76,
   "metadata": {
    "ExecuteTime": {
     "end_time": "2021-05-28T04:09:15.756096Z",
     "start_time": "2021-05-28T04:09:15.749210Z"
    }
   },
   "outputs": [
    {
     "name": "stdout",
     "output_type": "stream",
     "text": [
      "True\n",
      "False\n"
     ]
    }
   ],
   "source": [
    "# Membership\n",
    "lst = [10, 10.20, 10+20j, 'Python', True, [1,2,3,4], (1,2,3), {1:100, 2:200}]\n",
    "\n",
    "print(10 in lst)\n",
    "print(True not in lst)\n"
   ]
  },
  {
   "cell_type": "code",
   "execution_count": 78,
   "metadata": {
    "ExecuteTime": {
     "end_time": "2021-05-28T04:09:59.756615Z",
     "start_time": "2021-05-28T04:09:59.748608Z"
    }
   },
   "outputs": [
    {
     "name": "stdout",
     "output_type": "stream",
     "text": [
      "False\n",
      "4535284480\n",
      "4535021120\n"
     ]
    }
   ],
   "source": [
    "# lst1 = [10,20,30]\n",
    "# lst2 = [10,20,30]\n",
    "# print(lst1 is lst2)\n",
    "# print(id(lst1))\n",
    "# print(id(lst2))"
   ]
  },
  {
   "cell_type": "code",
   "execution_count": 79,
   "metadata": {
    "ExecuteTime": {
     "end_time": "2021-05-28T04:10:21.396753Z",
     "start_time": "2021-05-28T04:10:21.388828Z"
    }
   },
   "outputs": [
    {
     "name": "stdout",
     "output_type": "stream",
     "text": [
      "8\n"
     ]
    }
   ],
   "source": [
    "#len()\n",
    "# lst = [10, 10.20, 10+20j, 'Python', True, [1,2,3,4], (1,2,3), {1:100, 2:200}]  \n",
    "# print(len(lst))"
   ]
  },
  {
   "cell_type": "code",
   "execution_count": 95,
   "metadata": {
    "ExecuteTime": {
     "end_time": "2021-05-28T04:15:40.581471Z",
     "start_time": "2021-05-28T04:15:40.563709Z"
    }
   },
   "outputs": [
    {
     "name": "stdout",
     "output_type": "stream",
     "text": [
      "[1, 3]\n",
      "[1, 3]\n"
     ]
    }
   ],
   "source": [
    "# nested List\n",
    "lst = [10, 10.20, 10+20j, 'Python', True, [1,2,3,4], (1,2,3), {1:100, 2:200}]  \n",
    "# print(lst[5][1])\n",
    "# print(lst[5][-1])\n",
    "\n",
    "print(lst[5][0:len(lst[5]):2])\n",
    "print(lst[5][::2])"
   ]
  },
  {
   "cell_type": "code",
   "execution_count": 94,
   "metadata": {
    "ExecuteTime": {
     "end_time": "2021-05-28T04:14:38.557284Z",
     "start_time": "2021-05-28T04:14:38.546358Z"
    }
   },
   "outputs": [
    {
     "name": "stdout",
     "output_type": "stream",
     "text": [
      "200\n"
     ]
    }
   ],
   "source": [
    "lst = [10,20,[30,40, [60,[70, [100, 200]], 80]], 50, 90]\n",
    "print(lst[2][2][1][1][1])"
   ]
  },
  {
   "cell_type": "code",
   "execution_count": 96,
   "metadata": {
    "ExecuteTime": {
     "end_time": "2021-05-28T04:19:33.592504Z",
     "start_time": "2021-05-28T04:19:33.581498Z"
    }
   },
   "outputs": [
    {
     "data": {
      "text/plain": [
       "['Earth', 'Jupiter', 'Mars', 'Mercury', 'Neptune', 'Saturn', 'Uranus', 'Venus']"
      ]
     },
     "execution_count": 96,
     "metadata": {},
     "output_type": "execute_result"
    }
   ],
   "source": [
    "# Few builtin Functuons\n",
    "planets = ['Mercury', 'Venus', 'Earth', 'Mars', 'Jupiter', 'Saturn', 'Uranus', 'Neptune']\n",
    "sorted(planets)"
   ]
  },
  {
   "cell_type": "code",
   "execution_count": 98,
   "metadata": {
    "ExecuteTime": {
     "end_time": "2021-05-28T04:20:42.581911Z",
     "start_time": "2021-05-28T04:20:42.571672Z"
    }
   },
   "outputs": [
    {
     "name": "stdout",
     "output_type": "stream",
     "text": [
      "['P', 'h', 'n', 'o', 't', 'y']\n"
     ]
    }
   ],
   "source": [
    "# print(dir(__builtins__))\n",
    "print(sorted('Python'))"
   ]
  },
  {
   "cell_type": "code",
   "execution_count": 101,
   "metadata": {
    "ExecuteTime": {
     "end_time": "2021-05-28T04:21:29.434315Z",
     "start_time": "2021-05-28T04:21:29.419279Z"
    }
   },
   "outputs": [
    {
     "name": "stdout",
     "output_type": "stream",
     "text": [
      "150\n",
      "50\n",
      "10\n"
     ]
    }
   ],
   "source": [
    "lst = [10,20,30,40,50]\n",
    "print(sum(lst))\n",
    "print(max(lst))\n",
    "print(min(lst))"
   ]
  },
  {
   "cell_type": "code",
   "execution_count": 104,
   "metadata": {
    "ExecuteTime": {
     "end_time": "2021-05-28T04:22:39.264815Z",
     "start_time": "2021-05-28T04:22:39.252901Z"
    }
   },
   "outputs": [
    {
     "data": {
      "text/plain": [
       "'P'"
      ]
     },
     "execution_count": 104,
     "metadata": {},
     "output_type": "execute_result"
    }
   ],
   "source": [
    "min('Python')"
   ]
  },
  {
   "cell_type": "code",
   "execution_count": 105,
   "metadata": {
    "ExecuteTime": {
     "end_time": "2021-05-28T04:23:44.427140Z",
     "start_time": "2021-05-28T04:23:44.413827Z"
    }
   },
   "outputs": [
    {
     "data": {
      "text/plain": [
       "[[80, 'P'], [121, 'y'], [116, 't'], [104, 'h'], [111, 'o'], [110, 'n']]"
      ]
     },
     "execution_count": 105,
     "metadata": {},
     "output_type": "execute_result"
    }
   ],
   "source": [
    "[[ord(i), i] for i in 'Python']"
   ]
  },
  {
   "cell_type": "code",
   "execution_count": null,
   "metadata": {},
   "outputs": [],
   "source": []
  },
  {
   "cell_type": "code",
   "execution_count": null,
   "metadata": {},
   "outputs": [],
   "source": []
  },
  {
   "cell_type": "code",
   "execution_count": null,
   "metadata": {},
   "outputs": [],
   "source": []
  },
  {
   "cell_type": "code",
   "execution_count": null,
   "metadata": {},
   "outputs": [],
   "source": []
  },
  {
   "cell_type": "code",
   "execution_count": null,
   "metadata": {},
   "outputs": [],
   "source": []
  },
  {
   "cell_type": "code",
   "execution_count": null,
   "metadata": {},
   "outputs": [],
   "source": []
  },
  {
   "cell_type": "code",
   "execution_count": null,
   "metadata": {},
   "outputs": [],
   "source": []
  },
  {
   "cell_type": "code",
   "execution_count": null,
   "metadata": {},
   "outputs": [],
   "source": []
  },
  {
   "cell_type": "code",
   "execution_count": null,
   "metadata": {},
   "outputs": [],
   "source": []
  },
  {
   "cell_type": "code",
   "execution_count": null,
   "metadata": {},
   "outputs": [],
   "source": []
  },
  {
   "cell_type": "code",
   "execution_count": null,
   "metadata": {},
   "outputs": [],
   "source": []
  },
  {
   "cell_type": "code",
   "execution_count": null,
   "metadata": {},
   "outputs": [],
   "source": []
  },
  {
   "cell_type": "code",
   "execution_count": null,
   "metadata": {},
   "outputs": [],
   "source": []
  },
  {
   "cell_type": "code",
   "execution_count": null,
   "metadata": {},
   "outputs": [],
   "source": []
  },
  {
   "cell_type": "code",
   "execution_count": null,
   "metadata": {},
   "outputs": [],
   "source": []
  },
  {
   "cell_type": "code",
   "execution_count": null,
   "metadata": {},
   "outputs": [],
   "source": []
  },
  {
   "cell_type": "code",
   "execution_count": null,
   "metadata": {},
   "outputs": [],
   "source": []
  },
  {
   "cell_type": "code",
   "execution_count": null,
   "metadata": {},
   "outputs": [],
   "source": []
  },
  {
   "cell_type": "code",
   "execution_count": null,
   "metadata": {},
   "outputs": [],
   "source": []
  },
  {
   "cell_type": "code",
   "execution_count": null,
   "metadata": {},
   "outputs": [],
   "source": []
  },
  {
   "cell_type": "code",
   "execution_count": null,
   "metadata": {},
   "outputs": [],
   "source": []
  },
  {
   "cell_type": "code",
   "execution_count": null,
   "metadata": {},
   "outputs": [],
   "source": []
  },
  {
   "cell_type": "code",
   "execution_count": null,
   "metadata": {},
   "outputs": [],
   "source": []
  },
  {
   "cell_type": "code",
   "execution_count": null,
   "metadata": {},
   "outputs": [],
   "source": []
  },
  {
   "cell_type": "code",
   "execution_count": null,
   "metadata": {},
   "outputs": [],
   "source": []
  },
  {
   "cell_type": "code",
   "execution_count": null,
   "metadata": {},
   "outputs": [],
   "source": []
  },
  {
   "cell_type": "code",
   "execution_count": null,
   "metadata": {},
   "outputs": [],
   "source": []
  },
  {
   "cell_type": "code",
   "execution_count": null,
   "metadata": {},
   "outputs": [],
   "source": []
  },
  {
   "cell_type": "code",
   "execution_count": null,
   "metadata": {},
   "outputs": [],
   "source": []
  },
  {
   "cell_type": "code",
   "execution_count": null,
   "metadata": {},
   "outputs": [],
   "source": []
  },
  {
   "cell_type": "code",
   "execution_count": null,
   "metadata": {},
   "outputs": [],
   "source": []
  },
  {
   "cell_type": "code",
   "execution_count": null,
   "metadata": {},
   "outputs": [],
   "source": []
  },
  {
   "cell_type": "code",
   "execution_count": null,
   "metadata": {},
   "outputs": [],
   "source": []
  },
  {
   "cell_type": "code",
   "execution_count": null,
   "metadata": {},
   "outputs": [],
   "source": []
  },
  {
   "cell_type": "code",
   "execution_count": null,
   "metadata": {},
   "outputs": [],
   "source": []
  }
 ],
 "metadata": {
  "kernelspec": {
   "display_name": "Python 3",
   "language": "python",
   "name": "python3"
  },
  "language_info": {
   "codemirror_mode": {
    "name": "ipython",
    "version": 3
   },
   "file_extension": ".py",
   "mimetype": "text/x-python",
   "name": "python",
   "nbconvert_exporter": "python",
   "pygments_lexer": "ipython3",
   "version": "3.8.2"
  },
  "latex_envs": {
   "LaTeX_envs_menu_present": true,
   "autoclose": false,
   "autocomplete": true,
   "bibliofile": "biblio.bib",
   "cite_by": "apalike",
   "current_citInitial": 1,
   "eqLabelWithNumbers": true,
   "eqNumInitial": 1,
   "hotkeys": {
    "equation": "Ctrl-E",
    "itemize": "Ctrl-I"
   },
   "labels_anchors": false,
   "latex_user_defs": false,
   "report_style_numbering": false,
   "user_envs_cfg": false
  },
  "varInspector": {
   "cols": {
    "lenName": 16,
    "lenType": 16,
    "lenVar": 40
   },
   "kernels_config": {
    "python": {
     "delete_cmd_postfix": "",
     "delete_cmd_prefix": "del ",
     "library": "var_list.py",
     "varRefreshCmd": "print(var_dic_list())"
    },
    "r": {
     "delete_cmd_postfix": ") ",
     "delete_cmd_prefix": "rm(",
     "library": "var_list.r",
     "varRefreshCmd": "cat(var_dic_list()) "
    }
   },
   "types_to_exclude": [
    "module",
    "function",
    "builtin_function_or_method",
    "instance",
    "_Feature"
   ],
   "window_display": false
  }
 },
 "nbformat": 4,
 "nbformat_minor": 2
}
