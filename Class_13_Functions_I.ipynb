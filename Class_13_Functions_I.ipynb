{
 "cells": [
  {
   "cell_type": "code",
   "execution_count": null,
   "id": "6f5b7002",
   "metadata": {},
   "outputs": [],
   "source": [
    "A function is a set of reusable code."
   ]
  },
  {
   "cell_type": "code",
   "execution_count": 2,
   "id": "fa552800",
   "metadata": {
    "ExecuteTime": {
     "end_time": "2021-06-02T03:17:11.104242Z",
     "start_time": "2021-06-02T03:17:08.351998Z"
    }
   },
   "outputs": [
    {
     "name": "stdout",
     "output_type": "stream",
     "text": [
      "Enter an iterable: 'Python'\n",
      "6\n"
     ]
    }
   ],
   "source": [
    "import f1\n",
    "f1.length()"
   ]
  },
  {
   "cell_type": "code",
   "execution_count": 2,
   "id": "3393a8ea",
   "metadata": {
    "ExecuteTime": {
     "end_time": "2021-06-02T03:09:45.199264Z",
     "start_time": "2021-06-02T03:09:45.192726Z"
    }
   },
   "outputs": [
    {
     "name": "stdout",
     "output_type": "stream",
     "text": [
      "2.0\n"
     ]
    }
   ],
   "source": [
    "import math\n",
    "print(math.sqrt(4))"
   ]
  },
  {
   "cell_type": "code",
   "execution_count": null,
   "id": "903a795c",
   "metadata": {},
   "outputs": [],
   "source": [
    "# Function definition is not function execution\n",
    "# To execute the funcion, you need to call the function"
   ]
  },
  {
   "cell_type": "code",
   "execution_count": 3,
   "id": "9aa6857d",
   "metadata": {
    "ExecuteTime": {
     "end_time": "2021-06-02T03:17:18.504267Z",
     "start_time": "2021-06-02T03:17:13.464670Z"
    }
   },
   "outputs": [
    {
     "name": "stdout",
     "output_type": "stream",
     "text": [
      "Enter an iterable: [10,20,30,40,50]\n",
      "5\n"
     ]
    }
   ],
   "source": [
    "f1.length()"
   ]
  },
  {
   "cell_type": "code",
   "execution_count": 4,
   "id": "2a266501",
   "metadata": {
    "ExecuteTime": {
     "end_time": "2021-06-02T03:17:38.563550Z",
     "start_time": "2021-06-02T03:17:27.053083Z"
    }
   },
   "outputs": [
    {
     "name": "stdout",
     "output_type": "stream",
     "text": [
      "Enter an iterable: {1:100, 2:200,3:300, 4:400}\n",
      "4\n"
     ]
    }
   ],
   "source": [
    "f1.length()"
   ]
  },
  {
   "cell_type": "code",
   "execution_count": 9,
   "id": "77850e33",
   "metadata": {
    "ExecuteTime": {
     "end_time": "2021-06-02T03:21:19.633053Z",
     "start_time": "2021-06-02T03:21:19.626403Z"
    }
   },
   "outputs": [
    {
     "name": "stdout",
     "output_type": "stream",
     "text": [
      "num2 is greater than num1\n",
      "num1 is greater than num2\n",
      "num2 is greater than num1\n"
     ]
    }
   ],
   "source": [
    "num1 = 100\n",
    "num2 = 200\n",
    "if num1>num2:\n",
    "    print('num1 is greater than num2')\n",
    "else:\n",
    "    print('num2 is greater than num1')\n",
    "    \n",
    "num1 = 1000\n",
    "num2 = 200\n",
    "if num1>num2:\n",
    "    print('num1 is greater than num2')\n",
    "else:\n",
    "    print('num2 is greater than num1')\n",
    "    \n",
    "num1 = 1000\n",
    "num2 = 20000\n",
    "if num1>num2:\n",
    "    print('num1 is greater than num2')\n",
    "else:\n",
    "    print('num2 is greater than num1')"
   ]
  },
  {
   "cell_type": "code",
   "execution_count": 12,
   "id": "e4cd6b77",
   "metadata": {
    "ExecuteTime": {
     "end_time": "2021-06-02T03:21:43.309778Z",
     "start_time": "2021-06-02T03:21:43.302473Z"
    }
   },
   "outputs": [
    {
     "name": "stdout",
     "output_type": "stream",
     "text": [
      "200\n",
      "1000\n",
      "2000\n"
     ]
    }
   ],
   "source": [
    "print(max(100, 200))\n",
    "print(max(1000, 200))\n",
    "print(max(1000, 2000))"
   ]
  },
  {
   "cell_type": "code",
   "execution_count": null,
   "id": "f2689468",
   "metadata": {},
   "outputs": [],
   "source": [
    "# Types of Function\n",
    "    1. Built-in Functions -> len(), print(), min(), max(), sum(), abs(), all(), any()\n",
    "    2. User defined Functions"
   ]
  },
  {
   "cell_type": "code",
   "execution_count": 13,
   "id": "a243814b",
   "metadata": {
    "ExecuteTime": {
     "end_time": "2021-06-02T03:23:19.554906Z",
     "start_time": "2021-06-02T03:23:19.545699Z"
    }
   },
   "outputs": [
    {
     "name": "stdout",
     "output_type": "stream",
     "text": [
      "['ArithmeticError', 'AssertionError', 'AttributeError', 'BaseException', 'BlockingIOError', 'BrokenPipeError', 'BufferError', 'BytesWarning', 'ChildProcessError', 'ConnectionAbortedError', 'ConnectionError', 'ConnectionRefusedError', 'ConnectionResetError', 'DeprecationWarning', 'EOFError', 'Ellipsis', 'EnvironmentError', 'Exception', 'False', 'FileExistsError', 'FileNotFoundError', 'FloatingPointError', 'FutureWarning', 'GeneratorExit', 'IOError', 'ImportError', 'ImportWarning', 'IndentationError', 'IndexError', 'InterruptedError', 'IsADirectoryError', 'KeyError', 'KeyboardInterrupt', 'LookupError', 'MemoryError', 'ModuleNotFoundError', 'NameError', 'None', 'NotADirectoryError', 'NotImplemented', 'NotImplementedError', 'OSError', 'OverflowError', 'PendingDeprecationWarning', 'PermissionError', 'ProcessLookupError', 'RecursionError', 'ReferenceError', 'ResourceWarning', 'RuntimeError', 'RuntimeWarning', 'StopAsyncIteration', 'StopIteration', 'SyntaxError', 'SyntaxWarning', 'SystemError', 'SystemExit', 'TabError', 'TimeoutError', 'True', 'TypeError', 'UnboundLocalError', 'UnicodeDecodeError', 'UnicodeEncodeError', 'UnicodeError', 'UnicodeTranslateError', 'UnicodeWarning', 'UserWarning', 'ValueError', 'Warning', 'ZeroDivisionError', '__IPYTHON__', '__build_class__', '__debug__', '__doc__', '__import__', '__loader__', '__name__', '__package__', '__spec__', 'abs', 'all', 'any', 'ascii', 'bin', 'bool', 'breakpoint', 'bytearray', 'bytes', 'callable', 'chr', 'classmethod', 'compile', 'complex', 'copyright', 'credits', 'delattr', 'dict', 'dir', 'display', 'divmod', 'enumerate', 'eval', 'exec', 'filter', 'float', 'format', 'frozenset', 'get_ipython', 'getattr', 'globals', 'hasattr', 'hash', 'help', 'hex', 'id', 'input', 'int', 'isinstance', 'issubclass', 'iter', 'len', 'license', 'list', 'locals', 'map', 'max', 'memoryview', 'min', 'next', 'object', 'oct', 'open', 'ord', 'pow', 'print', 'property', 'range', 'repr', 'reversed', 'round', 'set', 'setattr', 'slice', 'sorted', 'staticmethod', 'str', 'sum', 'super', 'tuple', 'type', 'vars', 'zip']\n"
     ]
    }
   ],
   "source": [
    "print(dir(__builtins__))"
   ]
  },
  {
   "cell_type": "code",
   "execution_count": null,
   "id": "bc0a78b6",
   "metadata": {},
   "outputs": [],
   "source": [
    "# User defined functions\n",
    "    1. Function definition\n",
    "def func_name(params):\n",
    "    code\n",
    "    code\n",
    "    code\n",
    "    code\n",
    "    code\n",
    "    return stat\n",
    "    2. Function call\n",
    "func_name(args)"
   ]
  },
  {
   "cell_type": "code",
   "execution_count": 15,
   "id": "1b57923f",
   "metadata": {
    "ExecuteTime": {
     "end_time": "2021-06-02T03:26:17.330857Z",
     "start_time": "2021-06-02T03:26:17.324120Z"
    }
   },
   "outputs": [
    {
     "name": "stdout",
     "output_type": "stream",
     "text": [
      "Hi\n",
      "Hi\n",
      "Hi\n",
      "Hi\n",
      "Hi\n",
      "Hi\n",
      "Hi\n",
      "Hi\n",
      "Hi\n",
      "Hi\n"
     ]
    }
   ],
   "source": [
    "for i in range(10):\n",
    "    print('Hi')\n"
   ]
  },
  {
   "cell_type": "code",
   "execution_count": 20,
   "id": "4db37634",
   "metadata": {
    "ExecuteTime": {
     "end_time": "2021-06-02T03:31:54.905827Z",
     "start_time": "2021-06-02T03:31:54.900237Z"
    }
   },
   "outputs": [],
   "source": [
    "def random_func():\n",
    "    dict_map = {'a':'#', 'e':'@', 'i':'$', 'o':'%', 'u':'!'}\n",
    "    inp_str = input('Enter a string: ')\n",
    "    out_str = ''\n",
    "    for i in inp_str:\n",
    "        if i in dict_map:\n",
    "            out_str += dict_map[i]\n",
    "        else:\n",
    "            out_str += i\n",
    "    print(out_str)\n"
   ]
  },
  {
   "cell_type": "code",
   "execution_count": 21,
   "id": "858a1413",
   "metadata": {
    "ExecuteTime": {
     "end_time": "2021-06-02T03:32:00.632039Z",
     "start_time": "2021-06-02T03:31:56.831602Z"
    }
   },
   "outputs": [
    {
     "name": "stdout",
     "output_type": "stream",
     "text": [
      "Enter a string: Learnbay\n",
      "L@#rnb#y\n"
     ]
    }
   ],
   "source": [
    "random_func()"
   ]
  },
  {
   "cell_type": "code",
   "execution_count": 22,
   "id": "b4612769",
   "metadata": {
    "ExecuteTime": {
     "end_time": "2021-06-02T03:36:22.783144Z",
     "start_time": "2021-06-02T03:36:22.772796Z"
    }
   },
   "outputs": [
    {
     "name": "stdout",
     "output_type": "stream",
     "text": [
      "L@#rnb#y\n"
     ]
    }
   ],
   "source": [
    "# parameters and Arguments - Input to the function\n",
    "# Parameter is equivalent to variable which hold the values passed as argument while calling the function\n",
    "# Arguments is value on which you want to do the operation insode the function and passed while calling the function\n",
    "\n",
    "def random_func(inp_str):            # Parameter\n",
    "    dict_map = {'a':'#', 'e':'@', 'i':'$', 'o':'%', 'u':'!'}\n",
    "    out_str = ''\n",
    "    for i in inp_str:\n",
    "        if i in dict_map:\n",
    "            out_str += dict_map[i]\n",
    "        else:\n",
    "            out_str += i\n",
    "    print(out_str)\n",
    "\n",
    "\n",
    "random_func('Learnbay')              # Argument\n",
    "\n"
   ]
  },
  {
   "cell_type": "code",
   "execution_count": 24,
   "id": "a4be6cb8",
   "metadata": {
    "ExecuteTime": {
     "end_time": "2021-06-02T03:47:37.898094Z",
     "start_time": "2021-06-02T03:47:37.891157Z"
    }
   },
   "outputs": [
    {
     "name": "stdout",
     "output_type": "stream",
     "text": [
      "Joseph\n",
      "101\n",
      "10000\n"
     ]
    }
   ],
   "source": [
    "# Type of Args\n",
    "# 1. Positional Arguments\n",
    "# 2. Default Arguments\n",
    "# 3. Keyworded Arguments\n",
    "# 4. Variable length Argumnet\n",
    "#     1. Variable length Positional Arguments - *args -> all the arguments will be stored in form of tuple\n",
    "#     2. Variable Length Keyworded Arguments - **kwargs -> all the arguments will be stored in form of dictionary\n",
    "\n",
    "# 1. Positional Arguments\n",
    "# 1. Order matters - Order in which we have written the parameters in same order arguments should be passed\n",
    "# 2. No of arguments should match with no of parameters\n",
    "\n",
    "\n",
    "def emp_info(emp_name, emp_id, emp_sal):\n",
    "    print(emp_name)\n",
    "    print(emp_id)\n",
    "    print(emp_sal)\n",
    "\n",
    "emp_info('Joseph', 101, 10000)\n",
    "\n"
   ]
  },
  {
   "cell_type": "code",
   "execution_count": 33,
   "id": "ff84c599",
   "metadata": {
    "ExecuteTime": {
     "end_time": "2021-06-02T03:56:37.966045Z",
     "start_time": "2021-06-02T03:56:37.959195Z"
    }
   },
   "outputs": [
    {
     "name": "stdout",
     "output_type": "stream",
     "text": [
      "Joseph\n",
      "101\n",
      "10000\n",
      "NY\n",
      "India\n"
     ]
    }
   ],
   "source": [
    "# Default Parameter -\n",
    "# If you are using positional and default parameter both together then default parameter should follow the non-default(Positional) parameter\n",
    "# Number does not matter\n",
    "\n",
    "def emp_info(emp_name, emp_id, emp_sal, emp_addr = 'BLR', emp_country = 'India'):\n",
    "    print(emp_name)\n",
    "    print(emp_id)\n",
    "    print(emp_sal)\n",
    "    print(emp_addr)\n",
    "    print(emp_country)\n",
    "\n",
    "emp_info('Joseph', 101, 10000, 'NY',)"
   ]
  },
  {
   "cell_type": "code",
   "execution_count": 36,
   "id": "fc93abce",
   "metadata": {
    "ExecuteTime": {
     "end_time": "2021-06-02T04:00:06.338865Z",
     "start_time": "2021-06-02T04:00:06.328605Z"
    }
   },
   "outputs": [
    {
     "name": "stdout",
     "output_type": "stream",
     "text": [
      "Joseph\n",
      "101\n",
      "10000\n",
      "NY\n"
     ]
    }
   ],
   "source": [
    "# Keyworded Argument - Passing the argument with keyword\n",
    "# Order does not matter\n",
    "# When you have mix of positional and keyworded argument - \n",
    "    # Keyworded argument should follow positional args\n",
    "\n",
    "def emp_info(emp_id, emp_sal, emp_name, emp_addr = 'BLR',):\n",
    "    print(emp_name)\n",
    "    print(emp_id)\n",
    "    print(emp_sal)\n",
    "    print(emp_addr)\n",
    "\n",
    "# emp_info(emp_name = 'Joseph',emp_addr = 'NY', emp_id = 101, emp_sal = 10000)\n",
    "# emp_info(101, 10000, emp_name = 'Joseph',emp_addr = 'NY',)\n",
    "\n",
    "\n"
   ]
  },
  {
   "cell_type": "code",
   "execution_count": 60,
   "id": "e7eb8aab",
   "metadata": {
    "ExecuteTime": {
     "end_time": "2021-06-02T04:16:11.452077Z",
     "start_time": "2021-06-02T04:16:11.440368Z"
    }
   },
   "outputs": [
    {
     "name": "stdout",
     "output_type": "stream",
     "text": [
      "(30,)\n",
      "60 40\n",
      "(30, 40, 50, 60)\n",
      "210 70\n",
      "()\n",
      "30 10\n"
     ]
    }
   ],
   "source": [
    "# Variable length Positional argument\n",
    "# Finding the sum of two numbers\n",
    "# def my_sum(a, b, k=10, *n,):\n",
    "#     print(n)\n",
    "#     if len(n) == 0:\n",
    "#         c = a+b\n",
    "#     else:\n",
    "#         c = a+b\n",
    "#         for i in n:\n",
    "#             c += i\n",
    "#     print(c, k)   \n",
    "    \n",
    "# my_sum(10, 20, 30, 40)\n",
    "# my_sum(10, 20, 30, 40,50,60, 70)\n",
    "\n",
    "# my_sum(10,20)\n",
    "\n",
    "def my_sum(a, b, *n, k=10):\n",
    "    print(n)\n",
    "    if len(n) == 0:\n",
    "        c = a+b\n",
    "    else:\n",
    "        c = a+b\n",
    "        for i in n:\n",
    "            c += i\n",
    "    print(c, k)   \n",
    "    \n",
    "my_sum(10, 20, 30, k = 40)\n",
    "my_sum(10, 20, 30, 40,50,60, k = 70)\n",
    "\n",
    "my_sum(10,20)"
   ]
  },
  {
   "cell_type": "code",
   "execution_count": null,
   "id": "d2d7d5d6",
   "metadata": {},
   "outputs": [],
   "source": [
    "n = 10,20,30,40             # Tuple packing"
   ]
  },
  {
   "cell_type": "code",
   "execution_count": 74,
   "id": "ddb04a1d",
   "metadata": {
    "ExecuteTime": {
     "end_time": "2021-06-02T04:29:37.663390Z",
     "start_time": "2021-06-02T04:29:37.651191Z"
    }
   },
   "outputs": [
    {
     "name": "stdout",
     "output_type": "stream",
     "text": [
      "ABC\n",
      "101\n",
      "100\n",
      "(([], {}),)\n",
      "{'city': 'BLR', 'pin': 765987, 'std': 'V'}\n",
      "BLR\n"
     ]
    }
   ],
   "source": [
    "# Variable length Keyworded argument\n",
    "\n",
    "def st_det(st_name, st_id, st_marks, *n, **d, ):\n",
    "    print(st_name)\n",
    "    print(st_id)\n",
    "    print(st_marks)\n",
    "    print(n)\n",
    "    print(d)\n",
    "    print(d['city'])\n",
    "    \n",
    "# st_det('ABC', 101, 100)\n",
    "st_det('ABC', 101, 100, ([], {}), city = 'BLR', pin = 765987, std = 'V')\n",
    "\n",
    "\n",
    "\n"
   ]
  },
  {
   "cell_type": "code",
   "execution_count": null,
   "id": "aac897c5",
   "metadata": {},
   "outputs": [],
   "source": [
    "# Lambda, filter, map, reduce\n",
    "# Iterator, Generators\n",
    "# Modules, File Hinadling"
   ]
  },
  {
   "cell_type": "code",
   "execution_count": null,
   "id": "712b0edd",
   "metadata": {},
   "outputs": [],
   "source": []
  },
  {
   "cell_type": "code",
   "execution_count": null,
   "id": "4f466617",
   "metadata": {},
   "outputs": [],
   "source": []
  },
  {
   "cell_type": "code",
   "execution_count": null,
   "id": "922d443c",
   "metadata": {},
   "outputs": [],
   "source": []
  },
  {
   "cell_type": "code",
   "execution_count": null,
   "id": "42222f3e",
   "metadata": {},
   "outputs": [],
   "source": []
  },
  {
   "cell_type": "code",
   "execution_count": null,
   "id": "f17b0832",
   "metadata": {},
   "outputs": [],
   "source": []
  },
  {
   "cell_type": "code",
   "execution_count": null,
   "id": "21931c89",
   "metadata": {},
   "outputs": [],
   "source": []
  },
  {
   "cell_type": "code",
   "execution_count": null,
   "id": "3966f3ae",
   "metadata": {},
   "outputs": [],
   "source": []
  },
  {
   "cell_type": "code",
   "execution_count": null,
   "id": "7b2f1369",
   "metadata": {},
   "outputs": [],
   "source": []
  },
  {
   "cell_type": "code",
   "execution_count": null,
   "id": "c4412fcf",
   "metadata": {},
   "outputs": [],
   "source": []
  },
  {
   "cell_type": "code",
   "execution_count": null,
   "id": "e44961ff",
   "metadata": {},
   "outputs": [],
   "source": []
  },
  {
   "cell_type": "code",
   "execution_count": null,
   "id": "77e625c0",
   "metadata": {},
   "outputs": [],
   "source": []
  },
  {
   "cell_type": "code",
   "execution_count": null,
   "id": "51740959",
   "metadata": {},
   "outputs": [],
   "source": []
  },
  {
   "cell_type": "code",
   "execution_count": null,
   "id": "6a9f8608",
   "metadata": {},
   "outputs": [],
   "source": []
  },
  {
   "cell_type": "code",
   "execution_count": null,
   "id": "e1c686ab",
   "metadata": {},
   "outputs": [],
   "source": []
  },
  {
   "cell_type": "code",
   "execution_count": null,
   "id": "f50d3891",
   "metadata": {},
   "outputs": [],
   "source": []
  },
  {
   "cell_type": "code",
   "execution_count": null,
   "id": "ff414d92",
   "metadata": {},
   "outputs": [],
   "source": []
  },
  {
   "cell_type": "code",
   "execution_count": null,
   "id": "92ffa8f7",
   "metadata": {},
   "outputs": [],
   "source": []
  },
  {
   "cell_type": "code",
   "execution_count": null,
   "id": "c4df2011",
   "metadata": {},
   "outputs": [],
   "source": []
  },
  {
   "cell_type": "code",
   "execution_count": null,
   "id": "d79d68ce",
   "metadata": {},
   "outputs": [],
   "source": []
  },
  {
   "cell_type": "code",
   "execution_count": null,
   "id": "abdccb1c",
   "metadata": {},
   "outputs": [],
   "source": []
  },
  {
   "cell_type": "code",
   "execution_count": null,
   "id": "a6519042",
   "metadata": {},
   "outputs": [],
   "source": []
  },
  {
   "cell_type": "code",
   "execution_count": null,
   "id": "7d3e7c83",
   "metadata": {},
   "outputs": [],
   "source": []
  },
  {
   "cell_type": "code",
   "execution_count": null,
   "id": "fccb5494",
   "metadata": {},
   "outputs": [],
   "source": []
  },
  {
   "cell_type": "code",
   "execution_count": null,
   "id": "119ebcb3",
   "metadata": {},
   "outputs": [],
   "source": []
  },
  {
   "cell_type": "code",
   "execution_count": null,
   "id": "8a4ef093",
   "metadata": {},
   "outputs": [],
   "source": []
  },
  {
   "cell_type": "code",
   "execution_count": null,
   "id": "6d23c6e2",
   "metadata": {},
   "outputs": [],
   "source": []
  },
  {
   "cell_type": "code",
   "execution_count": null,
   "id": "77395475",
   "metadata": {},
   "outputs": [],
   "source": []
  }
 ],
 "metadata": {
  "kernelspec": {
   "display_name": "Python 3",
   "language": "python",
   "name": "python3"
  },
  "language_info": {
   "codemirror_mode": {
    "name": "ipython",
    "version": 3
   },
   "file_extension": ".py",
   "mimetype": "text/x-python",
   "name": "python",
   "nbconvert_exporter": "python",
   "pygments_lexer": "ipython3",
   "version": "3.8.8"
  }
 },
 "nbformat": 4,
 "nbformat_minor": 5
}
