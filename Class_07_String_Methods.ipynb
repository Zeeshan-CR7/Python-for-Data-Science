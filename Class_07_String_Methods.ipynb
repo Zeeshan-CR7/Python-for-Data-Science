{
 "cells": [
  {
   "cell_type": "code",
   "execution_count": 29,
   "metadata": {
    "ExecuteTime": {
     "end_time": "2021-05-26T02:59:34.180636Z",
     "start_time": "2021-05-26T02:59:34.164398Z"
    }
   },
   "outputs": [
    {
     "name": "stdout",
     "output_type": "stream",
     "text": [
      "True\n",
      "True\n",
      "True\n",
      "True\n",
      "False\n",
      "True\n"
     ]
    }
   ],
   "source": [
    "# These methods return Boolean values\n",
    "my_str1 = 'Python class'\n",
    "# my_str2 = 'Python1234'\n",
    "# my_str3 = '12345678'\n",
    "# my_str4 = '&^*%$$%^'\n",
    "# my_str5 = '\\n\\t \\v\\f'\n",
    "\n",
    "# isalnum() -> alphabet, numeric, alphanumeric\n",
    "# my_str1.isalnum()\n",
    "# my_str2.isalnum()\n",
    "# my_str3.isalnum()\n",
    "\n",
    "# isalpha() -> alphabet\n",
    "# my_str1.isalnum()\n",
    "\n",
    "# isnumeric() - numeric\n",
    "# my_str3.isnumeric()\n",
    "\n",
    "# my_str6 = 'fließen'\n",
    "# my_str6.isascii()\n",
    "\n",
    "# isidentifier() -> valid identifier\n",
    "# '__abc__'.isidentifier()\n",
    "# 'for'.isidentifier()\n",
    "# '1num'.isidentifier()\n",
    "# 'num%'.isidentifier()\n",
    "\n",
    "# isprintable() -> whether each characters is printable\n",
    "# print('This is Python class')\n",
    "# print('This is \\nPython class')\n",
    "# 'This is Python class'.isprintable()\n",
    "# 'This is \\nPython class'.isprintable()\n",
    "\n",
    "# isspace() -> space character\n",
    "my_str1.isspace()\n",
    "# my_str5.isspace()\n",
    "\n",
    "# islower() - all characters are in lower case\n",
    "# isupper() - all characters are in upper case\n",
    "# istitle() - all characters are in title case\n",
    "\n",
    "# startswith, endswith\n",
    "# my_str = 'This is Python class'\n",
    "# print(my_str.startswith('T'))\n",
    "# print(my_str.startswith('This'))\n",
    "# print(my_str.startswith('P', 8))\n",
    "# print(my_str.startswith('P', 3))\n",
    "# print(my_str.startswith('Python', 8, 10))\n",
    "# print(my_str.startswith('Python', 8, 20))\n",
    "\n",
    "# my_str = 'This is Python class'\n",
    "# print(my_str.endswith('s'))\n",
    "# print(my_str.endswith('class'))\n",
    "# print(my_str.endswith('s', 19))\n",
    "# print(my_str.endswith('s', 10))\n",
    "# print(my_str.endswith('class', 8, 10))\n",
    "# print(my_str.endswith('class', 8, 20))\n",
    "\n",
    "\n",
    "\n",
    "\n"
   ]
  },
  {
   "cell_type": "code",
   "execution_count": 36,
   "metadata": {
    "ExecuteTime": {
     "end_time": "2021-05-26T03:10:09.264929Z",
     "start_time": "2021-05-26T03:10:09.242772Z"
    }
   },
   "outputs": [
    {
     "name": "stdout",
     "output_type": "stream",
     "text": [
      "3\n",
      "19\n",
      "2\n",
      "5\n",
      "5\n"
     ]
    },
    {
     "ename": "ValueError",
     "evalue": "substring not found",
     "output_type": "error",
     "traceback": [
      "\u001b[0;31m---------------------------------------------------------------------------\u001b[0m",
      "\u001b[0;31mValueError\u001b[0m                                Traceback (most recent call last)",
      "\u001b[0;32m<ipython-input-36-8ee6a75e994c>\u001b[0m in \u001b[0;36m<module>\u001b[0;34m\u001b[0m\n\u001b[1;32m     27\u001b[0m \u001b[0mprint\u001b[0m\u001b[0;34m(\u001b[0m\u001b[0mmy_str\u001b[0m\u001b[0;34m.\u001b[0m\u001b[0mrindex\u001b[0m\u001b[0;34m(\u001b[0m\u001b[0;34m'is'\u001b[0m\u001b[0;34m)\u001b[0m\u001b[0;34m)\u001b[0m\u001b[0;34m\u001b[0m\u001b[0;34m\u001b[0m\u001b[0m\n\u001b[1;32m     28\u001b[0m \u001b[0mprint\u001b[0m\u001b[0;34m(\u001b[0m\u001b[0mmy_str\u001b[0m\u001b[0;34m.\u001b[0m\u001b[0mindex\u001b[0m\u001b[0;34m(\u001b[0m\u001b[0;34m'is'\u001b[0m\u001b[0;34m,\u001b[0m \u001b[0;36m4\u001b[0m\u001b[0;34m,\u001b[0m \u001b[0;36m10\u001b[0m\u001b[0;34m)\u001b[0m\u001b[0;34m)\u001b[0m\u001b[0;34m\u001b[0m\u001b[0;34m\u001b[0m\u001b[0m\n\u001b[0;32m---> 29\u001b[0;31m \u001b[0mprint\u001b[0m\u001b[0;34m(\u001b[0m\u001b[0mmy_str\u001b[0m\u001b[0;34m.\u001b[0m\u001b[0mrindex\u001b[0m\u001b[0;34m(\u001b[0m\u001b[0;34m'is'\u001b[0m\u001b[0;34m,\u001b[0m \u001b[0;36m10\u001b[0m\u001b[0;34m,\u001b[0m \u001b[0;36m15\u001b[0m\u001b[0;34m)\u001b[0m\u001b[0;34m)\u001b[0m\u001b[0;34m\u001b[0m\u001b[0;34m\u001b[0m\u001b[0m\n\u001b[0m",
      "\u001b[0;31mValueError\u001b[0m: substring not found"
     ]
    }
   ],
   "source": [
    "# find(), rfind() - \n",
    "#     - Returns the index of the character or word you are looking into a given string\n",
    "#     - Find method will return lowest index and rfind method returns highest index.\n",
    "#     - If substring is not found then these method returns -1\n",
    "#     - find method returns the first occurrence of substring from LHS where \n",
    "#     rfind method returns the first occurrence of substring from RHS\n",
    "\n",
    "my_str = 'This is Python class'\n",
    "# print(my_str.find('s'))\n",
    "# print(my_str.rfind('s'))\n",
    "# print(my_str.find('is'))\n",
    "# print(my_str.rfind('is'))\n",
    "# print(my_str.find('is', 4, 10))\n",
    "# print(my_str.rfind('is', 10, 15))\n",
    "\n",
    "# index(), rindex()) - \n",
    "#     - Returns the index of the character or word you are looking into a given string\n",
    "#     - index method will return lowest index and rindex method returns highest index.\n",
    "#     - If substring is not found then these method returns ValueError\n",
    "#     - index method returns the first occurrence of substring from LHS where \n",
    "#     rindex method returns the first occurrence of substring from RHS\n",
    "\n",
    "# my_str = 'This is Python class'\n",
    "# print(my_str.index('s'))\n",
    "# print(my_str.rindex('s'))\n",
    "# print(my_str.index('is'))\n",
    "# print(my_str.rindex('is'))\n",
    "# print(my_str.index('is', 4, 10))\n",
    "# print(my_str.rindex('is', 10, 15))\n"
   ]
  },
  {
   "cell_type": "code",
   "execution_count": 65,
   "metadata": {
    "ExecuteTime": {
     "end_time": "2021-05-26T03:28:46.249132Z",
     "start_time": "2021-05-26T03:28:46.220967Z"
    }
   },
   "outputs": [
    {
     "data": {
      "text/plain": [
       "'This is Python class.'"
      ]
     },
     "execution_count": 65,
     "metadata": {},
     "output_type": "execute_result"
    }
   ],
   "source": [
    "# strip(), rstrip(), lstrip() - They remove the spaces from ends\n",
    "my_str1 = '       This is        Python    class.          '\n",
    "# print(my_str1.strip())\n",
    "# print(my_str1.rstrip())\n",
    "# print(my_str1.lstrip())\n",
    "\n",
    "' '.join(my_str1.split())\n",
    "\n",
    "\n",
    "\n",
    "\n"
   ]
  },
  {
   "cell_type": "code",
   "execution_count": 41,
   "metadata": {
    "ExecuteTime": {
     "end_time": "2021-05-26T03:15:14.855568Z",
     "start_time": "2021-05-26T03:15:14.844933Z"
    }
   },
   "outputs": [
    {
     "name": "stdout",
     "output_type": "stream",
     "text": [
      "Thiz iz Python class\n",
      "This is Python class\n"
     ]
    }
   ],
   "source": [
    "# replace() - replaces the old tring with new string\n",
    "\n",
    "my_str1 = 'This is Python class'\n",
    "print(my_str1.replace('s', 'z', 2))\n",
    "print(my_str1)\n",
    "\n"
   ]
  },
  {
   "cell_type": "code",
   "execution_count": 46,
   "metadata": {
    "ExecuteTime": {
     "end_time": "2021-05-26T03:16:27.219119Z",
     "start_time": "2021-05-26T03:16:27.201584Z"
    }
   },
   "outputs": [
    {
     "name": "stdout",
     "output_type": "stream",
     "text": [
      "2\n",
      "2\n"
     ]
    }
   ],
   "source": [
    "# count() - repetition of the substring\n",
    "my_str1 = 'This is Python class'\n",
    "print(my_str1.count('s', 0, 8))\n",
    "print(my_str1.count('is'))"
   ]
  },
  {
   "cell_type": "code",
   "execution_count": 55,
   "metadata": {
    "ExecuteTime": {
     "end_time": "2021-05-26T03:23:13.333843Z",
     "start_time": "2021-05-26T03:23:13.317092Z"
    },
    "scrolled": true
   },
   "outputs": [
    {
     "name": "stdout",
     "output_type": "stream",
     "text": [
      "IIIIIIIIPythonIIIIIII\n"
     ]
    },
    {
     "data": {
      "text/plain": [
       "'00000000000000Python'"
      ]
     },
     "execution_count": 55,
     "metadata": {},
     "output_type": "execute_result"
    }
   ],
   "source": [
    "# center(), ljust(), rjust(), zfill()\n",
    "my_str1 = 'Python'\n",
    "# print(my_str1.center(21, 'I'))\n",
    "# print(my_str1.ljust(20, '*'))\n",
    "# print(my_str1.rjust(20, '*'))\n",
    "\n",
    "my_str1.zfill(20)\n",
    "\n",
    "\n",
    "\n",
    "\n"
   ]
  },
  {
   "cell_type": "code",
   "execution_count": 59,
   "metadata": {
    "ExecuteTime": {
     "end_time": "2021-05-26T03:25:27.356289Z",
     "start_time": "2021-05-26T03:25:27.349063Z"
    }
   },
   "outputs": [
    {
     "name": "stdout",
     "output_type": "stream",
     "text": [
      "('Th', 'is', ' is Python class')\n"
     ]
    }
   ],
   "source": [
    "# my_str1 = 'This is Python class'\n",
    "# print(my_str1.partition('is'))\n",
    "# print(my_str1.rpartition('is'))"
   ]
  },
  {
   "cell_type": "code",
   "execution_count": 63,
   "metadata": {
    "ExecuteTime": {
     "end_time": "2021-05-26T03:28:14.546509Z",
     "start_time": "2021-05-26T03:28:14.540296Z"
    }
   },
   "outputs": [
    {
     "name": "stdout",
     "output_type": "stream",
     "text": [
      "Cisco::HP::SAMSUNG::NOKIA::MOTOROAL::LENOVO\n"
     ]
    }
   ],
   "source": [
    "# split(), join()\n",
    "\n",
    "my_str1 = 'Cisco HP SAMSUNG NOKIA MOTOROAL LENOVO'\n",
    "my_lst = my_str1.split()\n",
    "\n",
    "# Join it back using separator as -->\n",
    "print('::'.join(my_lst))\n",
    "\n"
   ]
  },
  {
   "cell_type": "code",
   "execution_count": null,
   "metadata": {},
   "outputs": [],
   "source": []
  },
  {
   "cell_type": "code",
   "execution_count": null,
   "metadata": {},
   "outputs": [],
   "source": []
  }
 ],
 "metadata": {
  "kernelspec": {
   "display_name": "Python 3",
   "language": "python",
   "name": "python3"
  },
  "language_info": {
   "codemirror_mode": {
    "name": "ipython",
    "version": 3
   },
   "file_extension": ".py",
   "mimetype": "text/x-python",
   "name": "python",
   "nbconvert_exporter": "python",
   "pygments_lexer": "ipython3",
   "version": "3.8.2"
  },
  "latex_envs": {
   "LaTeX_envs_menu_present": true,
   "autoclose": false,
   "autocomplete": true,
   "bibliofile": "biblio.bib",
   "cite_by": "apalike",
   "current_citInitial": 1,
   "eqLabelWithNumbers": true,
   "eqNumInitial": 1,
   "hotkeys": {
    "equation": "Ctrl-E",
    "itemize": "Ctrl-I"
   },
   "labels_anchors": false,
   "latex_user_defs": false,
   "report_style_numbering": false,
   "user_envs_cfg": false
  },
  "varInspector": {
   "cols": {
    "lenName": 16,
    "lenType": 16,
    "lenVar": 40
   },
   "kernels_config": {
    "python": {
     "delete_cmd_postfix": "",
     "delete_cmd_prefix": "del ",
     "library": "var_list.py",
     "varRefreshCmd": "print(var_dic_list())"
    },
    "r": {
     "delete_cmd_postfix": ") ",
     "delete_cmd_prefix": "rm(",
     "library": "var_list.r",
     "varRefreshCmd": "cat(var_dic_list()) "
    }
   },
   "types_to_exclude": [
    "module",
    "function",
    "builtin_function_or_method",
    "instance",
    "_Feature"
   ],
   "window_display": false
  }
 },
 "nbformat": 4,
 "nbformat_minor": 2
}
