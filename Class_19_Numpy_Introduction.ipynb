{
 "cells": [
  {
   "cell_type": "code",
   "execution_count": 1,
   "id": "a3dbe970",
   "metadata": {
    "ExecuteTime": {
     "end_time": "2021-06-14T02:37:16.176362Z",
     "start_time": "2021-06-14T02:37:16.171118Z"
    }
   },
   "outputs": [
    {
     "name": "stdout",
     "output_type": "stream",
     "text": [
      "[[0 0 0 0]\n",
      " [0 0 0 0]\n",
      " [0 0 0 0]]\n",
      "int32\n"
     ]
    }
   ],
   "source": [
    "# Built-in function/methods to create an array\n",
    "import numpy as np\n",
    "\n",
    "arr1 = np.zeros((3, 4), dtype = int)\n",
    "print(arr1)\n",
    "print(arr1.dtype)\n",
    "\n",
    "\n"
   ]
  },
  {
   "cell_type": "code",
   "execution_count": 2,
   "id": "63ed397a",
   "metadata": {
    "ExecuteTime": {
     "end_time": "2021-06-14T02:38:03.461069Z",
     "start_time": "2021-06-14T02:38:03.455418Z"
    }
   },
   "outputs": [
    {
     "name": "stdout",
     "output_type": "stream",
     "text": [
      "[[1 1 1 1]\n",
      " [1 1 1 1]\n",
      " [1 1 1 1]]\n",
      "int32\n"
     ]
    }
   ],
   "source": [
    "# Creating an array of ones\n",
    "arr1 = np.ones((3, 4), dtype = int)\n",
    "print(arr1)\n",
    "print(arr1.dtype)"
   ]
  },
  {
   "cell_type": "code",
   "execution_count": 11,
   "id": "a292c1bf",
   "metadata": {
    "ExecuteTime": {
     "end_time": "2021-06-14T02:39:31.659964Z",
     "start_time": "2021-06-14T02:39:31.653161Z"
    }
   },
   "outputs": [
    {
     "name": "stdout",
     "output_type": "stream",
     "text": [
      "[[2 2 2 2]\n",
      " [2 2 2 2]\n",
      " [2 2 2 2]]\n",
      "int64\n"
     ]
    }
   ],
   "source": [
    "# Creating an array of twos\n",
    "arr1 = np.ones((3, 4), dtype = int)\n",
    "print(arr1*2)\n",
    "print(arr1.dtype)"
   ]
  },
  {
   "cell_type": "code",
   "execution_count": 12,
   "id": "8d4b8ef7",
   "metadata": {
    "ExecuteTime": {
     "end_time": "2021-06-14T02:39:33.565434Z",
     "start_time": "2021-06-14T02:39:33.556298Z"
    }
   },
   "outputs": [
    {
     "data": {
      "text/plain": [
       "array([[-1.28822975e-231, -1.28822975e-231,  9.38724727e-323,\n",
       "         0.00000000e+000,  0.00000000e+000],\n",
       "       [ 0.00000000e+000,  0.00000000e+000,  0.00000000e+000,\n",
       "         0.00000000e+000,  0.00000000e+000],\n",
       "       [ 0.00000000e+000,  0.00000000e+000,  0.00000000e+000,\n",
       "         0.00000000e+000,  0.00000000e+000],\n",
       "       [ 2.37663529e-312, -1.28822975e-231, -1.49457452e-154,\n",
       "         1.48219694e-323,  0.00000000e+000]])"
      ]
     },
     "execution_count": 12,
     "metadata": {},
     "output_type": "execute_result"
    }
   ],
   "source": [
    "# creating an empty array\n",
    "np.empty((4,5))\n",
    "\n"
   ]
  },
  {
   "cell_type": "code",
   "execution_count": 4,
   "id": "47c1e8b2",
   "metadata": {
    "ExecuteTime": {
     "end_time": "2021-06-14T02:39:35.618555Z",
     "start_time": "2021-06-14T02:39:35.607300Z"
    }
   },
   "outputs": [
    {
     "data": {
      "text/plain": [
       "array([[2.12199579e-314, 0.00000000e+000],\n",
       "       [5.35567160e-321, 1.47266508e-311]])"
      ]
     },
     "execution_count": 4,
     "metadata": {},
     "output_type": "execute_result"
    }
   ],
   "source": [
    "np.empty((2,2))"
   ]
  },
  {
   "cell_type": "code",
   "execution_count": 9,
   "id": "426d9f68",
   "metadata": {
    "ExecuteTime": {
     "end_time": "2021-06-14T02:46:50.741816Z",
     "start_time": "2021-06-14T02:46:50.723829Z"
    }
   },
   "outputs": [
    {
     "data": {
      "text/plain": [
       "array([[1., 0., 0.],\n",
       "       [0., 1., 0.],\n",
       "       [0., 0., 1.]])"
      ]
     },
     "execution_count": 9,
     "metadata": {},
     "output_type": "execute_result"
    }
   ],
   "source": [
    "# Identity matrix\n",
    "\n",
    "# 1 0 0 0 \n",
    "# 0 1 0 0 \n",
    "# 0 0 1 0\n",
    "# 0 0 0 1\n",
    "\n",
    "arr = np.eye(3)\n",
    "# arr[::-1]\n",
    "# arr.dtype = float\n",
    "arr\n",
    "\n"
   ]
  },
  {
   "cell_type": "code",
   "execution_count": 27,
   "id": "770faa5d",
   "metadata": {
    "ExecuteTime": {
     "end_time": "2021-06-14T02:59:25.177150Z",
     "start_time": "2021-06-14T02:59:25.169318Z"
    }
   },
   "outputs": [
    {
     "name": "stdout",
     "output_type": "stream",
     "text": [
      "[ 2.  3.  4.  5.  6.  7.  8.  9. 10.]\n"
     ]
    }
   ],
   "source": [
    "# linspace and arange\n",
    "\n",
    "# arange(start, stop, step) - similar to range\n",
    "# Difference between arange and range - arnage can create a sequence of float values\n",
    "\n",
    "# arr = np.arange(2, 10, 1)\n",
    "# print(arr)\n",
    "\n",
    "\n",
    "# arr = np.arange(2, 5, 0.5)\n",
    "# print(arr)\n",
    "\n",
    "\n",
    "arr = np.linspace(2, 10, 9)#.reshape(3, 3)\n",
    "print(arr)\n",
    "\n",
    "\n"
   ]
  },
  {
   "cell_type": "code",
   "execution_count": 32,
   "id": "f064abed",
   "metadata": {
    "ExecuteTime": {
     "end_time": "2021-06-14T02:57:37.231429Z",
     "start_time": "2021-06-14T02:57:37.226990Z"
    }
   },
   "outputs": [],
   "source": [
    "# 8/89"
   ]
  },
  {
   "cell_type": "code",
   "execution_count": 40,
   "id": "525cda76",
   "metadata": {
    "ExecuteTime": {
     "end_time": "2021-06-14T03:01:55.368307Z",
     "start_time": "2021-06-14T03:01:55.360873Z"
    }
   },
   "outputs": [
    {
     "name": "stdout",
     "output_type": "stream",
     "text": [
      "[[ 2.  4.  6.  8. 10. 12.]\n",
      " [14. 16. 18. 20. 22. 24.]]\n"
     ]
    }
   ],
   "source": [
    "# Changing the shape of an array\n",
    "# reshape(), shape\n",
    "\n",
    "# reshape creates a new object\n",
    "# shape attribute makes the changes to existing object\n",
    "\n",
    "arr = np.linspace(2, 24, 12)\n",
    "\n",
    "arr1 = arr.reshape(2, 6)\n",
    "print(arr1)\n",
    "# print()\n",
    "# print(arr)\n",
    "\n",
    "# arr.shape = (4,3)\n",
    "\n",
    "# print(arr)\n",
    "\n",
    "\n",
    "\n",
    "\n"
   ]
  },
  {
   "cell_type": "code",
   "execution_count": 51,
   "id": "19dde6e1",
   "metadata": {
    "ExecuteTime": {
     "end_time": "2021-06-14T03:04:08.387558Z",
     "start_time": "2021-06-14T03:04:08.377501Z"
    }
   },
   "outputs": [
    {
     "data": {
      "text/plain": [
       "array([[ 2.,  4.,  6.,  8.],\n",
       "       [10., 12., 14., 16.],\n",
       "       [18., 20., 22., 24.]])"
      ]
     },
     "execution_count": 51,
     "metadata": {},
     "output_type": "execute_result"
    }
   ],
   "source": [
    "arr = np.linspace(2, 24, 12)\n",
    "\n",
    "arr1=arr.reshape(3, -5)\n",
    "\n",
    "# arr.reshape(10, -1)\n",
    "\n",
    "# arr.shape = 10, -10\n",
    "\n",
    "arr1"
   ]
  },
  {
   "cell_type": "code",
   "execution_count": 53,
   "id": "2a45aa88",
   "metadata": {
    "ExecuteTime": {
     "end_time": "2021-06-14T03:05:37.404237Z",
     "start_time": "2021-06-14T03:05:37.391279Z"
    }
   },
   "outputs": [
    {
     "data": {
      "text/plain": [
       "array([[ 2., 10., 18.],\n",
       "       [ 4., 12., 20.],\n",
       "       [ 6., 14., 22.],\n",
       "       [ 8., 16., 24.]])"
      ]
     },
     "execution_count": 53,
     "metadata": {},
     "output_type": "execute_result"
    }
   ],
   "source": [
    "# Transpose - converts rows to columns and columns to rows\n",
    "\n",
    "arr1.T\n"
   ]
  },
  {
   "cell_type": "code",
   "execution_count": 54,
   "id": "2f3c226a",
   "metadata": {
    "ExecuteTime": {
     "end_time": "2021-06-14T03:06:25.085708Z",
     "start_time": "2021-06-14T03:06:25.073625Z"
    }
   },
   "outputs": [
    {
     "data": {
      "text/plain": [
       "array([ 2.,  4.,  6.,  8., 10., 12., 14., 16., 18., 20., 22., 24.])"
      ]
     },
     "execution_count": 54,
     "metadata": {},
     "output_type": "execute_result"
    }
   ],
   "source": [
    "# To convert an arry of higher tdimension to one dimension\n",
    "arr.ravel()"
   ]
  },
  {
   "cell_type": "code",
   "execution_count": 57,
   "id": "87d7e6c2",
   "metadata": {
    "ExecuteTime": {
     "end_time": "2021-06-14T03:08:37.437281Z",
     "start_time": "2021-06-14T03:08:37.431817Z"
    }
   },
   "outputs": [
    {
     "name": "stdout",
     "output_type": "stream",
     "text": [
      "[1 2 3 4 5 6 7 8]\n"
     ]
    }
   ],
   "source": [
    "# Ordering = \n",
    "#     1. C like ordering - 'C'\n",
    "#     2. Forton Like ordering - 'F'\n",
    "\n",
    "arr1 = np.arange(1, 9)\n",
    "print(arr1)\n"
   ]
  },
  {
   "cell_type": "code",
   "execution_count": 60,
   "id": "f2020506",
   "metadata": {
    "ExecuteTime": {
     "end_time": "2021-06-14T03:09:30.175900Z",
     "start_time": "2021-06-14T03:09:30.167715Z"
    }
   },
   "outputs": [
    {
     "data": {
      "text/plain": [
       "array([[1, 2, 3, 4],\n",
       "       [5, 6, 7, 8]])"
      ]
     },
     "execution_count": 60,
     "metadata": {},
     "output_type": "execute_result"
    }
   ],
   "source": [
    "arr1.reshape((2, 4), order ='C')"
   ]
  },
  {
   "cell_type": "code",
   "execution_count": 61,
   "id": "9827eac5",
   "metadata": {
    "ExecuteTime": {
     "end_time": "2021-06-14T03:10:00.442181Z",
     "start_time": "2021-06-14T03:10:00.430715Z"
    }
   },
   "outputs": [
    {
     "data": {
      "text/plain": [
       "array([[1, 3, 5, 7],\n",
       "       [2, 4, 6, 8]])"
      ]
     },
     "execution_count": 61,
     "metadata": {},
     "output_type": "execute_result"
    }
   ],
   "source": [
    "arr1.reshape((2, 4), order ='F')"
   ]
  },
  {
   "cell_type": "markdown",
   "id": "67b52494",
   "metadata": {},
   "source": [
    "# Operations on an array\n",
    "        - Arithmetic Operation\n",
    "        - Comparions\n",
    "        - Equality \n",
    "\n",
    "\n",
    "\n",
    "\n",
    "\n"
   ]
  },
  {
   "cell_type": "code",
   "execution_count": 63,
   "id": "ec1a3c55",
   "metadata": {
    "ExecuteTime": {
     "end_time": "2021-06-14T03:13:05.198803Z",
     "start_time": "2021-06-14T03:13:05.189720Z"
    }
   },
   "outputs": [
    {
     "name": "stdout",
     "output_type": "stream",
     "text": [
      "[11 22 33 44 55]\n",
      "[ -9 -18 -27 -36 -45]\n",
      "[ 10  40  90 160 250]\n"
     ]
    }
   ],
   "source": [
    "arr1 = np.array([1, 2, 3, 4, 5])\n",
    "arr2 = np.array([10,20,30,40,50])\n",
    "\n",
    "print(arr1+arr2)\n",
    "\n",
    "print(arr1-arr2)\n",
    "\n",
    "print(arr1*arr2)    # Scalar product\n",
    "\n",
    "\n",
    "\n"
   ]
  },
  {
   "cell_type": "code",
   "execution_count": 66,
   "id": "538424e9",
   "metadata": {
    "ExecuteTime": {
     "end_time": "2021-06-14T03:14:27.119493Z",
     "start_time": "2021-06-14T03:14:27.110132Z"
    }
   },
   "outputs": [
    {
     "name": "stdout",
     "output_type": "stream",
     "text": [
      "[ 10  40  90 160 250]\n"
     ]
    }
   ],
   "source": [
    "# Product\n",
    "#     1. Scalar\n",
    "#     2. Vector - np.dot(arr1, arr2)\n",
    "        # 1. No of col in first array and no of row in 2nd array should be same\n",
    "        # 2. shape of resultant aray is (no of rows of 1st Array X no of cols of 2nd array)\n",
    "\n",
    "\n",
    "# print(arr1*4)\n",
    "print(arr1*arr2)\n",
    "\n",
    "\n"
   ]
  },
  {
   "cell_type": "code",
   "execution_count": 72,
   "id": "c998156a",
   "metadata": {
    "ExecuteTime": {
     "end_time": "2021-06-14T03:25:01.570589Z",
     "start_time": "2021-06-14T03:25:01.563410Z"
    }
   },
   "outputs": [
    {
     "name": "stdout",
     "output_type": "stream",
     "text": [
      "[[ 6 12 18 24 30]\n",
      " [ 7 14 21 28 35]\n",
      " [ 8 16 24 32 40]]\n"
     ]
    }
   ],
   "source": [
    "arr1 = np.array([[1, 2, 3, 4, 5]])\n",
    "\n",
    "\n",
    "arr2 = np.array([[6],\n",
    "                 [7],\n",
    "                 [8]])\n",
    "\n",
    "print(arr1*arr2)\n",
    "\n"
   ]
  },
  {
   "cell_type": "code",
   "execution_count": 73,
   "id": "f462e57c",
   "metadata": {},
   "outputs": [
    {
     "data": {
      "text/plain": [
       "[[6, 6, 6, 6, 6],\n",
       " [7, 7, 7, 7, 7],\n",
       " [8, 8, 8, 8, 8],\n",
       " [9, 9, 9, 9, 9],\n",
       " [10, 10, 10, 10, 10]]"
      ]
     },
     "execution_count": 73,
     "metadata": {},
     "output_type": "execute_result"
    }
   ],
   "source": [
    "[[1, 2, 3, 4, 5],\n",
    " [1, 2, 3, 4, 5],\n",
    " [1, 2, 3, 4, 5],\n",
    " [1, 2, 3, 4, 5],\n",
    " [1, 2, 3, 4, 5]]\n",
    "\n",
    "[[6, 6, 6, 6, 6],\n",
    " [7, 7, 7, 7, 7],\n",
    " [8, 8, 8, 8, 8],\n",
    " [9, 9, 9, 9, 9],\n",
    " [10,10,10,10,10]]"
   ]
  },
  {
   "cell_type": "code",
   "execution_count": null,
   "id": "6e6b5c6e",
   "metadata": {},
   "outputs": [],
   "source": [
    "np.dot()"
   ]
  },
  {
   "cell_type": "code",
   "execution_count": 88,
   "id": "39010c36",
   "metadata": {
    "ExecuteTime": {
     "end_time": "2021-06-14T03:22:41.445441Z",
     "start_time": "2021-06-14T03:22:41.431929Z"
    }
   },
   "outputs": [
    {
     "name": "stdout",
     "output_type": "stream",
     "text": [
      "[[25 26 27 28 29 30]\n",
      " [31 32 33 34 35 36]\n",
      " [37 38 39 40 41 42]\n",
      " [43 44 45 46 47 48]\n",
      " [49 50 51 52 53 54]]\n",
      "[[25 26 27 28 29 30]\n",
      " [31 32 33 34 35 36]\n",
      " [37 38 39 40 41 42]\n",
      " [43 44 45 46 47 48]\n",
      " [49 50 51 52 53 54]\n",
      " [55 56 57 58 59 60]]\n"
     ]
    },
    {
     "ename": "ValueError",
     "evalue": "operands could not be broadcast together with shapes (5,6) (6,6) ",
     "output_type": "error",
     "traceback": [
      "\u001b[1;31m---------------------------------------------------------------------------\u001b[0m",
      "\u001b[1;31mValueError\u001b[0m                                Traceback (most recent call last)",
      "\u001b[1;32m<ipython-input-88-da5a6de8b4d2>\u001b[0m in \u001b[0;36m<module>\u001b[1;34m\u001b[0m\n\u001b[0;32m      5\u001b[0m \u001b[0mprint\u001b[0m\u001b[1;33m(\u001b[0m\u001b[0marr2\u001b[0m\u001b[1;33m)\u001b[0m\u001b[1;33m\u001b[0m\u001b[1;33m\u001b[0m\u001b[0m\n\u001b[0;32m      6\u001b[0m \u001b[1;33m\u001b[0m\u001b[0m\n\u001b[1;32m----> 7\u001b[1;33m \u001b[0mprint\u001b[0m\u001b[1;33m(\u001b[0m\u001b[0marr1\u001b[0m\u001b[1;33m*\u001b[0m\u001b[0marr2\u001b[0m\u001b[1;33m)\u001b[0m\u001b[1;33m\u001b[0m\u001b[1;33m\u001b[0m\u001b[0m\n\u001b[0m",
      "\u001b[1;31mValueError\u001b[0m: operands could not be broadcast together with shapes (5,6) (6,6) "
     ]
    }
   ],
   "source": [
    "arr1 = np.arange(25, 55).reshape(5, 6)\n",
    "print(arr1)\n",
    "\n",
    "arr2 = np.arange(25, 61).reshape(6, 6)\n",
    "print(arr2)\n",
    "\n",
    "print(arr1*arr2)"
   ]
  },
  {
   "cell_type": "code",
   "execution_count": 89,
   "id": "83b3f6ac",
   "metadata": {
    "ExecuteTime": {
     "end_time": "2021-06-14T03:25:03.759886Z",
     "start_time": "2021-06-14T03:25:03.748898Z"
    }
   },
   "outputs": [
    {
     "data": {
      "text/plain": [
       "array([[ 6705,  6870,  7035,  7200,  7365,  7530],\n",
       "       [ 8145,  8346,  8547,  8748,  8949,  9150],\n",
       "       [ 9585,  9822, 10059, 10296, 10533, 10770],\n",
       "       [11025, 11298, 11571, 11844, 12117, 12390],\n",
       "       [12465, 12774, 13083, 13392, 13701, 14010]])"
      ]
     },
     "execution_count": 89,
     "metadata": {},
     "output_type": "execute_result"
    }
   ],
   "source": [
    "np.dot(arr1, arr2)"
   ]
  },
  {
   "cell_type": "code",
   "execution_count": 84,
   "id": "ad6a238e",
   "metadata": {
    "ExecuteTime": {
     "end_time": "2021-06-14T03:30:12.252740Z",
     "start_time": "2021-06-14T03:30:12.244126Z"
    }
   },
   "outputs": [
    {
     "name": "stdout",
     "output_type": "stream",
     "text": [
      "[[ 50  40 120]\n",
      " [146 120 304]]\n"
     ]
    }
   ],
   "source": [
    "arr3 = np.array([[1, 2, 3, 4],\n",
    "                 [5, 6, 7, 8 ]])\n",
    "\n",
    "arr4 = np.array([[9,8, 10],\n",
    "                 [7,6, 11],\n",
    "                 [5,4, 12],\n",
    "                 [3,2, 13]])\n",
    "\n",
    "print(np.dot(arr3, arr4))"
   ]
  },
  {
   "cell_type": "code",
   "execution_count": 95,
   "id": "422838f7",
   "metadata": {
    "ExecuteTime": {
     "end_time": "2021-06-14T03:32:29.547220Z",
     "start_time": "2021-06-14T03:32:29.540641Z"
    }
   },
   "outputs": [
    {
     "data": {
      "text/plain": [
       "array([[ 1,  2,  3,  4],\n",
       "       [ 5,  6,  7,  8],\n",
       "       [ 9, 10, 11, 12]])"
      ]
     },
     "execution_count": 95,
     "metadata": {},
     "output_type": "execute_result"
    }
   ],
   "source": [
    "# Comparison operation\n",
    "# Returns a boolean matrix\n",
    "\n",
    "arr1 = np.arange(1, 13).reshape(3, 4)\n",
    "np.random.shuffle(arr1)\n",
    "arr1"
   ]
  },
  {
   "cell_type": "code",
   "execution_count": 96,
   "id": "b0d7cf31",
   "metadata": {
    "ExecuteTime": {
     "end_time": "2021-06-14T03:32:30.635232Z",
     "start_time": "2021-06-14T03:32:30.625597Z"
    }
   },
   "outputs": [
    {
     "data": {
      "text/plain": [
       "array([[False, False, False, False],\n",
       "       [False, False, False, False],\n",
       "       [ True,  True,  True,  True]])"
      ]
     },
     "execution_count": 96,
     "metadata": {},
     "output_type": "execute_result"
    }
   ],
   "source": [
    "arr1>8"
   ]
  },
  {
   "cell_type": "code",
   "execution_count": 97,
   "id": "db416046",
   "metadata": {
    "ExecuteTime": {
     "end_time": "2021-06-14T03:33:51.089710Z",
     "start_time": "2021-06-14T03:33:51.076804Z"
    }
   },
   "outputs": [
    {
     "data": {
      "text/plain": [
       "array([ 9, 10, 11, 12])"
      ]
     },
     "execution_count": 97,
     "metadata": {},
     "output_type": "execute_result"
    }
   ],
   "source": [
    "arr1[arr1>8]"
   ]
  },
  {
   "cell_type": "code",
   "execution_count": 127,
   "id": "2bf8c7b6",
   "metadata": {
    "ExecuteTime": {
     "end_time": "2021-06-14T03:36:46.658867Z",
     "start_time": "2021-06-14T03:36:46.644458Z"
    }
   },
   "outputs": [
    {
     "data": {
      "text/plain": [
       "array([[1, 2, 3],\n",
       "       [4, 5, 6]])"
      ]
     },
     "execution_count": 127,
     "metadata": {},
     "output_type": "execute_result"
    }
   ],
   "source": [
    "arr1 = np.arange(1, 7, 1)\n",
    "arr1.shape=(2,3)\n",
    "arr1"
   ]
  },
  {
   "cell_type": "code",
   "execution_count": 99,
   "id": "00da3132",
   "metadata": {
    "ExecuteTime": {
     "end_time": "2021-06-14T03:36:55.331740Z",
     "start_time": "2021-06-14T03:36:55.323579Z"
    }
   },
   "outputs": [
    {
     "data": {
      "text/plain": [
       "array([[ 5,  8,  9],\n",
       "       [ 2, 10,  2],\n",
       "       [11,  7, 12],\n",
       "       [ 3,  3, 12]])"
      ]
     },
     "execution_count": 99,
     "metadata": {},
     "output_type": "execute_result"
    }
   ],
   "source": [
    "arr2 = np.random.randint(1, 13, (4, 3))\n",
    "arr2"
   ]
  },
  {
   "cell_type": "code",
   "execution_count": 100,
   "id": "22cb9403",
   "metadata": {
    "ExecuteTime": {
     "end_time": "2021-06-14T03:37:11.695438Z",
     "start_time": "2021-06-14T03:37:11.685576Z"
    }
   },
   "outputs": [
    {
     "data": {
      "text/plain": [
       "array([[ True, False, False],\n",
       "       [ True, False,  True],\n",
       "       [False, False, False],\n",
       "       [False,  True, False]])"
      ]
     },
     "execution_count": 100,
     "metadata": {},
     "output_type": "execute_result"
    }
   ],
   "source": [
    "arr1 > arr2"
   ]
  },
  {
   "cell_type": "code",
   "execution_count": 90,
   "id": "b7df8885",
   "metadata": {
    "ExecuteTime": {
     "end_time": "2021-06-14T03:42:12.830446Z",
     "start_time": "2021-06-14T03:42:12.819823Z"
    }
   },
   "outputs": [
    {
     "data": {
      "text/plain": [
       "518"
      ]
     },
     "execution_count": 90,
     "metadata": {},
     "output_type": "execute_result"
    }
   ],
   "source": [
    "# Compound assignment operation\n",
    "\n",
    "# arr1 += arr2\n",
    "# arr1\n",
    "\n",
    "\n",
    "19+89+183+107+120"
   ]
  },
  {
   "cell_type": "code",
   "execution_count": 101,
   "id": "e359e8b4",
   "metadata": {
    "ExecuteTime": {
     "end_time": "2021-06-14T03:40:18.513990Z",
     "start_time": "2021-06-14T03:40:18.500145Z"
    }
   },
   "outputs": [
    {
     "data": {
      "text/plain": [
       "69"
      ]
     },
     "execution_count": 101,
     "metadata": {},
     "output_type": "execute_result"
    }
   ],
   "source": [
    "# Unary Operations\n",
    "\n",
    "np.sum(arr1)\n",
    "\n"
   ]
  },
  {
   "cell_type": "code",
   "execution_count": 102,
   "id": "5f794acb",
   "metadata": {
    "ExecuteTime": {
     "end_time": "2021-06-14T03:40:27.415168Z",
     "start_time": "2021-06-14T03:40:27.406365Z"
    }
   },
   "outputs": [
    {
     "data": {
      "text/plain": [
       "10"
      ]
     },
     "execution_count": 102,
     "metadata": {},
     "output_type": "execute_result"
    }
   ],
   "source": [
    "np.max(arr1)"
   ]
  },
  {
   "cell_type": "code",
   "execution_count": 128,
   "id": "0938a5bd",
   "metadata": {
    "ExecuteTime": {
     "end_time": "2021-06-14T03:42:26.968430Z",
     "start_time": "2021-06-14T03:42:26.958271Z"
    }
   },
   "outputs": [
    {
     "data": {
      "text/plain": [
       "array([[1, 2, 3],\n",
       "       [4, 5, 6]])"
      ]
     },
     "execution_count": 128,
     "metadata": {},
     "output_type": "execute_result"
    }
   ],
   "source": [
    "arr1"
   ]
  },
  {
   "cell_type": "code",
   "execution_count": 129,
   "id": "9ae293d5",
   "metadata": {
    "ExecuteTime": {
     "end_time": "2021-06-14T03:41:42.468944Z",
     "start_time": "2021-06-14T03:41:42.456264Z"
    }
   },
   "outputs": [
    {
     "data": {
      "text/plain": [
       "array([5, 7, 9])"
      ]
     },
     "execution_count": 129,
     "metadata": {},
     "output_type": "execute_result"
    }
   ],
   "source": [
    "# Sum of all the elements along rows and columns\n",
    "\n",
    "# Along rows\n",
    "np.sum(arr1, axis = 0)\n",
    "\n"
   ]
  },
  {
   "cell_type": "code",
   "execution_count": 133,
   "id": "27dbe09b",
   "metadata": {
    "ExecuteTime": {
     "end_time": "2021-06-14T03:41:48.625946Z",
     "start_time": "2021-06-14T03:41:48.612627Z"
    }
   },
   "outputs": [
    {
     "data": {
      "text/plain": [
       "array([ 6, 15])"
      ]
     },
     "execution_count": 133,
     "metadata": {},
     "output_type": "execute_result"
    }
   ],
   "source": [
    "# Along columns\n",
    "np.sum(arr1, axis = 1)"
   ]
  },
  {
   "cell_type": "code",
   "execution_count": 131,
   "id": "2dab1da2",
   "metadata": {
    "ExecuteTime": {
     "end_time": "2021-06-14T03:45:42.585030Z",
     "start_time": "2021-06-14T03:45:42.569070Z"
    }
   },
   "outputs": [
    {
     "data": {
      "text/plain": [
       "array([4, 5, 6])"
      ]
     },
     "execution_count": 131,
     "metadata": {},
     "output_type": "execute_result"
    }
   ],
   "source": [
    "np.max(arr1, axis = 0)\n"
   ]
  },
  {
   "cell_type": "code",
   "execution_count": 132,
   "id": "52589d8b",
   "metadata": {
    "ExecuteTime": {
     "end_time": "2021-06-14T03:45:43.573208Z",
     "start_time": "2021-06-14T03:45:43.565422Z"
    }
   },
   "outputs": [
    {
     "data": {
      "text/plain": [
       "array([3, 6])"
      ]
     },
     "execution_count": 132,
     "metadata": {},
     "output_type": "execute_result"
    }
   ],
   "source": [
    "np.max(arr1, axis = 1)"
   ]
  },
  {
   "cell_type": "code",
   "execution_count": 98,
   "id": "92c01b4e",
   "metadata": {
    "ExecuteTime": {
     "end_time": "2021-06-14T03:48:27.090707Z",
     "start_time": "2021-06-14T03:48:27.082836Z"
    }
   },
   "outputs": [
    {
     "name": "stdout",
     "output_type": "stream",
     "text": [
      "[3 4 5 6]\n",
      "[1 2 3 4 5 6 7 8 9]\n"
     ]
    }
   ],
   "source": [
    "# INdexing and slicing on numpy array\n",
    "\n",
    "arr1 = np.array([1,2,3,4,5,6,7,8,9])\n",
    "# print(arr1[0])\n",
    "# print(arr1[-1])\n",
    "\n",
    "print(arr1[2:6])\n",
    "print(arr1)\n",
    "\n",
    "\n",
    "\n"
   ]
  },
  {
   "cell_type": "code",
   "execution_count": 3,
   "id": "b3c8da98",
   "metadata": {
    "ExecuteTime": {
     "end_time": "2021-06-14T03:51:12.390977Z",
     "start_time": "2021-06-14T03:51:12.378963Z"
    }
   },
   "outputs": [
    {
     "data": {
      "text/plain": [
       "array([[ 9,  5,  7,  7],\n",
       "       [ 1,  5,  6, 18],\n",
       "       [18, 18, 11,  9],\n",
       "       [17, 19, 15, 18]])"
      ]
     },
     "execution_count": 3,
     "metadata": {},
     "output_type": "execute_result"
    }
   ],
   "source": [
    "arr1 = np.random.randint(1, 20, (4, 4))\n",
    "arr1\n",
    "\n",
    "\n",
    "# Indexing on. 2D array\n",
    "# arr_name[row_ind, col_ind]\n",
    "# arr_name[row_Slicing, col_slicing]"
   ]
  },
  {
   "cell_type": "code",
   "execution_count": 4,
   "id": "0b67507d",
   "metadata": {
    "ExecuteTime": {
     "end_time": "2021-06-14T03:50:31.653263Z",
     "start_time": "2021-06-14T03:50:31.641492Z"
    }
   },
   "outputs": [
    {
     "name": "stdout",
     "output_type": "stream",
     "text": [
      "[9 5 7 7]\n",
      "[17 19 15 18]\n"
     ]
    }
   ],
   "source": [
    "# Accessing one row\n",
    "print(arr1[0])\n",
    "print(arr1[-1])"
   ]
  },
  {
   "cell_type": "code",
   "execution_count": 5,
   "id": "b30556da",
   "metadata": {
    "ExecuteTime": {
     "end_time": "2021-06-14T03:51:15.813800Z",
     "start_time": "2021-06-14T03:51:15.808307Z"
    }
   },
   "outputs": [
    {
     "name": "stdout",
     "output_type": "stream",
     "text": [
      "9\n"
     ]
    }
   ],
   "source": [
    "print(arr1[0][0])"
   ]
  },
  {
   "cell_type": "code",
   "execution_count": 6,
   "id": "bbac81f0",
   "metadata": {
    "ExecuteTime": {
     "end_time": "2021-06-14T03:51:44.797866Z",
     "start_time": "2021-06-14T03:51:44.792925Z"
    }
   },
   "outputs": [
    {
     "name": "stdout",
     "output_type": "stream",
     "text": [
      "[ 9  1 18 17]\n"
     ]
    }
   ],
   "source": [
    "# Accessing a column\n",
    "\n",
    "print(arr1[::, 0])"
   ]
  },
  {
   "cell_type": "code",
   "execution_count": 7,
   "id": "a42780d2",
   "metadata": {
    "ExecuteTime": {
     "end_time": "2021-06-14T03:52:16.072395Z",
     "start_time": "2021-06-14T03:52:16.064694Z"
    }
   },
   "outputs": [
    {
     "name": "stdout",
     "output_type": "stream",
     "text": [
      "[ 7 18  9 18]\n"
     ]
    }
   ],
   "source": [
    "# Accessing a column\n",
    "print(arr1[::, -1])"
   ]
  },
  {
   "cell_type": "code",
   "execution_count": 8,
   "id": "bc386fc7",
   "metadata": {
    "ExecuteTime": {
     "end_time": "2021-06-14T03:53:01.808663Z",
     "start_time": "2021-06-14T03:53:01.799899Z"
    }
   },
   "outputs": [
    {
     "name": "stdout",
     "output_type": "stream",
     "text": [
      "11\n"
     ]
    }
   ],
   "source": [
    "print(arr1[2, 2])"
   ]
  },
  {
   "cell_type": "code",
   "execution_count": 9,
   "id": "ae75cca0",
   "metadata": {
    "ExecuteTime": {
     "end_time": "2021-06-14T03:53:22.773844Z",
     "start_time": "2021-06-14T03:53:22.763498Z"
    }
   },
   "outputs": [
    {
     "data": {
      "text/plain": [
       "array([[ 9,  5,  7,  7],\n",
       "       [ 1,  5,  6, 18],\n",
       "       [18, 18, 11,  9],\n",
       "       [17, 19, 15, 18]])"
      ]
     },
     "execution_count": 9,
     "metadata": {},
     "output_type": "execute_result"
    }
   ],
   "source": [
    "arr1"
   ]
  },
  {
   "cell_type": "code",
   "execution_count": 10,
   "id": "1b846f8a",
   "metadata": {
    "ExecuteTime": {
     "end_time": "2021-06-14T03:53:32.079089Z",
     "start_time": "2021-06-14T03:53:32.071914Z"
    }
   },
   "outputs": [
    {
     "name": "stdout",
     "output_type": "stream",
     "text": [
      "[[ 1  5  6 18]\n",
      " [17 19 15 18]]\n"
     ]
    }
   ],
   "source": [
    "print(arr1[1::2])"
   ]
  },
  {
   "cell_type": "code",
   "execution_count": 11,
   "id": "065f4492",
   "metadata": {
    "ExecuteTime": {
     "end_time": "2021-06-14T03:54:50.113495Z",
     "start_time": "2021-06-14T03:54:50.103305Z"
    }
   },
   "outputs": [
    {
     "name": "stdout",
     "output_type": "stream",
     "text": [
      "[[ 5  7]\n",
      " [ 5 18]\n",
      " [18  9]\n",
      " [19 18]]\n"
     ]
    }
   ],
   "source": [
    "print(arr1[::,1::2])"
   ]
  },
  {
   "cell_type": "code",
   "execution_count": 12,
   "id": "e70f0f05",
   "metadata": {
    "ExecuteTime": {
     "end_time": "2021-06-14T03:55:46.791044Z",
     "start_time": "2021-06-14T03:55:46.778573Z"
    }
   },
   "outputs": [
    {
     "name": "stdout",
     "output_type": "stream",
     "text": [
      "[[18]]\n"
     ]
    }
   ],
   "source": [
    "print(arr1[3::, 3::])"
   ]
  },
  {
   "cell_type": "code",
   "execution_count": 13,
   "id": "d24df8b7",
   "metadata": {
    "ExecuteTime": {
     "end_time": "2021-06-14T03:57:24.918306Z",
     "start_time": "2021-06-14T03:57:24.910360Z"
    }
   },
   "outputs": [
    {
     "name": "stdout",
     "output_type": "stream",
     "text": [
      "[[ 5 18]\n",
      " [19 18]]\n"
     ]
    }
   ],
   "source": [
    "print(arr1[1:4:2, 1:4:2])"
   ]
  },
  {
   "cell_type": "code",
   "execution_count": 14,
   "id": "112cd63e",
   "metadata": {
    "ExecuteTime": {
     "end_time": "2021-06-14T03:58:41.054699Z",
     "start_time": "2021-06-14T03:58:41.044101Z"
    }
   },
   "outputs": [
    {
     "data": {
      "text/plain": [
       "array([[ 9,  5,  7,  7],\n",
       "       [ 1,  5,  6, 18],\n",
       "       [18, 18, 11,  9],\n",
       "       [17, 19, 15, 18]])"
      ]
     },
     "execution_count": 14,
     "metadata": {},
     "output_type": "execute_result"
    }
   ],
   "source": [
    "arr1"
   ]
  },
  {
   "cell_type": "code",
   "execution_count": 18,
   "id": "faff7f4c",
   "metadata": {
    "ExecuteTime": {
     "end_time": "2021-06-14T03:59:57.449208Z",
     "start_time": "2021-06-14T03:59:57.443029Z"
    }
   },
   "outputs": [
    {
     "data": {
      "text/plain": [
       "[[1, 2], [3, 2]]"
      ]
     },
     "execution_count": 18,
     "metadata": {},
     "output_type": "execute_result"
    }
   ],
   "source": [
    "row_ind = [[1,2],[3,2]]\n",
    "col_ind = [[2,1],[2,3]]\n",
    "row_ind\n",
    "# col_ind"
   ]
  },
  {
   "cell_type": "code",
   "execution_count": 16,
   "id": "df690d75",
   "metadata": {
    "ExecuteTime": {
     "end_time": "2021-06-14T03:59:58.230488Z",
     "start_time": "2021-06-14T03:59:58.223247Z"
    }
   },
   "outputs": [
    {
     "data": {
      "text/plain": [
       "array([[ 6, 18],\n",
       "       [15,  9]])"
      ]
     },
     "execution_count": 16,
     "metadata": {},
     "output_type": "execute_result"
    }
   ],
   "source": [
    "arr1[row_ind, col_ind]"
   ]
  },
  {
   "cell_type": "code",
   "execution_count": 50,
   "id": "adba3b13",
   "metadata": {
    "ExecuteTime": {
     "end_time": "2021-06-14T04:02:14.364741Z",
     "start_time": "2021-06-14T04:02:14.355728Z"
    }
   },
   "outputs": [
    {
     "data": {
      "text/plain": [
       "array([[[ 7, 14, 18,  6],\n",
       "        [14, 10, 19,  7],\n",
       "        [11, 16, 12,  9],\n",
       "        [16,  5, 13, 16]],\n",
       "\n",
       "       [[10, 17, 12, 11],\n",
       "        [11, 14,  4, 17],\n",
       "        [ 2, 19, 13,  6],\n",
       "        [ 2, 13, 13,  7]],\n",
       "\n",
       "       [[ 2,  6, 15,  7],\n",
       "        [ 8, 19,  4, 15],\n",
       "        [ 8,  5,  4,  9],\n",
       "        [19, 10, 18,  5]],\n",
       "\n",
       "       [[16,  9,  1, 16],\n",
       "        [ 6, 19,  6, 12],\n",
       "        [12,  6,  8, 18],\n",
       "        [13,  3, 16, 18]]])"
      ]
     },
     "execution_count": 50,
     "metadata": {},
     "output_type": "execute_result"
    }
   ],
   "source": [
    "# 3D array\n",
    "arr1 = np.random.randint(1, 20, (4, 4, 4))\n",
    "arr1"
   ]
  },
  {
   "cell_type": "code",
   "execution_count": 29,
   "id": "ef5133e3",
   "metadata": {
    "ExecuteTime": {
     "end_time": "2021-06-14T04:03:12.660975Z",
     "start_time": "2021-06-14T04:03:12.653568Z"
    }
   },
   "outputs": [
    {
     "data": {
      "text/plain": [
       "array([[ 6, 17],\n",
       "       [ 9,  9]])"
      ]
     },
     "execution_count": 29,
     "metadata": {},
     "output_type": "execute_result"
    }
   ],
   "source": [
    "arr1[1:3][1][1::2, 1::2]"
   ]
  },
  {
   "cell_type": "code",
   "execution_count": 30,
   "id": "22e41f3e",
   "metadata": {
    "ExecuteTime": {
     "end_time": "2021-06-14T04:04:04.766844Z",
     "start_time": "2021-06-14T04:04:04.758711Z"
    }
   },
   "outputs": [
    {
     "data": {
      "text/plain": [
       "array([[18,  3],\n",
       "       [10,  9]])"
      ]
     },
     "execution_count": 30,
     "metadata": {},
     "output_type": "execute_result"
    }
   ],
   "source": [
    "arr1[::2][1][::3, ::3]"
   ]
  },
  {
   "cell_type": "code",
   "execution_count": 41,
   "id": "eb953f25",
   "metadata": {
    "ExecuteTime": {
     "end_time": "2021-06-14T04:05:09.667282Z",
     "start_time": "2021-06-14T04:05:09.658503Z"
    }
   },
   "outputs": [
    {
     "data": {
      "text/plain": [
       "array([['Banana', 'Mango', 'Guava', 'Avacado'],\n",
       "       ['Papaya', 'Jack fruit', 'Plum', 'Strawberry'],\n",
       "       ['Apricot', 'Apple', 'Blue berry', 'Black berry']], dtype='<U11')"
      ]
     },
     "execution_count": 41,
     "metadata": {},
     "output_type": "execute_result"
    }
   ],
   "source": [
    "fruit = np.array([[\"Banana\",\"Mango\",\"Guava\",\"Avacado\"],\n",
    "            [\"Papaya\",\"Jack fruit\",\"Plum\",\"Strawberry\"],\n",
    "            [\"Apricot\",\"Apple\",\"Blue berry\",\"Black berry\"]])\n",
    "fruit"
   ]
  },
  {
   "cell_type": "code",
   "execution_count": 42,
   "id": "6469c7d9",
   "metadata": {
    "ExecuteTime": {
     "end_time": "2021-06-14T04:05:15.565091Z",
     "start_time": "2021-06-14T04:05:15.557034Z"
    }
   },
   "outputs": [
    {
     "data": {
      "text/plain": [
       "array([[0, 1],\n",
       "       [1, 2]])"
      ]
     },
     "execution_count": 42,
     "metadata": {},
     "output_type": "execute_result"
    }
   ],
   "source": [
    "k = np.array([[0,1],[1,2]])\n",
    "k"
   ]
  },
  {
   "cell_type": "code",
   "execution_count": 43,
   "id": "5a35c7a1",
   "metadata": {
    "ExecuteTime": {
     "end_time": "2021-06-14T04:05:20.597777Z",
     "start_time": "2021-06-14T04:05:20.582693Z"
    }
   },
   "outputs": [
    {
     "data": {
      "text/plain": [
       "array([[2, 1],\n",
       "       [3, 3]])"
      ]
     },
     "execution_count": 43,
     "metadata": {},
     "output_type": "execute_result"
    }
   ],
   "source": [
    "v = np.array([[2,1],[3,3]])\n",
    "v"
   ]
  },
  {
   "cell_type": "code",
   "execution_count": 44,
   "id": "791748e9",
   "metadata": {
    "ExecuteTime": {
     "end_time": "2021-06-14T04:06:00.116462Z",
     "start_time": "2021-06-14T04:06:00.107527Z"
    }
   },
   "outputs": [],
   "source": [
    "fruit[k, v] = 'Watermelon'"
   ]
  },
  {
   "cell_type": "code",
   "execution_count": 45,
   "id": "bf799a7e",
   "metadata": {
    "ExecuteTime": {
     "end_time": "2021-06-14T04:06:03.059836Z",
     "start_time": "2021-06-14T04:06:03.044842Z"
    }
   },
   "outputs": [
    {
     "data": {
      "text/plain": [
       "array([['Banana', 'Mango', 'Watermelon', 'Avacado'],\n",
       "       ['Papaya', 'Watermelon', 'Plum', 'Watermelon'],\n",
       "       ['Apricot', 'Apple', 'Blue berry', 'Watermelon']], dtype='<U11')"
      ]
     },
     "execution_count": 45,
     "metadata": {},
     "output_type": "execute_result"
    }
   ],
   "source": [
    "fruit"
   ]
  },
  {
   "cell_type": "code",
   "execution_count": 138,
   "id": "5b6c7e97",
   "metadata": {
    "ExecuteTime": {
     "end_time": "2021-06-14T04:06:33.564415Z",
     "start_time": "2021-06-14T04:06:33.546925Z"
    }
   },
   "outputs": [
    {
     "data": {
      "text/plain": [
       "array([[17, 41,  4, 26, 81, 84],\n",
       "       [78, 28, 98, 16, 98, 84],\n",
       "       [94, 82, 73, 93, 62, 81],\n",
       "       [58, 76, 57, 60,  2, 19],\n",
       "       [13,  7, 39, 12, 98,  6],\n",
       "       [96, 49, 51, 92,  8, 99]])"
      ]
     },
     "execution_count": 138,
     "metadata": {},
     "output_type": "execute_result"
    }
   ],
   "source": [
    "arr1 = np.random.randint(1, 100, (6, 6))\n",
    "arr1"
   ]
  },
  {
   "cell_type": "code",
   "execution_count": 139,
   "id": "1ea6b824",
   "metadata": {
    "ExecuteTime": {
     "end_time": "2021-06-14T04:06:52.877708Z",
     "start_time": "2021-06-14T04:06:52.861569Z"
    }
   },
   "outputs": [
    {
     "data": {
      "text/plain": [
       "array([81, 84, 78, 98, 98, 84, 94, 82, 73, 93, 62, 81, 58, 76, 57, 60, 98,\n",
       "       96, 51, 92, 99])"
      ]
     },
     "execution_count": 139,
     "metadata": {},
     "output_type": "execute_result"
    }
   ],
   "source": [
    "arr1[arr1>50]"
   ]
  },
  {
   "cell_type": "code",
   "execution_count": 51,
   "id": "702e7f6c",
   "metadata": {
    "ExecuteTime": {
     "end_time": "2021-06-14T04:07:27.233007Z",
     "start_time": "2021-06-14T04:07:27.217905Z"
    }
   },
   "outputs": [
    {
     "data": {
      "text/plain": [
       "17"
      ]
     },
     "execution_count": 51,
     "metadata": {},
     "output_type": "execute_result"
    }
   ],
   "source": [
    "# How many element which are greater than 50\n",
    "\n",
    "np.sum(arr1>15)\n",
    "\n"
   ]
  },
  {
   "cell_type": "code",
   "execution_count": 52,
   "id": "fda29280",
   "metadata": {
    "ExecuteTime": {
     "end_time": "2021-06-14T04:08:09.316269Z",
     "start_time": "2021-06-14T04:08:09.307760Z"
    }
   },
   "outputs": [
    {
     "data": {
      "text/plain": [
       "True"
      ]
     },
     "execution_count": 52,
     "metadata": {},
     "output_type": "execute_result"
    }
   ],
   "source": [
    "np.any(arr1>15)"
   ]
  },
  {
   "cell_type": "code",
   "execution_count": 47,
   "id": "5d92f6cf",
   "metadata": {
    "ExecuteTime": {
     "end_time": "2021-06-14T04:08:29.698830Z",
     "start_time": "2021-06-14T04:08:29.688089Z"
    }
   },
   "outputs": [
    {
     "data": {
      "text/plain": [
       "False"
      ]
     },
     "execution_count": 47,
     "metadata": {},
     "output_type": "execute_result"
    }
   ],
   "source": [
    "np.all(arr1>15)"
   ]
  },
  {
   "cell_type": "code",
   "execution_count": null,
   "id": "6c7158b7",
   "metadata": {},
   "outputs": [],
   "source": []
  },
  {
   "cell_type": "code",
   "execution_count": null,
   "id": "e2a9946e",
   "metadata": {},
   "outputs": [],
   "source": []
  },
  {
   "cell_type": "code",
   "execution_count": null,
   "id": "340a799b",
   "metadata": {},
   "outputs": [],
   "source": []
  },
  {
   "cell_type": "code",
   "execution_count": null,
   "id": "b7829c32",
   "metadata": {},
   "outputs": [],
   "source": []
  },
  {
   "cell_type": "code",
   "execution_count": null,
   "id": "316705ba",
   "metadata": {},
   "outputs": [],
   "source": []
  },
  {
   "cell_type": "code",
   "execution_count": null,
   "id": "b8069a02",
   "metadata": {},
   "outputs": [],
   "source": []
  },
  {
   "cell_type": "code",
   "execution_count": null,
   "id": "2fb23dfd",
   "metadata": {},
   "outputs": [],
   "source": []
  },
  {
   "cell_type": "code",
   "execution_count": null,
   "id": "53889a7c",
   "metadata": {},
   "outputs": [],
   "source": []
  },
  {
   "cell_type": "code",
   "execution_count": null,
   "id": "5971ad90",
   "metadata": {},
   "outputs": [],
   "source": []
  },
  {
   "cell_type": "code",
   "execution_count": null,
   "id": "2742ab2a",
   "metadata": {},
   "outputs": [],
   "source": []
  },
  {
   "cell_type": "code",
   "execution_count": null,
   "id": "6b7faec4",
   "metadata": {},
   "outputs": [],
   "source": []
  },
  {
   "cell_type": "code",
   "execution_count": null,
   "id": "563b2a8a",
   "metadata": {},
   "outputs": [],
   "source": []
  },
  {
   "cell_type": "code",
   "execution_count": null,
   "id": "914e04d5",
   "metadata": {},
   "outputs": [],
   "source": []
  },
  {
   "cell_type": "code",
   "execution_count": null,
   "id": "4d8173e4",
   "metadata": {},
   "outputs": [],
   "source": []
  },
  {
   "cell_type": "code",
   "execution_count": null,
   "id": "117dff8d",
   "metadata": {},
   "outputs": [],
   "source": []
  },
  {
   "cell_type": "code",
   "execution_count": null,
   "id": "69ed5fae",
   "metadata": {},
   "outputs": [],
   "source": []
  },
  {
   "cell_type": "code",
   "execution_count": null,
   "id": "59f78a69",
   "metadata": {},
   "outputs": [],
   "source": []
  },
  {
   "cell_type": "code",
   "execution_count": null,
   "id": "9201c93d",
   "metadata": {},
   "outputs": [],
   "source": []
  },
  {
   "cell_type": "code",
   "execution_count": null,
   "id": "f7ea9a26",
   "metadata": {},
   "outputs": [],
   "source": []
  },
  {
   "cell_type": "code",
   "execution_count": null,
   "id": "2db62591",
   "metadata": {},
   "outputs": [],
   "source": []
  },
  {
   "cell_type": "code",
   "execution_count": null,
   "id": "f796d9c1",
   "metadata": {},
   "outputs": [],
   "source": []
  }
 ],
 "metadata": {
  "kernelspec": {
   "display_name": "Python 3",
   "language": "python",
   "name": "python3"
  },
  "language_info": {
   "codemirror_mode": {
    "name": "ipython",
    "version": 3
   },
   "file_extension": ".py",
   "mimetype": "text/x-python",
   "name": "python",
   "nbconvert_exporter": "python",
   "pygments_lexer": "ipython3",
   "version": "3.8.8"
  }
 },
 "nbformat": 4,
 "nbformat_minor": 5
}
