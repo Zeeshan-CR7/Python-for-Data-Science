{
 "cells": [
  {
   "cell_type": "code",
   "execution_count": 1,
   "metadata": {
    "ExecuteTime": {
     "end_time": "2021-05-30T10:39:08.217551Z",
     "start_time": "2021-05-30T10:39:08.195123Z"
    }
   },
   "outputs": [
    {
     "name": "stdout",
     "output_type": "stream",
     "text": [
      "['__add__', '__class__', '__contains__', '__delattr__', '__delitem__', '__dir__', '__doc__', '__eq__', '__format__', '__ge__', '__getattribute__', '__getitem__', '__gt__', '__hash__', '__iadd__', '__imul__', '__init__', '__init_subclass__', '__iter__', '__le__', '__len__', '__lt__', '__mul__', '__ne__', '__new__', '__reduce__', '__reduce_ex__', '__repr__', '__reversed__', '__rmul__', '__setattr__', '__setitem__', '__sizeof__', '__str__', '__subclasshook__', 'append', 'clear', 'copy', 'count', 'extend', 'index', 'insert', 'pop', 'remove', 'reverse', 'sort']\n"
     ]
    }
   ],
   "source": [
    "print(dir(list))\n",
    "\n",
    "# Magic Methods\n",
    "\n",
    "# "
   ]
  },
  {
   "cell_type": "code",
   "execution_count": 5,
   "metadata": {
    "ExecuteTime": {
     "end_time": "2021-05-30T10:53:00.370608Z",
     "start_time": "2021-05-30T10:53:00.358788Z"
    }
   },
   "outputs": [
    {
     "name": "stdout",
     "output_type": "stream",
     "text": [
      "[10, 20, 30, 40] 4570619392\n",
      "[111, 20, 30, 40] 4570619392\n"
     ]
    }
   ],
   "source": [
    "# Inserting the element inside a list - append, insert, extend\n",
    "\n",
    "lst = [10,20,30,40]\n",
    "print(lst, id(lst))\n",
    "# lst.append(111)\n",
    "# print(lst, id(lst))\n",
    "# lst.append([1,2,3,4])\n",
    "# print(lst)\n",
    "\n",
    "# lst[0] = 111\n",
    "# print(lst, id(lst))\n",
    "\n",
    "\n"
   ]
  },
  {
   "cell_type": "code",
   "execution_count": 6,
   "metadata": {
    "ExecuteTime": {
     "end_time": "2021-05-30T10:54:02.304553Z",
     "start_time": "2021-05-30T10:54:02.266038Z"
    }
   },
   "outputs": [
    {
     "name": "stdout",
     "output_type": "stream",
     "text": [
      "[10, 20, 30, 40, 1, 2, 3, 4]\n",
      "[10, 20, 30, 40]\n",
      "[1, 2, 3, 4]\n"
     ]
    }
   ],
   "source": [
    "lst1 = [10,20,30,40]\n",
    "lst2 = [1,2,3,4]\n",
    "print(lst1+lst2)    # Concatenation operation always creates a new object\n",
    "print(lst1)\n",
    "print(lst2)"
   ]
  },
  {
   "cell_type": "code",
   "execution_count": 9,
   "metadata": {
    "ExecuteTime": {
     "end_time": "2021-05-30T10:58:35.296366Z",
     "start_time": "2021-05-30T10:58:35.287869Z"
    }
   },
   "outputs": [
    {
     "name": "stdout",
     "output_type": "stream",
     "text": [
      "[10, 20, 30, 40, 1, 2, 3, 4]\n",
      "[1, 2, 3, 4]\n"
     ]
    }
   ],
   "source": [
    "# Extend \n",
    "lst1 = [10,20,30,40]\n",
    "lst2 = [1,2,3,4]\n",
    "lst1.extend(lst2)\n",
    "print(lst1)\n",
    "print(lst2)"
   ]
  },
  {
   "cell_type": "code",
   "execution_count": 11,
   "metadata": {
    "ExecuteTime": {
     "end_time": "2021-05-30T10:59:47.456844Z",
     "start_time": "2021-05-30T10:59:47.449481Z"
    }
   },
   "outputs": [
    {
     "name": "stdout",
     "output_type": "stream",
     "text": [
      "[10, 20, 30, 40, 10, 20, 30, 40, 50, 60]\n"
     ]
    }
   ],
   "source": [
    "lst1 = [10,20,30,40]\n",
    "lst2 = [10,20,30,40, 50, 60]\n",
    "lst1.extend(lst2)\n",
    "print(lst1)"
   ]
  },
  {
   "cell_type": "code",
   "execution_count": 20,
   "metadata": {
    "ExecuteTime": {
     "end_time": "2021-05-30T11:11:47.877103Z",
     "start_time": "2021-05-30T11:11:47.867464Z"
    }
   },
   "outputs": [
    {
     "name": "stdout",
     "output_type": "stream",
     "text": [
      "None\n",
      "[10, 20, 30, 'Helloe', 40]\n"
     ]
    }
   ],
   "source": [
    "# insert \n",
    "lst1 = [10,20,30,40]\n",
    "# lst1.insert(2, 'Python')\n",
    "# print(lst1)\n",
    "# lst1.insert(4,[1,2,3,4])\n",
    "# print(lst1)\n",
    "print(lst1.insert(-1, 'Helloe'))\n",
    "print(lst1)"
   ]
  },
  {
   "cell_type": "code",
   "execution_count": 21,
   "metadata": {
    "ExecuteTime": {
     "end_time": "2021-05-30T11:12:50.619308Z",
     "start_time": "2021-05-30T11:12:50.602380Z"
    }
   },
   "outputs": [
    {
     "name": "stdout",
     "output_type": "stream",
     "text": [
      "[1, 2, 3, 4]\n",
      "True\n",
      "[10, 10.2, (10+20j), 'Python']\n"
     ]
    }
   ],
   "source": [
    "# Removing an element from a list - pop(), pop(ind), remove(val), clear()\n",
    "lst = [10,10.20, 10+20j,'Python', True, [1,2,3,4]]\n",
    "print(lst.pop())\n",
    "print(lst.pop(4))\n",
    "print(lst)\n",
    "\n",
    "\n"
   ]
  },
  {
   "cell_type": "code",
   "execution_count": 22,
   "metadata": {
    "ExecuteTime": {
     "end_time": "2021-05-30T11:14:40.097535Z",
     "start_time": "2021-05-30T11:14:40.088814Z"
    }
   },
   "outputs": [
    {
     "name": "stdout",
     "output_type": "stream",
     "text": [
      "[10, 10.2, 'Python', True, [1, 2, 3, 4]]\n"
     ]
    }
   ],
   "source": [
    "# remove(val)\n",
    "lst = [10,10.20, 10+20j,'Python', True, [1,2,3,4]]\n",
    "lst.remove(10+20j)\n",
    "print(lst)"
   ]
  },
  {
   "cell_type": "code",
   "execution_count": 27,
   "metadata": {
    "ExecuteTime": {
     "end_time": "2021-05-30T11:21:16.831142Z",
     "start_time": "2021-05-30T11:21:16.822299Z"
    }
   },
   "outputs": [
    {
     "name": "stdout",
     "output_type": "stream",
     "text": [
      "[]\n"
     ]
    }
   ],
   "source": [
    "# clear()\n",
    "lst = [10,10.20, 10+20j,'Python', True, [1,2,3,4]]\n",
    "lst.clear()\n",
    "print(lst)\n",
    "\n",
    "# It does not deletes the list, rather it clear all elements from the list"
   ]
  },
  {
   "cell_type": "code",
   "execution_count": 25,
   "metadata": {
    "ExecuteTime": {
     "end_time": "2021-05-30T11:20:01.289763Z",
     "start_time": "2021-05-30T11:20:01.281658Z"
    }
   },
   "outputs": [
    {
     "name": "stdout",
     "output_type": "stream",
     "text": [
      "1\n"
     ]
    }
   ],
   "source": [
    "# 'count',  'index',\n",
    "lst1 = [10,20,100,1,10,20,200,10,111,101,10,10]\n",
    "# print(lst1.count(100))\n",
    "print(lst1.index(20))\n",
    "\n",
    "# find, rfind, rindex  are not available in list\n",
    "\n",
    "\n"
   ]
  },
  {
   "cell_type": "code",
   "execution_count": 30,
   "metadata": {
    "ExecuteTime": {
     "end_time": "2021-05-30T11:22:42.784771Z",
     "start_time": "2021-05-30T11:22:42.769137Z"
    }
   },
   "outputs": [
    {
     "name": "stdout",
     "output_type": "stream",
     "text": [
      "[10, 10, 101, 111, 10, 200, 20, 10, 1, 100, 20, 10]\n",
      "[[1, 2, 3, 4], True, 'Python', (10+20j), 10.2, 10]\n"
     ]
    }
   ],
   "source": [
    "# 'reverse', 'sort'\n",
    "lst1 = [10,20,100,1,10,20,200,10,111,101,10,10]\n",
    "lst1.reverse()\n",
    "print(lst1)\n",
    "\n",
    "lst = [10,10.20, 10+20j,'Python', True, [1,2,3,4]]\n",
    "lst.reverse()\n",
    "print(lst)\n"
   ]
  },
  {
   "cell_type": "code",
   "execution_count": 36,
   "metadata": {
    "ExecuteTime": {
     "end_time": "2021-05-30T11:24:07.751937Z",
     "start_time": "2021-05-30T11:24:07.744188Z"
    }
   },
   "outputs": [
    {
     "name": "stdout",
     "output_type": "stream",
     "text": [
      "[200, 111, 101, 100, 20, 20, 10, 10, 10, 10, 10, 1]\n"
     ]
    }
   ],
   "source": [
    "# sort() - sorts the list in ascending order\n",
    "lst1 = [10,20,100,1,10,20,200,10,111,101,10,10]\n",
    "# lst1.sort()\n",
    "# print(lst1)\n",
    "\n",
    "# Sorting the list in desceding order\n",
    "# lst1.sort(reverse = True)\n",
    "# print(lst1)"
   ]
  },
  {
   "cell_type": "code",
   "execution_count": 37,
   "metadata": {
    "ExecuteTime": {
     "end_time": "2021-05-30T11:25:19.558770Z",
     "start_time": "2021-05-30T11:25:19.529077Z"
    }
   },
   "outputs": [
    {
     "ename": "TypeError",
     "evalue": "'<' not supported between instances of 'complex' and 'float'",
     "output_type": "error",
     "traceback": [
      "\u001b[0;31m---------------------------------------------------------------------------\u001b[0m",
      "\u001b[0;31mTypeError\u001b[0m                                 Traceback (most recent call last)",
      "\u001b[0;32m<ipython-input-37-a0e175e4e0b9>\u001b[0m in \u001b[0;36m<module>\u001b[0;34m\u001b[0m\n\u001b[1;32m      1\u001b[0m \u001b[0;31m# List will not be sorted if list is habving heterogeneous elelments\u001b[0m\u001b[0;34m\u001b[0m\u001b[0;34m\u001b[0m\u001b[0;34m\u001b[0m\u001b[0m\n\u001b[1;32m      2\u001b[0m \u001b[0mlst\u001b[0m \u001b[0;34m=\u001b[0m \u001b[0;34m[\u001b[0m\u001b[0;36m10\u001b[0m\u001b[0;34m,\u001b[0m\u001b[0;36m10.20\u001b[0m\u001b[0;34m,\u001b[0m \u001b[0;36m10\u001b[0m\u001b[0;34m+\u001b[0m\u001b[0;36m20j\u001b[0m\u001b[0;34m,\u001b[0m\u001b[0;34m'Python'\u001b[0m\u001b[0;34m,\u001b[0m \u001b[0;32mTrue\u001b[0m\u001b[0;34m,\u001b[0m \u001b[0;34m[\u001b[0m\u001b[0;36m1\u001b[0m\u001b[0;34m,\u001b[0m\u001b[0;36m2\u001b[0m\u001b[0;34m,\u001b[0m\u001b[0;36m3\u001b[0m\u001b[0;34m,\u001b[0m\u001b[0;36m4\u001b[0m\u001b[0;34m]\u001b[0m\u001b[0;34m]\u001b[0m\u001b[0;34m\u001b[0m\u001b[0;34m\u001b[0m\u001b[0m\n\u001b[0;32m----> 3\u001b[0;31m \u001b[0mlst\u001b[0m\u001b[0;34m.\u001b[0m\u001b[0msort\u001b[0m\u001b[0;34m(\u001b[0m\u001b[0;34m)\u001b[0m\u001b[0;34m\u001b[0m\u001b[0;34m\u001b[0m\u001b[0m\n\u001b[0m\u001b[1;32m      4\u001b[0m \u001b[0mprint\u001b[0m\u001b[0;34m(\u001b[0m\u001b[0mlst\u001b[0m\u001b[0;34m)\u001b[0m\u001b[0;34m\u001b[0m\u001b[0;34m\u001b[0m\u001b[0m\n",
      "\u001b[0;31mTypeError\u001b[0m: '<' not supported between instances of 'complex' and 'float'"
     ]
    }
   ],
   "source": [
    "# List will not be sorted if list is habving heterogeneous elelments\n",
    "lst = [10,10.20, 10+20j,'Python', True, [1,2,3,4]]\n",
    "lst.sort()   # TypeError: '<' not supported between instances of 'complex' and 'float'\n",
    "print(lst)"
   ]
  },
  {
   "cell_type": "code",
   "execution_count": null,
   "metadata": {},
   "outputs": [],
   "source": [
    "# 'copy',  Shallow copy -> Slicing\n",
    "# Aliasing\n",
    "# Shallow copy\n",
    "# Deep copy\n",
    "\n",
    "\n"
   ]
  },
  {
   "cell_type": "code",
   "execution_count": 38,
   "metadata": {
    "ExecuteTime": {
     "end_time": "2021-05-30T11:28:02.566932Z",
     "start_time": "2021-05-30T11:28:02.520224Z"
    }
   },
   "outputs": [
    {
     "data": {
      "text/plain": [
       "[8, 64, 216, 512]"
      ]
     },
     "execution_count": 38,
     "metadata": {},
     "output_type": "execute_result"
    }
   ],
   "source": [
    "# List comprehension\n",
    "# [expr for loop if cond]\n",
    "[i**3 for i in range(2, 10) if i%2 == 0]\n",
    "\n",
    "# this will generate a list of cube of all even numbers from 2 to 10"
   ]
  },
  {
   "cell_type": "code",
   "execution_count": 43,
   "metadata": {
    "ExecuteTime": {
     "end_time": "2021-05-30T11:32:54.094160Z",
     "start_time": "2021-05-30T11:32:54.084680Z"
    }
   },
   "outputs": [
    {
     "data": {
      "text/plain": [
       "21"
      ]
     },
     "execution_count": 43,
     "metadata": {},
     "output_type": "execute_result"
    }
   ],
   "source": [
    "#Write a python program to implement index method. If sub_str is found in my_str then it will print the index\n",
    "# of first occurrence of first character of matching string in my_str:-\n",
    "\n",
    "#Input:- my_str = 'Peter Piper Picked A Peck Of Pickled Peppers.', sub_str = 'Pickl'\n",
    "#Output:- 29\n",
    "\n",
    "'Peter Piper Picked A Peck Of Pickled Peppers.'.index('Peck')\n",
    "\n"
   ]
  },
  {
   "cell_type": "code",
   "execution_count": 47,
   "metadata": {
    "ExecuteTime": {
     "end_time": "2021-05-30T11:34:10.075043Z",
     "start_time": "2021-05-30T11:34:10.045965Z"
    }
   },
   "outputs": [
    {
     "data": {
      "text/plain": [
       "'*********************Peck********************'"
      ]
     },
     "execution_count": 47,
     "metadata": {},
     "output_type": "execute_result"
    }
   ],
   "source": [
    "#Write a python program to find below output (implements rjust and ljust):-\n",
    "\n",
    "#Input:- 'Peter Piper Picked A Peck Of Pickled Peppers.', sub_str = 'Peck', \n",
    "#Output:- '*********************Peck********************'\n",
    "\n",
    "inp_str = 'Peter Piper Picked A Peck Of Pickled Peppers.'\n",
    "sub_str = 'Peck'\n",
    "sub_str.rjust((inp_str.index(sub_str)+4), '*').ljust(len(inp_str),'*')\n",
    "\n",
    "# '********************Peck*********************'\n",
    "# '*********************Peck********************'"
   ]
  },
  {
   "cell_type": "code",
   "execution_count": 51,
   "metadata": {
    "ExecuteTime": {
     "end_time": "2021-05-30T11:38:48.691217Z",
     "start_time": "2021-05-30T11:38:48.673786Z"
    }
   },
   "outputs": [
    {
     "name": "stdout",
     "output_type": "stream",
     "text": [
      "7\n"
     ]
    },
    {
     "data": {
      "text/plain": [
       "7"
      ]
     },
     "execution_count": 51,
     "metadata": {},
     "output_type": "execute_result"
    }
   ],
   "source": [
    "my_str = \"Although 8 that way may not be obvious at first unless you're Dutch\"\n",
    "\n",
    "#Write the code to get the total count of 't' in above string. Use find() and index() method.\n",
    "count_t = 0\n",
    "pos = -1\n",
    "while True:\n",
    "    pos = my_str.find('t', pos+1)\n",
    "    if pos == -1:\n",
    "        break\n",
    "    else:\n",
    "        count_t += 1\n",
    "print(count_t)\n",
    "    \n",
    "my_str.count('t')        \n",
    "\n",
    "\n"
   ]
  }
 ],
 "metadata": {
  "kernelspec": {
   "display_name": "Python 3",
   "language": "python",
   "name": "python3"
  },
  "language_info": {
   "codemirror_mode": {
    "name": "ipython",
    "version": 3
   },
   "file_extension": ".py",
   "mimetype": "text/x-python",
   "name": "python",
   "nbconvert_exporter": "python",
   "pygments_lexer": "ipython3",
   "version": "3.8.2"
  }
 },
 "nbformat": 4,
 "nbformat_minor": 2
}
