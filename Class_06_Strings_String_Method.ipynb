{
 "cells": [
  {
   "cell_type": "code",
   "execution_count": null,
   "metadata": {},
   "outputs": [],
   "source": [
    "# Strings\n",
    "    1. Anything that is kept inside '...', \"...\", '''...''', \"\"\"...\"\"\".\n",
    "    2. What is the significance of different quotation in string.\n",
    "    3. String is a sequence.\n",
    "        1. String Follows +ve and -ve indexing both.\n",
    "        2. +ve index starts from 0 from LHS.\n",
    "        3. Negative index starts from -1 from RHS.\n",
    "        4. Basic Operation - Indexing, Slicing, Concatenation, Repetition, (Membership, len) - Iterable\n",
    "    4. String is immutable.\n",
    "    5. Methods iside a string."
   ]
  },
  {
   "cell_type": "code",
   "execution_count": 4,
   "metadata": {
    "ExecuteTime": {
     "end_time": "2021-05-25T02:40:41.843074Z",
     "start_time": "2021-05-25T02:40:41.835583Z"
    }
   },
   "outputs": [
    {
     "name": "stdout",
     "output_type": "stream",
     "text": [
      "Python <class 'str'>\n",
      "Python <class 'str'>\n",
      "Python <class 'str'>\n",
      "Python <class 'str'>\n"
     ]
    }
   ],
   "source": [
    "my_str = 'Python'\n",
    "print(my_str, type(my_str))\n",
    "my_str = \"Python\"\n",
    "print(my_str, type(my_str))\n",
    "my_str = '''Python'''\n",
    "print(my_str, type(my_str))\n",
    "my_str = \"\"\"Python\"\"\"\n",
    "print(my_str, type(my_str))"
   ]
  },
  {
   "cell_type": "code",
   "execution_count": 25,
   "metadata": {
    "ExecuteTime": {
     "end_time": "2021-05-25T02:51:58.481220Z",
     "start_time": "2021-05-25T02:51:58.474882Z"
    }
   },
   "outputs": [
    {
     "name": "stdout",
     "output_type": "stream",
     "text": [
      "Lorem Ipsum is simply dummy text of the printing and typesetting industry. Lorem Ipsum has been the \n",
      "industrys standard dummy text ever since the 1500s, when an unknown printer took a galley of type and scrambled \n",
      "it to make a type specimen book. It has survived not only five centuries, but also the leap into electronic\n",
      "typesetting, remaining essentially unchanged. It was popularised in the 1960s with the release of Letraset \n",
      "sheets containing Lorem Ipsum passages, and more recently with desktop publishing software like Aldus PageMaker \n",
      "including versions of Lorem Ipsum.\n"
     ]
    }
   ],
   "source": [
    "# Use case 1\n",
    "# my_str = 'This is Python\\'s class'\n",
    "# print(my_str)\n",
    "\n",
    "# my_str = \"This is Python's class\"\n",
    "# print(my_str)\n",
    "\n",
    "# my_str = \"This is \\\"Python\\\" class\"\n",
    "# print(my_str)\n",
    "\n",
    "# my_str = \"This is 'Python' class\"\n",
    "# print(my_str)\n",
    "\n",
    "# my_str = 'This is \"Python\" class'\n",
    "# print(my_str)\n",
    "\n",
    "# my_str = '''This is \"Python\"  and 'Java' class'''\n",
    "# print(my_str)\n",
    "\n",
    "# Use case 2\n",
    "# 1. Single and Double quotations are used to define only single line string.\n",
    "# 2. triple quotation can be used to write multi line strings.\n",
    "\n",
    "\"\"\"my_str = 'Lorem Ipsum is simply dummy text of the printing and typesetting industry. Lorem Ipsum has been the \\\n",
    "industrys standard dummy text ever since the 1500s, when an unknown printer took a galley of type and scrambled \\\n",
    "it to make a type specimen book. It has survived not only five centuries, but also the leap into electronic\\\n",
    "typesetting, remaining essentially unchanged. It was popularised in the 1960s with the release of Letraset \\\n",
    "sheets containing Lorem Ipsum passages, and more recently with desktop publishing software like Aldus PageMaker \\\n",
    "including versions of Lorem Ipsum.'\n",
    "print(my_str)\"\"\"\n",
    "\n",
    "my_str = '''Lorem Ipsum is simply dummy text of the printing and typesetting industry. Lorem Ipsum has been the \n",
    "industrys standard dummy text ever since the 1500s, when an unknown printer took a galley of type and scrambled \n",
    "it to make a type specimen book. It has survived not only five centuries, but also the leap into electronic\n",
    "typesetting, remaining essentially unchanged. It was popularised in the 1960s with the release of Letraset \n",
    "sheets containing Lorem Ipsum passages, and more recently with desktop publishing software like Aldus PageMaker \n",
    "including versions of Lorem Ipsum.'''\n",
    "print(my_str)\n",
    "\n",
    "# Use case 3\n",
    "# To write multiline comments"
   ]
  },
  {
   "cell_type": "code",
   "execution_count": 17,
   "metadata": {
    "ExecuteTime": {
     "end_time": "2021-05-25T02:49:09.858243Z",
     "start_time": "2021-05-25T02:49:09.837151Z"
    }
   },
   "outputs": [
    {
     "name": "stdout",
     "output_type": "stream",
     "text": [
      "This is python class\n"
     ]
    }
   ],
   "source": [
    "my_str = 'This \\\n",
    "is \\\n",
    "python \\\n",
    "class'\n",
    "print(my_str)"
   ]
  },
  {
   "cell_type": "code",
   "execution_count": 27,
   "metadata": {
    "ExecuteTime": {
     "end_time": "2021-05-25T03:01:12.033528Z",
     "start_time": "2021-05-25T03:01:12.024897Z"
    }
   },
   "outputs": [
    {
     "name": "stdout",
     "output_type": "stream",
     "text": [
      "3\n"
     ]
    }
   ],
   "source": [
    "import sys\n",
    "print(sys.getrefcount('Python Class'))"
   ]
  },
  {
   "cell_type": "code",
   "execution_count": 47,
   "metadata": {
    "ExecuteTime": {
     "end_time": "2021-05-25T03:43:05.492143Z",
     "start_time": "2021-05-25T03:43:05.488617Z"
    }
   },
   "outputs": [],
   "source": [
    "my_str = 'This is Python class at Learnbay in Bangalore'\n",
    "# Length of string\n",
    "# print(len(my_str))\n",
    "\n",
    "# Accessing first element\n",
    "# print(my_str[0])\n",
    "# print(my_str[-45])\n",
    "# print(my_str[-len(my_str)])\n",
    "\n",
    "# Accessing last element\n",
    "# print(my_str[-1])\n",
    "# print(my_str[44])\n",
    "# print(my_str[len(my_str)-1])\n",
    "\n",
    "# print(my_str[25])\n",
    "\n",
    "# Slicing\n",
    "# print(my_str[::1])\n",
    "# print(my_str[0:len(my_str):1])\n",
    "\n",
    "# print(my_str[::-1])\n",
    "# print(my_str[-1:-len(my_str)-1:-1])\n",
    "\n",
    "# print(my_str[8:14:1])\n",
    "# # print(my_str[8:14:-1])\n",
    "# print(my_str[13:7:-1])\n",
    "\n",
    "\n",
    "\n"
   ]
  },
  {
   "cell_type": "code",
   "execution_count": 68,
   "metadata": {
    "ExecuteTime": {
     "end_time": "2021-05-25T03:53:05.180806Z",
     "start_time": "2021-05-25T03:53:05.173907Z"
    }
   },
   "outputs": [],
   "source": [
    "# Concatenation - \n",
    "#     1. Combine two strings\n",
    "#     2. It creates a new string object\n",
    "#     3. We use + operator\n",
    "#     4. For string concatenation - Boh the objects should be string type\n",
    "\n",
    "f_name = 'Learnbay'\n",
    "l_name = '''Class'''\n",
    "full_name = f_name + ' ' + l_name\n",
    "# print(f_name + 10) # TypeError: can only concatenate str (not \"int\") to str\n",
    "# print(f_name + '10')\n",
    "# print(f_name)\n",
    "# print(l_name)\n",
    "# print(full_name)\n",
    "\n",
    "# Repetition operation\n",
    "#     1. It repeats a string\n",
    "#     2. This operation also creates a new string\n",
    "#     3. We use * operator\n",
    "#     4. For string Repetition - One of the operand should be string and other should be int\n",
    "# print((f_name + ' ') * 3)\n",
    "# print(f_name * 3.0)   # TypeError: can't multiply sequence by non-int of type 'float'\n",
    "# print(f_name)\n",
    "# print((f_name * 3),l_name, sep = ' ')\n",
    "\n",
    "\n",
    "\n"
   ]
  },
  {
   "cell_type": "code",
   "execution_count": 77,
   "metadata": {
    "ExecuteTime": {
     "end_time": "2021-05-25T03:55:36.865444Z",
     "start_time": "2021-05-25T03:55:36.858274Z"
    }
   },
   "outputs": [],
   "source": [
    "# Membership - Iterable - in, not in\n",
    "# Iterable is any object which implements __iter__ -> str, derived data types\n",
    "# print(dir(list))\n",
    "# Returns only Boolean values\n",
    "\n",
    "# my_str = 'This is Python class at Learnbay in Bangalore'\n",
    "# print('i' in my_str)\n",
    "# print('i' not in my_str)\n",
    "# print('Bangalore' in my_str)\n",
    "# print('Bangalore' not in my_str)\n",
    "\n"
   ]
  },
  {
   "cell_type": "code",
   "execution_count": 88,
   "metadata": {
    "ExecuteTime": {
     "end_time": "2021-05-25T04:01:45.795676Z",
     "start_time": "2021-05-25T04:01:45.779111Z"
    }
   },
   "outputs": [
    {
     "name": "stdout",
     "output_type": "stream",
     "text": [
      "Before Operation\n",
      "[10, 20, 30, 40] 4642939904\n",
      "\n",
      "After Operation\n",
      "[111, 20, 30, 40] 4642939904\n"
     ]
    }
   ],
   "source": [
    "# Mutability vs Immutability\n",
    "\n",
    "# Mutable -> We can modify the object and changes will be done to the existing object, Allows Itemm Assignment => List, Dictionary\n",
    "# Immutable -> We can not modify the object, Does not allow Itemm Assignment => string, tuple\n",
    "\n",
    "# my_str = 'This is Python class at Learnbay in Bangalore'\n",
    "# print('Before Operation')\n",
    "# print(my_str, id(my_str))\n",
    "# print()\n",
    "# # my_str[8] = 'J'     # TypeError: 'str' object does not support item assignment\n",
    "# new_str = my_str.replace('Python', 'Jython')\n",
    "# print('After Operation')\n",
    "# print(new_str, id(new_str))\n",
    "# print(my_str,id(my_str))\n",
    "\n",
    "\n",
    "# my_lst = [10,20,30,40]\n",
    "# print('Before Operation')\n",
    "# print(my_lst, id(my_lst))\n",
    "# print()\n",
    "# my_lst[0] = 111\n",
    "# print('After Operation')\n",
    "# print(my_lst, id(my_lst))\n",
    "\n",
    "\n",
    "\n",
    "\n"
   ]
  },
  {
   "cell_type": "code",
   "execution_count": 89,
   "metadata": {
    "ExecuteTime": {
     "end_time": "2021-05-25T04:04:38.772141Z",
     "start_time": "2021-05-25T04:04:38.764124Z"
    }
   },
   "outputs": [
    {
     "name": "stdout",
     "output_type": "stream",
     "text": [
      "['__add__', '__class__', '__contains__', '__delattr__', '__dir__', '__doc__', '__eq__', '__format__', '__ge__', '__getattribute__', '__getitem__', '__getnewargs__', '__gt__', '__hash__', '__init__', '__init_subclass__', '__iter__', '__le__', '__len__', '__lt__', '__mod__', '__mul__', '__ne__', '__new__', '__reduce__', '__reduce_ex__', '__repr__', '__rmod__', '__rmul__', '__setattr__', '__sizeof__', '__str__', '__subclasshook__', 'capitalize', 'casefold', 'center', 'count', 'encode', 'endswith', 'expandtabs', 'find', 'format', 'format_map', 'index', 'isalnum', 'isalpha', 'isascii', 'isdecimal', 'isdigit', 'isidentifier', 'islower', 'isnumeric', 'isprintable', 'isspace', 'istitle', 'isupper', 'join', 'ljust', 'lower', 'lstrip', 'maketrans', 'partition', 'replace', 'rfind', 'rindex', 'rjust', 'rpartition', 'rsplit', 'rstrip', 'split', 'splitlines', 'startswith', 'strip', 'swapcase', 'title', 'translate', 'upper', 'zfill']\n"
     ]
    }
   ],
   "source": [
    "# Two types of methods on any object\n",
    "#     1. Magic method -> starts and ends with __ -> OOP\n",
    "        '__add__', '__class__', '__contains__', '__delattr__', '__dir__', '__doc__', \n",
    "        '__eq__', '__format__', '__ge__', '__getattribute__', '__getitem__', '__getnewargs__', \n",
    "        '__gt__', '__hash__', '__init__', '__init_subclass__', '__iter__', '__le__', '__len__', \n",
    "        '__lt__', '__mod__', '__mul__', '__ne__', '__new__', '__reduce__', '__reduce_ex__', \n",
    "        '__repr__', '__rmod__', '__rmul__', '__setattr__', '__sizeof__', '__str__', '__subclasshook__',\n",
    "#     2. Normal method -> To manipulate the object (string)\n",
    "        'center', 'count', 'encode', 'endswith', 'expandtabs', 'find', \n",
    "        'format', 'format_map', 'index', 'isalnum', 'isalpha', 'isascii', 'isdecimal', 'isdigit', \n",
    "        'isidentifier', 'islower', 'isnumeric', 'isprintable', 'isspace', 'istitle', 'isupper', \n",
    "        'join', 'ljust', 'lstrip', 'maketrans', 'partition', 'replace', 'rfind', 'rindex', \n",
    "        'rjust', 'rpartition', 'rsplit', 'rstrip', 'split', 'splitlines', 'startswith', 'strip', \n",
    "        'translate', 'zfill'\n",
    "\n",
    "print(dir(str))\n",
    "    "
   ]
  },
  {
   "cell_type": "code",
   "execution_count": 96,
   "metadata": {
    "ExecuteTime": {
     "end_time": "2021-05-25T04:13:41.061842Z",
     "start_time": "2021-05-25T04:13:41.051706Z"
    }
   },
   "outputs": [
    {
     "name": "stdout",
     "output_type": "stream",
     "text": [
      "This is python class at learnbay in bangalore\n",
      "This Is Python Class At Learnbay In Bangalore\n",
      "THIS IS PYTHON CLASS AT LEARNBAY IN BANGALORE\n",
      "this is python class at learnbay in bangalore\n",
      "this is python class at learnbay in bangalore\n",
      "THIS IS pYTHON CLASS AT lEARNBAY IN bANGALORE\n",
      "this is PYTHON class at Learnbay in Bangalore\n"
     ]
    }
   ],
   "source": [
    "# Methods used to change the case of strings\n",
    "# Capitalize, title, upper, lower, casefold, swapcase\n",
    "\n",
    "my_str = 'this is Python class at Learnbay in Bangalore'\n",
    "\n",
    "# capitalize - Capitalizes first letter of the string, rest all will be converted to small case\n",
    "print(my_str.capitalize())\n",
    "\n",
    "# title - Capitalizes first letter of each word in the string\n",
    "print(my_str.title())\n",
    "\n",
    "# upper - It converts all letters in upper case\n",
    "print(my_str.upper())\n",
    "\n",
    "# lower - It converts all letters in lower case\n",
    "print(my_str.lower())\n",
    "\n",
    "# casefold - It converts all letters in lower case, It is more aggressive than lower method and used in caseless comparison\n",
    "print(my_str.casefold())\n",
    "\n",
    "# swapcase - swaps the cases of the characters in the string\n",
    "print(my_str.swapcase())\n",
    "\n",
    "print(my_str[:8] + my_str[8:14].upper() + my_str[14:])\n",
    "\n"
   ]
  },
  {
   "cell_type": "code",
   "execution_count": 101,
   "metadata": {
    "ExecuteTime": {
     "end_time": "2021-05-25T04:17:44.577437Z",
     "start_time": "2021-05-25T04:17:44.563175Z"
    }
   },
   "outputs": [
    {
     "name": "stdout",
     "output_type": "stream",
     "text": [
      "fließen\n",
      "fließen\n",
      "fliessen\n"
     ]
    }
   ],
   "source": [
    "# Difference bwteeen lower and casefold method\n",
    "my_str = 'fließen'\n",
    "new_str1 = my_str.lower()       # Ascii\n",
    "new_str2 = my_str.casefold()    # Unicode -> 6000+\n",
    "\n",
    "print(my_str)\n",
    "print(new_str1)\n",
    "print(new_str2)\n",
    "\n"
   ]
  },
  {
   "cell_type": "markdown",
   "metadata": {},
   "source": [
    "# Note:- In case of immutable objects changes are not done to original objects, rather new objects are created."
   ]
  },
  {
   "cell_type": "code",
   "execution_count": null,
   "metadata": {},
   "outputs": [],
   "source": []
  },
  {
   "cell_type": "code",
   "execution_count": null,
   "metadata": {},
   "outputs": [],
   "source": []
  },
  {
   "cell_type": "code",
   "execution_count": null,
   "metadata": {},
   "outputs": [],
   "source": []
  },
  {
   "cell_type": "code",
   "execution_count": null,
   "metadata": {},
   "outputs": [],
   "source": []
  },
  {
   "cell_type": "code",
   "execution_count": null,
   "metadata": {},
   "outputs": [],
   "source": []
  },
  {
   "cell_type": "code",
   "execution_count": null,
   "metadata": {},
   "outputs": [],
   "source": []
  },
  {
   "cell_type": "code",
   "execution_count": null,
   "metadata": {},
   "outputs": [],
   "source": []
  },
  {
   "cell_type": "code",
   "execution_count": null,
   "metadata": {},
   "outputs": [],
   "source": []
  },
  {
   "cell_type": "code",
   "execution_count": null,
   "metadata": {},
   "outputs": [],
   "source": []
  },
  {
   "cell_type": "code",
   "execution_count": null,
   "metadata": {},
   "outputs": [],
   "source": []
  },
  {
   "cell_type": "code",
   "execution_count": null,
   "metadata": {},
   "outputs": [],
   "source": []
  },
  {
   "cell_type": "code",
   "execution_count": null,
   "metadata": {},
   "outputs": [],
   "source": []
  },
  {
   "cell_type": "code",
   "execution_count": null,
   "metadata": {},
   "outputs": [],
   "source": []
  },
  {
   "cell_type": "code",
   "execution_count": null,
   "metadata": {},
   "outputs": [],
   "source": []
  },
  {
   "cell_type": "code",
   "execution_count": null,
   "metadata": {},
   "outputs": [],
   "source": []
  },
  {
   "cell_type": "code",
   "execution_count": null,
   "metadata": {},
   "outputs": [],
   "source": []
  },
  {
   "cell_type": "code",
   "execution_count": null,
   "metadata": {},
   "outputs": [],
   "source": []
  },
  {
   "cell_type": "code",
   "execution_count": null,
   "metadata": {},
   "outputs": [],
   "source": []
  },
  {
   "cell_type": "code",
   "execution_count": null,
   "metadata": {},
   "outputs": [],
   "source": []
  },
  {
   "cell_type": "code",
   "execution_count": null,
   "metadata": {},
   "outputs": [],
   "source": []
  },
  {
   "cell_type": "code",
   "execution_count": null,
   "metadata": {},
   "outputs": [],
   "source": []
  },
  {
   "cell_type": "code",
   "execution_count": null,
   "metadata": {},
   "outputs": [],
   "source": []
  },
  {
   "cell_type": "code",
   "execution_count": null,
   "metadata": {},
   "outputs": [],
   "source": []
  },
  {
   "cell_type": "code",
   "execution_count": null,
   "metadata": {},
   "outputs": [],
   "source": []
  },
  {
   "cell_type": "code",
   "execution_count": null,
   "metadata": {},
   "outputs": [],
   "source": []
  },
  {
   "cell_type": "code",
   "execution_count": null,
   "metadata": {},
   "outputs": [],
   "source": []
  },
  {
   "cell_type": "code",
   "execution_count": null,
   "metadata": {},
   "outputs": [],
   "source": []
  },
  {
   "cell_type": "code",
   "execution_count": null,
   "metadata": {},
   "outputs": [],
   "source": []
  },
  {
   "cell_type": "code",
   "execution_count": null,
   "metadata": {},
   "outputs": [],
   "source": []
  },
  {
   "cell_type": "code",
   "execution_count": null,
   "metadata": {},
   "outputs": [],
   "source": []
  },
  {
   "cell_type": "code",
   "execution_count": null,
   "metadata": {},
   "outputs": [],
   "source": []
  },
  {
   "cell_type": "code",
   "execution_count": null,
   "metadata": {},
   "outputs": [],
   "source": []
  },
  {
   "cell_type": "code",
   "execution_count": null,
   "metadata": {},
   "outputs": [],
   "source": []
  },
  {
   "cell_type": "code",
   "execution_count": null,
   "metadata": {},
   "outputs": [],
   "source": []
  },
  {
   "cell_type": "code",
   "execution_count": null,
   "metadata": {},
   "outputs": [],
   "source": []
  },
  {
   "cell_type": "code",
   "execution_count": null,
   "metadata": {},
   "outputs": [],
   "source": []
  },
  {
   "cell_type": "code",
   "execution_count": null,
   "metadata": {},
   "outputs": [],
   "source": []
  },
  {
   "cell_type": "code",
   "execution_count": null,
   "metadata": {},
   "outputs": [],
   "source": []
  },
  {
   "cell_type": "code",
   "execution_count": null,
   "metadata": {},
   "outputs": [],
   "source": []
  },
  {
   "cell_type": "code",
   "execution_count": null,
   "metadata": {},
   "outputs": [],
   "source": []
  },
  {
   "cell_type": "code",
   "execution_count": null,
   "metadata": {},
   "outputs": [],
   "source": []
  },
  {
   "cell_type": "code",
   "execution_count": null,
   "metadata": {},
   "outputs": [],
   "source": []
  },
  {
   "cell_type": "code",
   "execution_count": null,
   "metadata": {},
   "outputs": [],
   "source": []
  },
  {
   "cell_type": "code",
   "execution_count": null,
   "metadata": {},
   "outputs": [],
   "source": []
  },
  {
   "cell_type": "code",
   "execution_count": null,
   "metadata": {},
   "outputs": [],
   "source": []
  },
  {
   "cell_type": "code",
   "execution_count": null,
   "metadata": {},
   "outputs": [],
   "source": []
  },
  {
   "cell_type": "code",
   "execution_count": null,
   "metadata": {},
   "outputs": [],
   "source": []
  },
  {
   "cell_type": "code",
   "execution_count": null,
   "metadata": {},
   "outputs": [],
   "source": []
  },
  {
   "cell_type": "code",
   "execution_count": null,
   "metadata": {},
   "outputs": [],
   "source": []
  },
  {
   "cell_type": "code",
   "execution_count": null,
   "metadata": {},
   "outputs": [],
   "source": []
  },
  {
   "cell_type": "code",
   "execution_count": null,
   "metadata": {},
   "outputs": [],
   "source": []
  },
  {
   "cell_type": "code",
   "execution_count": null,
   "metadata": {},
   "outputs": [],
   "source": []
  },
  {
   "cell_type": "code",
   "execution_count": null,
   "metadata": {},
   "outputs": [],
   "source": []
  },
  {
   "cell_type": "code",
   "execution_count": null,
   "metadata": {},
   "outputs": [],
   "source": []
  },
  {
   "cell_type": "code",
   "execution_count": null,
   "metadata": {},
   "outputs": [],
   "source": []
  },
  {
   "cell_type": "code",
   "execution_count": null,
   "metadata": {},
   "outputs": [],
   "source": []
  },
  {
   "cell_type": "code",
   "execution_count": null,
   "metadata": {},
   "outputs": [],
   "source": []
  },
  {
   "cell_type": "code",
   "execution_count": null,
   "metadata": {},
   "outputs": [],
   "source": []
  },
  {
   "cell_type": "code",
   "execution_count": null,
   "metadata": {},
   "outputs": [],
   "source": []
  },
  {
   "cell_type": "code",
   "execution_count": null,
   "metadata": {},
   "outputs": [],
   "source": []
  },
  {
   "cell_type": "code",
   "execution_count": null,
   "metadata": {},
   "outputs": [],
   "source": []
  },
  {
   "cell_type": "code",
   "execution_count": null,
   "metadata": {},
   "outputs": [],
   "source": []
  },
  {
   "cell_type": "code",
   "execution_count": null,
   "metadata": {},
   "outputs": [],
   "source": []
  },
  {
   "cell_type": "code",
   "execution_count": null,
   "metadata": {},
   "outputs": [],
   "source": []
  },
  {
   "cell_type": "code",
   "execution_count": null,
   "metadata": {},
   "outputs": [],
   "source": []
  }
 ],
 "metadata": {
  "kernelspec": {
   "display_name": "Python 3",
   "language": "python",
   "name": "python3"
  },
  "language_info": {
   "codemirror_mode": {
    "name": "ipython",
    "version": 3
   },
   "file_extension": ".py",
   "mimetype": "text/x-python",
   "name": "python",
   "nbconvert_exporter": "python",
   "pygments_lexer": "ipython3",
   "version": "3.8.2"
  },
  "latex_envs": {
   "LaTeX_envs_menu_present": true,
   "autoclose": false,
   "autocomplete": true,
   "bibliofile": "biblio.bib",
   "cite_by": "apalike",
   "current_citInitial": 1,
   "eqLabelWithNumbers": true,
   "eqNumInitial": 1,
   "hotkeys": {
    "equation": "Ctrl-E",
    "itemize": "Ctrl-I"
   },
   "labels_anchors": false,
   "latex_user_defs": false,
   "report_style_numbering": false,
   "user_envs_cfg": false
  },
  "varInspector": {
   "cols": {
    "lenName": 16,
    "lenType": 16,
    "lenVar": 40
   },
   "kernels_config": {
    "python": {
     "delete_cmd_postfix": "",
     "delete_cmd_prefix": "del ",
     "library": "var_list.py",
     "varRefreshCmd": "print(var_dic_list())"
    },
    "r": {
     "delete_cmd_postfix": ") ",
     "delete_cmd_prefix": "rm(",
     "library": "var_list.r",
     "varRefreshCmd": "cat(var_dic_list()) "
    }
   },
   "types_to_exclude": [
    "module",
    "function",
    "builtin_function_or_method",
    "instance",
    "_Feature"
   ],
   "window_display": false
  }
 },
 "nbformat": 4,
 "nbformat_minor": 2
}
