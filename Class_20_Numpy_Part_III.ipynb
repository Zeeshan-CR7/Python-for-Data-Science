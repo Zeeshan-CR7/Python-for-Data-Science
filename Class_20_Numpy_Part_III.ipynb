{
 "cells": [
  {
   "cell_type": "markdown",
   "id": "a8d117cb",
   "metadata": {},
   "source": [
    "# Iterating over an array"
   ]
  },
  {
   "cell_type": "code",
   "execution_count": null,
   "id": "99f3fc78",
   "metadata": {},
   "outputs": [],
   "source": [
    "# To access the arrays element wise -\n",
    "# for 1D array - one loop\n",
    "# for 2D array - two loop\n",
    "# for 3D array - three loop\n",
    "\n"
   ]
  },
  {
   "cell_type": "code",
   "execution_count": 1,
   "id": "5ef955f5",
   "metadata": {
    "ExecuteTime": {
     "end_time": "2021-06-16T02:39:33.143917Z",
     "start_time": "2021-06-16T02:39:32.758702Z"
    }
   },
   "outputs": [
    {
     "name": "stdout",
     "output_type": "stream",
     "text": [
      "[25 26 27 28 29 30 31 32 33 34]\n"
     ]
    }
   ],
   "source": [
    "import numpy as np\n",
    "arr1 = np.arange(25, 35)\n",
    "print(arr1)"
   ]
  },
  {
   "cell_type": "code",
   "execution_count": 2,
   "id": "9728de1f",
   "metadata": {
    "ExecuteTime": {
     "end_time": "2021-06-16T02:39:40.626889Z",
     "start_time": "2021-06-16T02:39:40.618672Z"
    }
   },
   "outputs": [
    {
     "name": "stdout",
     "output_type": "stream",
     "text": [
      "25\n",
      "26\n",
      "27\n",
      "28\n",
      "29\n",
      "30\n",
      "31\n",
      "32\n",
      "33\n",
      "34\n"
     ]
    }
   ],
   "source": [
    "for i in arr1:\n",
    "    print(i)"
   ]
  },
  {
   "cell_type": "code",
   "execution_count": 8,
   "id": "f614ca85",
   "metadata": {
    "ExecuteTime": {
     "end_time": "2021-06-16T02:40:13.723674Z",
     "start_time": "2021-06-16T02:40:13.700074Z"
    }
   },
   "outputs": [
    {
     "data": {
      "text/plain": [
       "array([[ 1,  2,  3,  4],\n",
       "       [ 5,  6,  7,  8],\n",
       "       [ 9, 10, 11, 12]])"
      ]
     },
     "execution_count": 8,
     "metadata": {},
     "output_type": "execute_result"
    }
   ],
   "source": [
    "arr2 = np.arange(1, 13).reshape(3, 4)\n",
    "arr2"
   ]
  },
  {
   "cell_type": "code",
   "execution_count": 9,
   "id": "9230dd2b",
   "metadata": {
    "ExecuteTime": {
     "end_time": "2021-06-16T02:41:25.451888Z",
     "start_time": "2021-06-16T02:41:25.443325Z"
    }
   },
   "outputs": [
    {
     "name": "stdout",
     "output_type": "stream",
     "text": [
      "row 1 ->  [1 2 3 4]\n",
      "row 2 ->  [5 6 7 8]\n",
      "row 3 ->  [ 9 10 11 12]\n"
     ]
    }
   ],
   "source": [
    "num = 1\n",
    "for i in arr2:\n",
    "    print(f'row {num} -> ',i)\n",
    "    num += 1"
   ]
  },
  {
   "cell_type": "code",
   "execution_count": 10,
   "id": "ff1ca7e4",
   "metadata": {
    "ExecuteTime": {
     "end_time": "2021-06-16T02:42:10.252960Z",
     "start_time": "2021-06-16T02:42:10.238273Z"
    }
   },
   "outputs": [
    {
     "name": "stdout",
     "output_type": "stream",
     "text": [
      "1\n",
      "2\n",
      "3\n",
      "4\n",
      "5\n",
      "6\n",
      "7\n",
      "8\n",
      "9\n",
      "10\n",
      "11\n",
      "12\n"
     ]
    }
   ],
   "source": [
    "for row in arr2:\n",
    "    for ele in row:\n",
    "        print(ele)"
   ]
  },
  {
   "cell_type": "code",
   "execution_count": 13,
   "id": "f0ae50c4",
   "metadata": {
    "ExecuteTime": {
     "end_time": "2021-06-16T02:42:43.109966Z",
     "start_time": "2021-06-16T02:42:43.096479Z"
    }
   },
   "outputs": [
    {
     "name": "stdout",
     "output_type": "stream",
     "text": [
      "1\n",
      "2\n",
      "3\n",
      "4\n",
      "5\n",
      "6\n",
      "7\n",
      "8\n",
      "9\n",
      "10\n",
      "11\n",
      "12\n"
     ]
    }
   ],
   "source": [
    "for i in arr2.ravel():\n",
    "    print(i)\n",
    "    "
   ]
  },
  {
   "cell_type": "code",
   "execution_count": 14,
   "id": "f7702c02",
   "metadata": {
    "ExecuteTime": {
     "end_time": "2021-06-16T02:43:47.558188Z",
     "start_time": "2021-06-16T02:43:47.538349Z"
    }
   },
   "outputs": [
    {
     "name": "stdout",
     "output_type": "stream",
     "text": [
      "1\n",
      "2\n",
      "3\n",
      "4\n",
      "5\n",
      "6\n",
      "7\n",
      "8\n",
      "9\n",
      "10\n",
      "11\n",
      "12\n"
     ]
    }
   ],
   "source": [
    "for i in np.nditer(arr2):\n",
    "    print(i)"
   ]
  },
  {
   "cell_type": "code",
   "execution_count": 12,
   "id": "bd1123bf",
   "metadata": {
    "ExecuteTime": {
     "end_time": "2021-06-16T02:43:32.670809Z",
     "start_time": "2021-06-16T02:43:32.657185Z"
    }
   },
   "outputs": [
    {
     "name": "stdout",
     "output_type": "stream",
     "text": [
      "1\n",
      "5\n",
      "9\n",
      "2\n",
      "6\n",
      "10\n",
      "3\n",
      "7\n",
      "11\n",
      "4\n",
      "8\n",
      "12\n"
     ]
    }
   ],
   "source": [
    "for i in np.nditer(arr2, order = 'F'):\n",
    "    print(i)"
   ]
  },
  {
   "cell_type": "markdown",
   "id": "d520fcb4",
   "metadata": {},
   "source": [
    "# Splitting an array"
   ]
  },
  {
   "cell_type": "code",
   "execution_count": 18,
   "id": "9e7de78e",
   "metadata": {
    "ExecuteTime": {
     "end_time": "2021-06-16T02:45:20.918613Z",
     "start_time": "2021-06-16T02:45:20.915666Z"
    }
   },
   "outputs": [],
   "source": [
    "# np.split(arr, no of equal splits you want)\n",
    "# No of split you are taking should be a factpr of no of elements inside the original array\n",
    "\n",
    "\n",
    "# np.split(arr, [ind1, ind2, ind3])"
   ]
  },
  {
   "cell_type": "code",
   "execution_count": 2,
   "id": "6400739c",
   "metadata": {
    "ExecuteTime": {
     "end_time": "2021-06-16T02:45:35.872496Z",
     "start_time": "2021-06-16T02:45:35.862228Z"
    }
   },
   "outputs": [
    {
     "data": {
      "text/plain": [
       "array([ 1,  2,  3,  4,  5,  6,  7,  8,  9, 10, 11, 12])"
      ]
     },
     "execution_count": 2,
     "metadata": {},
     "output_type": "execute_result"
    }
   ],
   "source": [
    "arr1 = np.arange(1, 13)\n",
    "arr1"
   ]
  },
  {
   "cell_type": "code",
   "execution_count": 3,
   "id": "6e78903a",
   "metadata": {
    "ExecuteTime": {
     "end_time": "2021-06-16T02:45:50.916124Z",
     "start_time": "2021-06-16T02:45:50.901659Z"
    }
   },
   "outputs": [
    {
     "data": {
      "text/plain": [
       "[array([1, 2, 3]), array([4, 5, 6]), array([7, 8, 9]), array([10, 11, 12])]"
      ]
     },
     "execution_count": 3,
     "metadata": {},
     "output_type": "execute_result"
    }
   ],
   "source": [
    "np.split(arr1, 4)"
   ]
  },
  {
   "cell_type": "code",
   "execution_count": 8,
   "id": "bd598cfb",
   "metadata": {
    "ExecuteTime": {
     "end_time": "2021-06-16T02:48:46.123739Z",
     "start_time": "2021-06-16T02:48:46.115041Z"
    }
   },
   "outputs": [
    {
     "data": {
      "text/plain": [
       "[array([1]),\n",
       " array([2, 3]),\n",
       " array([4, 5, 6, 7]),\n",
       " array([ 8,  9, 10, 11, 12]),\n",
       " array([], dtype=int32)]"
      ]
     },
     "execution_count": 8,
     "metadata": {},
     "output_type": "execute_result"
    }
   ],
   "source": [
    "np.split(arr1, [1, 3, 7, 12])"
   ]
  },
  {
   "cell_type": "markdown",
   "id": "da13259a",
   "metadata": {},
   "source": [
    "##### Splitting of 2D array"
   ]
  },
  {
   "cell_type": "code",
   "execution_count": 12,
   "id": "3bdd85d5",
   "metadata": {
    "ExecuteTime": {
     "end_time": "2021-06-16T02:52:42.362911Z",
     "start_time": "2021-06-16T02:52:42.353259Z"
    }
   },
   "outputs": [
    {
     "data": {
      "text/plain": [
       "array([[14,  1, 14,  3],\n",
       "       [15,  6,  6, 16],\n",
       "       [16,  5, 12,  6],\n",
       "       [ 7,  9, 15, 12]])"
      ]
     },
     "execution_count": 12,
     "metadata": {},
     "output_type": "execute_result"
    }
   ],
   "source": [
    "arr2 = np.random.randint(1, 17, (4, 4))\n",
    "arr2"
   ]
  },
  {
   "cell_type": "code",
   "execution_count": 13,
   "id": "cf8cb2c7",
   "metadata": {
    "ExecuteTime": {
     "end_time": "2021-06-16T02:54:17.620287Z",
     "start_time": "2021-06-16T02:54:17.611281Z"
    }
   },
   "outputs": [
    {
     "data": {
      "text/plain": [
       "[array([[14,  1, 14,  3],\n",
       "        [15,  6,  6, 16]]),\n",
       " array([[16,  5, 12,  6],\n",
       "        [ 7,  9, 15, 12]])]"
      ]
     },
     "execution_count": 13,
     "metadata": {},
     "output_type": "execute_result"
    }
   ],
   "source": [
    "np.split(arr2, 2, axis = 0)"
   ]
  },
  {
   "cell_type": "code",
   "execution_count": 33,
   "id": "3800de04",
   "metadata": {
    "ExecuteTime": {
     "end_time": "2021-06-16T02:54:27.115515Z",
     "start_time": "2021-06-16T02:54:27.104346Z"
    }
   },
   "outputs": [
    {
     "data": {
      "text/plain": [
       "[array([[19, 52, 41, 15,  8, 90],\n",
       "        [26, 49, 60, 43, 37, 82]]),\n",
       " array([[11, 97, 40,  6, 64, 10],\n",
       "        [ 5, 38, 29, 94, 21, 49]]),\n",
       " array([[ 4, 89, 59, 45, 14,  7],\n",
       "        [41, 12, 31, 91, 39, 65]])]"
      ]
     },
     "execution_count": 33,
     "metadata": {},
     "output_type": "execute_result"
    }
   ],
   "source": [
    "np.split(arr2, 3, axis = 0)"
   ]
  },
  {
   "cell_type": "code",
   "execution_count": 30,
   "id": "58e41a78",
   "metadata": {
    "ExecuteTime": {
     "end_time": "2021-06-16T02:54:05.860842Z",
     "start_time": "2021-06-16T02:54:05.856634Z"
    }
   },
   "outputs": [],
   "source": [
    "# np.split(arr2, 4)"
   ]
  },
  {
   "cell_type": "code",
   "execution_count": 14,
   "id": "149be08b",
   "metadata": {
    "ExecuteTime": {
     "end_time": "2021-06-16T02:54:35.279011Z",
     "start_time": "2021-06-16T02:54:35.267827Z"
    }
   },
   "outputs": [
    {
     "data": {
      "text/plain": [
       "[array([[14,  1],\n",
       "        [15,  6],\n",
       "        [16,  5],\n",
       "        [ 7,  9]]),\n",
       " array([[14,  3],\n",
       "        [ 6, 16],\n",
       "        [12,  6],\n",
       "        [15, 12]])]"
      ]
     },
     "execution_count": 14,
     "metadata": {},
     "output_type": "execute_result"
    }
   ],
   "source": [
    "np.split(arr2, 2, axis = 1)"
   ]
  },
  {
   "cell_type": "code",
   "execution_count": 36,
   "id": "b8f416a8",
   "metadata": {
    "ExecuteTime": {
     "end_time": "2021-06-16T02:54:48.500739Z",
     "start_time": "2021-06-16T02:54:48.490222Z"
    }
   },
   "outputs": [
    {
     "data": {
      "text/plain": [
       "[array([[19, 52, 41],\n",
       "        [26, 49, 60],\n",
       "        [11, 97, 40],\n",
       "        [ 5, 38, 29],\n",
       "        [ 4, 89, 59],\n",
       "        [41, 12, 31]]),\n",
       " array([[15,  8, 90],\n",
       "        [43, 37, 82],\n",
       "        [ 6, 64, 10],\n",
       "        [94, 21, 49],\n",
       "        [45, 14,  7],\n",
       "        [91, 39, 65]])]"
      ]
     },
     "execution_count": 36,
     "metadata": {},
     "output_type": "execute_result"
    }
   ],
   "source": [
    "np.split(arr2, 2, axis = 1)"
   ]
  },
  {
   "cell_type": "code",
   "execution_count": 37,
   "id": "3da4bce9",
   "metadata": {
    "ExecuteTime": {
     "end_time": "2021-06-16T02:56:35.934238Z",
     "start_time": "2021-06-16T02:56:35.922566Z"
    }
   },
   "outputs": [
    {
     "data": {
      "text/plain": [
       "array([[19, 52, 41, 15,  8, 90],\n",
       "       [26, 49, 60, 43, 37, 82],\n",
       "       [11, 97, 40,  6, 64, 10],\n",
       "       [ 5, 38, 29, 94, 21, 49],\n",
       "       [ 4, 89, 59, 45, 14,  7],\n",
       "       [41, 12, 31, 91, 39, 65]])"
      ]
     },
     "execution_count": 37,
     "metadata": {},
     "output_type": "execute_result"
    }
   ],
   "source": [
    "arr2"
   ]
  },
  {
   "cell_type": "code",
   "execution_count": 17,
   "id": "b61bab42",
   "metadata": {
    "ExecuteTime": {
     "end_time": "2021-06-16T02:57:17.776573Z",
     "start_time": "2021-06-16T02:57:17.762727Z"
    }
   },
   "outputs": [
    {
     "data": {
      "text/plain": [
       "[array([[14,  1, 14,  3]]),\n",
       " array([[15,  6,  6, 16],\n",
       "        [16,  5, 12,  6],\n",
       "        [ 7,  9, 15, 12]])]"
      ]
     },
     "execution_count": 17,
     "metadata": {},
     "output_type": "execute_result"
    }
   ],
   "source": [
    "np.split(arr2, [1])"
   ]
  },
  {
   "cell_type": "code",
   "execution_count": 39,
   "id": "82792399",
   "metadata": {
    "ExecuteTime": {
     "end_time": "2021-06-16T02:57:32.122279Z",
     "start_time": "2021-06-16T02:57:32.104252Z"
    }
   },
   "outputs": [
    {
     "data": {
      "text/plain": [
       "[array([[19],\n",
       "        [26],\n",
       "        [11],\n",
       "        [ 5],\n",
       "        [ 4],\n",
       "        [41]]),\n",
       " array([[52, 41],\n",
       "        [49, 60],\n",
       "        [97, 40],\n",
       "        [38, 29],\n",
       "        [89, 59],\n",
       "        [12, 31]]),\n",
       " array([[15,  8, 90],\n",
       "        [43, 37, 82],\n",
       "        [ 6, 64, 10],\n",
       "        [94, 21, 49],\n",
       "        [45, 14,  7],\n",
       "        [91, 39, 65]])]"
      ]
     },
     "execution_count": 39,
     "metadata": {},
     "output_type": "execute_result"
    }
   ],
   "source": [
    "np.split(arr2, [1, 3], axis = 1)"
   ]
  },
  {
   "cell_type": "markdown",
   "id": "ab5e214d",
   "metadata": {},
   "source": [
    "# Concatenationn of two arrays"
   ]
  },
  {
   "cell_type": "code",
   "execution_count": 19,
   "id": "dc2fd688",
   "metadata": {
    "ExecuteTime": {
     "end_time": "2021-06-16T03:00:21.379808Z",
     "start_time": "2021-06-16T03:00:21.372926Z"
    }
   },
   "outputs": [],
   "source": [
    "a = np.array([[1,2],[3,4]])\n",
    "b = np.array([[5,6],[7,8]])"
   ]
  },
  {
   "cell_type": "code",
   "execution_count": 20,
   "id": "83087720",
   "metadata": {
    "ExecuteTime": {
     "end_time": "2021-06-16T03:01:13.893592Z",
     "start_time": "2021-06-16T03:01:13.884227Z"
    }
   },
   "outputs": [
    {
     "data": {
      "text/plain": [
       "array([[1, 2],\n",
       "       [3, 4],\n",
       "       [5, 6],\n",
       "       [7, 8]])"
      ]
     },
     "execution_count": 20,
     "metadata": {},
     "output_type": "execute_result"
    }
   ],
   "source": [
    "np.concatenate((a,b), axis = 0)    # Concatenates along the rows"
   ]
  },
  {
   "cell_type": "code",
   "execution_count": 22,
   "id": "51dee56c",
   "metadata": {
    "ExecuteTime": {
     "end_time": "2021-06-16T03:01:44.382487Z",
     "start_time": "2021-06-16T03:01:44.370141Z"
    }
   },
   "outputs": [
    {
     "data": {
      "text/plain": [
       "array([[1, 2, 5, 6],\n",
       "       [3, 4, 7, 8]])"
      ]
     },
     "execution_count": 22,
     "metadata": {},
     "output_type": "execute_result"
    }
   ],
   "source": [
    "np.concatenate((a,b), axis = 1)      # Concatenates along the cols"
   ]
  },
  {
   "cell_type": "code",
   "execution_count": 25,
   "id": "e7bd98ef",
   "metadata": {
    "ExecuteTime": {
     "end_time": "2021-06-16T03:03:15.905311Z",
     "start_time": "2021-06-16T03:03:15.893319Z"
    }
   },
   "outputs": [
    {
     "data": {
      "text/plain": [
       "array([[1, 2],\n",
       "       [3, 4],\n",
       "       [5, 6]])"
      ]
     },
     "execution_count": 25,
     "metadata": {},
     "output_type": "execute_result"
    }
   ],
   "source": [
    "# When you want to concatenate along the rows then no of columns should match\n",
    "# When you want to concatenate along the cols then no of rows should match\n",
    "a = np.array([[1,2],[3,4]])\n",
    "b = np.array([[5,6]])\n",
    "\n",
    "np.concatenate((a, b), axis=0)\n",
    "\n"
   ]
  },
  {
   "cell_type": "code",
   "execution_count": 26,
   "id": "abc2a677",
   "metadata": {
    "ExecuteTime": {
     "end_time": "2021-06-16T03:03:32.324985Z",
     "start_time": "2021-06-16T03:03:32.305501Z"
    }
   },
   "outputs": [
    {
     "ename": "ValueError",
     "evalue": "all the input array dimensions for the concatenation axis must match exactly, but along dimension 0, the array at index 0 has size 2 and the array at index 1 has size 1",
     "output_type": "error",
     "traceback": [
      "\u001b[1;31m---------------------------------------------------------------------------\u001b[0m",
      "\u001b[1;31mValueError\u001b[0m                                Traceback (most recent call last)",
      "\u001b[1;32m<ipython-input-26-5a5c7b048c79>\u001b[0m in \u001b[0;36m<module>\u001b[1;34m\u001b[0m\n\u001b[1;32m----> 1\u001b[1;33m \u001b[0mnp\u001b[0m\u001b[1;33m.\u001b[0m\u001b[0mconcatenate\u001b[0m\u001b[1;33m(\u001b[0m\u001b[1;33m(\u001b[0m\u001b[0ma\u001b[0m\u001b[1;33m,\u001b[0m \u001b[0mb\u001b[0m\u001b[1;33m)\u001b[0m\u001b[1;33m,\u001b[0m \u001b[0maxis\u001b[0m \u001b[1;33m=\u001b[0m \u001b[1;36m1\u001b[0m\u001b[1;33m)\u001b[0m\u001b[1;33m\u001b[0m\u001b[1;33m\u001b[0m\u001b[0m\n\u001b[0m",
      "\u001b[1;32m<__array_function__ internals>\u001b[0m in \u001b[0;36mconcatenate\u001b[1;34m(*args, **kwargs)\u001b[0m\n",
      "\u001b[1;31mValueError\u001b[0m: all the input array dimensions for the concatenation axis must match exactly, but along dimension 0, the array at index 0 has size 2 and the array at index 1 has size 1"
     ]
    }
   ],
   "source": [
    "np.concatenate((a, b), axis = 1)"
   ]
  },
  {
   "cell_type": "code",
   "execution_count": 27,
   "id": "ddfca50b",
   "metadata": {
    "ExecuteTime": {
     "end_time": "2021-06-16T03:04:28.524804Z",
     "start_time": "2021-06-16T03:04:28.511368Z"
    }
   },
   "outputs": [
    {
     "name": "stdout",
     "output_type": "stream",
     "text": [
      "[[1 2]\n",
      " [3 4]]\n",
      "[[5 6]]\n"
     ]
    }
   ],
   "source": [
    "\n",
    "print(a)\n",
    "\n",
    "print(b)"
   ]
  },
  {
   "cell_type": "code",
   "execution_count": 28,
   "id": "6921c693",
   "metadata": {
    "ExecuteTime": {
     "end_time": "2021-06-16T03:04:03.974115Z",
     "start_time": "2021-06-16T03:04:03.932149Z"
    }
   },
   "outputs": [
    {
     "data": {
      "text/plain": [
       "array([[1, 2],\n",
       "       [3, 4],\n",
       "       [5, 6]])"
      ]
     },
     "execution_count": 28,
     "metadata": {},
     "output_type": "execute_result"
    }
   ],
   "source": [
    "np.concatenate((a,b))"
   ]
  },
  {
   "cell_type": "code",
   "execution_count": 29,
   "id": "9d0f2a76",
   "metadata": {
    "ExecuteTime": {
     "end_time": "2021-06-16T03:04:54.358770Z",
     "start_time": "2021-06-16T03:04:54.347684Z"
    }
   },
   "outputs": [
    {
     "ename": "ValueError",
     "evalue": "all the input array dimensions for the concatenation axis must match exactly, but along dimension 0, the array at index 0 has size 2 and the array at index 1 has size 1",
     "output_type": "error",
     "traceback": [
      "\u001b[1;31m---------------------------------------------------------------------------\u001b[0m",
      "\u001b[1;31mValueError\u001b[0m                                Traceback (most recent call last)",
      "\u001b[1;32m<ipython-input-29-e65ed083a9da>\u001b[0m in \u001b[0;36m<module>\u001b[1;34m\u001b[0m\n\u001b[1;32m----> 1\u001b[1;33m \u001b[0mnp\u001b[0m\u001b[1;33m.\u001b[0m\u001b[0mconcatenate\u001b[0m\u001b[1;33m(\u001b[0m\u001b[1;33m(\u001b[0m\u001b[0ma\u001b[0m\u001b[1;33m,\u001b[0m\u001b[0mb\u001b[0m\u001b[1;33m)\u001b[0m\u001b[1;33m,\u001b[0m \u001b[0maxis\u001b[0m \u001b[1;33m=\u001b[0m \u001b[1;36m1\u001b[0m\u001b[1;33m)\u001b[0m\u001b[1;33m\u001b[0m\u001b[1;33m\u001b[0m\u001b[0m\n\u001b[0m",
      "\u001b[1;32m<__array_function__ internals>\u001b[0m in \u001b[0;36mconcatenate\u001b[1;34m(*args, **kwargs)\u001b[0m\n",
      "\u001b[1;31mValueError\u001b[0m: all the input array dimensions for the concatenation axis must match exactly, but along dimension 0, the array at index 0 has size 2 and the array at index 1 has size 1"
     ]
    }
   ],
   "source": [
    "np.concatenate((a,b), axis = 1)"
   ]
  },
  {
   "cell_type": "markdown",
   "id": "d6f25f77",
   "metadata": {},
   "source": [
    "# Few more functions"
   ]
  },
  {
   "cell_type": "code",
   "execution_count": 30,
   "id": "fccd9ade",
   "metadata": {
    "ExecuteTime": {
     "end_time": "2021-06-16T03:06:27.014226Z",
     "start_time": "2021-06-16T03:06:26.997225Z"
    }
   },
   "outputs": [
    {
     "data": {
      "text/plain": [
       "array([107825.,  33400.,   1618.,  35446.,  55641.,  11192., 165314.,\n",
       "          792., 108020.,  61559., 105544., 109897.,  94737.,  53127.,\n",
       "         4049.,  56480.,  11773.,   2910.,  34571., 102012.,  76965.,\n",
       "        14909., 105264., 104901.,  73925.,  25398., 164229.,  84287.,\n",
       "         1300., 178844.,  38695., 116398.,  55144.,  49290.,  21729.,\n",
       "       196440., 253045.,  31196., 276244., 204327., 160539.,  17380.,\n",
       "        40120.,  61349.,  55345.,  11359.,   6320.,  37922.,   5177.])"
      ]
     },
     "execution_count": 30,
     "metadata": {},
     "output_type": "execute_result"
    }
   ],
   "source": [
    "arr1 = np.array([   792.,   1300.,   1618.,   2910.,   4049.,   5177.,   6320.,\n",
    "        11192.,  11359.,  11773.,  14909.,  17380.,  21729.,  25398.,\n",
    "        31196.,  33400.,  34571.,  35446.,  37922.,  38695.,  40120.,\n",
    "        49290.,  53127.,  55144.,  55345.,  55641.,  56480.,  61349.,\n",
    "        61559.,  73925.,  76965.,  84287.,  94737., 102012., 104901.,\n",
    "       105264., 105544., 107825., 108020., 109897., 116398., 160539.,\n",
    "       164229., 165314., 178844., 196440., 204327., 253045., 276244.])\n",
    "np.random.shuffle(arr1)\n",
    "arr1"
   ]
  },
  {
   "cell_type": "code",
   "execution_count": 31,
   "id": "c9608fc0",
   "metadata": {
    "ExecuteTime": {
     "end_time": "2021-06-16T03:06:41.172147Z",
     "start_time": "2021-06-16T03:06:41.163827Z"
    }
   },
   "outputs": [
    {
     "data": {
      "text/plain": [
       "38"
      ]
     },
     "execution_count": 31,
     "metadata": {},
     "output_type": "execute_result"
    }
   ],
   "source": [
    "np.argmax(arr1)"
   ]
  },
  {
   "cell_type": "code",
   "execution_count": 32,
   "id": "034feeb4",
   "metadata": {
    "ExecuteTime": {
     "end_time": "2021-06-16T03:06:53.648247Z",
     "start_time": "2021-06-16T03:06:53.639080Z"
    }
   },
   "outputs": [
    {
     "data": {
      "text/plain": [
       "7"
      ]
     },
     "execution_count": 32,
     "metadata": {},
     "output_type": "execute_result"
    }
   ],
   "source": [
    "np.argmin(arr1)"
   ]
  },
  {
   "cell_type": "code",
   "execution_count": 33,
   "id": "7f782906",
   "metadata": {
    "ExecuteTime": {
     "end_time": "2021-06-16T03:08:00.664253Z",
     "start_time": "2021-06-16T03:08:00.654073Z"
    }
   },
   "outputs": [
    {
     "data": {
      "text/plain": [
       "array([   792.,   1300.,   1618.,   2910.,   4049.,   5177.,   6320.,\n",
       "        11192.,  11359.,  11773.,  14909.,  17380.,  21729.,  25398.,\n",
       "        31196.,  33400.,  34571.,  35446.,  37922.,  38695.,  40120.,\n",
       "        49290.,  53127.,  55144.,  55345.,  55641.,  56480.,  61349.,\n",
       "        61559.,  73925.,  76965.,  84287.,  94737., 102012., 104901.,\n",
       "       105264., 105544., 107825., 108020., 109897., 116398., 160539.,\n",
       "       164229., 165314., 178844., 196440., 204327., 253045., 276244.])"
      ]
     },
     "execution_count": 33,
     "metadata": {},
     "output_type": "execute_result"
    }
   ],
   "source": [
    "arr1[np.argsort(arr1)]"
   ]
  },
  {
   "cell_type": "code",
   "execution_count": 35,
   "id": "a40c03af",
   "metadata": {
    "ExecuteTime": {
     "end_time": "2021-06-16T03:08:55.938910Z",
     "start_time": "2021-06-16T03:08:55.929249Z"
    }
   },
   "outputs": [
    {
     "data": {
      "text/plain": [
       "array([107825.,  55641., 165314., 108020.,  61559., 105544., 109897.,\n",
       "        94737.,  53127.,  56480., 102012.,  76965., 105264., 104901.,\n",
       "        73925., 164229.,  84287., 178844., 116398.,  55144.,  49290.,\n",
       "       196440., 253045., 276244., 204327., 160539.,  40120.,  61349.,\n",
       "        55345.])"
      ]
     },
     "execution_count": 35,
     "metadata": {},
     "output_type": "execute_result"
    }
   ],
   "source": [
    "# If we want to fine the elements which are greater than 40000\n",
    "arr1[arr1>40000]\n"
   ]
  },
  {
   "cell_type": "code",
   "execution_count": 36,
   "id": "dc916975",
   "metadata": {
    "ExecuteTime": {
     "end_time": "2021-06-16T03:09:24.955087Z",
     "start_time": "2021-06-16T03:09:24.945454Z"
    }
   },
   "outputs": [
    {
     "data": {
      "text/plain": [
       "array([107825.,  55641., 165314., 108020.,  61559., 105544., 109897.,\n",
       "        94737.,  53127.,  56480., 102012.,  76965., 105264., 104901.,\n",
       "        73925., 164229.,  84287., 178844., 116398.,  55144.,  49290.,\n",
       "       196440., 253045., 276244., 204327., 160539.,  40120.,  61349.,\n",
       "        55345.])"
      ]
     },
     "execution_count": 36,
     "metadata": {},
     "output_type": "execute_result"
    }
   ],
   "source": [
    "arr1[np.where(arr1>40000)]"
   ]
  },
  {
   "cell_type": "code",
   "execution_count": 37,
   "id": "82096324",
   "metadata": {
    "ExecuteTime": {
     "end_time": "2021-06-16T03:10:19.376440Z",
     "start_time": "2021-06-16T03:10:19.346111Z"
    }
   },
   "outputs": [
    {
     "data": {
      "text/plain": [
       "array([107825., 165314., 108020., 105544., 109897., 102012., 105264.,\n",
       "       104901., 164229., 178844., 116398., 196440., 253045., 276244.,\n",
       "       204327., 160539.])"
      ]
     },
     "execution_count": 37,
     "metadata": {},
     "output_type": "execute_result"
    }
   ],
   "source": [
    "# np.extract(condition, arr)\n",
    "\n",
    "np.extract(arr1>100000, arr1)"
   ]
  },
  {
   "cell_type": "code",
   "execution_count": 64,
   "id": "eb70ecdd",
   "metadata": {
    "ExecuteTime": {
     "end_time": "2021-06-16T03:10:23.703671Z",
     "start_time": "2021-06-16T03:10:23.694484Z"
    }
   },
   "outputs": [
    {
     "data": {
      "text/plain": [
       "array([164229., 104901.,  35446.,  11192., 160539.,  11773., 105264.,\n",
       "       107825.,   6320., 196440.,   5177.,  84287.,  33400.,  31196.,\n",
       "        61559.,  55641.,  53127.,  38695.,  55345.,  49290., 165314.,\n",
       "        14909., 109897.,  73925.,   1300.,  25398.,    792., 178844.,\n",
       "        94737.,  61349.,  76965.,  37922.,  56480., 276244., 204327.,\n",
       "       253045.,  11359.,   2910.,  40120.,  55144.,  34571.,  17380.,\n",
       "         4049., 102012.,  21729., 116398., 105544., 108020.,   1618.])"
      ]
     },
     "execution_count": 64,
     "metadata": {},
     "output_type": "execute_result"
    }
   ],
   "source": [
    "arr1"
   ]
  },
  {
   "cell_type": "markdown",
   "id": "9611d6ec",
   "metadata": {},
   "source": [
    "# Image Manipulation using numpy"
   ]
  },
  {
   "cell_type": "code",
   "execution_count": null,
   "id": "dd3af6e7",
   "metadata": {},
   "outputs": [],
   "source": [
    "# %pip install pillow"
   ]
  },
  {
   "cell_type": "code",
   "execution_count": 38,
   "id": "1f780812",
   "metadata": {
    "ExecuteTime": {
     "end_time": "2021-06-16T03:15:01.986773Z",
     "start_time": "2021-06-16T03:15:01.426121Z"
    }
   },
   "outputs": [],
   "source": [
    "import numpy as np\n",
    "from PIL import Image\n",
    "import matplotlib.pyplot as plt"
   ]
  },
  {
   "cell_type": "code",
   "execution_count": 39,
   "id": "0b06e4ee",
   "metadata": {
    "ExecuteTime": {
     "end_time": "2021-06-16T03:18:16.947501Z",
     "start_time": "2021-06-16T03:18:16.633188Z"
    }
   },
   "outputs": [
    {
     "ename": "FileNotFoundError",
     "evalue": "[Errno 2] No such file or directory: 'python.jpeg'",
     "output_type": "error",
     "traceback": [
      "\u001b[1;31m---------------------------------------------------------------------------\u001b[0m",
      "\u001b[1;31mFileNotFoundError\u001b[0m                         Traceback (most recent call last)",
      "\u001b[1;32m<ipython-input-39-b7834540e366>\u001b[0m in \u001b[0;36m<module>\u001b[1;34m\u001b[0m\n\u001b[1;32m----> 1\u001b[1;33m \u001b[0mimg\u001b[0m \u001b[1;33m=\u001b[0m \u001b[0mImage\u001b[0m\u001b[1;33m.\u001b[0m\u001b[0mopen\u001b[0m\u001b[1;33m(\u001b[0m\u001b[1;34m'python.jpeg'\u001b[0m\u001b[1;33m)\u001b[0m\u001b[1;33m\u001b[0m\u001b[1;33m\u001b[0m\u001b[0m\n\u001b[0m\u001b[0;32m      2\u001b[0m \u001b[0mprint\u001b[0m\u001b[1;33m(\u001b[0m\u001b[0mimg\u001b[0m\u001b[1;33m)\u001b[0m\u001b[1;33m\u001b[0m\u001b[1;33m\u001b[0m\u001b[0m\n\u001b[0;32m      3\u001b[0m \u001b[1;33m\u001b[0m\u001b[0m\n\u001b[0;32m      4\u001b[0m \u001b[0mimg_arr\u001b[0m \u001b[1;33m=\u001b[0m \u001b[0mnp\u001b[0m\u001b[1;33m.\u001b[0m\u001b[0marray\u001b[0m\u001b[1;33m(\u001b[0m\u001b[0mimg\u001b[0m\u001b[1;33m)\u001b[0m\u001b[1;33m\u001b[0m\u001b[1;33m\u001b[0m\u001b[0m\n\u001b[0;32m      5\u001b[0m \u001b[0mprint\u001b[0m\u001b[1;33m(\u001b[0m\u001b[0mimg_arr\u001b[0m\u001b[1;33m.\u001b[0m\u001b[0mshape\u001b[0m\u001b[1;33m)\u001b[0m\u001b[1;33m\u001b[0m\u001b[1;33m\u001b[0m\u001b[0m\n",
      "\u001b[1;32mC:\\ProgramData\\Anaconda3\\lib\\site-packages\\PIL\\Image.py\u001b[0m in \u001b[0;36mopen\u001b[1;34m(fp, mode, formats)\u001b[0m\n\u001b[0;32m   2910\u001b[0m \u001b[1;33m\u001b[0m\u001b[0m\n\u001b[0;32m   2911\u001b[0m     \u001b[1;32mif\u001b[0m \u001b[0mfilename\u001b[0m\u001b[1;33m:\u001b[0m\u001b[1;33m\u001b[0m\u001b[1;33m\u001b[0m\u001b[0m\n\u001b[1;32m-> 2912\u001b[1;33m         \u001b[0mfp\u001b[0m \u001b[1;33m=\u001b[0m \u001b[0mbuiltins\u001b[0m\u001b[1;33m.\u001b[0m\u001b[0mopen\u001b[0m\u001b[1;33m(\u001b[0m\u001b[0mfilename\u001b[0m\u001b[1;33m,\u001b[0m \u001b[1;34m\"rb\"\u001b[0m\u001b[1;33m)\u001b[0m\u001b[1;33m\u001b[0m\u001b[1;33m\u001b[0m\u001b[0m\n\u001b[0m\u001b[0;32m   2913\u001b[0m         \u001b[0mexclusive_fp\u001b[0m \u001b[1;33m=\u001b[0m \u001b[1;32mTrue\u001b[0m\u001b[1;33m\u001b[0m\u001b[1;33m\u001b[0m\u001b[0m\n\u001b[0;32m   2914\u001b[0m \u001b[1;33m\u001b[0m\u001b[0m\n",
      "\u001b[1;31mFileNotFoundError\u001b[0m: [Errno 2] No such file or directory: 'python.jpeg'"
     ]
    }
   ],
   "source": [
    "img = Image.open('python.jpeg')\n",
    "print(img)\n",
    "\n",
    "img_arr = np.array(img)\n",
    "print(img_arr.shape)\n",
    "\n",
    "plt.imshow(img_arr)\n"
   ]
  },
  {
   "cell_type": "code",
   "execution_count": 72,
   "id": "8fe2adae",
   "metadata": {
    "ExecuteTime": {
     "end_time": "2021-06-16T03:17:23.762871Z",
     "start_time": "2021-06-16T03:17:23.388673Z"
    }
   },
   "outputs": [
    {
     "data": {
      "text/plain": [
       "<matplotlib.image.AxesImage at 0x115c8ea90>"
      ]
     },
     "execution_count": 72,
     "metadata": {},
     "output_type": "execute_result"
    },
    {
     "data": {
      "image/png": "[encoded data removed]",
      "text/plain": [
       "<Figure size 432x288 with 1 Axes>"
      ]
     },
     "metadata": {
      "needs_background": "light"
     },
     "output_type": "display_data"
    }
   ],
   "source": [
    "plt.imshow(img_arr[50:175, 50:175, ::])"
   ]
  },
  {
   "cell_type": "code",
   "execution_count": 86,
   "id": "7a38a0ea",
   "metadata": {
    "ExecuteTime": {
     "end_time": "2021-06-16T03:20:06.648277Z",
     "start_time": "2021-06-16T03:20:06.327143Z"
    }
   },
   "outputs": [
    {
     "data": {
      "text/plain": [
       "<matplotlib.image.AxesImage at 0x115dc7610>"
      ]
     },
     "execution_count": 86,
     "metadata": {},
     "output_type": "execute_result"
    },
    {
     "data": {
      "image/png": "[encoded data removed]",
      "text/plain": [
       "<Figure size 432x288 with 1 Axes>"
      ]
     },
     "metadata": {
      "needs_background": "light"
     },
     "output_type": "display_data"
    }
   ],
   "source": [
    "a1, a2, a3, a4, a5 = np.split(img_arr, 5, axis = 0)\n",
    "plt.imshow(a1)"
   ]
  },
  {
   "cell_type": "code",
   "execution_count": 87,
   "id": "d9ef3265",
   "metadata": {
    "ExecuteTime": {
     "end_time": "2021-06-16T03:20:07.981002Z",
     "start_time": "2021-06-16T03:20:07.477098Z"
    }
   },
   "outputs": [
    {
     "data": {
      "text/plain": [
       "<matplotlib.image.AxesImage at 0x115e9ee20>"
      ]
     },
     "execution_count": 87,
     "metadata": {},
     "output_type": "execute_result"
    },
    {
     "data": {
      "image/png": "[encoded data removed]",
      "text/plain": [
       "<Figure size 432x288 with 1 Axes>"
      ]
     },
     "metadata": {
      "needs_background": "light"
     },
     "output_type": "display_data"
    }
   ],
   "source": [
    "plt.imshow(a2)"
   ]
  },
  {
   "cell_type": "code",
   "execution_count": 88,
   "id": "39fa2746",
   "metadata": {
    "ExecuteTime": {
     "end_time": "2021-06-16T03:20:08.765471Z",
     "start_time": "2021-06-16T03:20:08.333161Z"
    }
   },
   "outputs": [
    {
     "data": {
      "text/plain": [
       "<matplotlib.image.AxesImage at 0x11600c9d0>"
      ]
     },
     "execution_count": 88,
     "metadata": {},
     "output_type": "execute_result"
    },
    {
     "data": {
      "image/png": "[encoded data removed]",
      "text/plain": [
       "<Figure size 432x288 with 1 Axes>"
      ]
     },
     "metadata": {
      "needs_background": "light"
     },
     "output_type": "display_data"
    }
   ],
   "source": [
    "plt.imshow(a3)"
   ]
  },
  {
   "cell_type": "code",
   "execution_count": 89,
   "id": "8413fb45",
   "metadata": {
    "ExecuteTime": {
     "end_time": "2021-06-16T03:20:09.760458Z",
     "start_time": "2021-06-16T03:20:09.221161Z"
    }
   },
   "outputs": [
    {
     "data": {
      "text/plain": [
       "<matplotlib.image.AxesImage at 0x115253520>"
      ]
     },
     "execution_count": 89,
     "metadata": {},
     "output_type": "execute_result"
    },
    {
     "data": {
      "image/png": "[encoded data removed]",
      "text/plain": [
       "<Figure size 432x288 with 1 Axes>"
      ]
     },
     "metadata": {
      "needs_background": "light"
     },
     "output_type": "display_data"
    }
   ],
   "source": [
    "plt.imshow(a4)"
   ]
  },
  {
   "cell_type": "code",
   "execution_count": 90,
   "id": "82c8ca3e",
   "metadata": {
    "ExecuteTime": {
     "end_time": "2021-06-16T03:20:10.489099Z",
     "start_time": "2021-06-16T03:20:09.952905Z"
    }
   },
   "outputs": [
    {
     "data": {
      "text/plain": [
       "<matplotlib.image.AxesImage at 0x11537d070>"
      ]
     },
     "execution_count": 90,
     "metadata": {},
     "output_type": "execute_result"
    },
    {
     "data": {
      "image/png": "[encoded data removed]",
      "text/plain": [
       "<Figure size 432x288 with 1 Axes>"
      ]
     },
     "metadata": {
      "needs_background": "light"
     },
     "output_type": "display_data"
    }
   ],
   "source": [
    "plt.imshow(a5)"
   ]
  },
  {
   "cell_type": "code",
   "execution_count": 93,
   "id": "f93f29fc",
   "metadata": {
    "ExecuteTime": {
     "end_time": "2021-06-16T03:20:45.262350Z",
     "start_time": "2021-06-16T03:20:44.887264Z"
    }
   },
   "outputs": [
    {
     "data": {
      "text/plain": [
       "<matplotlib.image.AxesImage at 0x115cb5f40>"
      ]
     },
     "execution_count": 93,
     "metadata": {},
     "output_type": "execute_result"
    },
    {
     "data": {
      "image/png": "[encoded data removed]",
      "text/plain": [
       "<Figure size 432x288 with 1 Axes>"
      ]
     },
     "metadata": {
      "needs_background": "light"
     },
     "output_type": "display_data"
    }
   ],
   "source": [
    "plt.imshow(np.concatenate((a1, a2, a3, a4, a5)))"
   ]
  },
  {
   "cell_type": "code",
   "execution_count": 94,
   "id": "78e8daf2",
   "metadata": {
    "ExecuteTime": {
     "end_time": "2021-06-16T03:24:17.086056Z",
     "start_time": "2021-06-16T03:24:16.830492Z"
    }
   },
   "outputs": [
    {
     "data": {
      "text/plain": [
       "<matplotlib.image.AxesImage at 0x115fdae80>"
      ]
     },
     "execution_count": 94,
     "metadata": {},
     "output_type": "execute_result"
    },
    {
     "data": {
      "image/png": "[encoded data removed]",
      "text/plain": [
       "<Figure size 432x288 with 1 Axes>"
      ]
     },
     "metadata": {
      "needs_background": "light"
     },
     "output_type": "display_data"
    }
   ],
   "source": [
    "# Split the above image among the column and concatenate it back into the same image\n",
    "a1, a2, a3, a4, a5 = np.split(img_arr, 5, axis = 1)\n",
    "plt.imshow(a1)"
   ]
  },
  {
   "cell_type": "code",
   "execution_count": 96,
   "id": "3ca1fc43",
   "metadata": {
    "ExecuteTime": {
     "end_time": "2021-06-16T03:24:53.326994Z",
     "start_time": "2021-06-16T03:24:53.061771Z"
    }
   },
   "outputs": [
    {
     "data": {
      "text/plain": [
       "<matplotlib.image.AxesImage at 0x11590d070>"
      ]
     },
     "execution_count": 96,
     "metadata": {},
     "output_type": "execute_result"
    },
    {
     "data": {
      "image/png": "[encoded data removed]",
      "text/plain": [
       "<Figure size 432x288 with 1 Axes>"
      ]
     },
     "metadata": {
      "needs_background": "light"
     },
     "output_type": "display_data"
    }
   ],
   "source": [
    "plt.imshow(a2)"
   ]
  },
  {
   "cell_type": "code",
   "execution_count": 97,
   "id": "02d2cf04",
   "metadata": {
    "ExecuteTime": {
     "end_time": "2021-06-16T03:24:59.852374Z",
     "start_time": "2021-06-16T03:24:59.587190Z"
    }
   },
   "outputs": [
    {
     "data": {
      "text/plain": [
       "<matplotlib.image.AxesImage at 0x115b77640>"
      ]
     },
     "execution_count": 97,
     "metadata": {},
     "output_type": "execute_result"
    },
    {
     "data": {
      "image/png": "[encoded data removed]",
      "text/plain": [
       "<Figure size 432x288 with 1 Axes>"
      ]
     },
     "metadata": {
      "needs_background": "light"
     },
     "output_type": "display_data"
    }
   ],
   "source": [
    "plt.imshow(a3)"
   ]
  },
  {
   "cell_type": "code",
   "execution_count": 98,
   "id": "5a43ca10",
   "metadata": {
    "ExecuteTime": {
     "end_time": "2021-06-16T03:25:05.324060Z",
     "start_time": "2021-06-16T03:25:05.046008Z"
    }
   },
   "outputs": [
    {
     "data": {
      "text/plain": [
       "<matplotlib.image.AxesImage at 0x115bd3fa0>"
      ]
     },
     "execution_count": 98,
     "metadata": {},
     "output_type": "execute_result"
    },
    {
     "data": {
      "image/png": "[encoded data removed]",
      "text/plain": [
       "<Figure size 432x288 with 1 Axes>"
      ]
     },
     "metadata": {
      "needs_background": "light"
     },
     "output_type": "display_data"
    }
   ],
   "source": [
    "plt.imshow(a4)"
   ]
  },
  {
   "cell_type": "code",
   "execution_count": 99,
   "id": "b6fbe16e",
   "metadata": {
    "ExecuteTime": {
     "end_time": "2021-06-16T03:25:11.446067Z",
     "start_time": "2021-06-16T03:25:11.169906Z"
    }
   },
   "outputs": [
    {
     "data": {
      "text/plain": [
       "<matplotlib.image.AxesImage at 0x1166488e0>"
      ]
     },
     "execution_count": 99,
     "metadata": {},
     "output_type": "execute_result"
    },
    {
     "data": {
      "image/png": "[encoded data removed]",
      "text/plain": [
       "<Figure size 432x288 with 1 Axes>"
      ]
     },
     "metadata": {
      "needs_background": "light"
     },
     "output_type": "display_data"
    }
   ],
   "source": [
    "plt.imshow(a5)"
   ]
  },
  {
   "cell_type": "code",
   "execution_count": 95,
   "id": "cb141034",
   "metadata": {
    "ExecuteTime": {
     "end_time": "2021-06-16T03:24:39.818132Z",
     "start_time": "2021-06-16T03:24:39.423707Z"
    }
   },
   "outputs": [
    {
     "data": {
      "text/plain": [
       "<matplotlib.image.AxesImage at 0x11585d760>"
      ]
     },
     "execution_count": 95,
     "metadata": {},
     "output_type": "execute_result"
    },
    {
     "data": {
      "image/png": "[encoded data removed]",
      "text/plain": [
       "<Figure size 432x288 with 1 Axes>"
      ]
     },
     "metadata": {
      "needs_background": "light"
     },
     "output_type": "display_data"
    }
   ],
   "source": [
    "plt.imshow(np.concatenate((a1, a2, a3, a4, a5), axis = 1))"
   ]
  },
  {
   "cell_type": "markdown",
   "id": "5f40bfc8",
   "metadata": {},
   "source": [
    "# Pandas"
   ]
  },
  {
   "cell_type": "code",
   "execution_count": null,
   "id": "845a52b9",
   "metadata": {},
   "outputs": [],
   "source": [
    "# Pandas another Data science package which is extensivly used for data Analysis.\n",
    "# It is built on top of Numpy.\n",
    "# Data Structures - Series, Dataframe\n",
    "# Array - numpy\n",
    "# Series - A single column\n",
    "# Dataframe - Collection series - can have multiple columns\n",
    "# Dataframe s used to represent the data in tabular format and data processing is faster and cheap using data frame.\n",
    "\n",
    "\n",
    "\n"
   ]
  },
  {
   "cell_type": "code",
   "execution_count": null,
   "id": "74987a37",
   "metadata": {},
   "outputs": [],
   "source": [
    "    Emp_ID   Emp_Name   Emp_Sal\n",
    "0    101.     Abhishek.  10000\n",
    "1    102.     Suresh.    20000\n"
   ]
  },
  {
   "cell_type": "code",
   "execution_count": 3,
   "id": "0087d68c",
   "metadata": {
    "ExecuteTime": {
     "end_time": "2021-06-16T03:31:44.704269Z",
     "start_time": "2021-06-16T03:31:43.446465Z"
    }
   },
   "outputs": [],
   "source": [
    "import pandas as pd"
   ]
  },
  {
   "cell_type": "code",
   "execution_count": 7,
   "id": "3d78cff0",
   "metadata": {
    "ExecuteTime": {
     "end_time": "2021-06-16T03:34:37.541838Z",
     "start_time": "2021-06-16T03:34:37.528533Z"
    }
   },
   "outputs": [
    {
     "data": {
      "text/plain": [
       "RangeIndex(start=0, stop=5, step=1)"
      ]
     },
     "execution_count": 7,
     "metadata": {},
     "output_type": "execute_result"
    }
   ],
   "source": [
    "lst_rivers = ['Ganges', 'Yamuna', 'Nile', 'Missisippi', 'Brazos']\n",
    "ser_rivers = pd.Series(lst_rivers)\n",
    "ser_rivers\n",
    "\n",
    "# 0-4 -> Row index\n",
    "# Series follow zero based indexing by default\n",
    "# We can assign some user defined indexes\n",
    "\n",
    "# Accessing indexes of series\n",
    "ser_rivers.index"
   ]
  },
  {
   "cell_type": "code",
   "execution_count": 9,
   "id": "efff8324",
   "metadata": {
    "ExecuteTime": {
     "end_time": "2021-06-16T03:35:36.754006Z",
     "start_time": "2021-06-16T03:35:36.738769Z"
    }
   },
   "outputs": [
    {
     "data": {
      "text/plain": [
       "a        Ganges\n",
       "b        Yamuna\n",
       "c          Nile\n",
       "d    Missisippi\n",
       "e        Brazos\n",
       "dtype: object"
      ]
     },
     "execution_count": 9,
     "metadata": {},
     "output_type": "execute_result"
    }
   ],
   "source": [
    "# Assigning user defined indexes\n",
    "ser_rivers.index = ['a', 'b','c', 'd', 'e']\n",
    "\n",
    "ser_rivers\n"
   ]
  },
  {
   "cell_type": "code",
   "execution_count": 105,
   "id": "f712ae7f",
   "metadata": {
    "ExecuteTime": {
     "end_time": "2021-06-16T03:36:22.840314Z",
     "start_time": "2021-06-16T03:36:22.833983Z"
    }
   },
   "outputs": [
    {
     "name": "stdout",
     "output_type": "stream",
     "text": [
      "Nile\n",
      "Nile\n"
     ]
    }
   ],
   "source": [
    "# Accessing the element using indexing\n",
    "\n",
    "print(ser_rivers['c'])\n",
    "\n",
    "print(ser_rivers[2])\n",
    "\n"
   ]
  },
  {
   "cell_type": "code",
   "execution_count": 14,
   "id": "133d104c",
   "metadata": {
    "ExecuteTime": {
     "end_time": "2021-06-16T03:38:11.071516Z",
     "start_time": "2021-06-16T03:38:11.061646Z"
    }
   },
   "outputs": [
    {
     "name": "stdout",
     "output_type": "stream",
     "text": [
      "b        Yamuna\n",
      "c          Nile\n",
      "d    Missisippi\n",
      "dtype: object\n",
      "b    Yamuna\n",
      "c      Nile\n",
      "dtype: object\n"
     ]
    }
   ],
   "source": [
    "# Accessing the element using slicing\n",
    "\n",
    "# When we use explicint index in slicing then stop value is inclusive\n",
    "\n",
    "print(ser_rivers['b':'d'])\n",
    "\n",
    "print(ser_rivers[1:3])\n",
    "\n"
   ]
  },
  {
   "cell_type": "code",
   "execution_count": 114,
   "id": "87ced769",
   "metadata": {
    "ExecuteTime": {
     "end_time": "2021-06-16T03:40:42.417559Z",
     "start_time": "2021-06-16T03:40:42.404024Z"
    }
   },
   "outputs": [
    {
     "data": {
      "text/plain": [
       "p        Ganges\n",
       "q        Yamuna\n",
       "r          Nile\n",
       "s    Missisippi\n",
       "t        Brazos\n",
       "dtype: object"
      ]
     },
     "execution_count": 114,
     "metadata": {},
     "output_type": "execute_result"
    }
   ],
   "source": [
    "# INdex can be changed while creating series\n",
    "lst_rivers = ['Ganges', 'Yamuna', 'Nile', 'Missisippi', 'Brazos']\n",
    "ser_rivers = pd.Series(lst_rivers, index = list('pqrst'))\n",
    "ser_rivers"
   ]
  },
  {
   "cell_type": "code",
   "execution_count": 17,
   "id": "d5205059",
   "metadata": {
    "ExecuteTime": {
     "end_time": "2021-06-16T03:43:02.250491Z",
     "start_time": "2021-06-16T03:43:02.228469Z"
    }
   },
   "outputs": [
    {
     "data": {
      "text/plain": [
       "name    Rahul\n",
       "id        101\n",
       "sal     20000\n",
       "addr      NaN\n",
       "city      NaN\n",
       "dtype: object"
      ]
     },
     "execution_count": 17,
     "metadata": {},
     "output_type": "execute_result"
    }
   ],
   "source": [
    "# Creating series using dictionary\n",
    "emp_dict = {'name':'Rahul', 'id':101, 'sal':20000}\n",
    "# ser_emp = pd.Series(emp_dict)\n",
    "ser_emp = pd.Series(emp_dict, index = ['name', 'id', 'sal', 'addr', 'city'])\n",
    "\n",
    "ser_emp\n"
   ]
  },
  {
   "cell_type": "code",
   "execution_count": 121,
   "id": "e6a9d7d4",
   "metadata": {
    "ExecuteTime": {
     "end_time": "2021-06-16T03:45:50.416905Z",
     "start_time": "2021-06-16T03:45:50.412839Z"
    }
   },
   "outputs": [],
   "source": [
    "brics_currency = ['Real', 'Ruble', 'Rupee', 'Renminbi', 'Rand' ]\n",
    "brics_country = ['Brazil', 'Russia', 'India', 'China', 'South Africa']"
   ]
  },
  {
   "cell_type": "code",
   "execution_count": 122,
   "id": "9f637279",
   "metadata": {
    "ExecuteTime": {
     "end_time": "2021-06-16T03:45:51.173735Z",
     "start_time": "2021-06-16T03:45:51.160359Z"
    }
   },
   "outputs": [
    {
     "data": {
      "text/plain": [
       "Brazil              Real\n",
       "Russia             Ruble\n",
       "India              Rupee\n",
       "China           Renminbi\n",
       "South Africa        Rand\n",
       "dtype: object"
      ]
     },
     "execution_count": 122,
     "metadata": {},
     "output_type": "execute_result"
    }
   ],
   "source": [
    "# Create a series where brics_country will be row index and brics_currency will be value for the same\n",
    "\n",
    "pd.Series(brics_currency, index=brics_country)"
   ]
  },
  {
   "cell_type": "markdown",
   "id": "09c5883a",
   "metadata": {},
   "source": [
    "# Dataframe"
   ]
  },
  {
   "cell_type": "code",
   "execution_count": 19,
   "id": "8d129f2b",
   "metadata": {
    "ExecuteTime": {
     "end_time": "2021-06-16T03:47:09.811801Z",
     "start_time": "2021-06-16T03:47:09.742940Z"
    }
   },
   "outputs": [
    {
     "data": {
      "text/html": [
       "<div>\n",
       "<style scoped>\n",
       "    .dataframe tbody tr th:only-of-type {\n",
       "        vertical-align: middle;\n",
       "    }\n",
       "\n",
       "    .dataframe tbody tr th {\n",
       "        vertical-align: top;\n",
       "    }\n",
       "\n",
       "    .dataframe thead th {\n",
       "        text-align: right;\n",
       "    }\n",
       "</style>\n",
       "<table border=\"1\" class=\"dataframe\">\n",
       "  <thead>\n",
       "    <tr style=\"text-align: right;\">\n",
       "      <th></th>\n",
       "      <th>Date</th>\n",
       "      <th>Open</th>\n",
       "      <th>High</th>\n",
       "      <th>Low</th>\n",
       "      <th>Close</th>\n",
       "      <th>Volume</th>\n",
       "    </tr>\n",
       "  </thead>\n",
       "  <tbody>\n",
       "    <tr>\n",
       "      <th>0</th>\n",
       "      <td>7-Jul-17</td>\n",
       "      <td>142.90</td>\n",
       "      <td>144.75</td>\n",
       "      <td>142.90</td>\n",
       "      <td>144.18</td>\n",
       "      <td>19201712</td>\n",
       "    </tr>\n",
       "    <tr>\n",
       "      <th>1</th>\n",
       "      <td>6-Jul-17</td>\n",
       "      <td>143.02</td>\n",
       "      <td>143.50</td>\n",
       "      <td>142.41</td>\n",
       "      <td>142.73</td>\n",
       "      <td>24128782</td>\n",
       "    </tr>\n",
       "    <tr>\n",
       "      <th>2</th>\n",
       "      <td>5-Jul-17</td>\n",
       "      <td>143.69</td>\n",
       "      <td>144.79</td>\n",
       "      <td>142.72</td>\n",
       "      <td>144.09</td>\n",
       "      <td>21569557</td>\n",
       "    </tr>\n",
       "    <tr>\n",
       "      <th>3</th>\n",
       "      <td>3-Jul-17</td>\n",
       "      <td>144.88</td>\n",
       "      <td>145.30</td>\n",
       "      <td>143.10</td>\n",
       "      <td>143.50</td>\n",
       "      <td>14277848</td>\n",
       "    </tr>\n",
       "    <tr>\n",
       "      <th>4</th>\n",
       "      <td>30-Jun-17</td>\n",
       "      <td>144.45</td>\n",
       "      <td>144.96</td>\n",
       "      <td>143.78</td>\n",
       "      <td>144.02</td>\n",
       "      <td>23024107</td>\n",
       "    </tr>\n",
       "    <tr>\n",
       "      <th>...</th>\n",
       "      <td>...</td>\n",
       "      <td>...</td>\n",
       "      <td>...</td>\n",
       "      <td>...</td>\n",
       "      <td>...</td>\n",
       "      <td>...</td>\n",
       "    </tr>\n",
       "    <tr>\n",
       "      <th>124</th>\n",
       "      <td>9-Jan-17</td>\n",
       "      <td>117.95</td>\n",
       "      <td>119.43</td>\n",
       "      <td>117.94</td>\n",
       "      <td>118.99</td>\n",
       "      <td>33561948</td>\n",
       "    </tr>\n",
       "    <tr>\n",
       "      <th>125</th>\n",
       "      <td>6-Jan-17</td>\n",
       "      <td>116.78</td>\n",
       "      <td>118.16</td>\n",
       "      <td>116.47</td>\n",
       "      <td>117.91</td>\n",
       "      <td>31751900</td>\n",
       "    </tr>\n",
       "    <tr>\n",
       "      <th>126</th>\n",
       "      <td>5-Jan-17</td>\n",
       "      <td>115.92</td>\n",
       "      <td>116.86</td>\n",
       "      <td>115.81</td>\n",
       "      <td>116.61</td>\n",
       "      <td>22193587</td>\n",
       "    </tr>\n",
       "    <tr>\n",
       "      <th>127</th>\n",
       "      <td>4-Jan-17</td>\n",
       "      <td>115.85</td>\n",
       "      <td>116.51</td>\n",
       "      <td>115.75</td>\n",
       "      <td>116.02</td>\n",
       "      <td>21118116</td>\n",
       "    </tr>\n",
       "    <tr>\n",
       "      <th>128</th>\n",
       "      <td>3-Jan-17</td>\n",
       "      <td>115.80</td>\n",
       "      <td>116.33</td>\n",
       "      <td>114.76</td>\n",
       "      <td>116.15</td>\n",
       "      <td>28781865</td>\n",
       "    </tr>\n",
       "  </tbody>\n",
       "</table>\n",
       "<p>129 rows × 6 columns</p>\n",
       "</div>"
      ],
      "text/plain": [
       "          Date    Open    High     Low   Close    Volume\n",
       "0     7-Jul-17  142.90  144.75  142.90  144.18  19201712\n",
       "1     6-Jul-17  143.02  143.50  142.41  142.73  24128782\n",
       "2     5-Jul-17  143.69  144.79  142.72  144.09  21569557\n",
       "3     3-Jul-17  144.88  145.30  143.10  143.50  14277848\n",
       "4    30-Jun-17  144.45  144.96  143.78  144.02  23024107\n",
       "..         ...     ...     ...     ...     ...       ...\n",
       "124   9-Jan-17  117.95  119.43  117.94  118.99  33561948\n",
       "125   6-Jan-17  116.78  118.16  116.47  117.91  31751900\n",
       "126   5-Jan-17  115.92  116.86  115.81  116.61  22193587\n",
       "127   4-Jan-17  115.85  116.51  115.75  116.02  21118116\n",
       "128   3-Jan-17  115.80  116.33  114.76  116.15  28781865\n",
       "\n",
       "[129 rows x 6 columns]"
      ]
     },
     "execution_count": 19,
     "metadata": {},
     "output_type": "execute_result"
    }
   ],
   "source": [
    "# Creating a dataframe from csv file\n",
    "\n",
    "apple_df = pd.read_csv('Data_Sets/apple_stocks.csv')\n",
    "apple_df\n",
    "\n"
   ]
  },
  {
   "cell_type": "code",
   "execution_count": 24,
   "id": "c5083473",
   "metadata": {
    "ExecuteTime": {
     "end_time": "2021-06-16T03:55:34.351053Z",
     "start_time": "2021-06-16T03:55:34.302389Z"
    }
   },
   "outputs": [
    {
     "data": {
      "text/html": [
       "<div>\n",
       "<style scoped>\n",
       "    .dataframe tbody tr th:only-of-type {\n",
       "        vertical-align: middle;\n",
       "    }\n",
       "\n",
       "    .dataframe tbody tr th {\n",
       "        vertical-align: top;\n",
       "    }\n",
       "\n",
       "    .dataframe thead th {\n",
       "        text-align: right;\n",
       "    }\n",
       "</style>\n",
       "<table border=\"1\" class=\"dataframe\">\n",
       "  <thead>\n",
       "    <tr style=\"text-align: right;\">\n",
       "      <th></th>\n",
       "      <th>car_name</th>\n",
       "      <th>mpg</th>\n",
       "      <th>horsepower</th>\n",
       "    </tr>\n",
       "    <tr>\n",
       "      <th>origin_country</th>\n",
       "      <th></th>\n",
       "      <th></th>\n",
       "      <th></th>\n",
       "    </tr>\n",
       "  </thead>\n",
       "  <tbody>\n",
       "    <tr>\n",
       "      <th>Japan</th>\n",
       "      <td>Toyota Corolla Mark ii</td>\n",
       "      <td>24</td>\n",
       "      <td>95</td>\n",
       "    </tr>\n",
       "    <tr>\n",
       "      <th>US</th>\n",
       "      <td>Chevrolet Chevelle Malibu</td>\n",
       "      <td>18</td>\n",
       "      <td>130</td>\n",
       "    </tr>\n",
       "    <tr>\n",
       "      <th>Germany</th>\n",
       "      <td>Audi 100 LS</td>\n",
       "      <td>24</td>\n",
       "      <td>90</td>\n",
       "    </tr>\n",
       "    <tr>\n",
       "      <th>Germany</th>\n",
       "      <td>BMW 2002</td>\n",
       "      <td>26</td>\n",
       "      <td>113</td>\n",
       "    </tr>\n",
       "    <tr>\n",
       "      <th>Japan</th>\n",
       "      <td>Datsun PL510</td>\n",
       "      <td>27</td>\n",
       "      <td>88</td>\n",
       "    </tr>\n",
       "  </tbody>\n",
       "</table>\n",
       "</div>"
      ],
      "text/plain": [
       "                                 car_name  mpg  horsepower\n",
       "origin_country                                            \n",
       "Japan              Toyota Corolla Mark ii   24          95\n",
       "US              Chevrolet Chevelle Malibu   18         130\n",
       "Germany                       Audi 100 LS   24          90\n",
       "Germany                          BMW 2002   26         113\n",
       "Japan                        Datsun PL510   27          88"
      ]
     },
     "execution_count": 24,
     "metadata": {},
     "output_type": "execute_result"
    }
   ],
   "source": [
    "auto_df = pd.read_excel('Data_sets/automobile_camera.xlsx')\n",
    "\n",
    "auto_df = pd.read_excel('Data_sets/automobile_camera.xlsx', index_col = 'origin_country').drop(columns = ['Unnamed: 0'])\n",
    "auto_df"
   ]
  },
  {
   "cell_type": "code",
   "execution_count": 29,
   "id": "9273844e",
   "metadata": {
    "ExecuteTime": {
     "end_time": "2021-06-16T03:59:05.969082Z",
     "start_time": "2021-06-16T03:59:05.954095Z"
    }
   },
   "outputs": [],
   "source": [
    "df_dict = {'Year' : [1990, 1994, 1998, 2002],\n",
    "           'Country' : ['Italy', 'USA', 'France', 'Japan'],\n",
    "           'Winner' : ['Germany', 'Brazil', 'France', 'Brazil'],\n",
    "           'GoalScored' : [115, 141, 171]\n",
    "          }"
   ]
  },
  {
   "cell_type": "code",
   "execution_count": 30,
   "id": "ac1552dc",
   "metadata": {
    "ExecuteTime": {
     "end_time": "2021-06-16T03:59:08.713556Z",
     "start_time": "2021-06-16T03:59:08.688239Z"
    }
   },
   "outputs": [
    {
     "ename": "ValueError",
     "evalue": "arrays must all be same length",
     "output_type": "error",
     "traceback": [
      "\u001b[1;31m---------------------------------------------------------------------------\u001b[0m",
      "\u001b[1;31mValueError\u001b[0m                                Traceback (most recent call last)",
      "\u001b[1;32m<ipython-input-30-656bbc2a785c>\u001b[0m in \u001b[0;36m<module>\u001b[1;34m\u001b[0m\n\u001b[1;32m----> 1\u001b[1;33m \u001b[0mpd\u001b[0m\u001b[1;33m.\u001b[0m\u001b[0mDataFrame\u001b[0m\u001b[1;33m(\u001b[0m\u001b[0mdf_dict\u001b[0m\u001b[1;33m)\u001b[0m\u001b[1;33m\u001b[0m\u001b[1;33m\u001b[0m\u001b[0m\n\u001b[0m",
      "\u001b[1;32mC:\\ProgramData\\Anaconda3\\lib\\site-packages\\pandas\\core\\frame.py\u001b[0m in \u001b[0;36m__init__\u001b[1;34m(self, data, index, columns, dtype, copy)\u001b[0m\n\u001b[0;32m    527\u001b[0m \u001b[1;33m\u001b[0m\u001b[0m\n\u001b[0;32m    528\u001b[0m         \u001b[1;32melif\u001b[0m \u001b[0misinstance\u001b[0m\u001b[1;33m(\u001b[0m\u001b[0mdata\u001b[0m\u001b[1;33m,\u001b[0m \u001b[0mdict\u001b[0m\u001b[1;33m)\u001b[0m\u001b[1;33m:\u001b[0m\u001b[1;33m\u001b[0m\u001b[1;33m\u001b[0m\u001b[0m\n\u001b[1;32m--> 529\u001b[1;33m             \u001b[0mmgr\u001b[0m \u001b[1;33m=\u001b[0m \u001b[0minit_dict\u001b[0m\u001b[1;33m(\u001b[0m\u001b[0mdata\u001b[0m\u001b[1;33m,\u001b[0m \u001b[0mindex\u001b[0m\u001b[1;33m,\u001b[0m \u001b[0mcolumns\u001b[0m\u001b[1;33m,\u001b[0m \u001b[0mdtype\u001b[0m\u001b[1;33m=\u001b[0m\u001b[0mdtype\u001b[0m\u001b[1;33m)\u001b[0m\u001b[1;33m\u001b[0m\u001b[1;33m\u001b[0m\u001b[0m\n\u001b[0m\u001b[0;32m    530\u001b[0m         \u001b[1;32melif\u001b[0m \u001b[0misinstance\u001b[0m\u001b[1;33m(\u001b[0m\u001b[0mdata\u001b[0m\u001b[1;33m,\u001b[0m \u001b[0mma\u001b[0m\u001b[1;33m.\u001b[0m\u001b[0mMaskedArray\u001b[0m\u001b[1;33m)\u001b[0m\u001b[1;33m:\u001b[0m\u001b[1;33m\u001b[0m\u001b[1;33m\u001b[0m\u001b[0m\n\u001b[0;32m    531\u001b[0m             \u001b[1;32mimport\u001b[0m \u001b[0mnumpy\u001b[0m\u001b[1;33m.\u001b[0m\u001b[0mma\u001b[0m\u001b[1;33m.\u001b[0m\u001b[0mmrecords\u001b[0m \u001b[1;32mas\u001b[0m \u001b[0mmrecords\u001b[0m\u001b[1;33m\u001b[0m\u001b[1;33m\u001b[0m\u001b[0m\n",
      "\u001b[1;32mC:\\ProgramData\\Anaconda3\\lib\\site-packages\\pandas\\core\\internals\\construction.py\u001b[0m in \u001b[0;36minit_dict\u001b[1;34m(data, index, columns, dtype)\u001b[0m\n\u001b[0;32m    285\u001b[0m             \u001b[0marr\u001b[0m \u001b[1;32mif\u001b[0m \u001b[1;32mnot\u001b[0m \u001b[0mis_datetime64tz_dtype\u001b[0m\u001b[1;33m(\u001b[0m\u001b[0marr\u001b[0m\u001b[1;33m)\u001b[0m \u001b[1;32melse\u001b[0m \u001b[0marr\u001b[0m\u001b[1;33m.\u001b[0m\u001b[0mcopy\u001b[0m\u001b[1;33m(\u001b[0m\u001b[1;33m)\u001b[0m \u001b[1;32mfor\u001b[0m \u001b[0marr\u001b[0m \u001b[1;32min\u001b[0m \u001b[0marrays\u001b[0m\u001b[1;33m\u001b[0m\u001b[1;33m\u001b[0m\u001b[0m\n\u001b[0;32m    286\u001b[0m         ]\n\u001b[1;32m--> 287\u001b[1;33m     \u001b[1;32mreturn\u001b[0m \u001b[0marrays_to_mgr\u001b[0m\u001b[1;33m(\u001b[0m\u001b[0marrays\u001b[0m\u001b[1;33m,\u001b[0m \u001b[0mdata_names\u001b[0m\u001b[1;33m,\u001b[0m \u001b[0mindex\u001b[0m\u001b[1;33m,\u001b[0m \u001b[0mcolumns\u001b[0m\u001b[1;33m,\u001b[0m \u001b[0mdtype\u001b[0m\u001b[1;33m=\u001b[0m\u001b[0mdtype\u001b[0m\u001b[1;33m)\u001b[0m\u001b[1;33m\u001b[0m\u001b[1;33m\u001b[0m\u001b[0m\n\u001b[0m\u001b[0;32m    288\u001b[0m \u001b[1;33m\u001b[0m\u001b[0m\n\u001b[0;32m    289\u001b[0m \u001b[1;33m\u001b[0m\u001b[0m\n",
      "\u001b[1;32mC:\\ProgramData\\Anaconda3\\lib\\site-packages\\pandas\\core\\internals\\construction.py\u001b[0m in \u001b[0;36marrays_to_mgr\u001b[1;34m(arrays, arr_names, index, columns, dtype, verify_integrity)\u001b[0m\n\u001b[0;32m     78\u001b[0m         \u001b[1;31m# figure out the index, if necessary\u001b[0m\u001b[1;33m\u001b[0m\u001b[1;33m\u001b[0m\u001b[1;33m\u001b[0m\u001b[0m\n\u001b[0;32m     79\u001b[0m         \u001b[1;32mif\u001b[0m \u001b[0mindex\u001b[0m \u001b[1;32mis\u001b[0m \u001b[1;32mNone\u001b[0m\u001b[1;33m:\u001b[0m\u001b[1;33m\u001b[0m\u001b[1;33m\u001b[0m\u001b[0m\n\u001b[1;32m---> 80\u001b[1;33m             \u001b[0mindex\u001b[0m \u001b[1;33m=\u001b[0m \u001b[0mextract_index\u001b[0m\u001b[1;33m(\u001b[0m\u001b[0marrays\u001b[0m\u001b[1;33m)\u001b[0m\u001b[1;33m\u001b[0m\u001b[1;33m\u001b[0m\u001b[0m\n\u001b[0m\u001b[0;32m     81\u001b[0m         \u001b[1;32melse\u001b[0m\u001b[1;33m:\u001b[0m\u001b[1;33m\u001b[0m\u001b[1;33m\u001b[0m\u001b[0m\n\u001b[0;32m     82\u001b[0m             \u001b[0mindex\u001b[0m \u001b[1;33m=\u001b[0m \u001b[0mensure_index\u001b[0m\u001b[1;33m(\u001b[0m\u001b[0mindex\u001b[0m\u001b[1;33m)\u001b[0m\u001b[1;33m\u001b[0m\u001b[1;33m\u001b[0m\u001b[0m\n",
      "\u001b[1;32mC:\\ProgramData\\Anaconda3\\lib\\site-packages\\pandas\\core\\internals\\construction.py\u001b[0m in \u001b[0;36mextract_index\u001b[1;34m(data)\u001b[0m\n\u001b[0;32m    399\u001b[0m             \u001b[0mlengths\u001b[0m \u001b[1;33m=\u001b[0m \u001b[0mlist\u001b[0m\u001b[1;33m(\u001b[0m\u001b[0mset\u001b[0m\u001b[1;33m(\u001b[0m\u001b[0mraw_lengths\u001b[0m\u001b[1;33m)\u001b[0m\u001b[1;33m)\u001b[0m\u001b[1;33m\u001b[0m\u001b[1;33m\u001b[0m\u001b[0m\n\u001b[0;32m    400\u001b[0m             \u001b[1;32mif\u001b[0m \u001b[0mlen\u001b[0m\u001b[1;33m(\u001b[0m\u001b[0mlengths\u001b[0m\u001b[1;33m)\u001b[0m \u001b[1;33m>\u001b[0m \u001b[1;36m1\u001b[0m\u001b[1;33m:\u001b[0m\u001b[1;33m\u001b[0m\u001b[1;33m\u001b[0m\u001b[0m\n\u001b[1;32m--> 401\u001b[1;33m                 \u001b[1;32mraise\u001b[0m \u001b[0mValueError\u001b[0m\u001b[1;33m(\u001b[0m\u001b[1;34m\"arrays must all be same length\"\u001b[0m\u001b[1;33m)\u001b[0m\u001b[1;33m\u001b[0m\u001b[1;33m\u001b[0m\u001b[0m\n\u001b[0m\u001b[0;32m    402\u001b[0m \u001b[1;33m\u001b[0m\u001b[0m\n\u001b[0;32m    403\u001b[0m             \u001b[1;32mif\u001b[0m \u001b[0mhave_dicts\u001b[0m\u001b[1;33m:\u001b[0m\u001b[1;33m\u001b[0m\u001b[1;33m\u001b[0m\u001b[0m\n",
      "\u001b[1;31mValueError\u001b[0m: arrays must all be same length"
     ]
    }
   ],
   "source": [
    "pd.DataFrame(df_dict)"
   ]
  },
  {
   "cell_type": "code",
   "execution_count": 36,
   "id": "0bc618e2",
   "metadata": {
    "ExecuteTime": {
     "end_time": "2021-06-16T03:58:30.939430Z",
     "start_time": "2021-06-16T03:58:30.932608Z"
    }
   },
   "outputs": [],
   "source": [
    "df_lotuples = [(2002, 'Brazil', 161), \n",
    "                (2006, 'Italy', 147), \n",
    "                (2010, 150),\n",
    "              ]"
   ]
  },
  {
   "cell_type": "code",
   "execution_count": 37,
   "id": "a85bbe5d",
   "metadata": {
    "ExecuteTime": {
     "end_time": "2021-06-16T03:58:31.705505Z",
     "start_time": "2021-06-16T03:58:31.687308Z"
    }
   },
   "outputs": [
    {
     "data": {
      "text/html": [
       "<div>\n",
       "<style scoped>\n",
       "    .dataframe tbody tr th:only-of-type {\n",
       "        vertical-align: middle;\n",
       "    }\n",
       "\n",
       "    .dataframe tbody tr th {\n",
       "        vertical-align: top;\n",
       "    }\n",
       "\n",
       "    .dataframe thead th {\n",
       "        text-align: right;\n",
       "    }\n",
       "</style>\n",
       "<table border=\"1\" class=\"dataframe\">\n",
       "  <thead>\n",
       "    <tr style=\"text-align: right;\">\n",
       "      <th></th>\n",
       "      <th>0</th>\n",
       "      <th>1</th>\n",
       "      <th>2</th>\n",
       "    </tr>\n",
       "  </thead>\n",
       "  <tbody>\n",
       "    <tr>\n",
       "      <th>0</th>\n",
       "      <td>2002</td>\n",
       "      <td>Brazil</td>\n",
       "      <td>161.0</td>\n",
       "    </tr>\n",
       "    <tr>\n",
       "      <th>1</th>\n",
       "      <td>2006</td>\n",
       "      <td>Italy</td>\n",
       "      <td>147.0</td>\n",
       "    </tr>\n",
       "    <tr>\n",
       "      <th>2</th>\n",
       "      <td>2010</td>\n",
       "      <td>150</td>\n",
       "      <td>NaN</td>\n",
       "    </tr>\n",
       "  </tbody>\n",
       "</table>\n",
       "</div>"
      ],
      "text/plain": [
       "      0       1      2\n",
       "0  2002  Brazil  161.0\n",
       "1  2006   Italy  147.0\n",
       "2  2010     150    NaN"
      ]
     },
     "execution_count": 37,
     "metadata": {},
     "output_type": "execute_result"
    }
   ],
   "source": [
    "pd.DataFrame(df_lotuples)"
   ]
  },
  {
   "cell_type": "markdown",
   "id": "81e08051",
   "metadata": {},
   "source": [
    "# Addition and Deletion of rows and columns in a DataFrame"
   ]
  },
  {
   "cell_type": "code",
   "execution_count": 82,
   "id": "5d2d6cab",
   "metadata": {
    "ExecuteTime": {
     "end_time": "2021-06-16T04:03:19.011778Z",
     "start_time": "2021-06-16T04:03:19.000948Z"
    }
   },
   "outputs": [],
   "source": [
    "international_org = pd.read_csv('Data_Sets/international_org.csv')"
   ]
  },
  {
   "cell_type": "code",
   "execution_count": 83,
   "id": "ede70ce7",
   "metadata": {
    "ExecuteTime": {
     "end_time": "2021-06-16T04:03:22.453942Z",
     "start_time": "2021-06-16T04:03:22.441626Z"
    }
   },
   "outputs": [
    {
     "data": {
      "text/html": [
       "<div>\n",
       "<style scoped>\n",
       "    .dataframe tbody tr th:only-of-type {\n",
       "        vertical-align: middle;\n",
       "    }\n",
       "\n",
       "    .dataframe tbody tr th {\n",
       "        vertical-align: top;\n",
       "    }\n",
       "\n",
       "    .dataframe thead th {\n",
       "        text-align: right;\n",
       "    }\n",
       "</style>\n",
       "<table border=\"1\" class=\"dataframe\">\n",
       "  <thead>\n",
       "    <tr style=\"text-align: right;\">\n",
       "      <th></th>\n",
       "      <th>Organization Name</th>\n",
       "      <th>Headquater</th>\n",
       "    </tr>\n",
       "  </thead>\n",
       "  <tbody>\n",
       "    <tr>\n",
       "      <th>0</th>\n",
       "      <td>FAO</td>\n",
       "      <td>Rome</td>\n",
       "    </tr>\n",
       "    <tr>\n",
       "      <th>1</th>\n",
       "      <td>ICJ</td>\n",
       "      <td>The Hague</td>\n",
       "    </tr>\n",
       "    <tr>\n",
       "      <th>2</th>\n",
       "      <td>IMF</td>\n",
       "      <td>Washington</td>\n",
       "    </tr>\n",
       "    <tr>\n",
       "      <th>3</th>\n",
       "      <td>UNESCO</td>\n",
       "      <td>Paris</td>\n",
       "    </tr>\n",
       "    <tr>\n",
       "      <th>4</th>\n",
       "      <td>UNO</td>\n",
       "      <td>New York</td>\n",
       "    </tr>\n",
       "    <tr>\n",
       "      <th>5</th>\n",
       "      <td>World Bank</td>\n",
       "      <td>Washington</td>\n",
       "    </tr>\n",
       "  </tbody>\n",
       "</table>\n",
       "</div>"
      ],
      "text/plain": [
       "  Organization Name  Headquater\n",
       "0               FAO        Rome\n",
       "1               ICJ   The Hague\n",
       "2               IMF  Washington\n",
       "3            UNESCO       Paris\n",
       "4               UNO    New York\n",
       "5        World Bank  Washington"
      ]
     },
     "execution_count": 83,
     "metadata": {},
     "output_type": "execute_result"
    }
   ],
   "source": [
    "international_org"
   ]
  },
  {
   "cell_type": "code",
   "execution_count": 41,
   "id": "91877a62",
   "metadata": {
    "ExecuteTime": {
     "end_time": "2021-06-16T04:03:58.864861Z",
     "start_time": "2021-06-16T04:03:58.852442Z"
    }
   },
   "outputs": [],
   "source": [
    "international_org['Established on'] = 1945"
   ]
  },
  {
   "cell_type": "code",
   "execution_count": 42,
   "id": "464b5c10",
   "metadata": {
    "ExecuteTime": {
     "end_time": "2021-06-16T04:04:10.001291Z",
     "start_time": "2021-06-16T04:04:09.983434Z"
    }
   },
   "outputs": [
    {
     "data": {
      "text/html": [
       "<div>\n",
       "<style scoped>\n",
       "    .dataframe tbody tr th:only-of-type {\n",
       "        vertical-align: middle;\n",
       "    }\n",
       "\n",
       "    .dataframe tbody tr th {\n",
       "        vertical-align: top;\n",
       "    }\n",
       "\n",
       "    .dataframe thead th {\n",
       "        text-align: right;\n",
       "    }\n",
       "</style>\n",
       "<table border=\"1\" class=\"dataframe\">\n",
       "  <thead>\n",
       "    <tr style=\"text-align: right;\">\n",
       "      <th></th>\n",
       "      <th>Organization Name</th>\n",
       "      <th>Headquater</th>\n",
       "      <th>Established on</th>\n",
       "    </tr>\n",
       "  </thead>\n",
       "  <tbody>\n",
       "    <tr>\n",
       "      <th>0</th>\n",
       "      <td>FAO</td>\n",
       "      <td>Rome</td>\n",
       "      <td>1945</td>\n",
       "    </tr>\n",
       "    <tr>\n",
       "      <th>1</th>\n",
       "      <td>ICJ</td>\n",
       "      <td>The Hague</td>\n",
       "      <td>1945</td>\n",
       "    </tr>\n",
       "    <tr>\n",
       "      <th>2</th>\n",
       "      <td>IMF</td>\n",
       "      <td>Washington</td>\n",
       "      <td>1945</td>\n",
       "    </tr>\n",
       "    <tr>\n",
       "      <th>3</th>\n",
       "      <td>UNESCO</td>\n",
       "      <td>Paris</td>\n",
       "      <td>1945</td>\n",
       "    </tr>\n",
       "    <tr>\n",
       "      <th>4</th>\n",
       "      <td>UNO</td>\n",
       "      <td>New York</td>\n",
       "      <td>1945</td>\n",
       "    </tr>\n",
       "    <tr>\n",
       "      <th>5</th>\n",
       "      <td>World Bank</td>\n",
       "      <td>Washington</td>\n",
       "      <td>1945</td>\n",
       "    </tr>\n",
       "  </tbody>\n",
       "</table>\n",
       "</div>"
      ],
      "text/plain": [
       "  Organization Name  Headquater  Established on\n",
       "0               FAO        Rome            1945\n",
       "1               ICJ   The Hague            1945\n",
       "2               IMF  Washington            1945\n",
       "3            UNESCO       Paris            1945\n",
       "4               UNO    New York            1945\n",
       "5        World Bank  Washington            1945"
      ]
     },
     "execution_count": 42,
     "metadata": {},
     "output_type": "execute_result"
    }
   ],
   "source": [
    "international_org"
   ]
  },
  {
   "cell_type": "code",
   "execution_count": 60,
   "id": "41a02858",
   "metadata": {
    "ExecuteTime": {
     "end_time": "2021-06-16T04:04:45.450526Z",
     "start_time": "2021-06-16T04:04:45.443660Z"
    }
   },
   "outputs": [],
   "source": [
    "international_org['Established on'] = [1945, 1946, 1947, 1948, 1949, 1950]"
   ]
  },
  {
   "cell_type": "code",
   "execution_count": 44,
   "id": "fd1f0c73",
   "metadata": {
    "ExecuteTime": {
     "end_time": "2021-06-16T04:04:46.482442Z",
     "start_time": "2021-06-16T04:04:46.468563Z"
    }
   },
   "outputs": [
    {
     "data": {
      "text/html": [
       "<div>\n",
       "<style scoped>\n",
       "    .dataframe tbody tr th:only-of-type {\n",
       "        vertical-align: middle;\n",
       "    }\n",
       "\n",
       "    .dataframe tbody tr th {\n",
       "        vertical-align: top;\n",
       "    }\n",
       "\n",
       "    .dataframe thead th {\n",
       "        text-align: right;\n",
       "    }\n",
       "</style>\n",
       "<table border=\"1\" class=\"dataframe\">\n",
       "  <thead>\n",
       "    <tr style=\"text-align: right;\">\n",
       "      <th></th>\n",
       "      <th>Organization Name</th>\n",
       "      <th>Headquater</th>\n",
       "      <th>Established on</th>\n",
       "    </tr>\n",
       "  </thead>\n",
       "  <tbody>\n",
       "    <tr>\n",
       "      <th>0</th>\n",
       "      <td>FAO</td>\n",
       "      <td>Rome</td>\n",
       "      <td>1945</td>\n",
       "    </tr>\n",
       "    <tr>\n",
       "      <th>1</th>\n",
       "      <td>ICJ</td>\n",
       "      <td>The Hague</td>\n",
       "      <td>1946</td>\n",
       "    </tr>\n",
       "    <tr>\n",
       "      <th>2</th>\n",
       "      <td>IMF</td>\n",
       "      <td>Washington</td>\n",
       "      <td>1947</td>\n",
       "    </tr>\n",
       "    <tr>\n",
       "      <th>3</th>\n",
       "      <td>UNESCO</td>\n",
       "      <td>Paris</td>\n",
       "      <td>1948</td>\n",
       "    </tr>\n",
       "    <tr>\n",
       "      <th>4</th>\n",
       "      <td>UNO</td>\n",
       "      <td>New York</td>\n",
       "      <td>1949</td>\n",
       "    </tr>\n",
       "    <tr>\n",
       "      <th>5</th>\n",
       "      <td>World Bank</td>\n",
       "      <td>Washington</td>\n",
       "      <td>1950</td>\n",
       "    </tr>\n",
       "  </tbody>\n",
       "</table>\n",
       "</div>"
      ],
      "text/plain": [
       "  Organization Name  Headquater  Established on\n",
       "0               FAO        Rome            1945\n",
       "1               ICJ   The Hague            1946\n",
       "2               IMF  Washington            1947\n",
       "3            UNESCO       Paris            1948\n",
       "4               UNO    New York            1949\n",
       "5        World Bank  Washington            1950"
      ]
     },
     "execution_count": 44,
     "metadata": {},
     "output_type": "execute_result"
    }
   ],
   "source": [
    "international_org"
   ]
  },
  {
   "cell_type": "code",
   "execution_count": 148,
   "id": "036ee06b",
   "metadata": {
    "ExecuteTime": {
     "end_time": "2021-06-16T04:06:43.245702Z",
     "start_time": "2021-06-16T04:06:43.238759Z"
    }
   },
   "outputs": [],
   "source": [
    "international_org.at[2, 'Established on'] = 1928"
   ]
  },
  {
   "cell_type": "code",
   "execution_count": 149,
   "id": "7454207f",
   "metadata": {
    "ExecuteTime": {
     "end_time": "2021-06-16T04:06:50.411199Z",
     "start_time": "2021-06-16T04:06:50.398120Z"
    }
   },
   "outputs": [
    {
     "data": {
      "text/html": [
       "<div>\n",
       "<style scoped>\n",
       "    .dataframe tbody tr th:only-of-type {\n",
       "        vertical-align: middle;\n",
       "    }\n",
       "\n",
       "    .dataframe tbody tr th {\n",
       "        vertical-align: top;\n",
       "    }\n",
       "\n",
       "    .dataframe thead th {\n",
       "        text-align: right;\n",
       "    }\n",
       "</style>\n",
       "<table border=\"1\" class=\"dataframe\">\n",
       "  <thead>\n",
       "    <tr style=\"text-align: right;\">\n",
       "      <th></th>\n",
       "      <th>Organization Name</th>\n",
       "      <th>Headquater</th>\n",
       "      <th>Established on</th>\n",
       "    </tr>\n",
       "  </thead>\n",
       "  <tbody>\n",
       "    <tr>\n",
       "      <th>0</th>\n",
       "      <td>FAO</td>\n",
       "      <td>Rome</td>\n",
       "      <td>1945</td>\n",
       "    </tr>\n",
       "    <tr>\n",
       "      <th>1</th>\n",
       "      <td>ICJ</td>\n",
       "      <td>The Hague</td>\n",
       "      <td>1946</td>\n",
       "    </tr>\n",
       "    <tr>\n",
       "      <th>2</th>\n",
       "      <td>IMF</td>\n",
       "      <td>Washington</td>\n",
       "      <td>1928</td>\n",
       "    </tr>\n",
       "    <tr>\n",
       "      <th>3</th>\n",
       "      <td>UNESCO</td>\n",
       "      <td>Paris</td>\n",
       "      <td>1948</td>\n",
       "    </tr>\n",
       "    <tr>\n",
       "      <th>4</th>\n",
       "      <td>UNO</td>\n",
       "      <td>New York</td>\n",
       "      <td>1949</td>\n",
       "    </tr>\n",
       "    <tr>\n",
       "      <th>5</th>\n",
       "      <td>World Bank</td>\n",
       "      <td>Washington</td>\n",
       "      <td>1950</td>\n",
       "    </tr>\n",
       "  </tbody>\n",
       "</table>\n",
       "</div>"
      ],
      "text/plain": [
       "  Organization Name  Headquater  Established on\n",
       "0               FAO        Rome            1945\n",
       "1               ICJ   The Hague            1946\n",
       "2               IMF  Washington            1928\n",
       "3            UNESCO       Paris            1948\n",
       "4               UNO    New York            1949\n",
       "5        World Bank  Washington            1950"
      ]
     },
     "execution_count": 149,
     "metadata": {},
     "output_type": "execute_result"
    }
   ],
   "source": [
    "international_org"
   ]
  },
  {
   "cell_type": "code",
   "execution_count": 45,
   "id": "e65254dd",
   "metadata": {
    "ExecuteTime": {
     "end_time": "2021-06-16T04:08:14.476280Z",
     "start_time": "2021-06-16T04:08:14.470470Z"
    }
   },
   "outputs": [],
   "source": [
    "del international_org['Established on']"
   ]
  },
  {
   "cell_type": "code",
   "execution_count": 46,
   "id": "4740210e",
   "metadata": {
    "ExecuteTime": {
     "end_time": "2021-06-16T04:08:15.568302Z",
     "start_time": "2021-06-16T04:08:15.549434Z"
    }
   },
   "outputs": [
    {
     "data": {
      "text/html": [
       "<div>\n",
       "<style scoped>\n",
       "    .dataframe tbody tr th:only-of-type {\n",
       "        vertical-align: middle;\n",
       "    }\n",
       "\n",
       "    .dataframe tbody tr th {\n",
       "        vertical-align: top;\n",
       "    }\n",
       "\n",
       "    .dataframe thead th {\n",
       "        text-align: right;\n",
       "    }\n",
       "</style>\n",
       "<table border=\"1\" class=\"dataframe\">\n",
       "  <thead>\n",
       "    <tr style=\"text-align: right;\">\n",
       "      <th></th>\n",
       "      <th>Organization Name</th>\n",
       "      <th>Headquater</th>\n",
       "    </tr>\n",
       "  </thead>\n",
       "  <tbody>\n",
       "    <tr>\n",
       "      <th>0</th>\n",
       "      <td>FAO</td>\n",
       "      <td>Rome</td>\n",
       "    </tr>\n",
       "    <tr>\n",
       "      <th>1</th>\n",
       "      <td>ICJ</td>\n",
       "      <td>The Hague</td>\n",
       "    </tr>\n",
       "    <tr>\n",
       "      <th>2</th>\n",
       "      <td>IMF</td>\n",
       "      <td>Washington</td>\n",
       "    </tr>\n",
       "    <tr>\n",
       "      <th>3</th>\n",
       "      <td>UNESCO</td>\n",
       "      <td>Paris</td>\n",
       "    </tr>\n",
       "    <tr>\n",
       "      <th>4</th>\n",
       "      <td>UNO</td>\n",
       "      <td>New York</td>\n",
       "    </tr>\n",
       "    <tr>\n",
       "      <th>5</th>\n",
       "      <td>World Bank</td>\n",
       "      <td>Washington</td>\n",
       "    </tr>\n",
       "  </tbody>\n",
       "</table>\n",
       "</div>"
      ],
      "text/plain": [
       "  Organization Name  Headquater\n",
       "0               FAO        Rome\n",
       "1               ICJ   The Hague\n",
       "2               IMF  Washington\n",
       "3            UNESCO       Paris\n",
       "4               UNO    New York\n",
       "5        World Bank  Washington"
      ]
     },
     "execution_count": 46,
     "metadata": {},
     "output_type": "execute_result"
    }
   ],
   "source": [
    "international_org"
   ]
  },
  {
   "cell_type": "code",
   "execution_count": 48,
   "id": "890a581f",
   "metadata": {
    "ExecuteTime": {
     "end_time": "2021-06-16T04:08:41.282081Z",
     "start_time": "2021-06-16T04:08:41.270910Z"
    }
   },
   "outputs": [],
   "source": [
    "international_org['Established on'] = [1945, 1946, 1947, 1948, 1949, 1950]"
   ]
  },
  {
   "cell_type": "code",
   "execution_count": 153,
   "id": "b28d0cf2",
   "metadata": {
    "ExecuteTime": {
     "end_time": "2021-06-16T04:08:50.078967Z",
     "start_time": "2021-06-16T04:08:50.053835Z"
    }
   },
   "outputs": [
    {
     "data": {
      "text/html": [
       "<div>\n",
       "<style scoped>\n",
       "    .dataframe tbody tr th:only-of-type {\n",
       "        vertical-align: middle;\n",
       "    }\n",
       "\n",
       "    .dataframe tbody tr th {\n",
       "        vertical-align: top;\n",
       "    }\n",
       "\n",
       "    .dataframe thead th {\n",
       "        text-align: right;\n",
       "    }\n",
       "</style>\n",
       "<table border=\"1\" class=\"dataframe\">\n",
       "  <thead>\n",
       "    <tr style=\"text-align: right;\">\n",
       "      <th></th>\n",
       "      <th>Organization Name</th>\n",
       "      <th>Headquater</th>\n",
       "      <th>Established on</th>\n",
       "    </tr>\n",
       "  </thead>\n",
       "  <tbody>\n",
       "    <tr>\n",
       "      <th>0</th>\n",
       "      <td>FAO</td>\n",
       "      <td>Rome</td>\n",
       "      <td>1945</td>\n",
       "    </tr>\n",
       "    <tr>\n",
       "      <th>1</th>\n",
       "      <td>ICJ</td>\n",
       "      <td>The Hague</td>\n",
       "      <td>1946</td>\n",
       "    </tr>\n",
       "    <tr>\n",
       "      <th>2</th>\n",
       "      <td>IMF</td>\n",
       "      <td>Washington</td>\n",
       "      <td>1947</td>\n",
       "    </tr>\n",
       "    <tr>\n",
       "      <th>3</th>\n",
       "      <td>UNESCO</td>\n",
       "      <td>Paris</td>\n",
       "      <td>1948</td>\n",
       "    </tr>\n",
       "    <tr>\n",
       "      <th>4</th>\n",
       "      <td>UNO</td>\n",
       "      <td>New York</td>\n",
       "      <td>1949</td>\n",
       "    </tr>\n",
       "    <tr>\n",
       "      <th>5</th>\n",
       "      <td>World Bank</td>\n",
       "      <td>Washington</td>\n",
       "      <td>1950</td>\n",
       "    </tr>\n",
       "  </tbody>\n",
       "</table>\n",
       "</div>"
      ],
      "text/plain": [
       "  Organization Name  Headquater  Established on\n",
       "0               FAO        Rome            1945\n",
       "1               ICJ   The Hague            1946\n",
       "2               IMF  Washington            1947\n",
       "3            UNESCO       Paris            1948\n",
       "4               UNO    New York            1949\n",
       "5        World Bank  Washington            1950"
      ]
     },
     "execution_count": 153,
     "metadata": {},
     "output_type": "execute_result"
    }
   ],
   "source": [
    "international_org"
   ]
  },
  {
   "cell_type": "code",
   "execution_count": 49,
   "id": "60c0a607",
   "metadata": {
    "ExecuteTime": {
     "end_time": "2021-06-16T04:10:31.213828Z",
     "start_time": "2021-06-16T04:10:31.196702Z"
    }
   },
   "outputs": [
    {
     "data": {
      "text/html": [
       "<div>\n",
       "<style scoped>\n",
       "    .dataframe tbody tr th:only-of-type {\n",
       "        vertical-align: middle;\n",
       "    }\n",
       "\n",
       "    .dataframe tbody tr th {\n",
       "        vertical-align: top;\n",
       "    }\n",
       "\n",
       "    .dataframe thead th {\n",
       "        text-align: right;\n",
       "    }\n",
       "</style>\n",
       "<table border=\"1\" class=\"dataframe\">\n",
       "  <thead>\n",
       "    <tr style=\"text-align: right;\">\n",
       "      <th></th>\n",
       "      <th>Organization Name</th>\n",
       "      <th>Headquater</th>\n",
       "    </tr>\n",
       "  </thead>\n",
       "  <tbody>\n",
       "    <tr>\n",
       "      <th>0</th>\n",
       "      <td>FAO</td>\n",
       "      <td>Rome</td>\n",
       "    </tr>\n",
       "    <tr>\n",
       "      <th>1</th>\n",
       "      <td>ICJ</td>\n",
       "      <td>The Hague</td>\n",
       "    </tr>\n",
       "    <tr>\n",
       "      <th>2</th>\n",
       "      <td>IMF</td>\n",
       "      <td>Washington</td>\n",
       "    </tr>\n",
       "    <tr>\n",
       "      <th>3</th>\n",
       "      <td>UNESCO</td>\n",
       "      <td>Paris</td>\n",
       "    </tr>\n",
       "    <tr>\n",
       "      <th>4</th>\n",
       "      <td>UNO</td>\n",
       "      <td>New York</td>\n",
       "    </tr>\n",
       "    <tr>\n",
       "      <th>5</th>\n",
       "      <td>World Bank</td>\n",
       "      <td>Washington</td>\n",
       "    </tr>\n",
       "  </tbody>\n",
       "</table>\n",
       "</div>"
      ],
      "text/plain": [
       "  Organization Name  Headquater\n",
       "0               FAO        Rome\n",
       "1               ICJ   The Hague\n",
       "2               IMF  Washington\n",
       "3            UNESCO       Paris\n",
       "4               UNO    New York\n",
       "5        World Bank  Washington"
      ]
     },
     "execution_count": 49,
     "metadata": {},
     "output_type": "execute_result"
    }
   ],
   "source": [
    "new_international_org = international_org.drop(columns = ['Established on'])\n",
    "new_international_org"
   ]
  },
  {
   "cell_type": "code",
   "execution_count": 61,
   "id": "e7e1815a",
   "metadata": {
    "ExecuteTime": {
     "end_time": "2021-06-16T04:09:31.719354Z",
     "start_time": "2021-06-16T04:09:31.706172Z"
    }
   },
   "outputs": [
    {
     "data": {
      "text/html": [
       "<div>\n",
       "<style scoped>\n",
       "    .dataframe tbody tr th:only-of-type {\n",
       "        vertical-align: middle;\n",
       "    }\n",
       "\n",
       "    .dataframe tbody tr th {\n",
       "        vertical-align: top;\n",
       "    }\n",
       "\n",
       "    .dataframe thead th {\n",
       "        text-align: right;\n",
       "    }\n",
       "</style>\n",
       "<table border=\"1\" class=\"dataframe\">\n",
       "  <thead>\n",
       "    <tr style=\"text-align: right;\">\n",
       "      <th></th>\n",
       "      <th>Organization Name</th>\n",
       "      <th>Headquater</th>\n",
       "      <th>Established on</th>\n",
       "    </tr>\n",
       "  </thead>\n",
       "  <tbody>\n",
       "    <tr>\n",
       "      <th>0</th>\n",
       "      <td>FAO</td>\n",
       "      <td>Rome</td>\n",
       "      <td>1945</td>\n",
       "    </tr>\n",
       "    <tr>\n",
       "      <th>1</th>\n",
       "      <td>ICJ</td>\n",
       "      <td>The Hague</td>\n",
       "      <td>1946</td>\n",
       "    </tr>\n",
       "    <tr>\n",
       "      <th>2</th>\n",
       "      <td>IMF</td>\n",
       "      <td>Washington</td>\n",
       "      <td>1947</td>\n",
       "    </tr>\n",
       "    <tr>\n",
       "      <th>3</th>\n",
       "      <td>UNESCO</td>\n",
       "      <td>Paris</td>\n",
       "      <td>1948</td>\n",
       "    </tr>\n",
       "    <tr>\n",
       "      <th>4</th>\n",
       "      <td>UNO</td>\n",
       "      <td>New York</td>\n",
       "      <td>1949</td>\n",
       "    </tr>\n",
       "    <tr>\n",
       "      <th>5</th>\n",
       "      <td>World Bank</td>\n",
       "      <td>Washington</td>\n",
       "      <td>1950</td>\n",
       "    </tr>\n",
       "  </tbody>\n",
       "</table>\n",
       "</div>"
      ],
      "text/plain": [
       "  Organization Name  Headquater  Established on\n",
       "0               FAO        Rome            1945\n",
       "1               ICJ   The Hague            1946\n",
       "2               IMF  Washington            1947\n",
       "3            UNESCO       Paris            1948\n",
       "4               UNO    New York            1949\n",
       "5        World Bank  Washington            1950"
      ]
     },
     "execution_count": 61,
     "metadata": {},
     "output_type": "execute_result"
    }
   ],
   "source": [
    "international_org"
   ]
  },
  {
   "cell_type": "markdown",
   "id": "ad4b2a0d",
   "metadata": {},
   "source": [
    "# Adding a row and deleting a row"
   ]
  },
  {
   "cell_type": "code",
   "execution_count": 86,
   "id": "f9af7856",
   "metadata": {
    "ExecuteTime": {
     "end_time": "2021-06-16T04:11:07.575319Z",
     "start_time": "2021-06-16T04:11:07.560029Z"
    }
   },
   "outputs": [
    {
     "data": {
      "text/html": [
       "<div>\n",
       "<style scoped>\n",
       "    .dataframe tbody tr th:only-of-type {\n",
       "        vertical-align: middle;\n",
       "    }\n",
       "\n",
       "    .dataframe tbody tr th {\n",
       "        vertical-align: top;\n",
       "    }\n",
       "\n",
       "    .dataframe thead th {\n",
       "        text-align: right;\n",
       "    }\n",
       "</style>\n",
       "<table border=\"1\" class=\"dataframe\">\n",
       "  <thead>\n",
       "    <tr style=\"text-align: right;\">\n",
       "      <th></th>\n",
       "      <th>Organization Name</th>\n",
       "      <th>Headquater</th>\n",
       "    </tr>\n",
       "  </thead>\n",
       "  <tbody>\n",
       "    <tr>\n",
       "      <th>0</th>\n",
       "      <td>FAO</td>\n",
       "      <td>Rome</td>\n",
       "    </tr>\n",
       "    <tr>\n",
       "      <th>1</th>\n",
       "      <td>ICJ</td>\n",
       "      <td>The Hague</td>\n",
       "    </tr>\n",
       "    <tr>\n",
       "      <th>2</th>\n",
       "      <td>IMF</td>\n",
       "      <td>Washington</td>\n",
       "    </tr>\n",
       "    <tr>\n",
       "      <th>3</th>\n",
       "      <td>UNESCO</td>\n",
       "      <td>Paris</td>\n",
       "    </tr>\n",
       "    <tr>\n",
       "      <th>4</th>\n",
       "      <td>UNO</td>\n",
       "      <td>New York</td>\n",
       "    </tr>\n",
       "    <tr>\n",
       "      <th>5</th>\n",
       "      <td>World Bank</td>\n",
       "      <td>Washington</td>\n",
       "    </tr>\n",
       "    <tr>\n",
       "      <th>-1</th>\n",
       "      <td>WTO</td>\n",
       "      <td>Geneva</td>\n",
       "    </tr>\n",
       "  </tbody>\n",
       "</table>\n",
       "</div>"
      ],
      "text/plain": [
       "   Organization Name  Headquater\n",
       " 0               FAO        Rome\n",
       " 1               ICJ   The Hague\n",
       " 2               IMF  Washington\n",
       " 3            UNESCO       Paris\n",
       " 4               UNO    New York\n",
       " 5        World Bank  Washington\n",
       "-1               WTO      Geneva"
      ]
     },
     "execution_count": 86,
     "metadata": {},
     "output_type": "execute_result"
    }
   ],
   "source": [
    "international_org"
   ]
  },
  {
   "cell_type": "code",
   "execution_count": 85,
   "id": "748f9e73",
   "metadata": {
    "ExecuteTime": {
     "end_time": "2021-06-16T04:13:04.801481Z",
     "start_time": "2021-06-16T04:13:04.784273Z"
    }
   },
   "outputs": [],
   "source": [
    "international_org.loc[-1] = ['WTO', 'Geneva']"
   ]
  },
  {
   "cell_type": "code",
   "execution_count": 53,
   "id": "3998a072",
   "metadata": {
    "ExecuteTime": {
     "end_time": "2021-06-16T04:13:32.143503Z",
     "start_time": "2021-06-16T04:13:32.132958Z"
    }
   },
   "outputs": [],
   "source": [
    "international_org.index = international_org.index + 1"
   ]
  },
  {
   "cell_type": "code",
   "execution_count": 89,
   "id": "4982ff09",
   "metadata": {
    "ExecuteTime": {
     "end_time": "2021-06-16T04:16:11.761676Z",
     "start_time": "2021-06-16T04:16:11.750689Z"
    }
   },
   "outputs": [],
   "source": [
    "international_org = international_org.reset_index()"
   ]
  },
  {
   "cell_type": "code",
   "execution_count": 93,
   "id": "c05ec359",
   "metadata": {},
   "outputs": [],
   "source": [
    "international_org = international_org.drop(columns= ['index'])"
   ]
  },
  {
   "cell_type": "code",
   "execution_count": 87,
   "id": "13d9eaaf",
   "metadata": {
    "ExecuteTime": {
     "end_time": "2021-06-16T04:16:13.434627Z",
     "start_time": "2021-06-16T04:16:13.424397Z"
    }
   },
   "outputs": [],
   "source": [
    "international_org.loc[7] = ['ABC', 'XYZ']"
   ]
  },
  {
   "cell_type": "code",
   "execution_count": 90,
   "id": "6ee62452",
   "metadata": {
    "ExecuteTime": {
     "end_time": "2021-06-16T04:16:14.604017Z",
     "start_time": "2021-06-16T04:16:14.578191Z"
    }
   },
   "outputs": [
    {
     "data": {
      "text/html": [
       "<div>\n",
       "<style scoped>\n",
       "    .dataframe tbody tr th:only-of-type {\n",
       "        vertical-align: middle;\n",
       "    }\n",
       "\n",
       "    .dataframe tbody tr th {\n",
       "        vertical-align: top;\n",
       "    }\n",
       "\n",
       "    .dataframe thead th {\n",
       "        text-align: right;\n",
       "    }\n",
       "</style>\n",
       "<table border=\"1\" class=\"dataframe\">\n",
       "  <thead>\n",
       "    <tr style=\"text-align: right;\">\n",
       "      <th></th>\n",
       "      <th>index</th>\n",
       "      <th>Organization Name</th>\n",
       "      <th>Headquater</th>\n",
       "    </tr>\n",
       "  </thead>\n",
       "  <tbody>\n",
       "    <tr>\n",
       "      <th>0</th>\n",
       "      <td>0</td>\n",
       "      <td>FAO</td>\n",
       "      <td>Rome</td>\n",
       "    </tr>\n",
       "    <tr>\n",
       "      <th>1</th>\n",
       "      <td>1</td>\n",
       "      <td>ICJ</td>\n",
       "      <td>The Hague</td>\n",
       "    </tr>\n",
       "    <tr>\n",
       "      <th>2</th>\n",
       "      <td>2</td>\n",
       "      <td>IMF</td>\n",
       "      <td>Washington</td>\n",
       "    </tr>\n",
       "    <tr>\n",
       "      <th>3</th>\n",
       "      <td>3</td>\n",
       "      <td>UNESCO</td>\n",
       "      <td>Paris</td>\n",
       "    </tr>\n",
       "    <tr>\n",
       "      <th>4</th>\n",
       "      <td>4</td>\n",
       "      <td>UNO</td>\n",
       "      <td>New York</td>\n",
       "    </tr>\n",
       "    <tr>\n",
       "      <th>5</th>\n",
       "      <td>5</td>\n",
       "      <td>World Bank</td>\n",
       "      <td>Washington</td>\n",
       "    </tr>\n",
       "    <tr>\n",
       "      <th>6</th>\n",
       "      <td>-1</td>\n",
       "      <td>WTO</td>\n",
       "      <td>Geneva</td>\n",
       "    </tr>\n",
       "    <tr>\n",
       "      <th>7</th>\n",
       "      <td>7</td>\n",
       "      <td>ABC</td>\n",
       "      <td>XYZ</td>\n",
       "    </tr>\n",
       "  </tbody>\n",
       "</table>\n",
       "</div>"
      ],
      "text/plain": [
       "   index Organization Name  Headquater\n",
       "0      0               FAO        Rome\n",
       "1      1               ICJ   The Hague\n",
       "2      2               IMF  Washington\n",
       "3      3            UNESCO       Paris\n",
       "4      4               UNO    New York\n",
       "5      5        World Bank  Washington\n",
       "6     -1               WTO      Geneva\n",
       "7      7               ABC         XYZ"
      ]
     },
     "execution_count": 90,
     "metadata": {},
     "output_type": "execute_result"
    }
   ],
   "source": [
    "international_org"
   ]
  },
  {
   "cell_type": "code",
   "execution_count": 79,
   "id": "75392c6a",
   "metadata": {
    "ExecuteTime": {
     "end_time": "2021-06-16T04:17:03.081605Z",
     "start_time": "2021-06-16T04:17:03.068506Z"
    }
   },
   "outputs": [
    {
     "ename": "ValueError",
     "evalue": "Must have equal len keys and value when setting with an iterable",
     "output_type": "error",
     "traceback": [
      "\u001b[1;31m---------------------------------------------------------------------------\u001b[0m",
      "\u001b[1;31mValueError\u001b[0m                                Traceback (most recent call last)",
      "\u001b[1;32m<ipython-input-79-14957ab80d74>\u001b[0m in \u001b[0;36m<module>\u001b[1;34m\u001b[0m\n\u001b[1;32m----> 1\u001b[1;33m \u001b[0minternational_org\u001b[0m\u001b[1;33m.\u001b[0m\u001b[0mloc\u001b[0m\u001b[1;33m[\u001b[0m\u001b[1;36m3\u001b[0m\u001b[1;33m]\u001b[0m \u001b[1;33m=\u001b[0m \u001b[1;33m[\u001b[0m\u001b[1;34m'MNO'\u001b[0m\u001b[1;33m,\u001b[0m \u001b[1;34m'PQR'\u001b[0m\u001b[1;33m,\u001b[0m \u001b[1;36m1989\u001b[0m\u001b[1;33m]\u001b[0m\u001b[1;33m\u001b[0m\u001b[1;33m\u001b[0m\u001b[0m\n\u001b[0m",
      "\u001b[1;32mC:\\ProgramData\\Anaconda3\\lib\\site-packages\\pandas\\core\\indexing.py\u001b[0m in \u001b[0;36m__setitem__\u001b[1;34m(self, key, value)\u001b[0m\n\u001b[0;32m    690\u001b[0m \u001b[1;33m\u001b[0m\u001b[0m\n\u001b[0;32m    691\u001b[0m         \u001b[0miloc\u001b[0m \u001b[1;33m=\u001b[0m \u001b[0mself\u001b[0m \u001b[1;32mif\u001b[0m \u001b[0mself\u001b[0m\u001b[1;33m.\u001b[0m\u001b[0mname\u001b[0m \u001b[1;33m==\u001b[0m \u001b[1;34m\"iloc\"\u001b[0m \u001b[1;32melse\u001b[0m \u001b[0mself\u001b[0m\u001b[1;33m.\u001b[0m\u001b[0mobj\u001b[0m\u001b[1;33m.\u001b[0m\u001b[0miloc\u001b[0m\u001b[1;33m\u001b[0m\u001b[1;33m\u001b[0m\u001b[0m\n\u001b[1;32m--> 692\u001b[1;33m         \u001b[0miloc\u001b[0m\u001b[1;33m.\u001b[0m\u001b[0m_setitem_with_indexer\u001b[0m\u001b[1;33m(\u001b[0m\u001b[0mindexer\u001b[0m\u001b[1;33m,\u001b[0m \u001b[0mvalue\u001b[0m\u001b[1;33m,\u001b[0m \u001b[0mself\u001b[0m\u001b[1;33m.\u001b[0m\u001b[0mname\u001b[0m\u001b[1;33m)\u001b[0m\u001b[1;33m\u001b[0m\u001b[1;33m\u001b[0m\u001b[0m\n\u001b[0m\u001b[0;32m    693\u001b[0m \u001b[1;33m\u001b[0m\u001b[0m\n\u001b[0;32m    694\u001b[0m     \u001b[1;32mdef\u001b[0m \u001b[0m_validate_key\u001b[0m\u001b[1;33m(\u001b[0m\u001b[0mself\u001b[0m\u001b[1;33m,\u001b[0m \u001b[0mkey\u001b[0m\u001b[1;33m,\u001b[0m \u001b[0maxis\u001b[0m\u001b[1;33m:\u001b[0m \u001b[0mint\u001b[0m\u001b[1;33m)\u001b[0m\u001b[1;33m:\u001b[0m\u001b[1;33m\u001b[0m\u001b[1;33m\u001b[0m\u001b[0m\n",
      "\u001b[1;32mC:\\ProgramData\\Anaconda3\\lib\\site-packages\\pandas\\core\\indexing.py\u001b[0m in \u001b[0;36m_setitem_with_indexer\u001b[1;34m(self, indexer, value, name)\u001b[0m\n\u001b[0;32m   1633\u001b[0m         \u001b[1;32mif\u001b[0m \u001b[0mtake_split_path\u001b[0m\u001b[1;33m:\u001b[0m\u001b[1;33m\u001b[0m\u001b[1;33m\u001b[0m\u001b[0m\n\u001b[0;32m   1634\u001b[0m             \u001b[1;31m# We have to operate column-wise\u001b[0m\u001b[1;33m\u001b[0m\u001b[1;33m\u001b[0m\u001b[1;33m\u001b[0m\u001b[0m\n\u001b[1;32m-> 1635\u001b[1;33m             \u001b[0mself\u001b[0m\u001b[1;33m.\u001b[0m\u001b[0m_setitem_with_indexer_split_path\u001b[0m\u001b[1;33m(\u001b[0m\u001b[0mindexer\u001b[0m\u001b[1;33m,\u001b[0m \u001b[0mvalue\u001b[0m\u001b[1;33m,\u001b[0m \u001b[0mname\u001b[0m\u001b[1;33m)\u001b[0m\u001b[1;33m\u001b[0m\u001b[1;33m\u001b[0m\u001b[0m\n\u001b[0m\u001b[0;32m   1636\u001b[0m         \u001b[1;32melse\u001b[0m\u001b[1;33m:\u001b[0m\u001b[1;33m\u001b[0m\u001b[1;33m\u001b[0m\u001b[0m\n\u001b[0;32m   1637\u001b[0m             \u001b[0mself\u001b[0m\u001b[1;33m.\u001b[0m\u001b[0m_setitem_single_block\u001b[0m\u001b[1;33m(\u001b[0m\u001b[0mindexer\u001b[0m\u001b[1;33m,\u001b[0m \u001b[0mvalue\u001b[0m\u001b[1;33m,\u001b[0m \u001b[0mname\u001b[0m\u001b[1;33m)\u001b[0m\u001b[1;33m\u001b[0m\u001b[1;33m\u001b[0m\u001b[0m\n",
      "\u001b[1;32mC:\\ProgramData\\Anaconda3\\lib\\site-packages\\pandas\\core\\indexing.py\u001b[0m in \u001b[0;36m_setitem_with_indexer_split_path\u001b[1;34m(self, indexer, value, name)\u001b[0m\n\u001b[0;32m   1709\u001b[0m \u001b[1;33m\u001b[0m\u001b[0m\n\u001b[0;32m   1710\u001b[0m             \u001b[1;32melse\u001b[0m\u001b[1;33m:\u001b[0m\u001b[1;33m\u001b[0m\u001b[1;33m\u001b[0m\u001b[0m\n\u001b[1;32m-> 1711\u001b[1;33m                 raise ValueError(\n\u001b[0m\u001b[0;32m   1712\u001b[0m                     \u001b[1;34m\"Must have equal len keys and value \"\u001b[0m\u001b[1;33m\u001b[0m\u001b[1;33m\u001b[0m\u001b[0m\n\u001b[0;32m   1713\u001b[0m                     \u001b[1;34m\"when setting with an iterable\"\u001b[0m\u001b[1;33m\u001b[0m\u001b[1;33m\u001b[0m\u001b[0m\n",
      "\u001b[1;31mValueError\u001b[0m: Must have equal len keys and value when setting with an iterable"
     ]
    }
   ],
   "source": [
    "international_org.loc[3] = ['MNO', 'PQR', 1989]"
   ]
  },
  {
   "cell_type": "code",
   "execution_count": 94,
   "id": "68750da0",
   "metadata": {
    "ExecuteTime": {
     "end_time": "2021-06-16T04:17:06.535563Z",
     "start_time": "2021-06-16T04:17:06.523240Z"
    }
   },
   "outputs": [
    {
     "data": {
      "text/html": [
       "<div>\n",
       "<style scoped>\n",
       "    .dataframe tbody tr th:only-of-type {\n",
       "        vertical-align: middle;\n",
       "    }\n",
       "\n",
       "    .dataframe tbody tr th {\n",
       "        vertical-align: top;\n",
       "    }\n",
       "\n",
       "    .dataframe thead th {\n",
       "        text-align: right;\n",
       "    }\n",
       "</style>\n",
       "<table border=\"1\" class=\"dataframe\">\n",
       "  <thead>\n",
       "    <tr style=\"text-align: right;\">\n",
       "      <th></th>\n",
       "      <th>Organization Name</th>\n",
       "      <th>Headquater</th>\n",
       "    </tr>\n",
       "  </thead>\n",
       "  <tbody>\n",
       "    <tr>\n",
       "      <th>0</th>\n",
       "      <td>FAO</td>\n",
       "      <td>Rome</td>\n",
       "    </tr>\n",
       "    <tr>\n",
       "      <th>1</th>\n",
       "      <td>ICJ</td>\n",
       "      <td>The Hague</td>\n",
       "    </tr>\n",
       "    <tr>\n",
       "      <th>2</th>\n",
       "      <td>IMF</td>\n",
       "      <td>Washington</td>\n",
       "    </tr>\n",
       "    <tr>\n",
       "      <th>3</th>\n",
       "      <td>UNESCO</td>\n",
       "      <td>Paris</td>\n",
       "    </tr>\n",
       "    <tr>\n",
       "      <th>4</th>\n",
       "      <td>UNO</td>\n",
       "      <td>New York</td>\n",
       "    </tr>\n",
       "    <tr>\n",
       "      <th>5</th>\n",
       "      <td>World Bank</td>\n",
       "      <td>Washington</td>\n",
       "    </tr>\n",
       "    <tr>\n",
       "      <th>6</th>\n",
       "      <td>WTO</td>\n",
       "      <td>Geneva</td>\n",
       "    </tr>\n",
       "    <tr>\n",
       "      <th>7</th>\n",
       "      <td>ABC</td>\n",
       "      <td>XYZ</td>\n",
       "    </tr>\n",
       "  </tbody>\n",
       "</table>\n",
       "</div>"
      ],
      "text/plain": [
       "  Organization Name  Headquater\n",
       "0               FAO        Rome\n",
       "1               ICJ   The Hague\n",
       "2               IMF  Washington\n",
       "3            UNESCO       Paris\n",
       "4               UNO    New York\n",
       "5        World Bank  Washington\n",
       "6               WTO      Geneva\n",
       "7               ABC         XYZ"
      ]
     },
     "execution_count": 94,
     "metadata": {},
     "output_type": "execute_result"
    }
   ],
   "source": [
    "international_org"
   ]
  },
  {
   "cell_type": "code",
   "execution_count": 95,
   "id": "e8fc0c45",
   "metadata": {
    "ExecuteTime": {
     "end_time": "2021-06-16T04:18:42.656597Z",
     "start_time": "2021-06-16T04:18:42.636868Z"
    }
   },
   "outputs": [
    {
     "name": "stdout",
     "output_type": "stream",
     "text": [
      "  Organization Name  Headquater\n",
      "0               FAO        Rome\n",
      "1               ICJ   The Hague\n",
      "2               IMF  Washington\n",
      "3            UNESCO       Paris\n",
      "  Organization Name  Headquater\n",
      "4               UNO    New York\n",
      "5        World Bank  Washington\n",
      "6               WTO      Geneva\n",
      "7               ABC         XYZ\n"
     ]
    }
   ],
   "source": [
    "a1 = international_org[:4] \n",
    "a2 = international_org[4:] \n",
    "print(a1)\n",
    "print(a2)"
   ]
  },
  {
   "cell_type": "code",
   "execution_count": 96,
   "id": "9b35c4d1",
   "metadata": {
    "ExecuteTime": {
     "end_time": "2021-06-16T04:19:24.305750Z",
     "start_time": "2021-06-16T04:19:24.278053Z"
    }
   },
   "outputs": [
    {
     "name": "stderr",
     "output_type": "stream",
     "text": [
      "C:\\ProgramData\\Anaconda3\\lib\\site-packages\\pandas\\core\\indexing.py:692: SettingWithCopyWarning: \n",
      "A value is trying to be set on a copy of a slice from a DataFrame\n",
      "\n",
      "See the caveats in the documentation: https://pandas.pydata.org/pandas-docs/stable/user_guide/indexing.html#returning-a-view-versus-a-copy\n",
      "  iloc._setitem_with_indexer(indexer, value, self.name)\n"
     ]
    },
    {
     "data": {
      "text/html": [
       "<div>\n",
       "<style scoped>\n",
       "    .dataframe tbody tr th:only-of-type {\n",
       "        vertical-align: middle;\n",
       "    }\n",
       "\n",
       "    .dataframe tbody tr th {\n",
       "        vertical-align: top;\n",
       "    }\n",
       "\n",
       "    .dataframe thead th {\n",
       "        text-align: right;\n",
       "    }\n",
       "</style>\n",
       "<table border=\"1\" class=\"dataframe\">\n",
       "  <thead>\n",
       "    <tr style=\"text-align: right;\">\n",
       "      <th></th>\n",
       "      <th>Organization Name</th>\n",
       "      <th>Headquater</th>\n",
       "    </tr>\n",
       "  </thead>\n",
       "  <tbody>\n",
       "    <tr>\n",
       "      <th>0</th>\n",
       "      <td>FAO</td>\n",
       "      <td>Rome</td>\n",
       "    </tr>\n",
       "    <tr>\n",
       "      <th>1</th>\n",
       "      <td>ICJ</td>\n",
       "      <td>The Hague</td>\n",
       "    </tr>\n",
       "    <tr>\n",
       "      <th>2</th>\n",
       "      <td>IMF</td>\n",
       "      <td>Washington</td>\n",
       "    </tr>\n",
       "    <tr>\n",
       "      <th>3</th>\n",
       "      <td>UNESCO</td>\n",
       "      <td>Paris</td>\n",
       "    </tr>\n",
       "    <tr>\n",
       "      <th>4</th>\n",
       "      <td>UNESCO</td>\n",
       "      <td>PARIS</td>\n",
       "    </tr>\n",
       "  </tbody>\n",
       "</table>\n",
       "</div>"
      ],
      "text/plain": [
       "  Organization Name  Headquater\n",
       "0               FAO        Rome\n",
       "1               ICJ   The Hague\n",
       "2               IMF  Washington\n",
       "3            UNESCO       Paris\n",
       "4            UNESCO       PARIS"
      ]
     },
     "execution_count": 96,
     "metadata": {},
     "output_type": "execute_result"
    }
   ],
   "source": [
    "a1.loc[4] = ['UNESCO', 'PARIS']\n",
    "a1"
   ]
  },
  {
   "cell_type": "code",
   "execution_count": 97,
   "id": "c69eb291",
   "metadata": {
    "ExecuteTime": {
     "end_time": "2021-06-16T04:20:27.804260Z",
     "start_time": "2021-06-16T04:20:27.783360Z"
    }
   },
   "outputs": [
    {
     "data": {
      "text/html": [
       "<div>\n",
       "<style scoped>\n",
       "    .dataframe tbody tr th:only-of-type {\n",
       "        vertical-align: middle;\n",
       "    }\n",
       "\n",
       "    .dataframe tbody tr th {\n",
       "        vertical-align: top;\n",
       "    }\n",
       "\n",
       "    .dataframe thead th {\n",
       "        text-align: right;\n",
       "    }\n",
       "</style>\n",
       "<table border=\"1\" class=\"dataframe\">\n",
       "  <thead>\n",
       "    <tr style=\"text-align: right;\">\n",
       "      <th></th>\n",
       "      <th>Organization Name</th>\n",
       "      <th>Headquater</th>\n",
       "    </tr>\n",
       "  </thead>\n",
       "  <tbody>\n",
       "    <tr>\n",
       "      <th>0</th>\n",
       "      <td>FAO</td>\n",
       "      <td>Rome</td>\n",
       "    </tr>\n",
       "    <tr>\n",
       "      <th>1</th>\n",
       "      <td>ICJ</td>\n",
       "      <td>The Hague</td>\n",
       "    </tr>\n",
       "    <tr>\n",
       "      <th>2</th>\n",
       "      <td>IMF</td>\n",
       "      <td>Washington</td>\n",
       "    </tr>\n",
       "    <tr>\n",
       "      <th>3</th>\n",
       "      <td>UNESCO</td>\n",
       "      <td>Paris</td>\n",
       "    </tr>\n",
       "    <tr>\n",
       "      <th>4</th>\n",
       "      <td>UNESCO</td>\n",
       "      <td>PARIS</td>\n",
       "    </tr>\n",
       "    <tr>\n",
       "      <th>5</th>\n",
       "      <td>UNO</td>\n",
       "      <td>New York</td>\n",
       "    </tr>\n",
       "    <tr>\n",
       "      <th>6</th>\n",
       "      <td>World Bank</td>\n",
       "      <td>Washington</td>\n",
       "    </tr>\n",
       "    <tr>\n",
       "      <th>7</th>\n",
       "      <td>WTO</td>\n",
       "      <td>Geneva</td>\n",
       "    </tr>\n",
       "    <tr>\n",
       "      <th>8</th>\n",
       "      <td>ABC</td>\n",
       "      <td>XYZ</td>\n",
       "    </tr>\n",
       "  </tbody>\n",
       "</table>\n",
       "</div>"
      ],
      "text/plain": [
       "  Organization Name  Headquater\n",
       "0               FAO        Rome\n",
       "1               ICJ   The Hague\n",
       "2               IMF  Washington\n",
       "3            UNESCO       Paris\n",
       "4            UNESCO       PARIS\n",
       "5               UNO    New York\n",
       "6        World Bank  Washington\n",
       "7               WTO      Geneva\n",
       "8               ABC         XYZ"
      ]
     },
     "execution_count": 97,
     "metadata": {},
     "output_type": "execute_result"
    }
   ],
   "source": [
    "pd.concat((a1, a2)).reset_index().drop(columns = ['index'])"
   ]
  },
  {
   "cell_type": "code",
   "execution_count": null,
   "id": "df698c34",
   "metadata": {},
   "outputs": [],
   "source": []
  }
 ],
 "metadata": {
  "kernelspec": {
   "display_name": "Python 3",
   "language": "python",
   "name": "python3"
  },
  "language_info": {
   "codemirror_mode": {
    "name": "ipython",
    "version": 3
   },
   "file_extension": ".py",
   "mimetype": "text/x-python",
   "name": "python",
   "nbconvert_exporter": "python",
   "pygments_lexer": "ipython3",
   "version": "3.8.8"
  }
 },
 "nbformat": 4,
 "nbformat_minor": 5
}
